{
  "nbformat": 4,
  "nbformat_minor": 0,
  "metadata": {
    "colab": {
      "provenance": [],
      "authorship_tag": "ABX9TyNCi7rL+rXtQjDaPQk99jht",
      "include_colab_link": true
    },
    "kernelspec": {
      "name": "python3",
      "display_name": "Python 3"
    },
    "language_info": {
      "name": "python"
    }
  },
  "cells": [
    {
      "cell_type": "markdown",
      "metadata": {
        "id": "view-in-github",
        "colab_type": "text"
      },
      "source": [
        "<a href=\"https://colab.research.google.com/github/susanna0507/python_demo/blob/master/100_%EC%9E%90%EB%A3%8C%ED%98%95.ipynb\" target=\"_parent\"><img src=\"https://colab.research.google.com/assets/colab-badge.svg\" alt=\"Open In Colab\"/></a>"
      ]
    },
    {
      "cell_type": "code",
      "execution_count": null,
      "metadata": {
        "colab": {
          "base_uri": "https://localhost:8080/"
        },
        "id": "tybIt1WP0GTA",
        "outputId": "c47c0837-f61e-4f1f-b292-b4a8ee49c7a3"
      },
      "outputs": [
        {
          "output_type": "stream",
          "name": "stdout",
          "text": [
            "Python 3.10.12\n"
          ]
        }
      ],
      "source": [
        "# python version 확인\n",
        "!python --version"
      ]
    },
    {
      "cell_type": "markdown",
      "source": [
        "# 파이썬 공부할 때 좋은 사이트\n",
        "https://docs.python.org/ko/3/tutorial/index.html     \n",
        "영어와 한글 버전 틀어놓고 두개를 비교하며 보기  \n",
        "https://peps.python.org/pep-0008/ (파이썬 작성 규칙)  \n",
        "https://wikidocs.net/book/1  \n",
        "https://dojang.io/course/view.php?id=7 (파이썬 코딩 도장)"
      ],
      "metadata": {
        "id": "XOPwEkVr1WDm"
      }
    },
    {
      "cell_type": "code",
      "source": [
        "# 파이썬에서 추구하는 철학\n",
        "import this"
      ],
      "metadata": {
        "id": "oBcL5dmF1U6B"
      },
      "execution_count": null,
      "outputs": []
    },
    {
      "cell_type": "code",
      "source": [
        "import keyword\n",
        "print(keyword.kwlist)\n",
        "# len은 갯수를 세어 줌\n",
        "print(len(keyword.kwlist))"
      ],
      "metadata": {
        "colab": {
          "base_uri": "https://localhost:8080/"
        },
        "id": "aYiBxk992gZ0",
        "outputId": "c844b835-5010-45ec-ae58-54db21b7a950"
      },
      "execution_count": null,
      "outputs": [
        {
          "output_type": "stream",
          "name": "stdout",
          "text": [
            "['False', 'None', 'True', 'and', 'as', 'assert', 'async', 'await', 'break', 'class', 'continue', 'def', 'del', 'elif', 'else', 'except', 'finally', 'for', 'from', 'global', 'if', 'import', 'in', 'is', 'lambda', 'nonlocal', 'not', 'or', 'pass', 'raise', 'return', 'try', 'while', 'with', 'yield']\n",
            "35\n"
          ]
        }
      ]
    },
    {
      "cell_type": "code",
      "source": [
        "#print 함수를 사용 안하면 하나밖에 출력 안됨!\n",
        "print('Hello World')\n",
        "print('Hello World')"
      ],
      "metadata": {
        "colab": {
          "base_uri": "https://localhost:8080/"
        },
        "id": "PcH8FVHc2rMd",
        "outputId": "96515529-6264-4d29-c051-9fa78135bd59"
      },
      "execution_count": null,
      "outputs": [
        {
          "output_type": "stream",
          "name": "stdout",
          "text": [
            "Hello World\n",
            "Hello World\n"
          ]
        }
      ]
    },
    {
      "cell_type": "code",
      "source": [
        "# ;은 문장의 끝을 의미한다\n",
        "# 하나의 문장이 끝나면 문장의 끝에 ; 입력\n",
        "# 하지만 파이썬에서는 줄바꿈하면 ; 생략 가능\n",
        "print('Hello World'); print('Hello World')"
      ],
      "metadata": {
        "colab": {
          "base_uri": "https://localhost:8080/"
        },
        "id": "ZiywPOap3tQ2",
        "outputId": "85cdaa78-dcec-45b5-d994-2cd408c91002"
      },
      "execution_count": null,
      "outputs": [
        {
          "output_type": "stream",
          "name": "stdout",
          "text": [
            "Hello World\n",
            "Hello World\n"
          ]
        }
      ]
    },
    {
      "cell_type": "code",
      "source": [
        "# 변수(veriable) : 값을 저장하는 메모리 공간\n",
        "# \\를 이용하여 한문장을 줄로 나눠줄 수 있다\n",
        "# 들여쓰기로 다른 단계임을 표현, 스페이스바 or 탭키로 통일, 칸 갯수 통일\n",
        "a = 10; b = 20;\n",
        "if(a == 10) and \\\n",
        " (b == 20) :\n",
        "  print('OK')\n",
        "else :\n",
        "  print('NO')\n"
      ],
      "metadata": {
        "colab": {
          "base_uri": "https://localhost:8080/"
        },
        "id": "pbc6d83B4JuT",
        "outputId": "d7ac9219-78ec-4c01-e32c-890bb7a791e1"
      },
      "execution_count": null,
      "outputs": [
        {
          "output_type": "stream",
          "name": "stdout",
          "text": [
            "OK\n"
          ]
        }
      ]
    },
    {
      "cell_type": "code",
      "source": [
        "# 1을 왼쪽에 대입\n",
        "start = end = 1\n",
        "print(start)\n",
        "print(end)"
      ],
      "metadata": {
        "colab": {
          "base_uri": "https://localhost:8080/"
        },
        "id": "imNOQSod4d5B",
        "outputId": "7da54329-89b1-48c8-9b46-c3cc53ca3457"
      },
      "execution_count": null,
      "outputs": [
        {
          "output_type": "stream",
          "name": "stdout",
          "text": [
            "1\n",
            "1\n"
          ]
        }
      ]
    },
    {
      "cell_type": "code",
      "source": [
        "# +: 문자열 연결의 의미\n",
        "a= '3' + '4'\n",
        "print(a)\n",
        "\n",
        "# +: 더하기의 의미\n",
        "a = 1\n",
        "a = eval('3+4')\n",
        "print(a)\n",
        "\n",
        "# eval()안에 들어가 있는 a는 수학상의 x처럼 여김\n",
        "a = eval('a+3')\n",
        "print(a)\n",
        "\n",
        "a= eval('3' + '4')\n",
        "print(a)"
      ],
      "metadata": {
        "colab": {
          "base_uri": "https://localhost:8080/"
        },
        "id": "eRIAksb8NrSH",
        "outputId": "3681e278-6747-472a-b845-0383aa64f68b"
      },
      "execution_count": null,
      "outputs": [
        {
          "output_type": "stream",
          "name": "stdout",
          "text": [
            "34\n",
            "7\n",
            "10\n",
            "34\n"
          ]
        }
      ]
    },
    {
      "cell_type": "markdown",
      "source": [
        "## 자료형\n",
        "1. 데이터 저장방법에 따른 자료형의 분류  \n",
        "  직접(direct)형 : 직접 데이터를 표현하는 자료형 : int, float, complex      \n",
        "  시퀀스(sequence)형: 다른 데이터를 포함하는 자료형, 순서가 있는 집합 자료형 : list,str, tuple, bytes, bytearray,range    \n",
        "  매핑(Mapping)형 : 다른 데이터를 포함하는 자료형 : dict    \n",
        "  집합(Set)형 : 순서가 없고, 중복된 값도 없다. : set, frozenset  \n",
        "\n",
        "중요!\n",
        "2. 변경 가능성에 따른 자료형 분류  \n",
        "  변경 가능형(Mutable) : 데이터의 값을 변경할 수 있다.  : list, dict, set  \n",
        "  변경 불가능형(Immutable) : 데이터의 값을 변경할 수 없다. : int, float, complex, str, tuple, frozense\n",
        "\n",
        "  \n",
        "3. 데이터 저장 개수에 따른 자료형의 분류\n",
        "  리터널(Literal/Scalar)형 : 한 가지 객체만 저장한다. : int, bytes, str, float, complex  \n",
        "  컨테이널(Container)형 : 여러 가지 객체를 저장한다. : list, tuple, dict, set, fronzenset"
      ],
      "metadata": {
        "id": "_zm3sZCCPFAU"
      }
    },
    {
      "cell_type": "markdown",
      "source": [
        "type() : 데이터 자료형 확인"
      ],
      "metadata": {
        "id": "w13K2gAxQKFc"
      }
    },
    {
      "cell_type": "code",
      "source": [
        "type(5)"
      ],
      "metadata": {
        "colab": {
          "base_uri": "https://localhost:8080/"
        },
        "id": "FV-abYkjOCcB",
        "outputId": "f26cfb3d-9de2-4923-a392-3743fe8be538"
      },
      "execution_count": null,
      "outputs": [
        {
          "output_type": "execute_result",
          "data": {
            "text/plain": [
              "int"
            ]
          },
          "metadata": {},
          "execution_count": 23
        }
      ]
    },
    {
      "cell_type": "code",
      "source": [
        "type(65.3)"
      ],
      "metadata": {
        "colab": {
          "base_uri": "https://localhost:8080/"
        },
        "id": "MtQC_hS7QizQ",
        "outputId": "d7cbc677-2564-4c4b-a73a-2af3ab34b297"
      },
      "execution_count": null,
      "outputs": [
        {
          "output_type": "execute_result",
          "data": {
            "text/plain": [
              "float"
            ]
          },
          "metadata": {},
          "execution_count": 25
        }
      ]
    },
    {
      "cell_type": "code",
      "source": [
        "type([1, 3, 5])"
      ],
      "metadata": {
        "colab": {
          "base_uri": "https://localhost:8080/"
        },
        "id": "KD8sZ_nOQmmL",
        "outputId": "6bf55b10-6ffc-4379-aa1f-f2b94cd855c9"
      },
      "execution_count": null,
      "outputs": [
        {
          "output_type": "execute_result",
          "data": {
            "text/plain": [
              "list"
            ]
          },
          "metadata": {},
          "execution_count": 27
        }
      ]
    },
    {
      "cell_type": "code",
      "source": [
        "type((2,6,7))"
      ],
      "metadata": {
        "colab": {
          "base_uri": "https://localhost:8080/"
        },
        "id": "cyJKWN2jQvAr",
        "outputId": "fd826bdf-33a1-4e5c-ff1d-a3e4a08c5431"
      },
      "execution_count": null,
      "outputs": [
        {
          "output_type": "execute_result",
          "data": {
            "text/plain": [
              "tuple"
            ]
          },
          "metadata": {},
          "execution_count": 29
        }
      ]
    },
    {
      "cell_type": "code",
      "source": [
        "a = 2, 6, 7\n",
        "type(a)\n",
        "\n",
        "#type()에 바로 2,6,7 넣으면 오류 뜸"
      ],
      "metadata": {
        "colab": {
          "base_uri": "https://localhost:8080/"
        },
        "id": "rJFRTRmwQ9IM",
        "outputId": "b57e7e00-127f-4c0c-d3de-add6897a3c78"
      },
      "execution_count": null,
      "outputs": [
        {
          "output_type": "execute_result",
          "data": {
            "text/plain": [
              "tuple"
            ]
          },
          "metadata": {},
          "execution_count": 33
        }
      ]
    },
    {
      "cell_type": "code",
      "source": [
        "def call():\n",
        "  return 2,3,4;\n"
      ],
      "metadata": {
        "id": "Gfpx-yNtRSU8"
      },
      "execution_count": null,
      "outputs": []
    },
    {
      "cell_type": "code",
      "source": [
        "print(call())\n",
        "print(type(call()))"
      ],
      "metadata": {
        "colab": {
          "base_uri": "https://localhost:8080/"
        },
        "id": "4YnZXuAnNx8c",
        "outputId": "b6e5acd6-15d9-4d0c-eda3-74d9b6c4dd36"
      },
      "execution_count": null,
      "outputs": [
        {
          "output_type": "stream",
          "name": "stdout",
          "text": [
            "(2, 3, 4)\n",
            "<class 'tuple'>\n"
          ]
        }
      ]
    },
    {
      "cell_type": "code",
      "source": [
        "type({1,2,3})"
      ],
      "metadata": {
        "colab": {
          "base_uri": "https://localhost:8080/"
        },
        "id": "t-mB3C66SNET",
        "outputId": "7cf016b7-cca5-4dfa-f905-cccc717cbf6d"
      },
      "execution_count": null,
      "outputs": [
        {
          "output_type": "execute_result",
          "data": {
            "text/plain": [
              "set"
            ]
          },
          "metadata": {},
          "execution_count": 41
        }
      ]
    },
    {
      "cell_type": "code",
      "source": [
        "type({a:3, b:4})"
      ],
      "metadata": {
        "colab": {
          "base_uri": "https://localhost:8080/"
        },
        "id": "Rd3O5fLmSNdq",
        "outputId": "1a0f5766-08ba-45f9-d62b-5ed7530f59bf"
      },
      "execution_count": null,
      "outputs": [
        {
          "output_type": "execute_result",
          "data": {
            "text/plain": [
              "dict"
            ]
          },
          "metadata": {},
          "execution_count": 45
        }
      ]
    },
    {
      "cell_type": "code",
      "source": [
        "type('python')"
      ],
      "metadata": {
        "colab": {
          "base_uri": "https://localhost:8080/"
        },
        "id": "uKQsZev9S6Jz",
        "outputId": "27796066-fbc6-4396-d63d-cc687510df02"
      },
      "execution_count": null,
      "outputs": [
        {
          "output_type": "execute_result",
          "data": {
            "text/plain": [
              "str"
            ]
          },
          "metadata": {},
          "execution_count": 46
        }
      ]
    },
    {
      "cell_type": "markdown",
      "source": [
        "dir(): 자료형의 내장함수를 검색할 수 있다"
      ],
      "metadata": {
        "id": "FgJ7vXm2TgZV"
      }
    },
    {
      "cell_type": "code",
      "source": [
        "# 프린트로 출력 안해도 됨, 가로로 볼려고 한거임\n",
        "# 변경 못하면 인리터블\n",
        "# list와의 차이점 검색해보기\n",
        "print(dir(str))"
      ],
      "metadata": {
        "colab": {
          "base_uri": "https://localhost:8080/"
        },
        "id": "ahbCMbDZS6mz",
        "outputId": "0230a34b-2eed-4c08-f99a-3d3c717d9928"
      },
      "execution_count": null,
      "outputs": [
        {
          "output_type": "stream",
          "name": "stdout",
          "text": [
            "['__add__', '__class__', '__contains__', '__delattr__', '__dir__', '__doc__', '__eq__', '__format__', '__ge__', '__getattribute__', '__getitem__', '__getnewargs__', '__gt__', '__hash__', '__init__', '__init_subclass__', '__iter__', '__le__', '__len__', '__lt__', '__mod__', '__mul__', '__ne__', '__new__', '__reduce__', '__reduce_ex__', '__repr__', '__rmod__', '__rmul__', '__setattr__', '__sizeof__', '__str__', '__subclasshook__', 'capitalize', 'casefold', 'center', 'count', 'encode', 'endswith', 'expandtabs', 'find', 'format', 'format_map', 'index', 'isalnum', 'isalpha', 'isascii', 'isdecimal', 'isdigit', 'isidentifier', 'islower', 'isnumeric', 'isprintable', 'isspace', 'istitle', 'isupper', 'join', 'ljust', 'lower', 'lstrip', 'maketrans', 'partition', 'removeprefix', 'removesuffix', 'replace', 'rfind', 'rindex', 'rjust', 'rpartition', 'rsplit', 'rstrip', 'split', 'splitlines', 'startswith', 'strip', 'swapcase', 'title', 'translate', 'upper', 'zfill']\n"
          ]
        }
      ]
    },
    {
      "cell_type": "code",
      "source": [
        "# 변경 가능한 리터블\n",
        "print(dir(list))"
      ],
      "metadata": {
        "colab": {
          "base_uri": "https://localhost:8080/"
        },
        "id": "WliSL5txTzhC",
        "outputId": "14bf0a57-c926-4d65-e3b2-34f517010687"
      },
      "execution_count": null,
      "outputs": [
        {
          "output_type": "stream",
          "name": "stdout",
          "text": [
            "['__add__', '__class__', '__class_getitem__', '__contains__', '__delattr__', '__delitem__', '__dir__', '__doc__', '__eq__', '__format__', '__ge__', '__getattribute__', '__getitem__', '__gt__', '__hash__', '__iadd__', '__imul__', '__init__', '__init_subclass__', '__iter__', '__le__', '__len__', '__lt__', '__mul__', '__ne__', '__new__', '__reduce__', '__reduce_ex__', '__repr__', '__reversed__', '__rmul__', '__setattr__', '__setitem__', '__sizeof__', '__str__', '__subclasshook__', 'append', 'clear', 'copy', 'count', 'extend', 'index', 'insert', 'pop', 'remove', 'reverse', 'sort']\n"
          ]
        }
      ]
    },
    {
      "cell_type": "code",
      "source": [
        "a=[1,2,3]\n",
        "print(a.__dir__())"
      ],
      "metadata": {
        "colab": {
          "base_uri": "https://localhost:8080/"
        },
        "id": "fYjyBRpEUIzr",
        "outputId": "5c74ddf2-da7e-4e5d-db41-64f812216460"
      },
      "execution_count": null,
      "outputs": [
        {
          "output_type": "stream",
          "name": "stdout",
          "text": [
            "['__new__', '__repr__', '__hash__', '__getattribute__', '__lt__', '__le__', '__eq__', '__ne__', '__gt__', '__ge__', '__iter__', '__init__', '__len__', '__getitem__', '__setitem__', '__delitem__', '__add__', '__mul__', '__rmul__', '__contains__', '__iadd__', '__imul__', '__reversed__', '__sizeof__', 'clear', 'copy', 'append', 'insert', 'extend', 'pop', 'remove', 'index', 'count', 'reverse', 'sort', '__class_getitem__', '__doc__', '__str__', '__setattr__', '__delattr__', '__reduce_ex__', '__reduce__', '__subclasshook__', '__init_subclass__', '__format__', '__dir__', '__class__']\n"
          ]
        }
      ]
    },
    {
      "cell_type": "markdown",
      "source": [
        "help() : 자료형에서 제공하는 메소드 사용법을 검색할 수 있다"
      ],
      "metadata": {
        "id": "jB9z9fLZVEKj"
      }
    },
    {
      "cell_type": "code",
      "source": [
        "#help(str)\n",
        "help(str.index)"
      ],
      "metadata": {
        "colab": {
          "base_uri": "https://localhost:8080/"
        },
        "id": "OJIxJMZJU2BS",
        "outputId": "18c6fd84-c864-405a-c0be-da1d07395f88"
      },
      "execution_count": null,
      "outputs": [
        {
          "output_type": "stream",
          "name": "stdout",
          "text": [
            "Help on method_descriptor:\n",
            "\n",
            "index(...)\n",
            "    S.index(sub[, start[, end]]) -> int\n",
            "    \n",
            "    Return the lowest index in S where substring sub is found,\n",
            "    such that sub is contained within S[start:end].  Optional\n",
            "    arguments start and end are interpreted as in slice notation.\n",
            "    \n",
            "    Raises ValueError when the substring is not found.\n",
            "\n"
          ]
        }
      ]
    },
    {
      "cell_type": "code",
      "source": [
        "#'hello'.index('l')\n",
        "'hello'.index('l')"
      ],
      "metadata": {
        "colab": {
          "base_uri": "https://localhost:8080/"
        },
        "id": "3q1jmEX1Tz6q",
        "outputId": "25202510-b0c3-4698-cbbc-2e81d384a03c"
      },
      "execution_count": null,
      "outputs": [
        {
          "output_type": "execute_result",
          "data": {
            "text/plain": [
              "2"
            ]
          },
          "metadata": {},
          "execution_count": 58
        }
      ]
    },
    {
      "cell_type": "markdown",
      "source": [
        "## Sequence 자료형\n",
        "- Sequence은 여러 객체를 저장할 수 있는 순서를 갖는 연속된 자료형이다.\n",
        "- 자료형 종류 : str, tuple, list\n",
        "- sequence형의 공통적인 연산\n",
        "  - 인덱싱(indexing)\n",
        "  - 슬라이싱(slicing)\n",
        "  - 연결하기\n",
        "  - 반복하기\n",
        "  - 멤버 검사\n",
        "  - 길이정보"
      ],
      "metadata": {
        "id": "2Vr31O5AaYbL"
      }
    },
    {
      "cell_type": "markdown",
      "source": [
        "문자열(str)\n",
        "\n",
        "문자열은 문자들을 표현하는 자료형으로 작은따옴표(')나 큰따옴표(\")로 묶는다.\n",
        "문자열의 슬라이싱 : [인덱스 시작 : 인덱스 끝 : 스텝]\n",
        "스텝의 default은 1의 값을 갖는다."
      ],
      "metadata": {
        "id": "LLpQdxZGacPz"
      }
    },
    {
      "cell_type": "code",
      "source": [
        "a = 'Life is too short. You need python'\n",
        "print(a)\n",
        "\n",
        "a = 'Life is too short. You need python'\n",
        "print(a)"
      ],
      "metadata": {
        "colab": {
          "base_uri": "https://localhost:8080/"
        },
        "id": "NgBoLFCMWIWN",
        "outputId": "32d2ca7c-606c-4290-8185-e062877db944"
      },
      "execution_count": null,
      "outputs": [
        {
          "output_type": "stream",
          "name": "stdout",
          "text": [
            "Life is too short. You need python\n",
            "Life is too short. You need python\n"
          ]
        }
      ]
    },
    {
      "cell_type": "code",
      "source": [
        "a = \"Python's favorite food is perl\"\n",
        "print(a)\n",
        "\n",
        "a= '\"Python is very easy.\" he says.'\n",
        "print(a)\n",
        "print(id(a))\n",
        "\n",
        "# 문자열 escape라고 함\n",
        "a = 'Python\\'s favorite food is perl'\n",
        "print(a)\n",
        "\n",
        "a= \"\\\"Python is very easy.\\\" he says.\"\n",
        "print(a)"
      ],
      "metadata": {
        "colab": {
          "base_uri": "https://localhost:8080/"
        },
        "id": "13WngPdcWIkC",
        "outputId": "41c35cea-fbb0-407b-cd41-7fcb512f93b5"
      },
      "execution_count": null,
      "outputs": [
        {
          "output_type": "stream",
          "name": "stdout",
          "text": [
            "Python's favorite food is perl\n",
            "\"Python is very easy.\" he says.\n",
            "135449779851216\n",
            "Python's favorite food is perl\n",
            "\"Python is very easy.\" he says.\n"
          ]
        }
      ]
    },
    {
      "cell_type": "code",
      "source": [
        "b=\"\"\"\n",
        "   Life is too short.\n",
        "   You need python\n",
        "\"\"\"\n",
        "print(b)\n",
        "b = '''\n",
        "   Life is too short.\n",
        "   You need python\n",
        "'''\n",
        "print(b)"
      ],
      "metadata": {
        "colab": {
          "base_uri": "https://localhost:8080/"
        },
        "id": "92FIiYTicM0T",
        "outputId": "82f31be2-0c78-42ce-b462-bd4c826ce66f"
      },
      "execution_count": null,
      "outputs": [
        {
          "output_type": "stream",
          "name": "stdout",
          "text": [
            "\n",
            "   Life is too short. \n",
            "   You need python\n",
            "\n",
            "\n",
            "   Life is too short. \n",
            "   You need python\n",
            "\n"
          ]
        }
      ]
    },
    {
      "cell_type": "code",
      "source": [
        "# 공백도 문자로 인식함\n",
        "a = 'Life is too short'\n",
        "len(a) # 문자열 길이"
      ],
      "metadata": {
        "colab": {
          "base_uri": "https://localhost:8080/"
        },
        "id": "Lwni1h_icM55",
        "outputId": "d6090ee6-eb67-4cb6-cf82-44e8bae1263e"
      },
      "execution_count": null,
      "outputs": [
        {
          "output_type": "execute_result",
          "data": {
            "text/plain": [
              "17"
            ]
          },
          "metadata": {},
          "execution_count": 75
        }
      ]
    },
    {
      "cell_type": "code",
      "source": [
        "s_val= 'hello python!'\n",
        "print(s_val)"
      ],
      "metadata": {
        "colab": {
          "base_uri": "https://localhost:8080/"
        },
        "id": "_Bk98xR3egjl",
        "outputId": "996d49de-7f21-482f-be33-e94a2279165e"
      },
      "execution_count": null,
      "outputs": [
        {
          "output_type": "stream",
          "name": "stdout",
          "text": [
            "hello python!\n"
          ]
        }
      ]
    },
    {
      "cell_type": "code",
      "source": [
        "#indexing (인덱싱) 값은 0부터 조회\n",
        "s_val[1]"
      ],
      "metadata": {
        "colab": {
          "base_uri": "https://localhost:8080/",
          "height": 35
        },
        "id": "DGkNVbIWerPo",
        "outputId": "112c14d6-a626-4fcd-87e9-597f508d0d36"
      },
      "execution_count": null,
      "outputs": [
        {
          "output_type": "execute_result",
          "data": {
            "text/plain": [
              "'e'"
            ],
            "application/vnd.google.colaboratory.intrinsic+json": {
              "type": "string"
            }
          },
          "metadata": {},
          "execution_count": 79
        }
      ]
    },
    {
      "cell_type": "code",
      "source": [
        "#slicing (슬라이싱) [start:end:step], :이 무조건 하나 이상, 시작하는 값 이상 끝나는 값 미만\n",
        "s_val[0:3] #0부터 3미만까지"
      ],
      "metadata": {
        "colab": {
          "base_uri": "https://localhost:8080/",
          "height": 35
        },
        "id": "xZELPABUezFI",
        "outputId": "51fa39c0-ab2c-473a-c195-c57b96471c74"
      },
      "execution_count": null,
      "outputs": [
        {
          "output_type": "execute_result",
          "data": {
            "text/plain": [
              "'hel'"
            ],
            "application/vnd.google.colaboratory.intrinsic+json": {
              "type": "string"
            }
          },
          "metadata": {},
          "execution_count": 81
        }
      ]
    },
    {
      "cell_type": "code",
      "source": [
        "s_val[1:2] #1부터 2미만까지"
      ],
      "metadata": {
        "colab": {
          "base_uri": "https://localhost:8080/",
          "height": 35
        },
        "id": "xjgoUZEQfLuZ",
        "outputId": "7f48be4f-ef35-4bcb-fff1-a4b5b1facc87"
      },
      "execution_count": null,
      "outputs": [
        {
          "output_type": "execute_result",
          "data": {
            "text/plain": [
              "'e'"
            ],
            "application/vnd.google.colaboratory.intrinsic+json": {
              "type": "string"
            }
          },
          "metadata": {},
          "execution_count": 83
        }
      ]
    },
    {
      "cell_type": "code",
      "source": [
        "# 시작부터 끝까지\n",
        "s_val[1:] # 1부터 끝까지"
      ],
      "metadata": {
        "colab": {
          "base_uri": "https://localhost:8080/",
          "height": 35
        },
        "id": "n_7gMkutfL2y",
        "outputId": "0ae8793d-0e98-4f75-ec33-e3be903c0840"
      },
      "execution_count": null,
      "outputs": [
        {
          "output_type": "execute_result",
          "data": {
            "text/plain": [
              "'ello python!'"
            ],
            "application/vnd.google.colaboratory.intrinsic+json": {
              "type": "string"
            }
          },
          "metadata": {},
          "execution_count": 84
        }
      ]
    },
    {
      "cell_type": "code",
      "source": [
        "# 변수의 모든 데이터를 가지고 옴\n",
        "print(s_val[0:])\n",
        "print(s_val[:])"
      ],
      "metadata": {
        "colab": {
          "base_uri": "https://localhost:8080/"
        },
        "id": "TVOsFwrSglsa",
        "outputId": "7db1fdd9-7a64-48a9-a6d7-c663c88bd502"
      },
      "execution_count": null,
      "outputs": [
        {
          "output_type": "stream",
          "name": "stdout",
          "text": [
            "hello python!\n",
            "hello python!\n"
          ]
        }
      ]
    },
    {
      "cell_type": "code",
      "source": [
        "s_val[-1]"
      ],
      "metadata": {
        "colab": {
          "base_uri": "https://localhost:8080/",
          "height": 35
        },
        "id": "sP_0p6ErgzOa",
        "outputId": "65943cc7-c45f-4f40-f410-f911ee417905"
      },
      "execution_count": null,
      "outputs": [
        {
          "output_type": "execute_result",
          "data": {
            "text/plain": [
              "'!'"
            ],
            "application/vnd.google.colaboratory.intrinsic+json": {
              "type": "string"
            }
          },
          "metadata": {},
          "execution_count": 88
        }
      ]
    },
    {
      "cell_type": "code",
      "source": [
        "s_val[-3:-1]"
      ],
      "metadata": {
        "colab": {
          "base_uri": "https://localhost:8080/",
          "height": 35
        },
        "id": "EZETpQPyhXTA",
        "outputId": "0f65a531-8b93-4a7c-94cf-6c5583f24a7b"
      },
      "execution_count": null,
      "outputs": [
        {
          "output_type": "execute_result",
          "data": {
            "text/plain": [
              "'on'"
            ],
            "application/vnd.google.colaboratory.intrinsic+json": {
              "type": "string"
            }
          },
          "metadata": {},
          "execution_count": 89
        }
      ]
    },
    {
      "cell_type": "code",
      "source": [
        "s_val[::2] # 2씩 증가"
      ],
      "metadata": {
        "colab": {
          "base_uri": "https://localhost:8080/",
          "height": 35
        },
        "id": "-IlXILSEhaK5",
        "outputId": "6464d1de-a4ec-4451-e303-cab7f3d868c6"
      },
      "execution_count": null,
      "outputs": [
        {
          "output_type": "execute_result",
          "data": {
            "text/plain": [
              "'hlopto!'"
            ],
            "application/vnd.google.colaboratory.intrinsic+json": {
              "type": "string"
            }
          },
          "metadata": {},
          "execution_count": 92
        }
      ]
    },
    {
      "cell_type": "code",
      "source": [
        "s_val[::-1] # 역으로 가져옴"
      ],
      "metadata": {
        "colab": {
          "base_uri": "https://localhost:8080/",
          "height": 35
        },
        "id": "wKok7yJPezRJ",
        "outputId": "7b3152c8-e1db-484e-c23c-0128e6b94e0c"
      },
      "execution_count": null,
      "outputs": [
        {
          "output_type": "execute_result",
          "data": {
            "text/plain": [
              "'!nohtyp olleh'"
            ],
            "application/vnd.google.colaboratory.intrinsic+json": {
              "type": "string"
            }
          },
          "metadata": {},
          "execution_count": 95
        }
      ]
    },
    {
      "cell_type": "code",
      "source": [
        "s_val[13::-1] # step이 -값일 경우 start와 end 값을 역으로 진행"
      ],
      "metadata": {
        "colab": {
          "base_uri": "https://localhost:8080/",
          "height": 35
        },
        "id": "OEFbffSxh5HD",
        "outputId": "0855c9e9-72e4-471c-b1ec-a474acf1798e"
      },
      "execution_count": null,
      "outputs": [
        {
          "output_type": "execute_result",
          "data": {
            "text/plain": [
              "'!nohtyp olleh'"
            ],
            "application/vnd.google.colaboratory.intrinsic+json": {
              "type": "string"
            }
          },
          "metadata": {},
          "execution_count": 100
        }
      ]
    },
    {
      "cell_type": "markdown",
      "source": [
        "문자열의 연결하기는 (+) 연산자를 사용"
      ],
      "metadata": {
        "id": "QzIl_SQhipLB"
      }
    },
    {
      "cell_type": "code",
      "source": [
        "s_val2 = 'hello' + ' ' + 'python!'\n",
        "s_val2"
      ],
      "metadata": {
        "colab": {
          "base_uri": "https://localhost:8080/",
          "height": 35
        },
        "id": "rc3aNoFnh5QF",
        "outputId": "e79f7781-90b6-4c2a-dc24-6e7fadaa340b"
      },
      "execution_count": null,
      "outputs": [
        {
          "output_type": "execute_result",
          "data": {
            "text/plain": [
              "'hello python!'"
            ],
            "application/vnd.google.colaboratory.intrinsic+json": {
              "type": "string"
            }
          },
          "metadata": {},
          "execution_count": 101
        }
      ]
    },
    {
      "cell_type": "code",
      "source": [
        "# 보통 다른 자료형이여도 'hello2'로 나옴\n",
        "# 하지만 파이썬은 자료형끼리만 (+) 연산자 사용 가능\n",
        "s_val2 = 'hello' + 2\n",
        "s_val2"
      ],
      "metadata": {
        "colab": {
          "base_uri": "https://localhost:8080/",
          "height": 203
        },
        "id": "hYay961tjHD1",
        "outputId": "7148429d-f809-4df8-8f04-85402977cb6b"
      },
      "execution_count": null,
      "outputs": [
        {
          "output_type": "error",
          "ename": "TypeError",
          "evalue": "ignored",
          "traceback": [
            "\u001b[0;31m---------------------------------------------------------------------------\u001b[0m",
            "\u001b[0;31mTypeError\u001b[0m                                 Traceback (most recent call last)",
            "\u001b[0;32m<ipython-input-105-79c01dda8356>\u001b[0m in \u001b[0;36m<cell line: 1>\u001b[0;34m()\u001b[0m\n\u001b[0;32m----> 1\u001b[0;31m \u001b[0ms_val2\u001b[0m \u001b[0;34m=\u001b[0m \u001b[0;34m'hello'\u001b[0m \u001b[0;34m+\u001b[0m \u001b[0;36m2\u001b[0m\u001b[0;34m\u001b[0m\u001b[0;34m\u001b[0m\u001b[0m\n\u001b[0m\u001b[1;32m      2\u001b[0m \u001b[0ms_val2\u001b[0m\u001b[0;34m\u001b[0m\u001b[0;34m\u001b[0m\u001b[0m\n",
            "\u001b[0;31mTypeError\u001b[0m: can only concatenate str (not \"int\") to str"
          ]
        }
      ]
    },
    {
      "cell_type": "markdown",
      "source": [
        "## 문자열 반복하기는 (*) 연산자를 사용\n"
      ],
      "metadata": {
        "id": "ObhH0ZeBqeAG"
      }
    },
    {
      "cell_type": "code",
      "source": [
        "s_val = 'win' * 3\n",
        "s_val"
      ],
      "metadata": {
        "id": "UU1CpPUSjRQw",
        "colab": {
          "base_uri": "https://localhost:8080/",
          "height": 35
        },
        "outputId": "bed6ce56-4303-41c7-93ce-20a3f5d4a297"
      },
      "execution_count": null,
      "outputs": [
        {
          "output_type": "execute_result",
          "data": {
            "text/plain": [
              "'winwinwin'"
            ],
            "application/vnd.google.colaboratory.intrinsic+json": {
              "type": "string"
            }
          },
          "metadata": {},
          "execution_count": 108
        }
      ]
    },
    {
      "cell_type": "code",
      "source": [
        "#같은 타입끼리 곱하는건 안됨.\n",
        "s_val = 'win' * 'win'\n",
        "s_val"
      ],
      "metadata": {
        "colab": {
          "base_uri": "https://localhost:8080/",
          "height": 221
        },
        "id": "VgHb0uIbqraZ",
        "outputId": "580f6c16-e2e2-451a-8e63-1185872b2688"
      },
      "execution_count": null,
      "outputs": [
        {
          "output_type": "error",
          "ename": "TypeError",
          "evalue": "ignored",
          "traceback": [
            "\u001b[0;31m---------------------------------------------------------------------------\u001b[0m",
            "\u001b[0;31mTypeError\u001b[0m                                 Traceback (most recent call last)",
            "\u001b[0;32m<ipython-input-111-3fd9fd580780>\u001b[0m in \u001b[0;36m<cell line: 2>\u001b[0;34m()\u001b[0m\n\u001b[1;32m      1\u001b[0m \u001b[0;31m#같은 타입끼리 곱하는건 안됨.\u001b[0m\u001b[0;34m\u001b[0m\u001b[0;34m\u001b[0m\u001b[0m\n\u001b[0;32m----> 2\u001b[0;31m \u001b[0ms_val\u001b[0m \u001b[0;34m=\u001b[0m \u001b[0;34m'win'\u001b[0m \u001b[0;34m*\u001b[0m \u001b[0;34m'win'\u001b[0m\u001b[0;34m\u001b[0m\u001b[0;34m\u001b[0m\u001b[0m\n\u001b[0m\u001b[1;32m      3\u001b[0m \u001b[0ms_val\u001b[0m\u001b[0;34m\u001b[0m\u001b[0;34m\u001b[0m\u001b[0m\n",
            "\u001b[0;31mTypeError\u001b[0m: can't multiply sequence by non-int of type 'str'"
          ]
        }
      ]
    },
    {
      "cell_type": "markdown",
      "source": [
        "## 문자열을 변경할 때 슬라이싱과 연결하기 사용"
      ],
      "metadata": {
        "id": "ac59iFELrb82"
      }
    },
    {
      "cell_type": "code",
      "source": [
        "s_val = 'hello python!'"
      ],
      "metadata": {
        "id": "H0c11qcsjRZ4"
      },
      "execution_count": null,
      "outputs": []
    },
    {
      "cell_type": "code",
      "source": [
        "s_check = 'H' + s_val[1:]\n",
        "s_check"
      ],
      "metadata": {
        "colab": {
          "base_uri": "https://localhost:8080/",
          "height": 35
        },
        "id": "qlbt9b4GrDap",
        "outputId": "b86c3d00-8f13-4e74-d1b5-31ea44976a82"
      },
      "execution_count": null,
      "outputs": [
        {
          "output_type": "execute_result",
          "data": {
            "text/plain": [
              "'Hello python!'"
            ],
            "application/vnd.google.colaboratory.intrinsic+json": {
              "type": "string"
            }
          },
          "metadata": {},
          "execution_count": 117
        }
      ]
    },
    {
      "cell_type": "markdown",
      "source": [
        "## in 연산자로 멤버 검사를 해서 부분 문자열의 존재 확인\n"
      ],
      "metadata": {
        "id": "a2NCH0X8sESO"
      }
    },
    {
      "cell_type": "code",
      "source": [
        "s_val = \"red green blue\"\n",
        "s_val"
      ],
      "metadata": {
        "colab": {
          "base_uri": "https://localhost:8080/",
          "height": 35
        },
        "id": "SWuiLU2xrDge",
        "outputId": "e9d8bd67-23de-4e55-ad9f-e15b144a09bc"
      },
      "execution_count": null,
      "outputs": [
        {
          "output_type": "execute_result",
          "data": {
            "text/plain": [
              "'red green blue'"
            ],
            "application/vnd.google.colaboratory.intrinsic+json": {
              "type": "string"
            }
          },
          "metadata": {},
          "execution_count": 119
        }
      ]
    },
    {
      "cell_type": "code",
      "source": [
        "# s_val 변수에 'green' 문자열이 있는지\n",
        "'green' in s_val"
      ],
      "metadata": {
        "colab": {
          "base_uri": "https://localhost:8080/"
        },
        "id": "ec7slZLHsVgQ",
        "outputId": "af19fcf8-ba3b-43cc-820d-ed29b4a428a6"
      },
      "execution_count": null,
      "outputs": [
        {
          "output_type": "execute_result",
          "data": {
            "text/plain": [
              "True"
            ]
          },
          "metadata": {},
          "execution_count": 120
        }
      ]
    },
    {
      "cell_type": "code",
      "source": [
        "'white' in s_val"
      ],
      "metadata": {
        "colab": {
          "base_uri": "https://localhost:8080/"
        },
        "id": "08w9e2mTsVle",
        "outputId": "c8fc5ab4-1d2b-4b32-f0f9-024f5e009d20"
      },
      "execution_count": null,
      "outputs": [
        {
          "output_type": "execute_result",
          "data": {
            "text/plain": [
              "False"
            ]
          },
          "metadata": {},
          "execution_count": 123
        }
      ]
    },
    {
      "cell_type": "markdown",
      "source": [
        "문자열 서식지정: 어떤 문서 양식을 만들어 넣고 비칸에 필요한 내용을 채워서 문서를 지정한다.\n",
        "\n",
        "점프 투 파이썬 02-2 참고  \n",
        "https://wikidocs.net/13"
      ],
      "metadata": {
        "id": "VLhX7yI5wf9F"
      }
    },
    {
      "cell_type": "code",
      "source": [
        "s_val7 = 'python'\n",
        "s_val8 = 83.5\n",
        "\n",
        "print('%s 의 점수는 %.1f입니다.' % ( s_val7, s_val8)) # python1, 2방식\n",
        "print('{} 의 점수는 {}입니다.'.format(s_val7, s_val8)) # python3 방식\n",
        "print('{1} 의 점수는 {0}입니다.'.format(s_val8, s_val7))\n",
        "print('{subject} 의 점수는 {jumsu}입니다.'.format(jumsu=s_val8, subject=s_val7))\n",
        "print('{{0}} 의 점수는 {{1}}입니다.'.format(s_val7, s_val8)) # { }자체를 출력할때 {{}}을 한다.\n",
        "print('{{{0}}} 의 점수는 {{{1}}}입니다.'.format(s_val7, s_val8)) # {}자체와 값을 출력할때는 {{{}}}을 한다.\n",
        "\n",
        "print('{0:<10} 의 점수는 {1}입니다.'.format(s_val7, s_val8))  # 10자리 확보하고 남은 공간은 오른쪽을 여백으로 채운다.\n",
        "#print('{:<10} 의 점수는 {}입니다.'.format(s_val7, s_val8))\n",
        "\n",
        "print('{0:>10} 의 점수는 {1}입니다.'.format(s_val7, s_val8))  # 10자리 확보하고 남은 공간은 왼쪽을 여백으로 채운다.\n",
        "#print('{:>10} 의 점수는 {}입니다.'.format(s_val7, s_val8))"
      ],
      "metadata": {
        "colab": {
          "base_uri": "https://localhost:8080/"
        },
        "id": "L5sd_edJrDlm",
        "outputId": "c36fb996-c686-4d1b-9c75-8035e7dfee74"
      },
      "execution_count": null,
      "outputs": [
        {
          "output_type": "stream",
          "name": "stdout",
          "text": [
            "python 의 점수는 83.5입니다.\n",
            "python 의 점수는 83.5입니다.\n",
            "python 의 점수는 83.5입니다.\n",
            "python 의 점수는 83.5입니다.\n",
            "{0} 의 점수는 {1}입니다.\n",
            "{python} 의 점수는 {83.5}입니다.\n",
            "python     의 점수는 83.5입니다.\n",
            "    python 의 점수는 83.5입니다.\n"
          ]
        }
      ]
    },
    {
      "cell_type": "markdown",
      "source": [
        "## 문자열에서 제공하는 메소드"
      ],
      "metadata": {
        "id": "toHRwYLf00c9"
      }
    },
    {
      "cell_type": "code",
      "source": [
        "a = 'hobby'\n",
        "a.count('b') # 'b' 문자개수 리턴"
      ],
      "metadata": {
        "colab": {
          "base_uri": "https://localhost:8080/"
        },
        "id": "0aL3zwZZ0361",
        "outputId": "4110d1e2-8b81-46d7-a35c-a6aa5abcecb2"
      },
      "execution_count": null,
      "outputs": [
        {
          "output_type": "execute_result",
          "data": {
            "text/plain": [
              "2"
            ]
          },
          "metadata": {},
          "execution_count": 127
        }
      ]
    },
    {
      "cell_type": "code",
      "source": [
        "len(a) # 모든 문자열의 개수 리턴"
      ],
      "metadata": {
        "colab": {
          "base_uri": "https://localhost:8080/"
        },
        "id": "uBzBP7tK2C_7",
        "outputId": "fe7e818a-337f-4c05-8808-a808ae9aa1b8"
      },
      "execution_count": null,
      "outputs": [
        {
          "output_type": "execute_result",
          "data": {
            "text/plain": [
              "5"
            ]
          },
          "metadata": {},
          "execution_count": 128
        }
      ]
    },
    {
      "cell_type": "code",
      "source": [
        "print(a.find('b'))\n",
        "print(a.index('b'))"
      ],
      "metadata": {
        "colab": {
          "base_uri": "https://localhost:8080/"
        },
        "id": "Pci_krBr2IbS",
        "outputId": "d6cb71a6-cdd1-4009-ac03-61e6b6a0f43f"
      },
      "execution_count": null,
      "outputs": [
        {
          "output_type": "stream",
          "name": "stdout",
          "text": [
            "2\n",
            "2\n"
          ]
        }
      ]
    },
    {
      "cell_type": "code",
      "source": [
        "print(a.find('c')) # 찾는 문자열이 없으면 -1을 리턴\n",
        "print(a.index('c')) # 찾는 문자열이 없으면 오류 띄움"
      ],
      "metadata": {
        "colab": {
          "base_uri": "https://localhost:8080/",
          "height": 221
        },
        "id": "9KvASrVww2ee",
        "outputId": "1e461f72-82c2-4bcd-b51c-6fb951584077"
      },
      "execution_count": null,
      "outputs": [
        {
          "output_type": "stream",
          "name": "stdout",
          "text": [
            "-1\n"
          ]
        },
        {
          "output_type": "error",
          "ename": "ValueError",
          "evalue": "ignored",
          "traceback": [
            "\u001b[0;31m---------------------------------------------------------------------------\u001b[0m",
            "\u001b[0;31mValueError\u001b[0m                                Traceback (most recent call last)",
            "\u001b[0;32m<ipython-input-134-ee5bf8097a68>\u001b[0m in \u001b[0;36m<cell line: 2>\u001b[0;34m()\u001b[0m\n\u001b[1;32m      1\u001b[0m \u001b[0mprint\u001b[0m\u001b[0;34m(\u001b[0m\u001b[0ma\u001b[0m\u001b[0;34m.\u001b[0m\u001b[0mfind\u001b[0m\u001b[0;34m(\u001b[0m\u001b[0;34m'c'\u001b[0m\u001b[0;34m)\u001b[0m\u001b[0;34m)\u001b[0m \u001b[0;31m# 찾는 문자가 없으면 -1 값이 나옴\u001b[0m\u001b[0;34m\u001b[0m\u001b[0;34m\u001b[0m\u001b[0m\n\u001b[0;32m----> 2\u001b[0;31m \u001b[0mprint\u001b[0m\u001b[0;34m(\u001b[0m\u001b[0ma\u001b[0m\u001b[0;34m.\u001b[0m\u001b[0mindex\u001b[0m\u001b[0;34m(\u001b[0m\u001b[0;34m'c'\u001b[0m\u001b[0;34m)\u001b[0m\u001b[0;34m)\u001b[0m \u001b[0;31m# 찾는 문자가 없으면 오류 띄움\u001b[0m\u001b[0;34m\u001b[0m\u001b[0;34m\u001b[0m\u001b[0m\n\u001b[0m",
            "\u001b[0;31mValueError\u001b[0m: substring not found"
          ]
        }
      ]
    },
    {
      "cell_type": "code",
      "source": [
        "#'apple' 문자열의 각각의 문자 사이에 '.'를 삽입해준다(. 대신에 다른 것이여도 상관 ㄴㄴ)\n",
        "'.'.join('apple')"
      ],
      "metadata": {
        "colab": {
          "base_uri": "https://localhost:8080/",
          "height": 35
        },
        "id": "6hPYibzm2lhL",
        "outputId": "34169f3a-3aae-4ce8-9e6a-be3b36c59ebf"
      },
      "execution_count": null,
      "outputs": [
        {
          "output_type": "execute_result",
          "data": {
            "text/plain": [
              "'a.p.p.l.e'"
            ],
            "application/vnd.google.colaboratory.intrinsic+json": {
              "type": "string"
            }
          },
          "metadata": {},
          "execution_count": 137
        }
      ]
    },
    {
      "cell_type": "code",
      "source": [
        "'*'.join(['red','green','blue'])"
      ],
      "metadata": {
        "colab": {
          "base_uri": "https://localhost:8080/",
          "height": 35
        },
        "id": "xjkP-BqN3yM6",
        "outputId": "fc83a215-4afa-486f-845c-2ef68b38d773"
      },
      "execution_count": null,
      "outputs": [
        {
          "output_type": "execute_result",
          "data": {
            "text/plain": [
              "'red*green*blue'"
            ],
            "application/vnd.google.colaboratory.intrinsic+json": {
              "type": "string"
            }
          },
          "metadata": {},
          "execution_count": 140
        }
      ]
    },
    {
      "cell_type": "code",
      "source": [
        "a = 'hello'\n",
        "a.upper() # 대문자로 변경"
      ],
      "metadata": {
        "colab": {
          "base_uri": "https://localhost:8080/",
          "height": 35
        },
        "id": "Lc1NVcbn4J5m",
        "outputId": "7cbdeed7-9c9e-49b9-b706-bdf4f8cd318c"
      },
      "execution_count": null,
      "outputs": [
        {
          "output_type": "execute_result",
          "data": {
            "text/plain": [
              "'HELLO'"
            ],
            "application/vnd.google.colaboratory.intrinsic+json": {
              "type": "string"
            }
          },
          "metadata": {},
          "execution_count": 141
        }
      ]
    },
    {
      "cell_type": "code",
      "source": [
        "a = 'HELLO'\n",
        "a.lower() # 소문자로 변경"
      ],
      "metadata": {
        "colab": {
          "base_uri": "https://localhost:8080/",
          "height": 35
        },
        "id": "9_pZ8XEr4aJ7",
        "outputId": "cf3756ae-0a23-49cd-e138-e1dbcd89e0da"
      },
      "execution_count": null,
      "outputs": [
        {
          "output_type": "execute_result",
          "data": {
            "text/plain": [
              "'hello'"
            ],
            "application/vnd.google.colaboratory.intrinsic+json": {
              "type": "string"
            }
          },
          "metadata": {},
          "execution_count": 143
        }
      ]
    },
    {
      "cell_type": "code",
      "source": [
        "a = '   hello  world  '\n",
        "print(len(a)) #17\n",
        "print(a)\n",
        "b = a.lstrip() #왼쪽 공백 제거\n",
        "print(len(b))\n",
        "print(b) #14"
      ],
      "metadata": {
        "colab": {
          "base_uri": "https://localhost:8080/"
        },
        "id": "CxEa1VQs3yRE",
        "outputId": "83be5ae3-f23f-49ad-e489-e579bd1a53c4"
      },
      "execution_count": null,
      "outputs": [
        {
          "output_type": "stream",
          "name": "stdout",
          "text": [
            "17\n",
            "   hello  world  \n",
            "14\n",
            "hello  world  \n"
          ]
        }
      ]
    },
    {
      "cell_type": "code",
      "source": [
        "a = '   hello  world  '\n",
        "print(len(a)) #17\n",
        "print(a)\n",
        "b = a.rstrip() #오른쪽 공백 제거\n",
        "print(len(b))\n",
        "print(b) #15"
      ],
      "metadata": {
        "colab": {
          "base_uri": "https://localhost:8080/"
        },
        "id": "cbHqVU1U5VSy",
        "outputId": "f554a6f7-e81b-4215-9265-de22d438dbee"
      },
      "execution_count": null,
      "outputs": [
        {
          "output_type": "stream",
          "name": "stdout",
          "text": [
            "17\n",
            "   hello  world  \n",
            "15\n",
            "   hello  world\n"
          ]
        }
      ]
    },
    {
      "cell_type": "code",
      "source": [
        "a = '   hello  world  '\n",
        "print(len(a)) #17\n",
        "print(a)\n",
        "b = a.strip() #양쪽 공백 제거\n",
        "print(len(b))\n",
        "print(b) #12"
      ],
      "metadata": {
        "colab": {
          "base_uri": "https://localhost:8080/"
        },
        "id": "FzDV1eRJ5hkH",
        "outputId": "95d608a6-9e02-48b8-8214-e1c5e7becc41"
      },
      "execution_count": null,
      "outputs": [
        {
          "output_type": "stream",
          "name": "stdout",
          "text": [
            "17\n",
            "   hello  world  \n",
            "12\n",
            "hello  world\n"
          ]
        }
      ]
    },
    {
      "cell_type": "code",
      "source": [
        "a = 'Hello Python'\n",
        "print(a.replace('Python', '파이썬')) # 문자열 변경"
      ],
      "metadata": {
        "colab": {
          "base_uri": "https://localhost:8080/"
        },
        "id": "khbug3wK5hzf",
        "outputId": "91775011-7219-4ce2-cc5a-a81512103b8e"
      },
      "execution_count": null,
      "outputs": [
        {
          "output_type": "stream",
          "name": "stdout",
          "text": [
            "Hello 파이썬\n"
          ]
        }
      ]
    },
    {
      "cell_type": "code",
      "source": [
        "a = 'Red Green Blue'\n",
        "print(a.split())\n",
        "\n",
        "a = 'Red*Green*Blue'\n",
        "print(a.split('*'))\n",
        "\n",
        "a = 'Red**Green*Blue'\n",
        "print(a.split('*'))"
      ],
      "metadata": {
        "colab": {
          "base_uri": "https://localhost:8080/"
        },
        "id": "lJwBGYMb5h7X",
        "outputId": "299af511-a296-4d75-aa80-b1d56f85070f"
      },
      "execution_count": null,
      "outputs": [
        {
          "output_type": "stream",
          "name": "stdout",
          "text": [
            "['Red', 'Green', 'Blue']\n",
            "['Red', 'Green', 'Blue']\n",
            "['Red', '', 'Green', 'Blue']\n"
          ]
        }
      ]
    },
    {
      "cell_type": "markdown",
      "source": [
        "## 문제"
      ],
      "metadata": {
        "id": "hWoPHVVGyWn2"
      }
    },
    {
      "cell_type": "markdown",
      "source": [
        "문제1)\n",
        "S='Somewhere on the rainbow'를 'Somewhere over the rainbow'로 변환하세요."
      ],
      "metadata": {
        "id": "KF5zuup77zmr"
      }
    },
    {
      "cell_type": "code",
      "source": [
        "S='Somewhere on the rainbow'\n",
        "print(S.replace('on', 'over'))"
      ],
      "metadata": {
        "colab": {
          "base_uri": "https://localhost:8080/"
        },
        "id": "ogWlcLZk70bK",
        "outputId": "2ad7789c-79e0-4f6d-9cac-eeb20a33b337"
      },
      "execution_count": null,
      "outputs": [
        {
          "output_type": "stream",
          "name": "stdout",
          "text": [
            "Somewhere over the rainbow\n"
          ]
        }
      ]
    },
    {
      "cell_type": "code",
      "source": [
        "# 선생님 풀이\n",
        "S='Somewhere on the rainbow'\n",
        "print(dir(S))\n",
        "print(S.replace('on', 'over'))"
      ],
      "metadata": {
        "colab": {
          "base_uri": "https://localhost:8080/"
        },
        "id": "CYF-e76jQbTS",
        "outputId": "bfa231f0-2f86-4566-e0eb-8b9d2ee59c62"
      },
      "execution_count": null,
      "outputs": [
        {
          "output_type": "stream",
          "name": "stdout",
          "text": [
            "['__add__', '__class__', '__contains__', '__delattr__', '__dir__', '__doc__', '__eq__', '__format__', '__ge__', '__getattribute__', '__getitem__', '__getnewargs__', '__gt__', '__hash__', '__init__', '__init_subclass__', '__iter__', '__le__', '__len__', '__lt__', '__mod__', '__mul__', '__ne__', '__new__', '__reduce__', '__reduce_ex__', '__repr__', '__rmod__', '__rmul__', '__setattr__', '__sizeof__', '__str__', '__subclasshook__', 'capitalize', 'casefold', 'center', 'count', 'encode', 'endswith', 'expandtabs', 'find', 'format', 'format_map', 'index', 'isalnum', 'isalpha', 'isascii', 'isdecimal', 'isdigit', 'isidentifier', 'islower', 'isnumeric', 'isprintable', 'isspace', 'istitle', 'isupper', 'join', 'ljust', 'lower', 'lstrip', 'maketrans', 'partition', 'removeprefix', 'removesuffix', 'replace', 'rfind', 'rindex', 'rjust', 'rpartition', 'rsplit', 'rstrip', 'split', 'splitlines', 'startswith', 'strip', 'swapcase', 'title', 'translate', 'upper', 'zfill']\n",
            "Somewhere over the rainbow\n"
          ]
        }
      ]
    },
    {
      "cell_type": "markdown",
      "source": [
        "문제2)\n",
        "s = '/usr/local/bin/python' 에서 각각의 디렉토리 경로명을 분리하여 출력하세요.\n",
        "\n",
        "[실행결과] ['', 'usr', 'local', 'bin', 'python']"
      ],
      "metadata": {
        "id": "bqK5lRC-8GEb"
      }
    },
    {
      "cell_type": "code",
      "source": [
        "s = '/usr/local/bin/python'\n",
        "print(s.split('/'))"
      ],
      "metadata": {
        "colab": {
          "base_uri": "https://localhost:8080/"
        },
        "id": "PzoXnW0V8Dvz",
        "outputId": "1cd55888-a5db-4648-e41e-13df2a1158fd"
      },
      "execution_count": null,
      "outputs": [
        {
          "output_type": "execute_result",
          "data": {
            "text/plain": [
              "['', 'usr', 'local', 'bin', 'python']"
            ]
          },
          "metadata": {},
          "execution_count": 8
        }
      ]
    },
    {
      "cell_type": "code",
      "source": [
        "# 선생님 풀이\n",
        "s = '/usr/local/bin/python'\n",
        "s.split('/')"
      ],
      "metadata": {
        "colab": {
          "base_uri": "https://localhost:8080/"
        },
        "id": "Qpmj8tSuQpyw",
        "outputId": "df4c99c2-9d43-4afa-8980-b6183ece12b1"
      },
      "execution_count": null,
      "outputs": [
        {
          "output_type": "execute_result",
          "data": {
            "text/plain": [
              "['', 'usr', 'local', 'bin', 'python']"
            ]
          },
          "metadata": {},
          "execution_count": 13
        }
      ]
    },
    {
      "cell_type": "markdown",
      "source": [
        "문제3)\n",
        "'spam ham'을 'ham spam'으로 치환하세요.\n",
        "\n",
        "※문자열의 split( )과 join( )메서드 그리고 리스트의 reverse( )메서드를 사용"
      ],
      "metadata": {
        "id": "gBkVCDDP8JRL"
      }
    },
    {
      "cell_type": "code",
      "source": [
        "a =  'spam ham'\n",
        "b = a.split()\n",
        "\n",
        "b.reverse()\n",
        "print(b)\n",
        "\n",
        "print(' '.join(b))"
      ],
      "metadata": {
        "colab": {
          "base_uri": "https://localhost:8080/"
        },
        "id": "s7DzYI5e8KFz",
        "outputId": "ee976af0-74d3-483c-d6f3-2ede721792b2"
      },
      "execution_count": null,
      "outputs": [
        {
          "output_type": "stream",
          "name": "stdout",
          "text": [
            "['ham', 'spam']\n",
            "ham spam\n"
          ]
        }
      ]
    },
    {
      "cell_type": "code",
      "source": [
        "# 선생님 풀이\n",
        "a =  'spam ham'\n",
        "b = a.split(' ')\n",
        "print(b)\n",
        "\n",
        "b.reverse()\n",
        "print(b)\n",
        "\n",
        "c = ' '.join(b)\n",
        "print(c)\n",
        "\n",
        "# -----------------------------------\n",
        "we = a.split(' ')\n",
        "we.reverse()\n",
        "print(' '.join(we))"
      ],
      "metadata": {
        "colab": {
          "base_uri": "https://localhost:8080/"
        },
        "id": "aVq_eNp4RIe7",
        "outputId": "86b1cc1b-091a-4f2e-9060-544e4832aa64"
      },
      "execution_count": null,
      "outputs": [
        {
          "output_type": "stream",
          "name": "stdout",
          "text": [
            "['spam', 'ham']\n",
            "['ham', 'spam']\n",
            "ham spam\n",
            "ham spam\n"
          ]
        }
      ]
    },
    {
      "cell_type": "code",
      "source": [
        "# split()은 리턴값이 있어 b = a.split('') 표현 가능\n",
        "def process():\n",
        "  return 'data'\n",
        "\n",
        "print(process())\n",
        "\n",
        "# reverse()는 리턴값이 없어 c = b.reverse()로 표현 불가\n",
        "def display():\n",
        "   k='data'\n",
        "\n",
        "print(display())"
      ],
      "metadata": {
        "colab": {
          "base_uri": "https://localhost:8080/"
        },
        "id": "A7txehDLSuv4",
        "outputId": "0a87e38d-2f1e-4d74-e47b-97126ccf078a"
      },
      "execution_count": null,
      "outputs": [
        {
          "output_type": "stream",
          "name": "stdout",
          "text": [
            "data\n",
            "None\n"
          ]
        }
      ]
    },
    {
      "cell_type": "markdown",
      "source": [
        "문제4)\n",
        "문자열이 주어져 있을 때 'spam' 이 몇 번 나타나는지 구하시오.\n",
        "단, 대소문자 구분하지 않음\n",
        "\n",
        "s = 'spam Spam SpaM egg eGG Egg ham hAm'"
      ],
      "metadata": {
        "id": "_fjqZJtD8KXT"
      }
    },
    {
      "cell_type": "code",
      "source": [
        "s = 'spam Spam SpaM egg eGG Egg ham hAm'\n",
        "S = s.lower()\n",
        "S.count('spam')"
      ],
      "metadata": {
        "colab": {
          "base_uri": "https://localhost:8080/"
        },
        "id": "RfB2qavt8NEF",
        "outputId": "b9d86ab7-a1f4-4685-fcbc-d110c7699fd1"
      },
      "execution_count": null,
      "outputs": [
        {
          "output_type": "execute_result",
          "data": {
            "text/plain": [
              "3"
            ]
          },
          "metadata": {},
          "execution_count": 45
        }
      ]
    },
    {
      "cell_type": "code",
      "source": [
        "# 선생님 풀이\n",
        "s = 'spam Spam SpaM egg eGG Egg ham hAm'\n",
        "s.lower().count('spam')"
      ],
      "metadata": {
        "colab": {
          "base_uri": "https://localhost:8080/"
        },
        "id": "wYOns7opVnJp",
        "outputId": "ad4d7582-2291-40ba-e0b9-d83e3571b992"
      },
      "execution_count": null,
      "outputs": [
        {
          "output_type": "execute_result",
          "data": {
            "text/plain": [
              "3"
            ]
          },
          "metadata": {},
          "execution_count": 28
        }
      ]
    },
    {
      "cell_type": "markdown",
      "source": [
        "문제5)\n",
        "단어의 순서가 바뀐 문자열로 만들세요.  \n",
        "s = 'Sometimes I feel like a motherless child'\n",
        "\n",
        "[실행결과]  \n",
        "'child motherless a like feel I Sometimes'  \n",
        "'dlihc sselrehtom a ekil leef I semitemoS'  \n",
        "'SometimesIfeellikeamotherlesschild'"
      ],
      "metadata": {
        "id": "CGOVIASj8NXr"
      }
    },
    {
      "cell_type": "code",
      "source": [
        "# 단어의 순서 바꾸기\n",
        "s = 'Sometimes I feel like a motherless child'\n",
        "b = s.split()\n",
        "\n",
        "b.reverse()\n",
        "print(b)\n",
        "\n",
        "print(' '.join(b))"
      ],
      "metadata": {
        "colab": {
          "base_uri": "https://localhost:8080/"
        },
        "id": "QFSntMFQ5etK",
        "outputId": "34db1a69-01dd-46f9-ad94-237ae0d39dd6"
      },
      "execution_count": null,
      "outputs": [
        {
          "output_type": "stream",
          "name": "stdout",
          "text": [
            "['child', 'motherless', 'a', 'like', 'feel', 'I', 'Sometimes']\n",
            "child motherless a like feel I Sometimes\n"
          ]
        }
      ]
    },
    {
      "cell_type": "code",
      "source": [
        "# 문자열의 숫자 뒤집기\n",
        "s = 'Sometimes I feel like a motherless child'\n",
        "s_val = s\n",
        "s_val[::-1]"
      ],
      "metadata": {
        "colab": {
          "base_uri": "https://localhost:8080/",
          "height": 35
        },
        "id": "9S7NHrkhP4GF",
        "outputId": "7d72a3ae-c824-45d7-b2b5-7aa6792316d4"
      },
      "execution_count": null,
      "outputs": [
        {
          "output_type": "execute_result",
          "data": {
            "text/plain": [
              "'dlihc sselrehtom a ekil leef I semitemoS'"
            ],
            "application/vnd.google.colaboratory.intrinsic+json": {
              "type": "string"
            }
          },
          "metadata": {},
          "execution_count": 3
        }
      ]
    },
    {
      "cell_type": "code",
      "source": [
        "# 공백 없애기\n",
        "s = 'Sometimes I feel like a motherless child'\n"
      ],
      "metadata": {
        "id": "dIc2DmwFQJ7I"
      },
      "execution_count": null,
      "outputs": []
    },
    {
      "cell_type": "code",
      "source": [
        "# 선생님 풀이 - 단어 순서\n",
        "# 단어의 순서 바꾸기\n",
        "s = 'Sometimes I feel like a motherless child'\n",
        "b = s.split()\n",
        "\n",
        "b.reverse()\n",
        "\n",
        "' '.join(b)"
      ],
      "metadata": {
        "colab": {
          "base_uri": "https://localhost:8080/",
          "height": 35
        },
        "id": "O79XJVPbW3RZ",
        "outputId": "4067875d-b303-4604-e22f-2cabcfcaa7b6"
      },
      "execution_count": null,
      "outputs": [
        {
          "output_type": "execute_result",
          "data": {
            "text/plain": [
              "'child motherless a like feel I Sometimes'"
            ],
            "application/vnd.google.colaboratory.intrinsic+json": {
              "type": "string"
            }
          },
          "metadata": {},
          "execution_count": 30
        }
      ]
    },
    {
      "cell_type": "code",
      "source": [
        "# 선생님 풀이 - 문자열의 숫자 뒤집기\n",
        "s = 'Sometimes I feel like a motherless child'\n",
        "s[::-1]"
      ],
      "metadata": {
        "colab": {
          "base_uri": "https://localhost:8080/",
          "height": 35
        },
        "id": "GAefuOT9W3Ve",
        "outputId": "cf0acb9c-d85f-4147-91e3-05986f394ae8"
      },
      "execution_count": null,
      "outputs": [
        {
          "output_type": "execute_result",
          "data": {
            "text/plain": [
              "'dlihc sselrehtom a ekil leef I semitemoS'"
            ],
            "application/vnd.google.colaboratory.intrinsic+json": {
              "type": "string"
            }
          },
          "metadata": {},
          "execution_count": 31
        }
      ]
    },
    {
      "cell_type": "code",
      "source": [
        "# 선생님 - 풀이 공백 없애기\n",
        "s = 'Sometimes I feel like a motherless child'\n",
        "p = s.split()\n",
        "''.join(p)\n",
        "\n",
        "#----------------------------\n",
        "s = 'Sometimes I feel like a motherless child'\n",
        "s.replace(' ','')"
      ],
      "metadata": {
        "colab": {
          "base_uri": "https://localhost:8080/"
        },
        "id": "8Za1MzUtW3af",
        "outputId": "2821d49a-c9f1-4d1d-8d95-4b330e072510"
      },
      "execution_count": null,
      "outputs": [
        {
          "output_type": "stream",
          "name": "stdout",
          "text": [
            "SometimesIfeellikeamotherlesschild\n"
          ]
        }
      ]
    },
    {
      "cell_type": "markdown",
      "source": [
        "## 리스트(list)\n",
        " - 시퀀스(Sequence) 자료형으로 데이터의 크기나 원소값을 변경할 수 있다.\n",
        " - 리스트는 [ ] 대괄호로 표현한다"
      ],
      "metadata": {
        "id": "j7wg5v9ZY1g6"
      }
    },
    {
      "cell_type": "code",
      "source": [
        "a = []\n",
        "print(a)\n",
        "print(type(a))\n",
        "print(dir(a))"
      ],
      "metadata": {
        "colab": {
          "base_uri": "https://localhost:8080/"
        },
        "id": "n5-871zRZXhK",
        "outputId": "f6a10a99-078d-49d8-87fb-2a7461f8937f"
      },
      "execution_count": null,
      "outputs": [
        {
          "output_type": "stream",
          "name": "stdout",
          "text": [
            "[]\n",
            "<class 'list'>\n",
            "['__add__', '__class__', '__class_getitem__', '__contains__', '__delattr__', '__delitem__', '__dir__', '__doc__', '__eq__', '__format__', '__ge__', '__getattribute__', '__getitem__', '__gt__', '__hash__', '__iadd__', '__imul__', '__init__', '__init_subclass__', '__iter__', '__le__', '__len__', '__lt__', '__mul__', '__ne__', '__new__', '__reduce__', '__reduce_ex__', '__repr__', '__reversed__', '__rmul__', '__setattr__', '__setitem__', '__sizeof__', '__str__', '__subclasshook__', 'append', 'clear', 'copy', 'count', 'extend', 'index', 'insert', 'pop', 'remove', 'reverse', 'sort']\n"
          ]
        }
      ]
    },
    {
      "cell_type": "markdown",
      "source": [
        "java\n",
        "\n",
        "```java\n",
        "class Test{\n",
        "  public static void main(String[] args){\n",
        "    int[] arr = nwe ont{1,2,3};\n",
        "  }\n",
        "  ```"
      ],
      "metadata": {
        "id": "m9pEWNpxaCTO"
      }
    },
    {
      "cell_type": "markdown",
      "source": [
        "javascript\n",
        "\n",
        "```javasacript\n",
        "   let color = ['red', 'green', 'blue']\n",
        "```"
      ],
      "metadata": {
        "id": "lwjddeziaYKu"
      }
    },
    {
      "cell_type": "code",
      "source": [
        "a = [10, 20, 30]\n",
        "a"
      ],
      "metadata": {
        "colab": {
          "base_uri": "https://localhost:8080/"
        },
        "id": "pW8kFImsauW1",
        "outputId": "5e497d15-7c8b-4a49-acc6-105e9622dbf6"
      },
      "execution_count": null,
      "outputs": [
        {
          "output_type": "execute_result",
          "data": {
            "text/plain": [
              "[10, 20, 30]"
            ]
          },
          "metadata": {},
          "execution_count": 36
        }
      ]
    },
    {
      "cell_type": "code",
      "source": [
        "# indexing\n",
        "a[0]"
      ],
      "metadata": {
        "colab": {
          "base_uri": "https://localhost:8080/"
        },
        "id": "Zj9o5yQMfN99",
        "outputId": "b85d892e-3db2-45f0-ff0e-12aed69a76e6"
      },
      "execution_count": null,
      "outputs": [
        {
          "output_type": "execute_result",
          "data": {
            "text/plain": [
              "10"
            ]
          },
          "metadata": {},
          "execution_count": 38
        }
      ]
    },
    {
      "cell_type": "code",
      "source": [
        "# slicing\n",
        "a[0:]"
      ],
      "metadata": {
        "colab": {
          "base_uri": "https://localhost:8080/"
        },
        "id": "EO1c5EkSfVTO",
        "outputId": "dabc29e1-ec1b-42b0-a807-90410141d9cf"
      },
      "execution_count": null,
      "outputs": [
        {
          "output_type": "execute_result",
          "data": {
            "text/plain": [
              "[10, 20, 30]"
            ]
          },
          "metadata": {},
          "execution_count": 39
        }
      ]
    },
    {
      "cell_type": "code",
      "source": [
        "a[::-1]"
      ],
      "metadata": {
        "colab": {
          "base_uri": "https://localhost:8080/"
        },
        "id": "wJZgMPWEfhNV",
        "outputId": "64b28641-0731-4479-f8d1-44c4237988c2"
      },
      "execution_count": null,
      "outputs": [
        {
          "output_type": "execute_result",
          "data": {
            "text/plain": [
              "[30, 20, 10]"
            ]
          },
          "metadata": {},
          "execution_count": 40
        }
      ]
    },
    {
      "cell_type": "code",
      "source": [
        "a[0:2:1]"
      ],
      "metadata": {
        "colab": {
          "base_uri": "https://localhost:8080/"
        },
        "id": "3t4d15Xyfjyl",
        "outputId": "f20aa1e5-35e3-4465-b3e3-95f73ac4a0b9"
      },
      "execution_count": null,
      "outputs": [
        {
          "output_type": "execute_result",
          "data": {
            "text/plain": [
              "[10, 20]"
            ]
          },
          "metadata": {},
          "execution_count": 41
        }
      ]
    },
    {
      "cell_type": "code",
      "source": [
        "a[-3:-1:1]"
      ],
      "metadata": {
        "colab": {
          "base_uri": "https://localhost:8080/"
        },
        "id": "IsRaws-sf7Hm",
        "outputId": "cd51063f-0feb-4c0f-cca8-9fd2d91c7842"
      },
      "execution_count": null,
      "outputs": [
        {
          "output_type": "execute_result",
          "data": {
            "text/plain": [
              "[10, 20]"
            ]
          },
          "metadata": {},
          "execution_count": 43
        }
      ]
    },
    {
      "cell_type": "code",
      "source": [
        "a[-1:-3:-1]"
      ],
      "metadata": {
        "colab": {
          "base_uri": "https://localhost:8080/"
        },
        "id": "uwBGjjOOf_3V",
        "outputId": "25145b9f-9cc1-4e06-9593-020509575664"
      },
      "execution_count": null,
      "outputs": [
        {
          "output_type": "execute_result",
          "data": {
            "text/plain": [
              "[30, 20]"
            ]
          },
          "metadata": {},
          "execution_count": 45
        }
      ]
    },
    {
      "cell_type": "code",
      "source": [
        "a = [5, 10, 15, 20, 25, 30]"
      ],
      "metadata": {
        "id": "Gh_EbPVYhGBV"
      },
      "execution_count": null,
      "outputs": []
    },
    {
      "cell_type": "code",
      "source": [
        "a[3:]"
      ],
      "metadata": {
        "colab": {
          "base_uri": "https://localhost:8080/"
        },
        "id": "b8JLdA2ChLSN",
        "outputId": "9268c4fe-687b-49bc-8d48-7e9a813d821e"
      },
      "execution_count": null,
      "outputs": [
        {
          "output_type": "execute_result",
          "data": {
            "text/plain": [
              "[20, 25, 30]"
            ]
          },
          "metadata": {},
          "execution_count": 47
        }
      ]
    },
    {
      "cell_type": "code",
      "source": [
        "a[:3]"
      ],
      "metadata": {
        "colab": {
          "base_uri": "https://localhost:8080/"
        },
        "id": "4uF4lbCghO-l",
        "outputId": "f7770ff6-7f47-4585-892b-b643d4fa1b60"
      },
      "execution_count": null,
      "outputs": [
        {
          "output_type": "execute_result",
          "data": {
            "text/plain": [
              "[5, 10, 15]"
            ]
          },
          "metadata": {},
          "execution_count": 48
        }
      ]
    },
    {
      "cell_type": "code",
      "source": [
        "a[3::2]"
      ],
      "metadata": {
        "colab": {
          "base_uri": "https://localhost:8080/"
        },
        "id": "y_3o54axaUR2",
        "outputId": "c4434b1d-2d14-4c1e-ce3f-9ac3222e6d07"
      },
      "execution_count": null,
      "outputs": [
        {
          "output_type": "execute_result",
          "data": {
            "text/plain": [
              "[20, 30]"
            ]
          },
          "metadata": {},
          "execution_count": 51
        }
      ]
    },
    {
      "cell_type": "code",
      "source": [
        "a[:3:2]"
      ],
      "metadata": {
        "colab": {
          "base_uri": "https://localhost:8080/"
        },
        "id": "BUKA98dVhei0",
        "outputId": "fada9400-dbf7-4daa-fdff-c4fcb9534373"
      },
      "execution_count": null,
      "outputs": [
        {
          "output_type": "execute_result",
          "data": {
            "text/plain": [
              "[5, 15]"
            ]
          },
          "metadata": {},
          "execution_count": 54
        }
      ]
    },
    {
      "cell_type": "code",
      "source": [
        "a[2:0:-1]"
      ],
      "metadata": {
        "colab": {
          "base_uri": "https://localhost:8080/"
        },
        "id": "o8OOjYp_hiys",
        "outputId": "8179a9a8-fce9-4f8f-ae39-09d494e4bde1"
      },
      "execution_count": null,
      "outputs": [
        {
          "output_type": "execute_result",
          "data": {
            "text/plain": [
              "[15, 10]"
            ]
          },
          "metadata": {},
          "execution_count": 55
        }
      ]
    },
    {
      "cell_type": "markdown",
      "source": [
        "## list는 다양한 타입을 함께 포함할 수 있다."
      ],
      "metadata": {
        "id": "0l4ZsYdSiEdW"
      }
    },
    {
      "cell_type": "code",
      "source": [
        "a = [10, 'python', 80.5, True]\n",
        "a"
      ],
      "metadata": {
        "id": "PEwNl4JxiJED"
      },
      "execution_count": null,
      "outputs": []
    },
    {
      "cell_type": "code",
      "source": [
        "a = [[10, 20], (1,2,3), {100, 200},{'x':5, 'y':8}] #[list, tuple, set, dict]\n",
        "a"
      ],
      "metadata": {
        "colab": {
          "base_uri": "https://localhost:8080/"
        },
        "id": "rKL1cZG6iSbE",
        "outputId": "4568229c-2a60-4fc7-f68e-a0762656f1c2"
      },
      "execution_count": null,
      "outputs": [
        {
          "output_type": "execute_result",
          "data": {
            "text/plain": [
              "[[10, 20], (1, 2, 3), {100, 200}, {'x': 5, 'y': 8}]"
            ]
          },
          "metadata": {},
          "execution_count": 60
        }
      ]
    },
    {
      "cell_type": "markdown",
      "source": [
        "### list는 (+) 연산자를 사용하여 연결하기를 할 수 있다"
      ],
      "metadata": {
        "id": "_OvkeB1DjJNI"
      }
    },
    {
      "cell_type": "code",
      "source": [
        "a = [1, 2]\n",
        "a + a"
      ],
      "metadata": {
        "colab": {
          "base_uri": "https://localhost:8080/"
        },
        "id": "WVqqdq5ghi80",
        "outputId": "bb09d1cb-dff6-4c89-d03b-b5e9afb149c4"
      },
      "execution_count": null,
      "outputs": [
        {
          "output_type": "execute_result",
          "data": {
            "text/plain": [
              "[1, 2, 1, 2]"
            ]
          },
          "metadata": {},
          "execution_count": 64
        }
      ]
    },
    {
      "cell_type": "code",
      "source": [
        "a + 2"
      ],
      "metadata": {
        "colab": {
          "base_uri": "https://localhost:8080/",
          "height": 184
        },
        "id": "PWOVbAh9j5S0",
        "outputId": "d0670658-3c7f-4382-e129-54019e84a1bd"
      },
      "execution_count": null,
      "outputs": [
        {
          "output_type": "error",
          "ename": "TypeError",
          "evalue": "ignored",
          "traceback": [
            "\u001b[0;31m---------------------------------------------------------------------------\u001b[0m",
            "\u001b[0;31mTypeError\u001b[0m                                 Traceback (most recent call last)",
            "\u001b[0;32m<ipython-input-65-ead3c2111b4d>\u001b[0m in \u001b[0;36m<cell line: 1>\u001b[0;34m()\u001b[0m\n\u001b[0;32m----> 1\u001b[0;31m \u001b[0ma\u001b[0m \u001b[0;34m+\u001b[0m \u001b[0;36m2\u001b[0m\u001b[0;34m\u001b[0m\u001b[0;34m\u001b[0m\u001b[0m\n\u001b[0m",
            "\u001b[0;31mTypeError\u001b[0m: can only concatenate list (not \"int\") to list"
          ]
        }
      ]
    },
    {
      "cell_type": "markdown",
      "source": [
        "## list는 (*) 연사자를 사용하여 반복하기를 할 수 있다"
      ],
      "metadata": {
        "id": "QjjAMCFrjstk"
      }
    },
    {
      "cell_type": "code",
      "source": [
        "a*2"
      ],
      "metadata": {
        "colab": {
          "base_uri": "https://localhost:8080/"
        },
        "id": "W0Xezzh9hjGe",
        "outputId": "d9a0dc87-48e6-4719-859f-43733766046b"
      },
      "execution_count": null,
      "outputs": [
        {
          "output_type": "execute_result",
          "data": {
            "text/plain": [
              "[1, 2, 1, 2]"
            ]
          },
          "metadata": {},
          "execution_count": 66
        }
      ]
    },
    {
      "cell_type": "markdown",
      "source": [
        "## list에서 특정값이 있는지 멤버 검사를 할 수 있다"
      ],
      "metadata": {
        "id": "ZuI4iG7Uj88v"
      }
    },
    {
      "cell_type": "code",
      "source": [
        "a = [1, 5, 8, 10]\n",
        "print(5 in a)\n",
        "print(3 in a)"
      ],
      "metadata": {
        "colab": {
          "base_uri": "https://localhost:8080/"
        },
        "id": "nBqcemg_j269",
        "outputId": "fc2d0313-bcdc-4f7d-ceef-1f9896a766b1"
      },
      "execution_count": null,
      "outputs": [
        {
          "output_type": "stream",
          "name": "stdout",
          "text": [
            "True\n",
            "False\n"
          ]
        }
      ]
    },
    {
      "cell_type": "markdown",
      "source": [
        "## list는 matable이므로 요소들을 변경할 수 있다"
      ],
      "metadata": {
        "id": "AaQdx-DvkgIf"
      }
    },
    {
      "cell_type": "code",
      "source": [
        "a = ['apple', 'banana', 100, 200]\n",
        "print(a)\n",
        "\n",
        "a[0]=1\n",
        "a[1]=2\n",
        "a[0:2] = [1,2] #지정한 범위의 요소를 [1,2]로 변경한다\n",
        "print(a)"
      ],
      "metadata": {
        "id": "4RkHU9ovkqVs"
      },
      "execution_count": null,
      "outputs": []
    },
    {
      "cell_type": "code",
      "source": [
        "a = ['apple', 'banana', 100, 200]\n",
        "a[0:2] = [50] # 0 부터 2미만의 값을 50으로 변경한다. 크기가 달라진다\n",
        "print(a)"
      ],
      "metadata": {
        "colab": {
          "base_uri": "https://localhost:8080/"
        },
        "id": "OB_bcn1qkqeU",
        "outputId": "f0ae4cdf-8b48-41f3-ac6a-76aab2ac739e"
      },
      "execution_count": null,
      "outputs": [
        {
          "output_type": "stream",
          "name": "stdout",
          "text": [
            "[50, 100, 200]\n"
          ]
        }
      ]
    },
    {
      "cell_type": "code",
      "source": [
        "a = ['apple', 'banana', 100, 200]\n",
        "a[0:1] = [300, 400, 500]\n",
        "print(a)\n",
        "\n",
        "#[[300, 400, 500], 'banana', 100, 200] 이렇게 나오는거 아님, 헷갈리지 않게 주의"
      ],
      "metadata": {
        "colab": {
          "base_uri": "https://localhost:8080/"
        },
        "id": "rQiuRSzalTn0",
        "outputId": "5d1f0710-6812-427a-be7b-48f7c0f3c3b7"
      },
      "execution_count": null,
      "outputs": [
        {
          "output_type": "stream",
          "name": "stdout",
          "text": [
            "[300, 400, 500, 'banana', 100, 200]\n"
          ]
        }
      ]
    },
    {
      "cell_type": "markdown",
      "source": [
        "## list의 일부 요소를 삭제할 수 있다"
      ],
      "metadata": {
        "id": "zHydI9ZU1ppm"
      }
    },
    {
      "cell_type": "code",
      "source": [
        "a = ['apple', 'banana', 100, 200]\n",
        "a[0:2] = [] # 0부터 2미만까지의 요소가 삭제된다\n",
        "print(a)\n"
      ],
      "metadata": {
        "colab": {
          "base_uri": "https://localhost:8080/"
        },
        "id": "CHBOq5ehkqhk",
        "outputId": "8887245b-0f50-4769-da71-c82e4861ce59"
      },
      "execution_count": null,
      "outputs": [
        {
          "output_type": "stream",
          "name": "stdout",
          "text": [
            "[100, 200]\n"
          ]
        }
      ]
    },
    {
      "cell_type": "code",
      "source": [
        "a = ['apple', 'banana', 100, 200]\n",
        "print(a)\n",
        "\n",
        "del a[0:2] #del을 이용해서 요소르 ㄹ삭제할 수 있다\n",
        "print(a)"
      ],
      "metadata": {
        "colab": {
          "base_uri": "https://localhost:8080/"
        },
        "id": "MIbEQrtcnMhU",
        "outputId": "63710878-b5a8-497e-8a98-2881939fc9f1"
      },
      "execution_count": null,
      "outputs": [
        {
          "output_type": "stream",
          "name": "stdout",
          "text": [
            "['apple', 'banana', 100, 200]\n",
            "[100, 200]\n"
          ]
        }
      ]
    },
    {
      "cell_type": "markdown",
      "source": [
        "## list에 요소를 추가할 수 있다."
      ],
      "metadata": {
        "id": "hWjoQCZPcJBL"
      }
    },
    {
      "cell_type": "code",
      "source": [
        "a = [3, 6, 9]\n",
        "print(a)\n",
        "\n",
        "a[1:1]=['red', 'green'] #슬라이싱[start:end:step]\n",
        "print(a)"
      ],
      "metadata": {
        "colab": {
          "base_uri": "https://localhost:8080/"
        },
        "id": "CidTP7-bcHX5",
        "outputId": "65302070-e082-4b7c-8b0a-dc601ac24464"
      },
      "execution_count": null,
      "outputs": [
        {
          "output_type": "stream",
          "name": "stdout",
          "text": [
            "[3, 6, 9]\n",
            "[3, 'red', 'green', 6, 9]\n"
          ]
        }
      ]
    },
    {
      "cell_type": "code",
      "source": [
        "a = [3, 6, 9]\n",
        "print(a)\n",
        "\n",
        "a[1]=['red', 'green'] #indexing [index]\n",
        "print(a)"
      ],
      "metadata": {
        "colab": {
          "base_uri": "https://localhost:8080/"
        },
        "id": "LYU-LcFQnb7s",
        "outputId": "3e96bf74-e655-4c3e-98aa-cdf4825fb030"
      },
      "execution_count": null,
      "outputs": [
        {
          "output_type": "stream",
          "name": "stdout",
          "text": [
            "[3, 6, 9]\n",
            "[3, ['red', 'green'], 9]\n"
          ]
        }
      ]
    },
    {
      "cell_type": "markdown",
      "source": [
        "list에서 확장슬라이싱을 사용할 때는 왼쪽과 오른쪽 요소 갯수가 같아야 한다"
      ],
      "metadata": {
        "id": "sl4HIAZPc14-"
      }
    },
    {
      "cell_type": "code",
      "source": [
        "a = [2, 4, 6, 8]\n",
        "print(a)\n",
        "\n",
        "a[:] = [-1, -2, -3, -4]\n",
        "print(a)\n",
        "\n",
        "a[:] = [-1, -2]\n",
        "print(a)"
      ],
      "metadata": {
        "colab": {
          "base_uri": "https://localhost:8080/"
        },
        "id": "TvrAI_xGcyBJ",
        "outputId": "78e5a6b9-3e00-432f-f2f7-0b6788f353ac"
      },
      "execution_count": null,
      "outputs": [
        {
          "output_type": "stream",
          "name": "stdout",
          "text": [
            "[2, 4, 6, 8]\n",
            "[-1, -2, -3, -4]\n",
            "[-1, -2]\n"
          ]
        }
      ]
    },
    {
      "cell_type": "code",
      "source": [
        "a = [2, 4, 6, 8]\n",
        "print(a)\n",
        "\n",
        "a[::1] = [-1, -2, -3, -4]\n",
        "print(a)\n",
        "\n",
        "a[::2] = [-1, -2, -3, -4]\n",
        "print(a)"
      ],
      "metadata": {
        "colab": {
          "base_uri": "https://localhost:8080/",
          "height": 276
        },
        "id": "KHUnwlaJdSmY",
        "outputId": "a3021184-c276-42c3-9886-d75565a012ae"
      },
      "execution_count": null,
      "outputs": [
        {
          "output_type": "stream",
          "name": "stdout",
          "text": [
            "[2, 4, 6, 8]\n",
            "[-1, -2, -3, -4]\n"
          ]
        },
        {
          "output_type": "error",
          "ename": "ValueError",
          "evalue": "ignored",
          "traceback": [
            "\u001b[0;31m---------------------------------------------------------------------------\u001b[0m",
            "\u001b[0;31mValueError\u001b[0m                                Traceback (most recent call last)",
            "\u001b[0;32m<ipython-input-8-53af2e5a982a>\u001b[0m in \u001b[0;36m<cell line: 7>\u001b[0;34m()\u001b[0m\n\u001b[1;32m      5\u001b[0m \u001b[0mprint\u001b[0m\u001b[0;34m(\u001b[0m\u001b[0ma\u001b[0m\u001b[0;34m)\u001b[0m\u001b[0;34m\u001b[0m\u001b[0;34m\u001b[0m\u001b[0m\n\u001b[1;32m      6\u001b[0m \u001b[0;34m\u001b[0m\u001b[0m\n\u001b[0;32m----> 7\u001b[0;31m \u001b[0ma\u001b[0m\u001b[0;34m[\u001b[0m\u001b[0;34m:\u001b[0m\u001b[0;34m:\u001b[0m\u001b[0;36m2\u001b[0m\u001b[0;34m]\u001b[0m \u001b[0;34m=\u001b[0m \u001b[0;34m[\u001b[0m\u001b[0;34m-\u001b[0m\u001b[0;36m1\u001b[0m\u001b[0;34m,\u001b[0m \u001b[0;34m-\u001b[0m\u001b[0;36m2\u001b[0m\u001b[0;34m,\u001b[0m \u001b[0;34m-\u001b[0m\u001b[0;36m3\u001b[0m\u001b[0;34m,\u001b[0m \u001b[0;34m-\u001b[0m\u001b[0;36m4\u001b[0m\u001b[0;34m]\u001b[0m\u001b[0;34m\u001b[0m\u001b[0;34m\u001b[0m\u001b[0m\n\u001b[0m\u001b[1;32m      8\u001b[0m \u001b[0mprint\u001b[0m\u001b[0;34m(\u001b[0m\u001b[0ma\u001b[0m\u001b[0;34m)\u001b[0m\u001b[0;34m\u001b[0m\u001b[0;34m\u001b[0m\u001b[0m\n",
            "\u001b[0;31mValueError\u001b[0m: attempt to assign sequence of size 4 to extended slice of size 2"
          ]
        }
      ]
    },
    {
      "cell_type": "code",
      "source": [
        "a=[2,4,6,8]\n",
        "print(a)\n",
        "\n",
        "a[::2]=[-1,-2] # [2,6] 저장된 자리에 [-1,-2] 요소를 대체한다.\n",
        "print(a)"
      ],
      "metadata": {
        "colab": {
          "base_uri": "https://localhost:8080/"
        },
        "id": "QnlmIXgwehXA",
        "outputId": "a6356de8-e0f8-4640-9357-e6b9e5e0b44d"
      },
      "execution_count": null,
      "outputs": [
        {
          "output_type": "stream",
          "name": "stdout",
          "text": [
            "[2, 4, 6, 8]\n",
            "[-1, 4, -2, 8]\n"
          ]
        }
      ]
    },
    {
      "cell_type": "markdown",
      "source": [
        "## list는 한 변수에 데이터를 각각 꺼내 오는 언팩킹(unpacking) 지원을 한다"
      ],
      "metadata": {
        "id": "gzCil1nD28ad"
      }
    },
    {
      "cell_type": "code",
      "source": [
        "fruits=['apple','mango','grape','banana']\n",
        "a=fruits[0]\n",
        "b=fruits[1]\n",
        "c=fruits[2]\n",
        "d=fruits[3]\n",
        "print(a,b,c,d)\n",
        "\n",
        "# unpacking으로 데이터로 가져올 때 변수 선언을 해줘야 함\n",
        "[zero,one,two, three]=fruits #괄호 유무는 상관 없음\n",
        "print(zero,one,two, three)\n",
        "print(type(zero),type(one),type(two),type(three))"
      ],
      "metadata": {
        "colab": {
          "base_uri": "https://localhost:8080/"
        },
        "id": "KcDuaZn8dSpg",
        "outputId": "5ba1d0f2-5b73-4924-b172-f5eb8183eb2a"
      },
      "execution_count": null,
      "outputs": [
        {
          "output_type": "stream",
          "name": "stdout",
          "text": [
            "apple mango grape banana\n",
            "apple mango grape banana\n",
            "<class 'str'> <class 'str'> <class 'str'> <class 'str'>\n"
          ]
        }
      ]
    },
    {
      "cell_type": "code",
      "source": [
        "fruits=['apple','mango','grape','banana']\n",
        "print(fruits)\n",
        "\n",
        "x,_,_,_=fruits\n",
        "print(x)"
      ],
      "metadata": {
        "colab": {
          "base_uri": "https://localhost:8080/"
        },
        "id": "7fTd8AhJ3gil",
        "outputId": "fa7dae99-d6c1-4c01-a7c8-40c0e0be1be6"
      },
      "execution_count": null,
      "outputs": [
        {
          "output_type": "stream",
          "name": "stdout",
          "text": [
            "['apple', 'mango', 'grape', 'banana']\n",
            "apple\n"
          ]
        }
      ]
    },
    {
      "cell_type": "code",
      "source": [
        "fruits=['apple','mango','grape','banana']\n",
        "print(fruits)\n",
        "\n",
        "x,*y=fruits # (*)는 모든을 의미, 하나만 입력해야 하며 사용하는 위치는 상관없음\n",
        "print(x)\n",
        "print(y)\n",
        "print(type(x),type(y))"
      ],
      "metadata": {
        "colab": {
          "base_uri": "https://localhost:8080/"
        },
        "id": "TgLP7tEe3glM",
        "outputId": "4bc494fc-b783-4bdc-c2ac-771b0a30847c"
      },
      "execution_count": null,
      "outputs": [
        {
          "output_type": "stream",
          "name": "stdout",
          "text": [
            "['apple', 'mango', 'grape', 'banana']\n",
            "apple\n",
            "['mango', 'grape', 'banana']\n",
            "<class 'str'> <class 'list'>\n"
          ]
        }
      ]
    },
    {
      "cell_type": "code",
      "source": [
        "*x,y=fruits\n",
        "print(x)\n",
        "print(y)"
      ],
      "metadata": {
        "colab": {
          "base_uri": "https://localhost:8080/"
        },
        "id": "CZ-0glvz3gns",
        "outputId": "61ef21c2-4716-43bf-d94c-958f30732e3c"
      },
      "execution_count": null,
      "outputs": [
        {
          "output_type": "stream",
          "name": "stdout",
          "text": [
            "['apple', 'mango', 'grape']\n",
            "banana\n"
          ]
        }
      ]
    },
    {
      "cell_type": "code",
      "source": [
        "x,*y,z=fruits\n",
        "print(x)\n",
        "print(y)\n",
        "print(z)"
      ],
      "metadata": {
        "colab": {
          "base_uri": "https://localhost:8080/"
        },
        "id": "tf8_6QJ-3gqE",
        "outputId": "646e05fe-695d-4743-9cfd-38d76bbdeeb4"
      },
      "execution_count": null,
      "outputs": [
        {
          "output_type": "stream",
          "name": "stdout",
          "text": [
            "apple\n",
            "['mango', 'grape']\n",
            "banana\n"
          ]
        }
      ]
    },
    {
      "cell_type": "markdown",
      "source": [
        "### function  \n",
        "ex) len(a)\n",
        "\n",
        "### method  \n",
        "ex) a.append(e) -> 앞에 객체가 붙는 것\n",
        " -> 파이썬은 function과 method를 정확하게 구분하지 않고 사용"
      ],
      "metadata": {
        "id": "jg3wYhZW337u"
      }
    },
    {
      "cell_type": "markdown",
      "source": [
        "## list에서 제공하는 method"
      ],
      "metadata": {
        "id": "j7f6A2xR4V-2"
      }
    },
    {
      "cell_type": "code",
      "source": [
        "a=[1,2,3]\n",
        "print(type(a))\n",
        "print(dir(a))"
      ],
      "metadata": {
        "colab": {
          "base_uri": "https://localhost:8080/"
        },
        "id": "PntXLrvF3gsn",
        "outputId": "2f77c017-3ecf-4a1f-9c56-da6c0f3d2c15"
      },
      "execution_count": null,
      "outputs": [
        {
          "output_type": "stream",
          "name": "stdout",
          "text": [
            "<class 'list'>\n",
            "['__add__', '__class__', '__class_getitem__', '__contains__', '__delattr__', '__delitem__', '__dir__', '__doc__', '__eq__', '__format__', '__ge__', '__getattribute__', '__getitem__', '__gt__', '__hash__', '__iadd__', '__imul__', '__init__', '__init_subclass__', '__iter__', '__le__', '__len__', '__lt__', '__mul__', '__ne__', '__new__', '__reduce__', '__reduce_ex__', '__repr__', '__reversed__', '__rmul__', '__setattr__', '__setitem__', '__sizeof__', '__str__', '__subclasshook__', 'append', 'clear', 'copy', 'count', 'extend', 'index', 'insert', 'pop', 'remove', 'reverse', 'sort']\n"
          ]
        }
      ]
    },
    {
      "cell_type": "code",
      "source": [
        "# append :요소 추가 (한 개만 입력 가능)\n",
        "a=[1,2,3]\n",
        "a.append(4)\n",
        "print(a)"
      ],
      "metadata": {
        "colab": {
          "base_uri": "https://localhost:8080/"
        },
        "id": "gx-1AS8S3gvM",
        "outputId": "f868a753-9721-48ef-c2a0-9ff83e810a51"
      },
      "execution_count": null,
      "outputs": [
        {
          "output_type": "stream",
          "name": "stdout",
          "text": [
            "[1, 2, 3, 4]\n"
          ]
        }
      ]
    },
    {
      "cell_type": "code",
      "source": [
        "# reverse : 치환\n",
        "a=[1,2,3]\n",
        "a.reverse()\n",
        "print(a)"
      ],
      "metadata": {
        "colab": {
          "base_uri": "https://localhost:8080/"
        },
        "id": "fHbrz2-X3gxr",
        "outputId": "ca1d995d-081f-4019-ba8c-07eb89499852"
      },
      "execution_count": null,
      "outputs": [
        {
          "output_type": "stream",
          "name": "stdout",
          "text": [
            "[3, 2, 1]\n"
          ]
        }
      ]
    },
    {
      "cell_type": "code",
      "source": [
        "# index (list에서는 find가 제공되지 않음 -> 사용 불가)\n",
        "a=[1,2,3]\n",
        "print(a.index(1)) # 1 요소가 저장된 위치를 return"
      ],
      "metadata": {
        "colab": {
          "base_uri": "https://localhost:8080/"
        },
        "id": "VdFWT-rN4fyT",
        "outputId": "37f0c8cc-ad4f-4a4e-cec8-0765c417635b"
      },
      "execution_count": null,
      "outputs": [
        {
          "output_type": "stream",
          "name": "stdout",
          "text": [
            "0\n"
          ]
        }
      ]
    },
    {
      "cell_type": "code",
      "source": [
        "# insert : 삽입\n",
        "a=[1,2,3]\n",
        "a.insert(1,10) # 1 인덱스에 10 요소를 삽입\n",
        "print(a)"
      ],
      "metadata": {
        "colab": {
          "base_uri": "https://localhost:8080/"
        },
        "id": "G-6l8Rmt4f2D",
        "outputId": "89bdf5f1-8f14-402d-9230-681ed61716d3"
      },
      "execution_count": null,
      "outputs": [
        {
          "output_type": "stream",
          "name": "stdout",
          "text": [
            "[1, 10, 2, 3]\n"
          ]
        }
      ]
    },
    {
      "cell_type": "code",
      "source": [
        "# remove : 제거\n",
        "a=[1,2,3]\n",
        "b=a.remove(2) # 2 요소를 삭제\n",
        "print(a)\n",
        "print(b) # remove(value) : return값이 없기 때문에 None이라는 값이 출력\n",
        "\n",
        "a=[1,2,3,2,2]\n",
        "a.remove(2) # 2 요소가 여러 개가 존재하면, 첫번째 2 요소만 삭제\n",
        "print(a)"
      ],
      "metadata": {
        "colab": {
          "base_uri": "https://localhost:8080/"
        },
        "id": "QdGtfCrT4f5o",
        "outputId": "c5b6effd-dbcc-44ce-da4a-78615a176fa9"
      },
      "execution_count": null,
      "outputs": [
        {
          "output_type": "stream",
          "name": "stdout",
          "text": [
            "[1, 3]\n",
            "None\n",
            "[1, 3, 2, 2]\n"
          ]
        }
      ]
    },
    {
      "cell_type": "code",
      "source": [
        "# pop : 꺼내오기\n",
        "a=[1,2,3]\n",
        "b=a.pop(0) # 0 인덱스의 요소를 꺼내온다\n",
        "print(a)\n",
        "print(b) # pop(index) : return 값이 존재"
      ],
      "metadata": {
        "colab": {
          "base_uri": "https://localhost:8080/"
        },
        "id": "gp2_Bn5M4f8j",
        "outputId": "dbe69b82-f680-404a-dcbc-ca44bc3ebee1"
      },
      "execution_count": null,
      "outputs": [
        {
          "output_type": "stream",
          "name": "stdout",
          "text": [
            "[2, 3]\n",
            "1\n"
          ]
        }
      ]
    },
    {
      "cell_type": "code",
      "source": [
        "# count : 요소의 개수를 return\n",
        "a=[1,2,3,1]\n",
        "print(a.count(1)) # 1 요소의 개수를 return"
      ],
      "metadata": {
        "colab": {
          "base_uri": "https://localhost:8080/"
        },
        "id": "AEaez55r4f_U",
        "outputId": "c9e2a0f7-2e5a-4459-b07a-98c689a3d5a6"
      },
      "execution_count": null,
      "outputs": [
        {
          "output_type": "stream",
          "name": "stdout",
          "text": [
            "2\n"
          ]
        }
      ]
    },
    {
      "cell_type": "code",
      "source": [
        "# extend\n",
        "a=[1,2,3]\n",
        "a.extend([4,5]) # list를 확장해서 return, (+) 연산자와는 다르고 a+=과 같은 의미 (a+=[4,5])\n",
        "print(a)"
      ],
      "metadata": {
        "colab": {
          "base_uri": "https://localhost:8080/"
        },
        "id": "YufuO_Kl4gD7",
        "outputId": "480b0141-cc27-4448-abc9-a938ec17c47f"
      },
      "execution_count": null,
      "outputs": [
        {
          "output_type": "stream",
          "name": "stdout",
          "text": [
            "[1, 2, 3, 4, 5]\n"
          ]
        }
      ]
    },
    {
      "cell_type": "code",
      "source": [
        "a=[1,2,3]\n",
        "a+=[4,5] # a=a+[4,5]\n",
        "print(a)"
      ],
      "metadata": {
        "colab": {
          "base_uri": "https://localhost:8080/"
        },
        "id": "WdTP_Bnn5H_T",
        "outputId": "b5ed9887-ab59-40da-c7e9-564d2a5d9844"
      },
      "execution_count": null,
      "outputs": [
        {
          "output_type": "stream",
          "name": "stdout",
          "text": [
            "[1, 2, 3, 4, 5]\n"
          ]
        }
      ]
    },
    {
      "cell_type": "markdown",
      "source": [
        "## Tuple (튜플)\n",
        "- 변경이 불가능(immutable)한 순서(sequence)가 있는 자료형이다\n",
        "- 튜플은 ()소괄호로 표현한다."
      ],
      "metadata": {
        "id": "xQanqzvv5d23"
      }
    },
    {
      "cell_type": "code",
      "source": [
        "t = ( )\n",
        "print(t)\n",
        "print(type(t))\n",
        "print(dir(t))"
      ],
      "metadata": {
        "colab": {
          "base_uri": "https://localhost:8080/"
        },
        "id": "sC1VefGt51yL",
        "outputId": "4cf8da81-bca4-4837-c61b-71a57cde9888"
      },
      "execution_count": null,
      "outputs": [
        {
          "output_type": "stream",
          "name": "stdout",
          "text": [
            "()\n",
            "<class 'tuple'>\n",
            "['__add__', '__class__', '__class_getitem__', '__contains__', '__delattr__', '__dir__', '__doc__', '__eq__', '__format__', '__ge__', '__getattribute__', '__getitem__', '__getnewargs__', '__gt__', '__hash__', '__init__', '__init_subclass__', '__iter__', '__le__', '__len__', '__lt__', '__mul__', '__ne__', '__new__', '__reduce__', '__reduce_ex__', '__repr__', '__rmul__', '__setattr__', '__sizeof__', '__str__', '__subclasshook__', 'count', 'index']\n"
          ]
        }
      ]
    },
    {
      "cell_type": "code",
      "source": [
        "t = (10, 20, 30) # tuple은 콤마(,)를 구분\n",
        "print(t)"
      ],
      "metadata": {
        "colab": {
          "base_uri": "https://localhost:8080/"
        },
        "id": "9-kntMpA5--c",
        "outputId": "6a67551b-bc36-4beb-e9cc-0769262f094c"
      },
      "execution_count": null,
      "outputs": [
        {
          "output_type": "stream",
          "name": "stdout",
          "text": [
            "(10, 20, 30)\n"
          ]
        }
      ]
    },
    {
      "cell_type": "code",
      "source": [
        "t = (10, 20, 30) # tuple은 ( )괄호를 생략할 수 있다.\n",
        "print(t)\n",
        "t"
      ],
      "metadata": {
        "colab": {
          "base_uri": "https://localhost:8080/"
        },
        "id": "G-2NtgUl6Ybr",
        "outputId": "24f6bd1c-999f-44eb-ff5f-4d96de2bd1ae"
      },
      "execution_count": null,
      "outputs": [
        {
          "output_type": "stream",
          "name": "stdout",
          "text": [
            "(10, 20, 30)\n"
          ]
        },
        {
          "output_type": "execute_result",
          "data": {
            "text/plain": [
              "(10, 20, 30)"
            ]
          },
          "metadata": {},
          "execution_count": 92
        }
      ]
    },
    {
      "cell_type": "code",
      "source": [
        "# 요소가 하나일 때는 int로 인식\n",
        "t = (1)\n",
        "print(t)\n",
        "print(type(t))"
      ],
      "metadata": {
        "colab": {
          "base_uri": "https://localhost:8080/"
        },
        "id": "f7a1h4eH6YfD",
        "outputId": "ad17b8c9-023b-4e35-b0f2-2e5883836f64"
      },
      "execution_count": null,
      "outputs": [
        {
          "output_type": "stream",
          "name": "stdout",
          "text": [
            "1\n",
            "<class 'int'>\n"
          ]
        }
      ]
    },
    {
      "cell_type": "code",
      "source": [
        "# 요소가 한 개일 때는 반드시 쉼표(,)가 있어야 한다.\n",
        "#괄호는 생략할 수 있지만 쉼표(,)는 있어야 한다.\n",
        "t = (1,)\n",
        "print(t)\n",
        "print(type(t))\n",
        "\n",
        "t = 1,\n",
        "print(t)\n",
        "print(type(t))"
      ],
      "metadata": {
        "colab": {
          "base_uri": "https://localhost:8080/"
        },
        "id": "uuOdUpLb6Yh7",
        "outputId": "0d2d0649-60e7-4034-baec-3977c2ac6b96"
      },
      "execution_count": null,
      "outputs": [
        {
          "output_type": "stream",
          "name": "stdout",
          "text": [
            "1\n",
            "<class 'int'>\n",
            "(1,)\n",
            "<class 'tuple'>\n"
          ]
        }
      ]
    },
    {
      "cell_type": "code",
      "source": [
        "# 튜플에서도 다양한 데이터 타입의 값을 저장할 수 있다\n",
        "t = (1, ('ko', 'en'), True)\n",
        "print(t)"
      ],
      "metadata": {
        "colab": {
          "base_uri": "https://localhost:8080/"
        },
        "id": "gtTUV6mn512u",
        "outputId": "925f3c97-ec15-45b6-c2cc-bd379ebdb6a8"
      },
      "execution_count": null,
      "outputs": [
        {
          "output_type": "stream",
          "name": "stdout",
          "text": [
            "(1, ('ko', 'en'), True)\n"
          ]
        }
      ]
    },
    {
      "cell_type": "code",
      "source": [
        "# 튜플에서 연결하기를 할 수 있따\n",
        "t=(1,2,3)+(4,5)\n",
        "print(t)"
      ],
      "metadata": {
        "colab": {
          "base_uri": "https://localhost:8080/"
        },
        "id": "B0VXBMx5518w",
        "outputId": "a8f44cea-13be-4ec7-f3a8-0fdddd4261fa"
      },
      "execution_count": null,
      "outputs": [
        {
          "output_type": "stream",
          "name": "stdout",
          "text": [
            "(1, 2, 3, 4, 5)\n"
          ]
        }
      ]
    },
    {
      "cell_type": "code",
      "source": [
        "# 튜플에서도 반복하는 것이 가능\n",
        "t=(1,2,3)*2\n",
        "print(t)"
      ],
      "metadata": {
        "colab": {
          "base_uri": "https://localhost:8080/"
        },
        "id": "ld7CY5OG7r17",
        "outputId": "cb516754-90f8-4ac3-85cc-a125b5ab0e51"
      },
      "execution_count": null,
      "outputs": [
        {
          "output_type": "stream",
          "name": "stdout",
          "text": [
            "(1, 2, 3, 1, 2, 3)\n"
          ]
        }
      ]
    },
    {
      "cell_type": "code",
      "source": [
        "# 튜플에서도 in 연산자를 사용하여 멤버 검사 가능\n",
        "t=(1,2,3)\n",
        "print(2 in t)\n",
        "print(4 in t)"
      ],
      "metadata": {
        "colab": {
          "base_uri": "https://localhost:8080/"
        },
        "id": "8ck7erpq7r42",
        "outputId": "529fc891-bf25-464a-d6e7-b592abca2bc8"
      },
      "execution_count": null,
      "outputs": [
        {
          "output_type": "stream",
          "name": "stdout",
          "text": [
            "True\n",
            "False\n"
          ]
        }
      ]
    },
    {
      "cell_type": "code",
      "source": [
        "# indexing\n",
        "t=(5,10,15,20,25,30)\n",
        "print(t)\n",
        "print(t[0])\n",
        "\n",
        "# slicing\n",
        "print(t[0:2])"
      ],
      "metadata": {
        "colab": {
          "base_uri": "https://localhost:8080/"
        },
        "id": "agtQYL3p7r7X",
        "outputId": "567786d0-55b4-45ca-cd21-e891d12c6c8e"
      },
      "execution_count": null,
      "outputs": [
        {
          "output_type": "stream",
          "name": "stdout",
          "text": [
            "(5, 10, 15, 20, 25, 30)\n",
            "5\n",
            "(5, 10)\n"
          ]
        }
      ]
    },
    {
      "cell_type": "markdown",
      "source": [
        "### tuple에서 언팩킹(unpacking)"
      ],
      "metadata": {
        "id": "8uREhMG-8TaO"
      }
    },
    {
      "cell_type": "code",
      "source": [
        "# 리스트, 튜플에서 언팩킹 리턴값은 리스트\n",
        "t=(10,15,20,25,30,35)\n",
        "x,y,*z=t\n",
        "print(x)\n",
        "print(y)\n",
        "print(z)"
      ],
      "metadata": {
        "colab": {
          "base_uri": "https://localhost:8080/"
        },
        "id": "d5pftJfo8bX3",
        "outputId": "8ff1de84-93cf-41a5-de1b-a5707eb90a40"
      },
      "execution_count": null,
      "outputs": [
        {
          "output_type": "stream",
          "name": "stdout",
          "text": [
            "10\n",
            "15\n",
            "[20, 25, 30, 35]\n"
          ]
        }
      ]
    },
    {
      "cell_type": "code",
      "source": [
        "x,*_,z=t\n",
        "print(x)\n",
        "# print(y)\n",
        "print(z)"
      ],
      "metadata": {
        "id": "djXLuSHA8g5u"
      },
      "execution_count": null,
      "outputs": []
    },
    {
      "cell_type": "code",
      "source": [
        "t=((10,15),(20,25))\n",
        "x,y=t\n",
        "print(x)\n",
        "print(y)\n",
        "\n",
        "print('----------')\n",
        "(x,y),(m,n)=t\n",
        "print(x)\n",
        "print(y)\n",
        "print(m)\n",
        "print(n)"
      ],
      "metadata": {
        "id": "WxSKLXJC8g8T"
      },
      "execution_count": null,
      "outputs": []
    },
    {
      "cell_type": "markdown",
      "source": [
        "### tuple 메소드 제공(count, index 2개만 제공)"
      ],
      "metadata": {
        "id": "wSIkSuPB748P"
      }
    },
    {
      "cell_type": "code",
      "source": [
        "# count\n",
        "t=(1,2,3,2,2,3)\n",
        "print(t.count(3)) # 3 요소의 개수를 return\n",
        "\n",
        "# index\n",
        "print(t.index(2)) # 2 요소의 index를 리턴 (처음 검색된 요소의 index 값을 return)\n",
        "print(t.index(3,4)) # index 값이 4 이상인 곳에서 3요소의 index 값 (검색하는 위치값을 지정 가능)"
      ],
      "metadata": {
        "id": "ZT-Y2Rcc7r-A"
      },
      "execution_count": null,
      "outputs": []
    },
    {
      "cell_type": "markdown",
      "source": [
        "### tuple과 list 비교\n",
        "- 공통점\n",
        "- 다양한 데이터 타입의 객체를 저장할 수 있고, 순서(sequence) 자료형이다.\n",
        "- 차이점\n",
        "- tuple은 변경 불가능(immutable)이다\n",
        "- list는 변경 가능(mutable)이"
      ],
      "metadata": {
        "id": "SOa24TZG9jRM"
      }
    },
    {
      "cell_type": "code",
      "source": [
        "t=(1,2,3)\n",
        "print(t)\n",
        "print(type(t))"
      ],
      "metadata": {
        "colab": {
          "base_uri": "https://localhost:8080/"
        },
        "id": "Th8NVFGE9_VL",
        "outputId": "0e44a446-0ff1-4acc-dc43-a1ead28cd1e2"
      },
      "execution_count": null,
      "outputs": [
        {
          "output_type": "stream",
          "name": "stdout",
          "text": [
            "(1, 2, 3)\n",
            "<class 'tuple'>\n"
          ]
        }
      ]
    },
    {
      "cell_type": "code",
      "source": [
        "# tuple을 list로 생성\n",
        "s=list(t)\n",
        "print(s)\n",
        "print(type(s))"
      ],
      "metadata": {
        "colab": {
          "base_uri": "https://localhost:8080/"
        },
        "id": "C_xgud9-9_YG",
        "outputId": "b2df4d5c-4e37-40db-f75a-8a39664bcec1"
      },
      "execution_count": null,
      "outputs": [
        {
          "output_type": "stream",
          "name": "stdout",
          "text": [
            "[1, 2, 3]\n",
            "<class 'list'>\n"
          ]
        }
      ]
    },
    {
      "cell_type": "code",
      "source": [
        "# list를 tuple로 생성\n",
        "p=tuple(s)\n",
        "print(p)\n",
        "print(type(p))"
      ],
      "metadata": {
        "colab": {
          "base_uri": "https://localhost:8080/"
        },
        "id": "jtzqnTG49_bT",
        "outputId": "379facc5-4293-4322-ccf2-21dd636a0940"
      },
      "execution_count": null,
      "outputs": [
        {
          "output_type": "stream",
          "name": "stdout",
          "text": [
            "(1, 2, 3)\n",
            "<class 'tuple'>\n"
          ]
        }
      ]
    },
    {
      "cell_type": "code",
      "source": [
        "t=(1,2,3)\n",
        "v=str(t)\n",
        "print(v)\n",
        "print(type(v))\n",
        "print(len(v))"
      ],
      "metadata": {
        "colab": {
          "base_uri": "https://localhost:8080/"
        },
        "id": "cCHAq9yS9_em",
        "outputId": "c318cbcc-dadd-4ac2-bade-988120566bfb"
      },
      "execution_count": null,
      "outputs": [
        {
          "output_type": "stream",
          "name": "stdout",
          "text": [
            "(1, 2, 3)\n",
            "<class 'str'>\n",
            "9\n"
          ]
        }
      ]
    },
    {
      "cell_type": "code",
      "source": [
        "i=[1,2,3]\n",
        "m=str(i)\n",
        "print(m)\n",
        "print(type(m))\n",
        "print(len(m))"
      ],
      "metadata": {
        "colab": {
          "base_uri": "https://localhost:8080/"
        },
        "id": "xIVm5pc89_h7",
        "outputId": "5770d1b4-4b9a-418a-e8e3-fc5df431543f"
      },
      "execution_count": null,
      "outputs": [
        {
          "output_type": "stream",
          "name": "stdout",
          "text": [
            "[1, 2, 3]\n",
            "<class 'str'>\n",
            "9\n"
          ]
        }
      ]
    },
    {
      "cell_type": "markdown",
      "source": [
        "### 집합(sets)\n",
        "- 집합은 여러 값을 순서가 없고 중복 없이 모아 놓은 자료형\n",
        "- python은 set과 frosenset 두 가지의 집합 자료형을 제공\n",
        "- set은 변경 가능한 집합이고, frozenset은 변경 불가능한 자료형\n",
        "- set은 {}중괄호로 사용할 수 없으나 set() 함수로 표현"
      ],
      "metadata": {
        "id": "iXQ7HuJF9E8N"
      }
    },
    {
      "cell_type": "code",
      "source": [
        "s={} # []=list(), ( )=tuple(), {}=dict{}\n",
        "print(s)\n",
        "print(type(s))"
      ],
      "metadata": {
        "colab": {
          "base_uri": "https://localhost:8080/"
        },
        "id": "gVDxW3cW-16C",
        "outputId": "aa944032-1276-4bf1-b7ac-10b6c425c293"
      },
      "execution_count": null,
      "outputs": [
        {
          "output_type": "stream",
          "name": "stdout",
          "text": [
            "{}\n",
            "<class 'dict'>\n"
          ]
        }
      ]
    },
    {
      "cell_type": "code",
      "source": [
        "s=set()\n",
        "print(s)\n",
        "print(type(s))"
      ],
      "metadata": {
        "colab": {
          "base_uri": "https://localhost:8080/"
        },
        "id": "5ROLmAVD-19i",
        "outputId": "771db96b-a08a-48c7-ba6e-ba01b3e4dadc"
      },
      "execution_count": null,
      "outputs": [
        {
          "output_type": "stream",
          "name": "stdout",
          "text": [
            "set()\n",
            "<class 'set'>\n"
          ]
        }
      ]
    },
    {
      "cell_type": "markdown",
      "source": [
        "### 집합(set)\n",
        "- 멤버십(원소와 집합사이의 귀속관계), 검사, 시퀀스에서 중복제거와 교집합, 차집합, 집합 등 수학 연산 수행에 사용된다\n",
        "- 순서가 유지되지 않으므로 indexing, slicing을 사용할 수 없음\n",
        "- set이라는 객체를 사용할 때는, iterable(반복 가능한) 객체를 생성할 수 있음"
      ],
      "metadata": {
        "id": "Pf-Kj6AQna-Y"
      }
    },
    {
      "cell_type": "code",
      "source": [
        "# set (iterable)\n",
        "set((3,1,5,2,5)) # tuple을 이용해서 set을 생성하면 오름차순으로 나타남 (중복값 허용x)"
      ],
      "metadata": {
        "colab": {
          "base_uri": "https://localhost:8080/"
        },
        "id": "uzuNWa6N--oC",
        "outputId": "f7bb33de-2330-402b-b778-91bcd9ef0fb3"
      },
      "execution_count": null,
      "outputs": [
        {
          "output_type": "execute_result",
          "data": {
            "text/plain": [
              "{1, 2, 3, 5}"
            ]
          },
          "metadata": {},
          "execution_count": 110
        }
      ]
    },
    {
      "cell_type": "code",
      "source": [
        "# set (iterable)\n",
        "set('apple') # 오름차순으로 나타남 (중복값 허용x)"
      ],
      "metadata": {
        "colab": {
          "base_uri": "https://localhost:8080/"
        },
        "id": "ZWCfT6Wc--zq",
        "outputId": "172b51b4-34c9-4fb6-dc65-b59cfcc9f9df"
      },
      "execution_count": null,
      "outputs": [
        {
          "output_type": "execute_result",
          "data": {
            "text/plain": [
              "{'a', 'e', 'l', 'p'}"
            ]
          },
          "metadata": {},
          "execution_count": 111
        }
      ]
    },
    {
      "cell_type": "code",
      "source": [
        "# set (iterable)\n",
        "set([3,1,5,2,5]) # list를 이용해서 set을 생성하면 오름차순으로 나타남 (중복값 허용x)"
      ],
      "metadata": {
        "colab": {
          "base_uri": "https://localhost:8080/"
        },
        "id": "y0Fvkufe--5C",
        "outputId": "9124121f-4e81-4c96-9656-b22a2090dd4c"
      },
      "execution_count": null,
      "outputs": [
        {
          "output_type": "execute_result",
          "data": {
            "text/plain": [
              "{1, 2, 3, 5}"
            ]
          },
          "metadata": {},
          "execution_count": 112
        }
      ]
    },
    {
      "cell_type": "code",
      "source": [
        "a = [3, 1, 5, 2, 5]\n",
        "b = set(a) #deep copy\n",
        "print(b)\n",
        "\n",
        "a[0] = 6\n",
        "print(a)\n",
        "print(b)"
      ],
      "metadata": {
        "colab": {
          "base_uri": "https://localhost:8080/"
        },
        "id": "A2z5lQIqdd8X",
        "outputId": "2538e18c-24a7-4d9a-e7dd-05e748fa4e15"
      },
      "execution_count": null,
      "outputs": [
        {
          "output_type": "stream",
          "name": "stdout",
          "text": [
            "{1, 2, 3, 5}\n",
            "[6, 1, 5, 2, 5]\n",
            "{1, 2, 3, 5}\n"
          ]
        }
      ]
    },
    {
      "cell_type": "code",
      "source": [
        "# a=[3,1,[2,4],5] # [2,4]의 주소 값이 저장되기 때문에 set으로 생성할 수 없음 (주소 값은 변경 가능한 값이지만, set에는 변경 불가능한 값만 올 수 있음)\n",
        "# print(a)\n",
        "# b=set(a)\n",
        "# print(b)\n",
        "\n",
        "k=[2,4]\n",
        "a=[3,1,k,5]\n",
        "print(a)\n",
        "b=set(a)\n",
        "print(b)\n"
      ],
      "metadata": {
        "colab": {
          "base_uri": "https://localhost:8080/",
          "height": 258
        },
        "id": "PqRUgacO_c83",
        "outputId": "d0bcf597-6d64-411d-e01e-3576c74b277a"
      },
      "execution_count": null,
      "outputs": [
        {
          "output_type": "stream",
          "name": "stdout",
          "text": [
            "[3, 1, [2, 4], 5]\n"
          ]
        },
        {
          "output_type": "error",
          "ename": "TypeError",
          "evalue": "ignored",
          "traceback": [
            "\u001b[0;31m---------------------------------------------------------------------------\u001b[0m",
            "\u001b[0;31mTypeError\u001b[0m                                 Traceback (most recent call last)",
            "\u001b[0;32m<ipython-input-113-9787a6d061fb>\u001b[0m in \u001b[0;36m<cell line: 9>\u001b[0;34m()\u001b[0m\n\u001b[1;32m      7\u001b[0m \u001b[0ma\u001b[0m\u001b[0;34m=\u001b[0m\u001b[0;34m[\u001b[0m\u001b[0;36m3\u001b[0m\u001b[0;34m,\u001b[0m\u001b[0;36m1\u001b[0m\u001b[0;34m,\u001b[0m\u001b[0mk\u001b[0m\u001b[0;34m,\u001b[0m\u001b[0;36m5\u001b[0m\u001b[0;34m]\u001b[0m\u001b[0;34m\u001b[0m\u001b[0;34m\u001b[0m\u001b[0m\n\u001b[1;32m      8\u001b[0m \u001b[0mprint\u001b[0m\u001b[0;34m(\u001b[0m\u001b[0ma\u001b[0m\u001b[0;34m)\u001b[0m\u001b[0;34m\u001b[0m\u001b[0;34m\u001b[0m\u001b[0m\n\u001b[0;32m----> 9\u001b[0;31m \u001b[0mb\u001b[0m\u001b[0;34m=\u001b[0m\u001b[0mset\u001b[0m\u001b[0;34m(\u001b[0m\u001b[0ma\u001b[0m\u001b[0;34m)\u001b[0m\u001b[0;34m\u001b[0m\u001b[0;34m\u001b[0m\u001b[0m\n\u001b[0m\u001b[1;32m     10\u001b[0m \u001b[0mprint\u001b[0m\u001b[0;34m(\u001b[0m\u001b[0mb\u001b[0m\u001b[0;34m)\u001b[0m\u001b[0;34m\u001b[0m\u001b[0;34m\u001b[0m\u001b[0m\n",
            "\u001b[0;31mTypeError\u001b[0m: unhashable type: 'list'"
          ]
        }
      ]
    },
    {
      "cell_type": "code",
      "source": [
        "# 변경이 불가능한것으로만 set 사용 가능함\n",
        "a = [3,1 ,[2,4],5]\n",
        "print(a)\n",
        "b = set(a)\n",
        "print(b)"
      ],
      "metadata": {
        "id": "VCN03f4-eKMQ"
      },
      "execution_count": null,
      "outputs": []
    },
    {
      "cell_type": "code",
      "source": [
        "b = set({'one':1, 'two':2}) #dict 자료형으로 set을 생성하면 키만 참조한다.\n",
        "print(b)\n",
        "print(type(b))"
      ],
      "metadata": {
        "colab": {
          "base_uri": "https://localhost:8080/"
        },
        "id": "hi0rYkKGfBAD",
        "outputId": "5f41e53b-4f7f-4104-bab8-29be68fba01b"
      },
      "execution_count": null,
      "outputs": [
        {
          "output_type": "stream",
          "name": "stdout",
          "text": [
            "{'two', 'one'}\n",
            "<class 'set'>\n"
          ]
        }
      ]
    },
    {
      "cell_type": "code",
      "source": [
        "#set은 순서 유지 안됨, 중복 안됨\n",
        "b = set(['one', 'two', 'under', 'app'])\n",
        "print(b)\n",
        "print(type(b))"
      ],
      "metadata": {
        "colab": {
          "base_uri": "https://localhost:8080/"
        },
        "id": "6lLCguK1fbXw",
        "outputId": "f26c3d5f-d81b-4f5b-8324-23f2b9d09544"
      },
      "execution_count": null,
      "outputs": [
        {
          "output_type": "stream",
          "name": "stdout",
          "text": [
            "{'under', 'two', 'app', 'one'}\n",
            "<class 'set'>\n"
          ]
        }
      ]
    },
    {
      "cell_type": "code",
      "source": [
        "print(dir(set()))"
      ],
      "metadata": {
        "colab": {
          "base_uri": "https://localhost:8080/"
        },
        "id": "VjFFezVcfMlg",
        "outputId": "e9e7a4a0-4116-4e1a-e757-66d34df690bc"
      },
      "execution_count": null,
      "outputs": [
        {
          "output_type": "stream",
          "name": "stdout",
          "text": [
            "['__and__', '__class__', '__class_getitem__', '__contains__', '__delattr__', '__dir__', '__doc__', '__eq__', '__format__', '__ge__', '__getattribute__', '__gt__', '__hash__', '__iand__', '__init__', '__init_subclass__', '__ior__', '__isub__', '__iter__', '__ixor__', '__le__', '__len__', '__lt__', '__ne__', '__new__', '__or__', '__rand__', '__reduce__', '__reduce_ex__', '__repr__', '__ror__', '__rsub__', '__rxor__', '__setattr__', '__sizeof__', '__str__', '__sub__', '__subclasshook__', '__xor__', 'add', 'clear', 'copy', 'difference', 'difference_update', 'discard', 'intersection', 'intersection_update', 'isdisjoint', 'issubset', 'issuperset', 'pop', 'remove', 'symmetric_difference', 'symmetric_difference_update', 'union', 'update']\n"
          ]
        }
      ]
    },
    {
      "cell_type": "code",
      "source": [
        "a = set((1,2,3,4,5))\n",
        "b = set((4,5,6,7))\n",
        "print(a.union(b)) # 합집합\n",
        "print(a | b)      # 합집합\n",
        "print(a.intersection(b)) # 교집합\n",
        "print(a & b)             # 교집합\n",
        "print(a.difference(b)) # 차집합\n",
        "print(a - b)           # 차집합"
      ],
      "metadata": {
        "colab": {
          "base_uri": "https://localhost:8080/"
        },
        "id": "dvtj1iERjeni",
        "outputId": "5c69fbb8-033c-444f-fef2-058ad6e4ab48"
      },
      "execution_count": null,
      "outputs": [
        {
          "output_type": "stream",
          "name": "stdout",
          "text": [
            "{1, 2, 3, 4, 5, 6, 7}\n",
            "{1, 2, 3, 4, 5, 6, 7}\n",
            "{4, 5}\n",
            "{1, 2, 3}\n"
          ]
        }
      ]
    },
    {
      "cell_type": "code",
      "source": [
        "a = set((1,2,3))\n",
        "a.add(4) # 요소를 추가, add(한개만)\n",
        "print(a)"
      ],
      "metadata": {
        "colab": {
          "base_uri": "https://localhost:8080/"
        },
        "id": "n4rxR5khkEZy",
        "outputId": "b09fdb0e-ae8f-4e7e-b736-4af06c71b9c2"
      },
      "execution_count": null,
      "outputs": [
        {
          "output_type": "stream",
          "name": "stdout",
          "text": [
            "{1, 2, 3, 4}\n"
          ]
        }
      ]
    },
    {
      "cell_type": "code",
      "source": [
        "a = set((1,2,3))\n",
        "a.update([4,5]) # 여러개 추가 update(iterable)\n",
        "print(a)\n",
        "\n",
        "# set은 변경 가능함 리터블"
      ],
      "metadata": {
        "colab": {
          "base_uri": "https://localhost:8080/"
        },
        "id": "Mn0KRD5Kjw7X",
        "outputId": "1e7139b7-5d96-47ab-a656-b0c0ad422f17"
      },
      "execution_count": null,
      "outputs": [
        {
          "output_type": "stream",
          "name": "stdout",
          "text": [
            "{1, 2, 3, 4, 5}\n"
          ]
        }
      ]
    },
    {
      "cell_type": "code",
      "source": [
        "a = set((1,2,3))\n",
        "a.remove(2) # 요소 제거\n",
        "print(a)"
      ],
      "metadata": {
        "colab": {
          "base_uri": "https://localhost:8080/"
        },
        "id": "I8sfc_Mvkhyg",
        "outputId": "039435b2-72a4-41e8-872d-eadfa90a6d8d"
      },
      "execution_count": null,
      "outputs": [
        {
          "output_type": "stream",
          "name": "stdout",
          "text": [
            "{1, 3}\n"
          ]
        }
      ]
    },
    {
      "cell_type": "markdown",
      "source": [
        "### frozenset\n",
        "- 요소를 변경하지 않는 범위에서 set객체와 동일하게 동작한다\n",
        "- frozen  객체의 생성은 집합을 포함한 반복 가능한 자료형으로 부터 가능하다\n",
        "- frozenset은 frozenset()으로 생성한다\n",
        "- 잘 안씀"
      ],
      "metadata": {
        "id": "r3SOtphYmEay"
      }
    },
    {
      "cell_type": "code",
      "source": [
        "f = frozenset()\n",
        "print(f)\n",
        "print(type(f))\n"
      ],
      "metadata": {
        "colab": {
          "base_uri": "https://localhost:8080/"
        },
        "id": "1ndLKZL5jw-v",
        "outputId": "e7891814-1e61-4326-8ea8-43b0e03254d3"
      },
      "execution_count": null,
      "outputs": [
        {
          "output_type": "stream",
          "name": "stdout",
          "text": [
            "frozenset()\n",
            "<class 'frozenset'>\n"
          ]
        }
      ]
    },
    {
      "cell_type": "code",
      "source": [
        "f = frozenset([1,2,3,4,5])\n",
        "print(f)\n"
      ],
      "metadata": {
        "colab": {
          "base_uri": "https://localhost:8080/"
        },
        "id": "dYyXEwfImsFq",
        "outputId": "2ceafc4d-16b5-44b0-b5eb-1451996d592e"
      },
      "execution_count": null,
      "outputs": [
        {
          "output_type": "stream",
          "name": "stdout",
          "text": [
            "frozenset({1, 2, 3, 4, 5})\n"
          ]
        }
      ]
    },
    {
      "cell_type": "code",
      "source": [
        "print(dir(f))"
      ],
      "metadata": {
        "colab": {
          "base_uri": "https://localhost:8080/"
        },
        "id": "gzH_y9Zim3Qo",
        "outputId": "d0a8b77b-4e62-4ddd-8812-99d3f58fe17a"
      },
      "execution_count": null,
      "outputs": [
        {
          "output_type": "stream",
          "name": "stdout",
          "text": [
            "['__and__', '__class__', '__class_getitem__', '__contains__', '__delattr__', '__dir__', '__doc__', '__eq__', '__format__', '__ge__', '__getattribute__', '__gt__', '__hash__', '__init__', '__init_subclass__', '__iter__', '__le__', '__len__', '__lt__', '__ne__', '__new__', '__or__', '__rand__', '__reduce__', '__reduce_ex__', '__repr__', '__ror__', '__rsub__', '__rxor__', '__setattr__', '__sizeof__', '__str__', '__sub__', '__subclasshook__', '__xor__', 'copy', 'difference', 'intersection', 'isdisjoint', 'issubset', 'issuperset', 'symmetric_difference', 'union']\n"
          ]
        }
      ]
    },
    {
      "cell_type": "markdown",
      "source": [
        "### dict\n",
        "- 특정 키를 주면 이와 관련된 값을 돌려주는 내용 기반으로 검색하는 자료형이다\n",
        "- 데이터의 저장 순서가 없다\n",
        "- 내부적으로 해시 기법을 사용하기 때문에 검색 속도가 빠르다\n",
        "- key-value 형식으로 저장을 하기 때문에 key를 이용해서 value에 접근한다\n",
        "- key 값은 중복을 허용하지 않는다."
      ],
      "metadata": {
        "id": "fQ0cImx6e5y6"
      }
    },
    {
      "cell_type": "code",
      "source": [
        "d = {}\n",
        "print(d)\n",
        "print(type(d))"
      ],
      "metadata": {
        "colab": {
          "base_uri": "https://localhost:8080/"
        },
        "id": "H9XLvGCtnuUW",
        "outputId": "0fac6043-2f51-4dd5-a4e1-ead15544c5f1"
      },
      "execution_count": null,
      "outputs": [
        {
          "output_type": "stream",
          "name": "stdout",
          "text": [
            "{}\n",
            "<class 'dict'>\n"
          ]
        }
      ]
    },
    {
      "cell_type": "code",
      "source": [
        "d = {'one':1, 'two':2}\n",
        "print(d)\n",
        "print(d['one'])\n",
        "print(d.one)\n",
        "\n",
        "# 에러 왜 뜨는지 보고 정리해놓기"
      ],
      "metadata": {
        "colab": {
          "base_uri": "https://localhost:8080/",
          "height": 258
        },
        "id": "BUT6gihxn2L2",
        "outputId": "6ecaba0c-b892-47c5-8d1e-31d6a8e34211"
      },
      "execution_count": null,
      "outputs": [
        {
          "output_type": "stream",
          "name": "stdout",
          "text": [
            "{'one': 1, 'two': 2}\n",
            "1\n"
          ]
        },
        {
          "output_type": "error",
          "ename": "AttributeError",
          "evalue": "ignored",
          "traceback": [
            "\u001b[0;31m---------------------------------------------------------------------------\u001b[0m",
            "\u001b[0;31mAttributeError\u001b[0m                            Traceback (most recent call last)",
            "\u001b[0;32m<ipython-input-37-af6242566c98>\u001b[0m in \u001b[0;36m<cell line: 4>\u001b[0;34m()\u001b[0m\n\u001b[1;32m      2\u001b[0m \u001b[0mprint\u001b[0m\u001b[0;34m(\u001b[0m\u001b[0md\u001b[0m\u001b[0;34m)\u001b[0m\u001b[0;34m\u001b[0m\u001b[0;34m\u001b[0m\u001b[0m\n\u001b[1;32m      3\u001b[0m \u001b[0mprint\u001b[0m\u001b[0;34m(\u001b[0m\u001b[0md\u001b[0m\u001b[0;34m[\u001b[0m\u001b[0;34m'one'\u001b[0m\u001b[0;34m]\u001b[0m\u001b[0;34m)\u001b[0m\u001b[0;34m\u001b[0m\u001b[0;34m\u001b[0m\u001b[0m\n\u001b[0;32m----> 4\u001b[0;31m \u001b[0mprint\u001b[0m\u001b[0;34m(\u001b[0m\u001b[0md\u001b[0m\u001b[0;34m.\u001b[0m\u001b[0mone\u001b[0m\u001b[0;34m)\u001b[0m\u001b[0;34m\u001b[0m\u001b[0;34m\u001b[0m\u001b[0m\n\u001b[0m",
            "\u001b[0;31mAttributeError\u001b[0m: 'dict' object has no attribute 'one'"
          ]
        }
      ]
    },
    {
      "cell_type": "code",
      "source": [
        "print(dir(d))"
      ],
      "metadata": {
        "colab": {
          "base_uri": "https://localhost:8080/"
        },
        "id": "77lqLVasn2x_",
        "outputId": "34cd5215-2f9d-46bc-84b4-38c7b6a78c01"
      },
      "execution_count": null,
      "outputs": [
        {
          "output_type": "stream",
          "name": "stdout",
          "text": [
            "['__class__', '__class_getitem__', '__contains__', '__delattr__', '__delitem__', '__dir__', '__doc__', '__eq__', '__format__', '__ge__', '__getattribute__', '__getitem__', '__gt__', '__hash__', '__init__', '__init_subclass__', '__ior__', '__iter__', '__le__', '__len__', '__lt__', '__ne__', '__new__', '__or__', '__reduce__', '__reduce_ex__', '__repr__', '__reversed__', '__ror__', '__setattr__', '__setitem__', '__sizeof__', '__str__', '__subclasshook__', 'clear', 'copy', 'fromkeys', 'get', 'items', 'keys', 'pop', 'popitem', 'setdefault', 'update', 'values']\n"
          ]
        }
      ]
    },
    {
      "cell_type": "code",
      "source": [
        "d = dict(one = 1, two = 2) #'onㄷ' 사용하면 안됨\n",
        "print(d)\n",
        "print(d['one'])"
      ],
      "metadata": {
        "colab": {
          "base_uri": "https://localhost:8080/"
        },
        "id": "eAZ_O3nEn20g",
        "outputId": "5ee260e1-ecfe-4cf6-c2a3-2db87786b207"
      },
      "execution_count": null,
      "outputs": [
        {
          "output_type": "stream",
          "name": "stdout",
          "text": [
            "{'one': 1, 'two': 2}\n",
            "1\n"
          ]
        }
      ]
    },
    {
      "cell_type": "markdown",
      "source": [
        "zip()함수를 이용해서 dict()을 생성할 수 있다"
      ],
      "metadata": {
        "id": "U1f0zsaJqFC3"
      }
    },
    {
      "cell_type": "code",
      "source": [
        "keys = ['one', 'two', 'three']\n",
        "values = [1,2 ,3]\n",
        "a = zip(keys, values)\n",
        "print(a)\n",
        "d = dict(a)\n",
        "print(d)"
      ],
      "metadata": {
        "colab": {
          "base_uri": "https://localhost:8080/"
        },
        "id": "pVC-57KIqM2O",
        "outputId": "406748e2-9f4d-40f8-defe-f085db9b1078"
      },
      "execution_count": null,
      "outputs": [
        {
          "output_type": "stream",
          "name": "stdout",
          "text": [
            "<zip object at 0x79f6ef350780>\n"
          ]
        }
      ]
    },
    {
      "cell_type": "code",
      "source": [
        "#갯수가 안맞으면 키 값에 맞게 출력\n",
        "keys = ['one', 'two', 'three']\n",
        "values = [1,2 ,3,4,5]\n",
        "#a = zip(keys, values)\n",
        "#d = dict(a)\n",
        "d = dict(zip(keys, values)) # 작은 갯수에 맞춰서 생성이 된다.\n",
        "print(d)"
      ],
      "metadata": {
        "colab": {
          "base_uri": "https://localhost:8080/"
        },
        "id": "gqqJwGHwqyNe",
        "outputId": "af3d7189-7827-41d4-ff0d-89f419d25872"
      },
      "execution_count": null,
      "outputs": [
        {
          "output_type": "stream",
          "name": "stdout",
          "text": [
            "{'one': 1, 'two': 2, 'three': 3}\n"
          ]
        }
      ]
    },
    {
      "cell_type": "code",
      "source": [
        "keys = ['one', 'two', 'three']\n",
        "values = [1,2]\n",
        "#a = zip(keys, values)\n",
        "#d = dict(a)\n",
        "d = dict(zip(keys, values)) # 작은 갯수에 맞춰서 생성이 된다.\n",
        "print(d)"
      ],
      "metadata": {
        "colab": {
          "base_uri": "https://localhost:8080/"
        },
        "id": "-wzg3skaq_Z3",
        "outputId": "07f77578-a15f-4caf-82f9-58a8733012df"
      },
      "execution_count": null,
      "outputs": [
        {
          "output_type": "stream",
          "name": "stdout",
          "text": [
            "{'one': 1, 'two': 2}\n"
          ]
        }
      ]
    },
    {
      "cell_type": "markdown",
      "source": [
        "### dict 메소드 제공"
      ],
      "metadata": {
        "id": "TTe6ez4Vr4cE"
      }
    },
    {
      "cell_type": "code",
      "source": [
        "print(dir({}))"
      ],
      "metadata": {
        "colab": {
          "base_uri": "https://localhost:8080/"
        },
        "id": "9fjy3Q0vqD19",
        "outputId": "b101025d-5680-4020-a7cf-05b58b6ee295"
      },
      "execution_count": null,
      "outputs": [
        {
          "output_type": "stream",
          "name": "stdout",
          "text": [
            "['__class__', '__class_getitem__', '__contains__', '__delattr__', '__delitem__', '__dir__', '__doc__', '__eq__', '__format__', '__ge__', '__getattribute__', '__getitem__', '__gt__', '__hash__', '__init__', '__init_subclass__', '__ior__', '__iter__', '__le__', '__len__', '__lt__', '__ne__', '__new__', '__or__', '__reduce__', '__reduce_ex__', '__repr__', '__reversed__', '__ror__', '__setattr__', '__setitem__', '__sizeof__', '__str__', '__subclasshook__', 'clear', 'copy', 'fromkeys', 'get', 'items', 'keys', 'pop', 'popitem', 'setdefault', 'update', 'values']\n"
          ]
        }
      ]
    },
    {
      "cell_type": "code",
      "source": [
        "d = {'one': 1, 'two': 2}\n",
        "print(d.keys())\n",
        "\n",
        "for k in d.keys():\n",
        "  print(k)"
      ],
      "metadata": {
        "colab": {
          "base_uri": "https://localhost:8080/"
        },
        "id": "pBk-pyPCrrXl",
        "outputId": "ad84345c-186a-4691-f994-7b8b3e5f66a5"
      },
      "execution_count": null,
      "outputs": [
        {
          "output_type": "stream",
          "name": "stdout",
          "text": [
            "dict_keys(['one', 'two'])\n",
            "one\n",
            "two\n"
          ]
        }
      ]
    },
    {
      "cell_type": "code",
      "source": [
        "d = {'one': 1, 'two': 2}\n",
        "print(d.values())"
      ],
      "metadata": {
        "colab": {
          "base_uri": "https://localhost:8080/"
        },
        "id": "CbhRWxLPsbEO",
        "outputId": "bcc86d3e-cab5-44bc-c1e4-cf75ad0339b0"
      },
      "execution_count": null,
      "outputs": [
        {
          "output_type": "stream",
          "name": "stdout",
          "text": [
            "dict_values([1, 2])\n"
          ]
        }
      ]
    },
    {
      "cell_type": "code",
      "source": [
        "d = {'one': 1, 'two': 2}\n",
        "print(d.items())"
      ],
      "metadata": {
        "colab": {
          "base_uri": "https://localhost:8080/"
        },
        "id": "AyWr9U8FsPsl",
        "outputId": "19854931-cd42-47cd-9029-fd81c6b61601"
      },
      "execution_count": null,
      "outputs": [
        {
          "output_type": "stream",
          "name": "stdout",
          "text": [
            "dict_items([('one', 1), ('two', 2)])\n"
          ]
        }
      ]
    },
    {
      "cell_type": "code",
      "source": [
        "d = {'one': 1, 'two' : 2}\n",
        "print(d.get('one')) # d['one']"
      ],
      "metadata": {
        "colab": {
          "base_uri": "https://localhost:8080/"
        },
        "id": "BBrx5W8BsPwt",
        "outputId": "6c39d710-3134-49d8-d16b-56be6634006e"
      },
      "execution_count": null,
      "outputs": [
        {
          "output_type": "stream",
          "name": "stdout",
          "text": [
            "1\n"
          ]
        }
      ]
    },
    {
      "cell_type": "code",
      "source": [
        "d = {'one': 1, 'two' : 2}\n",
        "print(d.clear())\n",
        "print(d)"
      ],
      "metadata": {
        "colab": {
          "base_uri": "https://localhost:8080/"
        },
        "id": "saK9kI-rsICF",
        "outputId": "6efc3218-bf76-4035-cc92-07820c5056bb"
      },
      "execution_count": null,
      "outputs": [
        {
          "output_type": "stream",
          "name": "stdout",
          "text": [
            "None\n",
            "{}\n"
          ]
        }
      ]
    },
    {
      "cell_type": "code",
      "source": [
        "d = {'one': 1, 'two' : 2}\n",
        "print(d.get('one'))  #d['one']\n",
        "print(d.get('three'))\n",
        "print(d.get('three', 0))  #get(key, default)"
      ],
      "metadata": {
        "colab": {
          "base_uri": "https://localhost:8080/"
        },
        "id": "TTdkrBgNtIyd",
        "outputId": "707c68bc-8d5d-4eb0-84b3-7f053f4ebeff"
      },
      "execution_count": null,
      "outputs": [
        {
          "output_type": "stream",
          "name": "stdout",
          "text": [
            "1\n",
            "None\n",
            "0\n"
          ]
        }
      ]
    },
    {
      "cell_type": "markdown",
      "source": [
        "-------------------------------------------------------------  \n",
        "str: immutable, sequense  \n",
        "list : mutable, sequense  \n",
        "tuple : immutable, sequense  \n",
        "set : mutable, non-sequense  \n",
        "frosenset : imutable, non-sequense   \n",
        "dict : mutable, non-sequense\n",
        "\n",
        "indexing, slicing : str, list, tuple"
      ],
      "metadata": {
        "id": "MwubHp57xB55"
      }
    },
    {
      "cell_type": "markdown",
      "source": [
        "##boolean\n",
        "- True(참), False(거짓)\n"
      ],
      "metadata": {
        "id": "ylcRATNjyBLW"
      }
    },
    {
      "cell_type": "code",
      "source": [
        "a = True\n",
        "print(a)\n",
        "print(type(a))\n",
        "print(dir(a))"
      ],
      "metadata": {
        "colab": {
          "base_uri": "https://localhost:8080/"
        },
        "id": "6nNZDXKVx_Ft",
        "outputId": "cb8ea014-41e0-4382-d758-98f4e09f3eee"
      },
      "execution_count": null,
      "outputs": [
        {
          "output_type": "stream",
          "name": "stdout",
          "text": [
            "True\n",
            "<class 'bool'>\n",
            "['__abs__', '__add__', '__and__', '__bool__', '__ceil__', '__class__', '__delattr__', '__dir__', '__divmod__', '__doc__', '__eq__', '__float__', '__floor__', '__floordiv__', '__format__', '__ge__', '__getattribute__', '__getnewargs__', '__gt__', '__hash__', '__index__', '__init__', '__init_subclass__', '__int__', '__invert__', '__le__', '__lshift__', '__lt__', '__mod__', '__mul__', '__ne__', '__neg__', '__new__', '__or__', '__pos__', '__pow__', '__radd__', '__rand__', '__rdivmod__', '__reduce__', '__reduce_ex__', '__repr__', '__rfloordiv__', '__rlshift__', '__rmod__', '__rmul__', '__ror__', '__round__', '__rpow__', '__rrshift__', '__rshift__', '__rsub__', '__rtruediv__', '__rxor__', '__setattr__', '__sizeof__', '__str__', '__sub__', '__subclasshook__', '__truediv__', '__trunc__', '__xor__', 'as_integer_ratio', 'bit_count', 'bit_length', 'conjugate', 'denominator', 'from_bytes', 'imag', 'numerator', 'real', 'to_bytes']\n"
          ]
        }
      ]
    },
    {
      "cell_type": "code",
      "source": [
        "# python은 existance로 판단한다\n",
        "a=1\n",
        "print(bool(a)) # True\n",
        "\n",
        "b=0\n",
        "print(bool(b)) # False\n",
        "\n",
        "c='ko'\n",
        "print(bool(c)) # True\n",
        "\n",
        "d=''\n",
        "print(bool(d)) # False\n",
        "\n",
        "e=(1,2)\n",
        "print(bool(e)) # True\n",
        "\n",
        "f=()\n",
        "print(bool(f)) # False"
      ],
      "metadata": {
        "colab": {
          "base_uri": "https://localhost:8080/"
        },
        "id": "DLwMox0YyMNn",
        "outputId": "6a52dc8f-1ee8-479b-ee0f-52d7d786142a"
      },
      "execution_count": null,
      "outputs": [
        {
          "output_type": "stream",
          "name": "stdout",
          "text": [
            "True\n",
            "False\n",
            "True\n",
            "False\n",
            "True\n",
            "False\n"
          ]
        }
      ]
    },
    {
      "cell_type": "markdown",
      "source": [
        "## 문제"
      ],
      "metadata": {
        "id": "aYUn3sLA_m6c"
      }
    },
    {
      "cell_type": "markdown",
      "source": [
        "100 이하의 자연수 중에서 2의 배수이거나 3의 배수인 수의 개수를 구하세요.\n",
        "\n",
        "[실행결과]  \n",
        "67"
      ],
      "metadata": {
        "id": "zfSegIcsz95f"
      }
    },
    {
      "cell_type": "code",
      "source": [
        "a = len(range(2, 101, 2))\n",
        "b = len(range(3, 101, 3))\n",
        "print(a+b)"
      ],
      "metadata": {
        "colab": {
          "base_uri": "https://localhost:8080/"
        },
        "id": "O9V8lDPctI2d",
        "outputId": "455de6b6-dc53-41cc-fed7-83b3f26e76e1"
      },
      "execution_count": null,
      "outputs": [
        {
          "output_type": "stream",
          "name": "stdout",
          "text": [
            "83\n"
          ]
        }
      ]
    },
    {
      "cell_type": "markdown",
      "source": [
        "전체집합을 U로 할때 U의 부분집합 A와 B에 대해서 연산의 결과를 구현하세요.\n",
        "\n",
        "U = {1, 2, 3, 4, 5, 6, 7, 8, 9, 10}\n",
        "A = {1, 3, 5, 7, 9}\n",
        "B = {1, 2, 3, 4, 5}\n",
        "\n",
        "가) A∩Bc\n",
        "\n",
        "나) (A∪B)c\n",
        "\n",
        "[실행결과]  \n",
        "가) {7, 9}   나) {6, 8, 10}"
      ],
      "metadata": {
        "id": "7MWIeyul0Ejd"
      }
    },
    {
      "cell_type": "code",
      "source": [
        "U = {1, 2, 3, 4, 5, 6, 7, 8, 9, 10}\n",
        "A = {1, 3, 5, 7, 9}\n",
        "B = {1, 2, 3, 4, 5}\n",
        "\n",
        "# 가)\n",
        "print(A&(U-B))\n",
        "# 나)\n",
        "print(U-(A|B))"
      ],
      "metadata": {
        "colab": {
          "base_uri": "https://localhost:8080/"
        },
        "id": "Hzci57N-tI51",
        "outputId": "6bc18155-14f4-4c57-dd90-d8f946742f6c"
      },
      "execution_count": null,
      "outputs": [
        {
          "output_type": "stream",
          "name": "stdout",
          "text": [
            "{9, 7}\n",
            "{8, 10, 6}\n"
          ]
        }
      ]
    },
    {
      "cell_type": "markdown",
      "source": [
        "주어진 문자열의 각 단어가 중복되지 않게 한 번씩만 출력이 되도록 구현하세요. (출력순서를 무관합니다.)\n",
        "s = 'one two one two three four'\n",
        "\n",
        "[실행결과]  \n",
        "['two', 'four', 'one', 'three']"
      ],
      "metadata": {
        "id": "hQKz0X440LFm"
      }
    },
    {
      "cell_type": "code",
      "source": [
        "s = 'one two one two three four'\n",
        "\n",
        "set(s.split(' '))\n"
      ],
      "metadata": {
        "colab": {
          "base_uri": "https://localhost:8080/"
        },
        "id": "fktAVMgbtI9L",
        "outputId": "c13a23e8-a6a7-4a1c-a351-74764da9d441"
      },
      "execution_count": null,
      "outputs": [
        {
          "output_type": "execute_result",
          "data": {
            "text/plain": [
              "{'four', 'one', 'three', 'two'}"
            ]
          },
          "metadata": {},
          "execution_count": 127
        }
      ]
    },
    {
      "cell_type": "markdown",
      "source": [
        "튜플에 저장된 데이터에서 마지막 요소 5개를 삭제한뒤 나머지를 튜플로 출력하세요.\n",
        "data =1,2,3,4,5,6,7,8,9,10\n",
        "\n",
        "[실행결과]  \n",
        "(1, 2, 3, 4, 5)"
      ],
      "metadata": {
        "id": "c_tKecaf0T12"
      }
    },
    {
      "cell_type": "code",
      "source": [
        "data =1,2,3,4,5,6,7,8,9,10\n",
        "\n",
        "t=data\n",
        "\n",
        "print(data[0:5:1])\n",
        "print(type(data))\n"
      ],
      "metadata": {
        "colab": {
          "base_uri": "https://localhost:8080/"
        },
        "id": "hoPFQbRjtJAl",
        "outputId": "7e4e4ace-9fbd-498e-87be-8add6c2fd62d"
      },
      "execution_count": null,
      "outputs": [
        {
          "output_type": "stream",
          "name": "stdout",
          "text": [
            "(1, 2, 3, 4, 5)\n",
            "<class 'tuple'>\n"
          ]
        }
      ]
    },
    {
      "cell_type": "markdown",
      "source": [
        "a변수에 저장된 문자열에서 인덱스 홀수, b변수에 저장된 문자열에서 인덱스 짝수만을 가져오는 연결하는 프로그램을 구현하세요.\n",
        "a='apple'\n",
        "b='strawberry'\n",
        "\n",
        "[실행결과]  \n",
        "plsrwer"
      ],
      "metadata": {
        "id": "CUjL6la10aKd"
      }
    },
    {
      "cell_type": "code",
      "source": [
        "a='apple'\n",
        "b='strawberry'\n",
        "\n",
        "A = a[1::2]\n",
        "B = b[0::2]\n",
        "\n",
        "print(A+B)"
      ],
      "metadata": {
        "colab": {
          "base_uri": "https://localhost:8080/"
        },
        "id": "RQRrSgSm0bx-",
        "outputId": "07b36bdb-e3b4-4d9d-af63-f936d7133783"
      },
      "execution_count": null,
      "outputs": [
        {
          "output_type": "stream",
          "name": "stdout",
          "text": [
            "plsrwer\n"
          ]
        }
      ]
    }
  ]
}