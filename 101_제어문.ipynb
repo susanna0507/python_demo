{
  "nbformat": 4,
  "nbformat_minor": 0,
  "metadata": {
    "colab": {
      "provenance": [],
      "authorship_tag": "ABX9TyNpRNDfbXkwCBOxQ8rUcd98",
      "include_colab_link": true
    },
    "kernelspec": {
      "name": "python3",
      "display_name": "Python 3"
    },
    "language_info": {
      "name": "python"
    }
  },
  "cells": [
    {
      "cell_type": "markdown",
      "metadata": {
        "id": "view-in-github",
        "colab_type": "text"
      },
      "source": [
        "<a href=\"https://colab.research.google.com/github/susanna0507/python_demo/blob/master/101_%EC%A0%9C%EC%96%B4%EB%AC%B8.ipynb\" target=\"_parent\"><img src=\"https://colab.research.google.com/assets/colab-badge.svg\" alt=\"Open In Colab\"/></a>"
      ]
    },
    {
      "cell_type": "markdown",
      "source": [
        "# 비교연산자\n",
        "- < > <= >= == !=\n",
        "- 결과는 논리값: True, False"
      ],
      "metadata": {
        "id": "BOkNgy4bqSJU"
      }
    },
    {
      "cell_type": "code",
      "source": [
        "print(3 < 2)\n",
        "print(3 > 2)\n",
        "print(3 == 2)\n",
        "print(3 != 2)"
      ],
      "metadata": {
        "colab": {
          "base_uri": "https://localhost:8080/"
        },
        "id": "FmPwrcO7ql8g",
        "outputId": "0b8e820e-54a2-4841-d121-e23d5358523e"
      },
      "execution_count": null,
      "outputs": [
        {
          "output_type": "stream",
          "name": "stdout",
          "text": [
            "False\n",
            "True\n",
            "False\n",
            "True\n"
          ]
        }
      ]
    },
    {
      "cell_type": "markdown",
      "source": [
        "# 논리연산자"
      ],
      "metadata": {
        "id": "zIIxdRQ9q1SO"
      }
    },
    {
      "cell_type": "code",
      "source": [
        "print(True and True)\n",
        "print(True or True)\n",
        "print(not True)"
      ],
      "metadata": {
        "colab": {
          "base_uri": "https://localhost:8080/"
        },
        "id": "gZICE5S9ql_M",
        "outputId": "1d76ad4d-60a0-4e36-93df-702deb455d05"
      },
      "execution_count": null,
      "outputs": [
        {
          "output_type": "stream",
          "name": "stdout",
          "text": [
            "True\n",
            "True\n",
            "False\n"
          ]
        }
      ]
    },
    {
      "cell_type": "markdown",
      "source": [
        "# existance\n",
        "- python에서 조건은 존재론적(existance)이다 => truthy, falsey"
      ],
      "metadata": {
        "id": "qkBdBqIirnnD"
      }
    },
    {
      "cell_type": "code",
      "execution_count": null,
      "metadata": {
        "colab": {
          "base_uri": "https://localhost:8080/"
        },
        "id": "Eywsq31DoE3A",
        "outputId": "93f3a351-8825-4500-b329-23e3509c0153"
      },
      "outputs": [
        {
          "output_type": "stream",
          "name": "stdout",
          "text": [
            "no\n"
          ]
        }
      ],
      "source": [
        "#0은 숫자가 없는 것과 같음 -> falsey\n",
        "a = 0.0\n",
        "if a:\n",
        "  print('yes')\n",
        "else:\n",
        "  print('no')"
      ]
    },
    {
      "cell_type": "code",
      "source": [
        "# None은 숫자가 없는 것과 같음 -> falsey\n",
        "a = None\n",
        "if a:\n",
        "  print('yes')\n",
        "else:\n",
        "  print('no')"
      ],
      "metadata": {
        "colab": {
          "base_uri": "https://localhost:8080/"
        },
        "id": "GdL0yLUPsgue",
        "outputId": "bda5d9e1-b302-4d48-f500-df2fdfd1569e"
      },
      "execution_count": null,
      "outputs": [
        {
          "output_type": "stream",
          "name": "stdout",
          "text": [
            "no\n"
          ]
        }
      ]
    },
    {
      "cell_type": "code",
      "source": [
        "# 비어있는 dict는 없는 것과 같음 -> falsey\n",
        "a = { }\n",
        "if a:\n",
        "  print('yes')\n",
        "else:\n",
        "  print('no')"
      ],
      "metadata": {
        "colab": {
          "base_uri": "https://localhost:8080/"
        },
        "id": "fBI_fHnJsWv8",
        "outputId": "322da39f-f4f9-492a-a541-d65c26e71675"
      },
      "execution_count": null,
      "outputs": [
        {
          "output_type": "stream",
          "name": "stdout",
          "text": [
            "no\n"
          ]
        }
      ]
    },
    {
      "cell_type": "code",
      "source": [
        "a = int()\n",
        "b = float()\n",
        "c = list()\n",
        "d = tuple()\n",
        "e = str()\n",
        "f = set()\n",
        "g = frozenset()\n",
        "\n",
        "if a:\n",
        "  print('yes')\n",
        "else:\n",
        "  print('no')"
      ],
      "metadata": {
        "colab": {
          "base_uri": "https://localhost:8080/"
        },
        "id": "oo0f5zfvu_eL",
        "outputId": "eb65c1f4-830b-4b39-bdea-11334ce0211e"
      },
      "execution_count": null,
      "outputs": [
        {
          "output_type": "stream",
          "name": "stdout",
          "text": [
            "no\n"
          ]
        }
      ]
    },
    {
      "cell_type": "code",
      "source": [
        "3<2 or 4<5"
      ],
      "metadata": {
        "id": "NS9Pv2kwoTwf"
      },
      "execution_count": null,
      "outputs": []
    },
    {
      "cell_type": "code",
      "source": [
        "# and는 앞이 True 이면 뒤에 값을 반환한다.\n",
        "3 and 4"
      ],
      "metadata": {
        "colab": {
          "base_uri": "https://localhost:8080/"
        },
        "id": "MB84xCvkoTzE",
        "outputId": "7c2e8555-25c1-4eff-abed-e07da07483a9"
      },
      "execution_count": null,
      "outputs": [
        {
          "output_type": "execute_result",
          "data": {
            "text/plain": [
              "4"
            ]
          },
          "metadata": {},
          "execution_count": 2
        }
      ]
    },
    {
      "cell_type": "code",
      "source": [
        "3 and 0"
      ],
      "metadata": {
        "colab": {
          "base_uri": "https://localhost:8080/"
        },
        "id": "EY6zSzy_oT1k",
        "outputId": "fed1e3ca-6702-4898-fe7a-fb957488bea8"
      },
      "execution_count": null,
      "outputs": [
        {
          "output_type": "execute_result",
          "data": {
            "text/plain": [
              "0"
            ]
          },
          "metadata": {},
          "execution_count": 3
        }
      ]
    },
    {
      "cell_type": "code",
      "source": [
        "3 and 1"
      ],
      "metadata": {
        "colab": {
          "base_uri": "https://localhost:8080/"
        },
        "id": "0kIKONvOoT4E",
        "outputId": "24a59e80-729a-497c-d0fa-a9b1f3026399"
      },
      "execution_count": null,
      "outputs": [
        {
          "output_type": "execute_result",
          "data": {
            "text/plain": [
              "1"
            ]
          },
          "metadata": {},
          "execution_count": 4
        }
      ]
    },
    {
      "cell_type": "code",
      "source": [
        "# and는 앞이 false이면 앞에 값을 반환한다\n",
        "0 and 3"
      ],
      "metadata": {
        "colab": {
          "base_uri": "https://localhost:8080/"
        },
        "id": "HOvw9K-_oT6d",
        "outputId": "3583250d-ed63-4a93-88c6-f37d47b0f29d"
      },
      "execution_count": null,
      "outputs": [
        {
          "output_type": "execute_result",
          "data": {
            "text/plain": [
              "0"
            ]
          },
          "metadata": {},
          "execution_count": 5
        }
      ]
    },
    {
      "cell_type": "code",
      "source": [
        "# and는 앞이 false이면 앞에 값을 반환한다\n",
        "# 비어 있는 문자열은 없는 것과 같음 -> falsey\n",
        "'' and 4"
      ],
      "metadata": {
        "colab": {
          "base_uri": "https://localhost:8080/",
          "height": 35
        },
        "id": "0HSPhIQroT9E",
        "outputId": "5bc3ad5c-d016-4cc3-f46a-76debe81ae2c"
      },
      "execution_count": null,
      "outputs": [
        {
          "output_type": "execute_result",
          "data": {
            "text/plain": [
              "''"
            ],
            "application/vnd.google.colaboratory.intrinsic+json": {
              "type": "string"
            }
          },
          "metadata": {},
          "execution_count": 7
        }
      ]
    },
    {
      "cell_type": "code",
      "source": [
        "# or은 앞이 True이면 앞의 값이 리턴된다.\n",
        "1 or 4"
      ],
      "metadata": {
        "id": "Pe1olG9Ro7o8"
      },
      "execution_count": null,
      "outputs": []
    },
    {
      "cell_type": "code",
      "source": [
        "# or은 앞이 False이면 뒤의 값을 리턴된다.\n",
        "'' or 4"
      ],
      "metadata": {
        "colab": {
          "base_uri": "https://localhost:8080/"
        },
        "id": "G1RqJejAo7rk",
        "outputId": "70005dd3-adf3-4ec4-8232-db22c0661ecc"
      },
      "execution_count": null,
      "outputs": [
        {
          "output_type": "execute_result",
          "data": {
            "text/plain": [
              "4"
            ]
          },
          "metadata": {},
          "execution_count": 8
        }
      ]
    },
    {
      "cell_type": "markdown",
      "source": [
        "# 제어문(statement controller)\n",
        "- 문장의 흐름을 제어해 준다.\n",
        "- 조건문, 반복문\n",
        "- 조건문\n",
        " - if ~ else\n",
        "- 반복문\n",
        " - for ~ in\n",
        " - while\n",
        "- break, continue"
      ],
      "metadata": {
        "id": "Rz6qcqmDpr3N"
      }
    },
    {
      "cell_type": "markdown",
      "source": [
        "```\n",
        "if 조건식:\n",
        " 수행할 문장\n",
        "else:\n",
        " 수행할 문장\n",
        "```"
      ],
      "metadata": {
        "id": "jMbaWl9erK5k"
      }
    },
    {
      "cell_type": "code",
      "source": [
        "a = 8\n",
        "if a>5 :\n",
        "  print('OK')\n",
        "else:\n",
        "  print('Fail')"
      ],
      "metadata": {
        "colab": {
          "base_uri": "https://localhost:8080/"
        },
        "id": "rl69WATuo7uM",
        "outputId": "bea2551d-a6b6-44c2-f9da-12cc438ab6b6"
      },
      "execution_count": null,
      "outputs": [
        {
          "output_type": "stream",
          "name": "stdout",
          "text": [
            "OK\n"
          ]
        }
      ]
    },
    {
      "cell_type": "code",
      "source": [
        "a=8\n",
        "if a%2==0:\n",
        "  print('even')\n",
        "else:\n",
        "  print('odd')\n"
      ],
      "metadata": {
        "colab": {
          "base_uri": "https://localhost:8080/"
        },
        "id": "GQs-l0nko7w0",
        "outputId": "242dc857-cc00-4f49-b571-e2f3be4edec9"
      },
      "execution_count": null,
      "outputs": [
        {
          "output_type": "stream",
          "name": "stdout",
          "text": [
            "even\n"
          ]
        }
      ]
    },
    {
      "cell_type": "code",
      "source": [
        "name = '조윤수'\n",
        "if name :\n",
        "  print (name)"
      ],
      "metadata": {
        "colab": {
          "base_uri": "https://localhost:8080/"
        },
        "id": "S7LpEczVo7zU",
        "outputId": "2d45153e-1be6-466f-b1fd-9e32d06107ce"
      },
      "execution_count": null,
      "outputs": [
        {
          "output_type": "stream",
          "name": "stdout",
          "text": [
            "조윤수\n"
          ]
        }
      ]
    },
    {
      "cell_type": "code",
      "source": [
        "# if 조건에 문장을 사용할 수 없다. (ex) 대입식..)\n",
        "if a=4:\n",
        "  print(a)"
      ],
      "metadata": {
        "colab": {
          "base_uri": "https://localhost:8080/",
          "height": 147
        },
        "id": "f_7GsXFHsqu7",
        "outputId": "2db7883d-93a8-4901-f59a-b9e7d43904c1"
      },
      "execution_count": null,
      "outputs": [
        {
          "output_type": "error",
          "ename": "SyntaxError",
          "evalue": "ignored",
          "traceback": [
            "\u001b[0;36m  File \u001b[0;32m\"<ipython-input-17-a06d515afff2>\"\u001b[0;36m, line \u001b[0;32m2\u001b[0m\n\u001b[0;31m    if a=4:\u001b[0m\n\u001b[0m       ^\u001b[0m\n\u001b[0;31mSyntaxError\u001b[0m\u001b[0;31m:\u001b[0m invalid syntax. Maybe you meant '==' or ':=' instead of '='?\n"
          ]
        }
      ]
    },
    {
      "cell_type": "code",
      "source": [
        "# 다중 if ~ else 문장\n",
        "# 80이상이면 '상', 80미만 60이상이면 '중', 60미만이면 '하'\n",
        "a = 75\n",
        "if a>=80:\n",
        "  print('상')\n",
        "elif a>=60:\n",
        "  print('중')\n",
        "else:\n",
        "  print('하')\n"
      ],
      "metadata": {
        "colab": {
          "base_uri": "https://localhost:8080/"
        },
        "id": "XKcYVYVMtXoP",
        "outputId": "9e4856f0-e4ce-42a4-cb08-9e84ea234255"
      },
      "execution_count": null,
      "outputs": [
        {
          "output_type": "stream",
          "name": "stdout",
          "text": [
            "중\n"
          ]
        }
      ]
    },
    {
      "cell_type": "code",
      "source": [
        "a = 75\n",
        "if a>=80:\n",
        "  print('상')\n",
        "else:\n",
        "  if a>=60:\n",
        "    print('중')\n",
        "  else:\n",
        "    print('하')\n"
      ],
      "metadata": {
        "colab": {
          "base_uri": "https://localhost:8080/"
        },
        "id": "ELBLf_BFuz5T",
        "outputId": "d8a4edf3-7198-401e-9046-eba3cfd60cb4"
      },
      "execution_count": null,
      "outputs": [
        {
          "output_type": "stream",
          "name": "stdout",
          "text": [
            "중\n"
          ]
        }
      ]
    },
    {
      "cell_type": "code",
      "source": [
        "a = 65\n",
        "\n",
        "if a >= 50:\n",
        "  if a >= 80:\n",
        "    print('상')\n",
        "  else:\n",
        "    print('중')\n",
        "else:\n",
        "  print('하')\n"
      ],
      "metadata": {
        "colab": {
          "base_uri": "https://localhost:8080/"
        },
        "id": "w7ipa7fyvcVs",
        "outputId": "786a1078-7d39-4afa-f9f0-93be6a0b580d"
      },
      "execution_count": null,
      "outputs": [
        {
          "output_type": "stream",
          "name": "stdout",
          "text": [
            "중\n"
          ]
        }
      ]
    },
    {
      "cell_type": "code",
      "source": [
        "member = True\n",
        "grade = 'A' # 'S' 50, 'A' 30\n",
        "point = 0\n",
        "\n",
        "if member :\n",
        " #pass\n",
        "  if grade == 'S':\n",
        "     point = 50\n",
        "  else:\n",
        "     point = 30\n",
        "else:\n",
        "  point=0\n",
        "\n",
        "print(point)"
      ],
      "metadata": {
        "colab": {
          "base_uri": "https://localhost:8080/"
        },
        "id": "N6Mahg8zwSEU",
        "outputId": "66976d02-1e9c-4441-9acd-8a97f6125c8d"
      },
      "execution_count": null,
      "outputs": [
        {
          "output_type": "stream",
          "name": "stdout",
          "text": [
            "30\n"
          ]
        }
      ]
    },
    {
      "cell_type": "code",
      "source": [
        "age = int(input('나이:'))\n",
        "gender = input('성별[남,여]:')\n",
        "\n",
        "if gender == '남':\n",
        "  if age > 19:\n",
        "    print('성인 남성입니다')\n",
        "  else:\n",
        "    print('청소년 남성입니다')\n",
        "elif gender == '여':\n",
        "  if age > 19:\n",
        "    print('성인 여성입니다')\n",
        "  else:\n",
        "    print('청소년 여성입니다')\n",
        "else:\n",
        "  print('다시 입력해 주세요[남, 여]')"
      ],
      "metadata": {
        "colab": {
          "base_uri": "https://localhost:8080/"
        },
        "id": "lsn9QUNEwVsC",
        "outputId": "01bbc3c4-971b-44ef-b83d-a3d686bf4c67"
      },
      "execution_count": null,
      "outputs": [
        {
          "output_type": "stream",
          "name": "stdout",
          "text": [
            "나이:23\n",
            "성별[남,여]:여\n",
            "성인 여성입니다\n"
          ]
        }
      ]
    },
    {
      "cell_type": "code",
      "source": [
        "# 윤년 : 연도를 4로 나누어 떨어지고 100으로 나누어 떨어지면 안되거나\n",
        "#                400으로 나눠 떨어지면 된다\n",
        "import sys\n",
        "year = int(input('year:'))\n",
        "month = int(input('month:'))\n",
        "end_day_31= [1, 3, 5, 7, 8, 10, 12]\n",
        "end_day_30= [4, 6, 9, 11]\n",
        "day= 28\n",
        "check = ''\n",
        "\n",
        "if not( month >=1 and month <=12):\n",
        "  print('월은 1~12까지만 입력해주세요')\n",
        "  sys.exit() # 시스템 종료\n",
        "\n",
        "#if month==4 or month==6 or month==9 or month==11:\n",
        "if month in end_day_30:\n",
        "  day=30\n",
        "else:\n",
        "  day=31\n",
        "\n",
        "if(year%4==0 and year%100!=0) or year%400==0:\n",
        "  check='윤년'\n",
        "  if month ==2:\n",
        "     day =29\n",
        "\n",
        "else:\n",
        "  check='평년'\n",
        "  if month ==2:\n",
        "    day=28\n",
        "\n",
        "print('{}년도는 {}월은 {}, 마지막일은 {}일입니다'.format(year, month, check, day))\n"
      ],
      "metadata": {
        "colab": {
          "base_uri": "https://localhost:8080/"
        },
        "id": "XQyTcIvaDMog",
        "outputId": "c78ce912-485f-4ccf-f281-44a9681a5863"
      },
      "execution_count": null,
      "outputs": [
        {
          "output_type": "stream",
          "name": "stdout",
          "text": [
            "year:2016\n",
            "month:5\n",
            "2016년도는 5월은 윤년, 마지막일은 31일입니다\n"
          ]
        }
      ]
    },
    {
      "cell_type": "markdown",
      "source": [
        "* 퀴즈\n",
        "1. 놀이기구에 키가 140cm이상이고,\n",
        "  나이가 8세 이상인 사람만 탑승한다고 가정합니다.\n",
        "2. 먼저 키(height)와 나이(age)를 입력받으세요.\n",
        "3. 조건문 if~else를 사용하여 2개의 조건이 모두 참일 경우\n",
        "  \"놀이기구에 탑승할 수 있습니다.\"를 출력하세요.\n",
        "4. 위 조건이 거짓일 경우 \"놀이기구에 탑승할 수 없습니다.\"\n",
        "    를 출력하세요.\n",
        "5. 조건식과는 별개로 \"오늘 하루 즐거운 시간되세요!\"\n",
        "   를 출력하세요.\n",
        "'''"
      ],
      "metadata": {
        "id": "aDR4dqQq29Hx"
      }
    },
    {
      "cell_type": "code",
      "source": [
        "height = int(input('키:'))\n",
        "age = int(input('나이:'))\n",
        "\n",
        "if height>=140 and age>=8:\n",
        "    print('놀이기구에 탑승할 수 있습니다')\n",
        "else:\n",
        "  print('놀이기구에 탑승할 수 없습니다')\n",
        "\n",
        "print('오늘 하루 즐거운 시간되세요!')"
      ],
      "metadata": {
        "colab": {
          "base_uri": "https://localhost:8080/"
        },
        "id": "TXNHRbM-16OH",
        "outputId": "4e629406-d9ac-4856-9c4f-d82fa2ed5694"
      },
      "execution_count": null,
      "outputs": [
        {
          "output_type": "stream",
          "name": "stdout",
          "text": [
            "키:130\n",
            "나이:9\n",
            "놀이기구에 탑승할 수 없습니다\n",
            "오늘 하루 즐거운 시간되세요!\n"
          ]
        }
      ]
    },
    {
      "cell_type": "markdown",
      "source": [
        "'''\n",
        "[조건]\n",
        "1. 18세 미만은 이 영화를 볼 수 없다\n",
        "2. 18세 이상 59세 이하의 손님은 8000원\n",
        "3. 60세 이상의 손님은 5000원\n",
        "4. 포인트카드를 가지고 있고 지금까지 5편의 영화를 본 손님은 5000원\n",
        "\n",
        "18세 미만이면 '티켓을 팔 수 없다'를 기술한 부분이다.\n",
        "60세 이상이거나 포인트가 있고 5편 관람한 할인 대상자는 '티켓은 5000원입니다.\n",
        "그외는 '티켓은 8000원입니다'로 출력하는 프로그램을 구현하시오.\n",
        "\n",
        "[테스트1]\n",
        "age=35\n",
        "point_card =True\n",
        "count=5\n",
        "\n",
        "출력결과 : 티켓은 5000원입니다\n",
        "\n",
        "[테스트2]\n",
        "age=35\n",
        "point_card =True\n",
        "count=5\n",
        "\n",
        "출력결과 : 티켓을 판매할 수 없습니다\n",
        "\n",
        "[테스트3]\n",
        "age=35\n",
        "point_card =True\n",
        "count=3\n",
        "\n",
        "출력결과: 티켓은 8000원입니다\n",
        "'''"
      ],
      "metadata": {
        "id": "xlXCw-aA65K6"
      }
    },
    {
      "cell_type": "code",
      "source": [
        "age=int(input('나이:'))\n",
        "point_card =input('포인트 카드 유무(있음, 없음):')\n",
        "count=int(input('영화를 본 횟수:'))\n",
        "\n",
        "if age>18:\n",
        "  if age>=60:\n",
        "    print('티켓은 5000원 입니다')\n",
        "  else:\n",
        "    if point_card == '있음' :\n",
        "      if count>=5:\n",
        "        print('티켓은 5000원 입니다')\n",
        "      else:\n",
        "        print('티켓은 8000원 입니다')\n",
        "    else:\n",
        "      print('티켓은 8000원 입니다')\n",
        "\n",
        "else :\n",
        "  print('티켓을 팔 수 없습니다')"
      ],
      "metadata": {
        "colab": {
          "base_uri": "https://localhost:8080/"
        },
        "id": "bxhQzwsTwVxq",
        "outputId": "f9d7c534-420d-459f-f66c-18861ccdcd0c"
      },
      "execution_count": null,
      "outputs": [
        {
          "output_type": "stream",
          "name": "stdout",
          "text": [
            "나이:20\n",
            "포인트 카드 유무(있음, 없음):True\n",
            "영화를 본 횟수:5\n",
            "티켓은 8000원 입니다\n"
          ]
        }
      ]
    },
    {
      "cell_type": "code",
      "source": [
        "# 선생님 풀이\n",
        "age=int(input('나이:'))\n",
        "point_card =bool('포인트 카드 소지 여부:')\n",
        "count=int(input('영화를 본 횟수:'))\n",
        "\n",
        "if age<18:\n",
        "  print('티켓을 팔 수 없습니다')\n",
        "elif age>=60 or (point_card==True and count ==5) :\n",
        "  print('티켓은 5000원 입니다')\n",
        "else:\n",
        "  print('티켓은 8000원 입니다')\n"
      ],
      "metadata": {
        "id": "Ta9E-UDP-p1b"
      },
      "execution_count": null,
      "outputs": []
    },
    {
      "cell_type": "markdown",
      "source": [
        "## 반복문 : while\n",
        "반복문에서 else는 반복문이 완벽하게 끝났을 때 실행된다.  \n",
        "대부분의 프로그래밍 언어는 while과 for을 지원한다.  \n",
        "\n",
        "else\n",
        "- if ~ else\n",
        "- try ~ expect ~ else ~ finally\n",
        "- while ~ else\n",
        "\n",
        "\n",
        "```\n",
        "whlie 조건식:\n",
        "   수행할 문장\n",
        "else:\n",
        "   수행할 문장\n",
        "   ```"
      ],
      "metadata": {
        "id": "cckw2v5TNFr9"
      }
    },
    {
      "cell_type": "code",
      "source": [
        "# while문이 완벽히 돌았으므로 end가 츨력된다\n",
        "a = 10\n",
        "while a > 5:\n",
        "  a -= 1  # a = a - 1\n",
        "  print(a) # 한번 계산이 끝나고 나면 다시 while로 넘어가 출력\n",
        "else:\n",
        "  print('end')"
      ],
      "metadata": {
        "colab": {
          "base_uri": "https://localhost:8080/"
        },
        "id": "3si31uZlNKkf",
        "outputId": "00cd40c0-d32e-42ab-e242-9a86153e5bd6"
      },
      "execution_count": null,
      "outputs": [
        {
          "output_type": "stream",
          "name": "stdout",
          "text": [
            "9\n",
            "8\n",
            "7\n",
            "6\n",
            "5\n",
            "end\n"
          ]
        }
      ]
    },
    {
      "cell_type": "code",
      "source": [
        "# while문을 강제적으로 빠져나왔기 때문에 else 영역을 실행하지 않는다\n",
        "a = 10\n",
        "while a > 5:\n",
        "  a -=  1\n",
        "  print(a)\n",
        "  if a==5:\n",
        "    break   #반복문을 강제적으로 빠져나올때 사용한다. 즉 반복문을 중단시킨다\n",
        "else:\n",
        "  print('end')"
      ],
      "metadata": {
        "colab": {
          "base_uri": "https://localhost:8080/"
        },
        "id": "FYZ65DWaNKnU",
        "outputId": "2520e185-f1dc-4b61-8082-5256f94cc52a"
      },
      "execution_count": null,
      "outputs": [
        {
          "output_type": "stream",
          "name": "stdout",
          "text": [
            "9\n",
            "8\n",
            "7\n",
            "6\n",
            "5\n"
          ]
        }
      ]
    },
    {
      "cell_type": "code",
      "source": [
        "# continue는 다음 루프(조건식)로 바로 넘어간다\n",
        "# 반복문을 중단하지는 않으므로 else문이 실행된다.\n",
        "a = 10\n",
        "while a>5:\n",
        "  a -= 1\n",
        "  if a % 2 == 0 :\n",
        "    continue  # 이동\n",
        "  print(a)\n",
        "else:\n",
        "  print('end')"
      ],
      "metadata": {
        "colab": {
          "base_uri": "https://localhost:8080/"
        },
        "id": "roqV3Ot8NKqN",
        "outputId": "f7add620-fcf4-4448-b6ae-4b10027cd8a0"
      },
      "execution_count": null,
      "outputs": [
        {
          "output_type": "stream",
          "name": "stdout",
          "text": [
            "9\n",
            "8\n",
            "7\n",
            "5\n",
            "end\n"
          ]
        }
      ]
    },
    {
      "cell_type": "code",
      "source": [
        "# 1부터 10까지 출력하는 프로그램\n",
        "a = 1\n",
        "while a<=10:\n",
        "  print(a)\n",
        "  a = a+1   # a+=1\n",
        "  a+a+1"
      ],
      "metadata": {
        "colab": {
          "base_uri": "https://localhost:8080/"
        },
        "id": "aFQFIWOJj_7x",
        "outputId": "da4bf1fe-e0a5-4f3d-b35a-87c56d51a71d"
      },
      "execution_count": null,
      "outputs": [
        {
          "output_type": "stream",
          "name": "stdout",
          "text": [
            "1\n",
            "2\n",
            "3\n",
            "4\n",
            "5\n",
            "6\n",
            "7\n",
            "8\n",
            "9\n",
            "10\n"
          ]
        }
      ]
    },
    {
      "cell_type": "code",
      "source": [
        "# 1부터 10까지 출력하고 합계 구하는 프로그램 구현\n",
        "a = 1\n",
        "sum = 0\n",
        "while a <= 10:\n",
        "  sum = sum + a\n",
        "  print(a)\n",
        "  a += 1\n",
        "print('sum={}'.format(sum))"
      ],
      "metadata": {
        "colab": {
          "base_uri": "https://localhost:8080/"
        },
        "id": "u2IbUppQmZIg",
        "outputId": "bc3ba914-1be7-4c44-aadf-753be520dee4"
      },
      "execution_count": null,
      "outputs": [
        {
          "output_type": "stream",
          "name": "stdout",
          "text": [
            "1\n",
            "2\n",
            "3\n",
            "4\n",
            "5\n",
            "6\n",
            "7\n",
            "8\n",
            "9\n",
            "10\n",
            "sum=55\n"
          ]
        }
      ]
    },
    {
      "cell_type": "code",
      "source": [
        "a = 1\n",
        "even = 0 # 짝수\n",
        "odd = 0 # 홀수\n",
        "while a <= 10:\n",
        "  if a%2 ==1: # 홀수?\n",
        "    odd = odd +a  #odd +=a\n",
        "  else:\n",
        "    even = even +a  #ever +=a\n",
        "  a += 1\n",
        "\n",
        "print('짝수={}'.format(even))\n",
        "print('홀수={}'.format(odd))"
      ],
      "metadata": {
        "colab": {
          "base_uri": "https://localhost:8080/"
        },
        "id": "aRkWyCW7nKg8",
        "outputId": "2cb0bbf0-abf6-4ac4-b403-14f3bba44dd0"
      },
      "execution_count": null,
      "outputs": [
        {
          "output_type": "stream",
          "name": "stdout",
          "text": [
            "짝수=30\n",
            "홀수=25\n"
          ]
        }
      ]
    },
    {
      "cell_type": "markdown",
      "source": [
        "```java\n",
        "int[] data ={10, 20, 30, 40, 50};\n",
        "for (int num : data){\n",
        " system.out.println(num);\n",
        " }\n",
        "\n",
        " [출력결과]\n",
        " 10 20 30 40 50\n",
        "```\n",
        "\n",
        "\n",
        "```javascript\n",
        "data = [10, 20, 30, 40, 50];\n",
        " for (num of data){\n",
        "    console.log(num)\n",
        " }\n",
        "\n",
        " [출력결과]\n",
        " 10 20 30 40 50\n",
        "```\n",
        "\n",
        "\n",
        "```python\n",
        "for 변수 in iterable:\n",
        "  실행구문\n",
        "```\n",
        "\n",
        "\n",
        "```\n",
        "for문과 함께 사용되는 함수\n",
        "  for 변수 in range(시작번호, 마지막번호, 증감값):\n",
        "      실행구문\n",
        "\n",
        "  for 변수 in enumerate(sequense, start):\n",
        "      실행구문\n",
        "    \n",
        "  for 변수 in zip(data1, data2....):\n",
        "      실행구문\n",
        "```"
      ],
      "metadata": {
        "id": "9VtSXe0wsE1J"
      }
    },
    {
      "cell_type": "markdown",
      "source": [
        "### range"
      ],
      "metadata": {
        "id": "DqprgzvVubY4"
      }
    },
    {
      "cell_type": "code",
      "source": [
        "# range(end)\n",
        "for i in range(5): # 0부터 5미만의 값이 생성된다.\n",
        "   print(i)"
      ],
      "metadata": {
        "colab": {
          "base_uri": "https://localhost:8080/"
        },
        "id": "JVUZHIXhnKjn",
        "outputId": "f6c9938b-6110-49f3-f61f-61aa417fdd76"
      },
      "execution_count": null,
      "outputs": [
        {
          "output_type": "stream",
          "name": "stdout",
          "text": [
            "0\n",
            "1\n",
            "2\n",
            "3\n",
            "4\n"
          ]
        }
      ]
    },
    {
      "cell_type": "code",
      "source": [
        "# range(start, end)\n",
        "for i in range(1, 5): # 1부터 5미만의 값이 1씩 증가해서 생성된다\n",
        "  print(i)"
      ],
      "metadata": {
        "colab": {
          "base_uri": "https://localhost:8080/"
        },
        "id": "JVP_CyuAvASp",
        "outputId": "7501ff00-e1e5-4148-bd46-ac2a05c038f4"
      },
      "execution_count": null,
      "outputs": [
        {
          "output_type": "stream",
          "name": "stdout",
          "text": [
            "1\n",
            "2\n",
            "3\n",
            "4\n"
          ]
        }
      ]
    },
    {
      "cell_type": "code",
      "source": [
        "# range(start, end, step)\n",
        "for i in range(1, 5, 2): # 1부터 5미만의 값이 2씩 증가해서 생성된다\n",
        "  print(i)"
      ],
      "metadata": {
        "colab": {
          "base_uri": "https://localhost:8080/"
        },
        "id": "xLmVMU3pvAWe",
        "outputId": "fffe9b9c-2861-43ff-ed36-ee4a64360b68"
      },
      "execution_count": null,
      "outputs": [
        {
          "output_type": "stream",
          "name": "stdout",
          "text": [
            "1\n",
            "3\n"
          ]
        }
      ]
    },
    {
      "cell_type": "markdown",
      "source": [
        "#### enumerate 함수\n",
        " - enumerate()함수는 인덱스와 객체를 동시에 저장할 수 있는 특징을 가진 for문을 좀더 효율적으로 사용하기 위한 함수이다.\n",
        " - enumerate()함수는 순서자료형(list, tuple, str)을 입력으로 받아 인덱스를 포함하는 enumerate 객체를 리턴한다.\n",
        " - enumerate([순서자료형], [시작값=0])의 형식을 가지며 순서자료형은 반복자가 가능한 객체가 입력도고 시작값은 입력시 해당수 부터 증가하며, 생략했을 경우 기본값은 0 이다.\n",
        "\n",
        " - index값을 부여해줘야할 때 사용"
      ],
      "metadata": {
        "id": "J2qr65ziwRp3"
      }
    },
    {
      "cell_type": "code",
      "source": [
        "for k in enumerate(['apple', 'python', 'microsoft']):\n",
        "  print(k)"
      ],
      "metadata": {
        "colab": {
          "base_uri": "https://localhost:8080/"
        },
        "id": "NpTWr5j_nKmY",
        "outputId": "5e928381-8c47-4418-afef-9302e9e0c42f"
      },
      "execution_count": null,
      "outputs": [
        {
          "output_type": "stream",
          "name": "stdout",
          "text": [
            "(0, 'apple')\n",
            "(1, 'python')\n",
            "(2, 'microsoft')\n"
          ]
        }
      ]
    },
    {
      "cell_type": "code",
      "source": [
        "for k,v in enumerate(['apple', 'python', 'microsoft']):\n",
        "  print(k,v)"
      ],
      "metadata": {
        "colab": {
          "base_uri": "https://localhost:8080/"
        },
        "id": "HzPj2k5Nwx8V",
        "outputId": "053d5b57-1571-4d25-87bc-a504fcd293c1"
      },
      "execution_count": null,
      "outputs": [
        {
          "output_type": "stream",
          "name": "stdout",
          "text": [
            "0 apple\n",
            "1 python\n",
            "2 microsoft\n"
          ]
        }
      ]
    },
    {
      "cell_type": "code",
      "source": [
        "for k,v in enumerate(['apple', 'python', 'microsoft'], 1):\n",
        "  print(k,v)"
      ],
      "metadata": {
        "colab": {
          "base_uri": "https://localhost:8080/"
        },
        "id": "4J9-wXrMwLE1",
        "outputId": "9f0a56a9-7046-45f4-f351-b840b654fc64"
      },
      "execution_count": null,
      "outputs": [
        {
          "output_type": "stream",
          "name": "stdout",
          "text": [
            "1 apple\n",
            "2 python\n",
            "3 microsoft\n"
          ]
        }
      ]
    },
    {
      "cell_type": "code",
      "source": [
        "a = {'one': 10, 'two' :20}\n",
        "for k in enumerate(a):\n",
        "  print(k)"
      ],
      "metadata": {
        "colab": {
          "base_uri": "https://localhost:8080/"
        },
        "id": "o9QLMhHewLH9",
        "outputId": "ab175dd1-4567-45e2-f773-7ee45eae19a8"
      },
      "execution_count": null,
      "outputs": [
        {
          "output_type": "stream",
          "name": "stdout",
          "text": [
            "(0, 'one')\n",
            "(1, 'two')\n"
          ]
        }
      ]
    },
    {
      "cell_type": "code",
      "source": [
        "a = {'one': 10, 'two' :20}\n",
        "for k, v in enumerate(a):\n",
        "  print(k,a[v])"
      ],
      "metadata": {
        "colab": {
          "base_uri": "https://localhost:8080/"
        },
        "id": "b94jj2hMwLKd",
        "outputId": "1fb495a9-937b-40be-f8b1-ecf43d321bfa"
      },
      "execution_count": null,
      "outputs": [
        {
          "output_type": "stream",
          "name": "stdout",
          "text": [
            "0 10\n",
            "1 20\n"
          ]
        }
      ]
    },
    {
      "cell_type": "code",
      "source": [
        "for k in enumerate({10, 20, 30}):\n",
        "  print(k)"
      ],
      "metadata": {
        "colab": {
          "base_uri": "https://localhost:8080/"
        },
        "id": "DZSUSxGzwLNV",
        "outputId": "4037b43e-81a4-45d6-f6da-53067c400af3"
      },
      "execution_count": null,
      "outputs": [
        {
          "output_type": "stream",
          "name": "stdout",
          "text": [
            "(0, 10)\n",
            "(1, 20)\n",
            "(2, 30)\n"
          ]
        }
      ]
    },
    {
      "cell_type": "code",
      "source": [
        "for k, v in enumerate({10, 20, 30}):\n",
        "  print(k, v)"
      ],
      "metadata": {
        "colab": {
          "base_uri": "https://localhost:8080/"
        },
        "id": "8Ng-2pA-wLQn",
        "outputId": "e299d6ea-dba1-4ecd-b8b3-e53ab9244f3f"
      },
      "execution_count": null,
      "outputs": [
        {
          "output_type": "stream",
          "name": "stdout",
          "text": [
            "0 10\n",
            "1 20\n",
            "2 30\n"
          ]
        }
      ]
    },
    {
      "cell_type": "markdown",
      "source": [
        "### zip\n",
        "- 매개인자로 여러 목록을 받아 각 목록의 요소를 튜플에 담아 목록에 저장"
      ],
      "metadata": {
        "id": "3wri63DeyZQX"
      }
    },
    {
      "cell_type": "code",
      "source": [
        "a = [1, 2, 3, 4, 5]\n",
        "b = ['a','b','c','d','e']\n",
        "\n",
        "for x in zip(a, b):\n",
        "  print(x)"
      ],
      "metadata": {
        "colab": {
          "base_uri": "https://localhost:8080/"
        },
        "id": "6IhAHYi7wLTl",
        "outputId": "4c365525-829a-485b-eaaa-0aa5354342b3"
      },
      "execution_count": null,
      "outputs": [
        {
          "output_type": "stream",
          "name": "stdout",
          "text": [
            "(1, 'a')\n",
            "(2, 'b')\n",
            "(3, 'c')\n",
            "(4, 'd')\n",
            "(5, 'e')\n"
          ]
        }
      ]
    },
    {
      "cell_type": "code",
      "source": [
        "a = []\n",
        "for x in range(2, 10):\n",
        "  a.append(x)\n",
        "\n",
        "print(a)"
      ],
      "metadata": {
        "colab": {
          "base_uri": "https://localhost:8080/"
        },
        "id": "QhbtWfi3wLZV",
        "outputId": "5f48f963-4c15-445a-9687-340ff4373df7"
      },
      "execution_count": null,
      "outputs": [
        {
          "output_type": "stream",
          "name": "stdout",
          "text": [
            "[2, 3, 4, 5, 6, 7, 8, 9]\n"
          ]
        }
      ]
    },
    {
      "cell_type": "code",
      "source": [
        "a = []\n",
        "for x in range(1, 10):\n",
        "  for y in range(2, 10):\n",
        "    print('{} X {} = {}'.format(y, x, x*y), end= '\\t')\n",
        "  print()"
      ],
      "metadata": {
        "colab": {
          "base_uri": "https://localhost:8080/"
        },
        "id": "lFCSrDT30k2w",
        "outputId": "49fc621c-c5e4-4ac6-a720-46548cd3c099"
      },
      "execution_count": null,
      "outputs": [
        {
          "output_type": "stream",
          "name": "stdout",
          "text": [
            "2 X 1 = 2\t3 X 1 = 3\t4 X 1 = 4\t5 X 1 = 5\t6 X 1 = 6\t7 X 1 = 7\t8 X 1 = 8\t9 X 1 = 9\t\n",
            "2 X 2 = 4\t3 X 2 = 6\t4 X 2 = 8\t5 X 2 = 10\t6 X 2 = 12\t7 X 2 = 14\t8 X 2 = 16\t9 X 2 = 18\t\n",
            "2 X 3 = 6\t3 X 3 = 9\t4 X 3 = 12\t5 X 3 = 15\t6 X 3 = 18\t7 X 3 = 21\t8 X 3 = 24\t9 X 3 = 27\t\n",
            "2 X 4 = 8\t3 X 4 = 12\t4 X 4 = 16\t5 X 4 = 20\t6 X 4 = 24\t7 X 4 = 28\t8 X 4 = 32\t9 X 4 = 36\t\n",
            "2 X 5 = 10\t3 X 5 = 15\t4 X 5 = 20\t5 X 5 = 25\t6 X 5 = 30\t7 X 5 = 35\t8 X 5 = 40\t9 X 5 = 45\t\n",
            "2 X 6 = 12\t3 X 6 = 18\t4 X 6 = 24\t5 X 6 = 30\t6 X 6 = 36\t7 X 6 = 42\t8 X 6 = 48\t9 X 6 = 54\t\n",
            "2 X 7 = 14\t3 X 7 = 21\t4 X 7 = 28\t5 X 7 = 35\t6 X 7 = 42\t7 X 7 = 49\t8 X 7 = 56\t9 X 7 = 63\t\n",
            "2 X 8 = 16\t3 X 8 = 24\t4 X 8 = 32\t5 X 8 = 40\t6 X 8 = 48\t7 X 8 = 56\t8 X 8 = 64\t9 X 8 = 72\t\n",
            "2 X 9 = 18\t3 X 9 = 27\t4 X 9 = 36\t5 X 9 = 45\t6 X 9 = 54\t7 X 9 = 63\t8 X 9 = 72\t9 X 9 = 81\t\n"
          ]
        }
      ]
    },
    {
      "cell_type": "code",
      "source": [
        "a = []\n",
        "for x in range (1, 10): #\n",
        "  for y in range(2, 10): #\n",
        "    a.append('{} X {} = {}'.format(y, x, x*y))\n",
        "    a.append('\\t')\n",
        "  a.append('Wn')\n",
        "\n",
        "print(a)"
      ],
      "metadata": {
        "colab": {
          "base_uri": "https://localhost:8080/"
        },
        "id": "NMTkyUsw06KE",
        "outputId": "6e75172d-caf4-4bd8-ace1-b2eac44efd37"
      },
      "execution_count": null,
      "outputs": [
        {
          "output_type": "stream",
          "name": "stdout",
          "text": [
            "['2 X 1 = 2', '\\t', '3 X 1 = 3', '\\t', '4 X 1 = 4', '\\t', '5 X 1 = 5', '\\t', '6 X 1 = 6', '\\t', '7 X 1 = 7', '\\t', '8 X 1 = 8', '\\t', '9 X 1 = 9', '\\t', 'Wn', '2 X 2 = 4', '\\t', '3 X 2 = 6', '\\t', '4 X 2 = 8', '\\t', '5 X 2 = 10', '\\t', '6 X 2 = 12', '\\t', '7 X 2 = 14', '\\t', '8 X 2 = 16', '\\t', '9 X 2 = 18', '\\t', 'Wn', '2 X 3 = 6', '\\t', '3 X 3 = 9', '\\t', '4 X 3 = 12', '\\t', '5 X 3 = 15', '\\t', '6 X 3 = 18', '\\t', '7 X 3 = 21', '\\t', '8 X 3 = 24', '\\t', '9 X 3 = 27', '\\t', 'Wn', '2 X 4 = 8', '\\t', '3 X 4 = 12', '\\t', '4 X 4 = 16', '\\t', '5 X 4 = 20', '\\t', '6 X 4 = 24', '\\t', '7 X 4 = 28', '\\t', '8 X 4 = 32', '\\t', '9 X 4 = 36', '\\t', 'Wn', '2 X 5 = 10', '\\t', '3 X 5 = 15', '\\t', '4 X 5 = 20', '\\t', '5 X 5 = 25', '\\t', '6 X 5 = 30', '\\t', '7 X 5 = 35', '\\t', '8 X 5 = 40', '\\t', '9 X 5 = 45', '\\t', 'Wn', '2 X 6 = 12', '\\t', '3 X 6 = 18', '\\t', '4 X 6 = 24', '\\t', '5 X 6 = 30', '\\t', '6 X 6 = 36', '\\t', '7 X 6 = 42', '\\t', '8 X 6 = 48', '\\t', '9 X 6 = 54', '\\t', 'Wn', '2 X 7 = 14', '\\t', '3 X 7 = 21', '\\t', '4 X 7 = 28', '\\t', '5 X 7 = 35', '\\t', '6 X 7 = 42', '\\t', '7 X 7 = 49', '\\t', '8 X 7 = 56', '\\t', '9 X 7 = 63', '\\t', 'Wn', '2 X 8 = 16', '\\t', '3 X 8 = 24', '\\t', '4 X 8 = 32', '\\t', '5 X 8 = 40', '\\t', '6 X 8 = 48', '\\t', '7 X 8 = 56', '\\t', '8 X 8 = 64', '\\t', '9 X 8 = 72', '\\t', 'Wn', '2 X 9 = 18', '\\t', '3 X 9 = 27', '\\t', '4 X 9 = 36', '\\t', '5 X 9 = 45', '\\t', '6 X 9 = 54', '\\t', '7 X 9 = 63', '\\t', '8 X 9 = 72', '\\t', '9 X 9 = 81', '\\t', 'Wn']\n"
          ]
        }
      ]
    },
    {
      "cell_type": "markdown",
      "source": [
        "## Compression\n",
        "- compression이란 iterable한 오브젝트를 생성하기 위한 방법 중 하나이다.\n",
        " - List Compression(LC)\n",
        " - Set Compression(SC)\n",
        " - Dict Compression(DC)\n",
        "\n"
      ],
      "metadata": {
        "id": "4cbC-3Fg6xZl"
      }
    },
    {
      "cell_type": "markdown",
      "source": [
        "## List Compression\n",
        "- List 정의시 값을 정하지 않고 호풀시 리스트 내의 값들이 처리되도록 구성\n",
        "- A = [표현식 for 항목 in 반복가능객체(iterable)]\n",
        "- A = [표현식 for 항목 in 반복가능객체(iterable) if 논리식]\n",
        "- A = [표현식 for 항목1 in 반복가능객체(iterable)1 for 항목2 반복가능객체(iterable)2 if 논리식]\n"
      ],
      "metadata": {
        "id": "w0N6DBrO7JQO"
      }
    },
    {
      "cell_type": "code",
      "source": [
        "s = []\n",
        "for x in range (10):\n",
        "  s.append(x**2)\n",
        "print(s)"
      ],
      "metadata": {
        "colab": {
          "base_uri": "https://localhost:8080/"
        },
        "id": "jlIx-EWK6Efu",
        "outputId": "75ecac51-9682-4da1-8ab0-13ad14c8a08f"
      },
      "execution_count": null,
      "outputs": [
        {
          "output_type": "stream",
          "name": "stdout",
          "text": [
            "[0, 1, 4, 9, 16, 25, 36, 49, 64, 81]\n"
          ]
        }
      ]
    },
    {
      "cell_type": "code",
      "source": [
        "# 위의 함수를 간단하게 아래처럼 표현 가능, 많이 사용함\n",
        "s = [ x**2 for x in range(10)]\n",
        "print(s)"
      ],
      "metadata": {
        "colab": {
          "base_uri": "https://localhost:8080/"
        },
        "id": "AnCgdbyA6Eiz",
        "outputId": "a6742b47-52c7-409f-d09b-c4235174135b"
      },
      "execution_count": null,
      "outputs": [
        {
          "output_type": "stream",
          "name": "stdout",
          "text": [
            "[0, 1, 4, 9, 16, 25, 36, 49, 64, 81]\n"
          ]
        }
      ]
    },
    {
      "cell_type": "code",
      "source": [
        "s = []\n",
        "for x in range (10):\n",
        "  if x%2 == 0:\n",
        "    s.append(x**2)\n",
        "print(s)"
      ],
      "metadata": {
        "colab": {
          "base_uri": "https://localhost:8080/"
        },
        "id": "yg-CMupI5h1G",
        "outputId": "d30d8672-3dc2-42b6-a775-e57fc3adca0c"
      },
      "execution_count": null,
      "outputs": [
        {
          "output_type": "stream",
          "name": "stdout",
          "text": [
            "[0, 4, 16, 36, 64]\n"
          ]
        }
      ]
    },
    {
      "cell_type": "code",
      "source": [
        "s = [ x**2 for x in range(10) if x%2 == 0]\n",
        "print(s)"
      ],
      "metadata": {
        "colab": {
          "base_uri": "https://localhost:8080/"
        },
        "id": "bRLWcjKC9Mu7",
        "outputId": "74fcaf35-dafc-4c47-f30e-32c619f08ff3"
      },
      "execution_count": null,
      "outputs": [
        {
          "output_type": "stream",
          "name": "stdout",
          "text": [
            "[0, 4, 16, 36, 64]\n"
          ]
        }
      ]
    },
    {
      "cell_type": "code",
      "source": [
        "s = []\n",
        "for i in range (1, 3):\n",
        "  for j in range(4, 8):\n",
        "    print('{}{}'.format(i,j))\n",
        "    s.append((i,j))\n",
        "print(s)"
      ],
      "metadata": {
        "colab": {
          "base_uri": "https://localhost:8080/"
        },
        "id": "IGu9g0t59RpS",
        "outputId": "c4760020-7c9a-49f0-bafd-01098c9083db"
      },
      "execution_count": null,
      "outputs": [
        {
          "output_type": "stream",
          "name": "stdout",
          "text": [
            "14\n",
            "15\n",
            "16\n",
            "17\n",
            "24\n",
            "25\n",
            "26\n",
            "27\n",
            "[(1, 4), (1, 5), (1, 6), (1, 7), (2, 4), (2, 5), (2, 6), (2, 7)]\n"
          ]
        }
      ]
    },
    {
      "cell_type": "code",
      "source": [
        "s = [(i,j) for i in range (1, 3) for j in range(4, 8)]\n",
        "print(s)\n"
      ],
      "metadata": {
        "colab": {
          "base_uri": "https://localhost:8080/"
        },
        "id": "0QweF7SY99nK",
        "outputId": "90678902-ad9d-4c00-95dd-427de62bb12d"
      },
      "execution_count": null,
      "outputs": [
        {
          "output_type": "stream",
          "name": "stdout",
          "text": [
            "[(1, 4), (1, 5), (1, 6), (1, 7), (2, 4), (2, 5), (2, 6), (2, 7)]\n"
          ]
        }
      ]
    },
    {
      "cell_type": "markdown",
      "source": [
        "### 문제\n",
        "총판매금액을 구하는 프로그램(list comprehension을 사용)   \n",
        "cnt = [1, 1, 2, 1]   \n",
        "prod = [500, 1000, 400, 600]"
      ],
      "metadata": {
        "id": "trXH1de_-ucc"
      }
    },
    {
      "cell_type": "code",
      "source": [
        "s = []\n",
        "cnt = [1, 1, 2, 1]\n",
        "prod = [500, 1000, 400, 600]\n",
        "for i, j in zip(cnt, prod):\n",
        "  s.append(i*j)\n",
        "\n",
        "print(sum(s))"
      ],
      "metadata": {
        "colab": {
          "base_uri": "https://localhost:8080/"
        },
        "id": "L67lpTCJ_Z3u",
        "outputId": "68369bab-b7ef-4d34-85af-6ac98cd79d74"
      },
      "execution_count": null,
      "outputs": [
        {
          "output_type": "stream",
          "name": "stdout",
          "text": [
            "2900\n"
          ]
        }
      ]
    },
    {
      "cell_type": "code",
      "source": [
        "cnt = [1, 1, 2, 1]\n",
        "prod = [500, 1000, 400, 600]\n",
        "s = sum([ i*j for i,j in zip(cnt, prod)])\n",
        "print(s)"
      ],
      "metadata": {
        "colab": {
          "base_uri": "https://localhost:8080/"
        },
        "id": "P0IT9A6r9RsC",
        "outputId": "e1fb6111-56d0-4ad0-ee75-adb6715f1676"
      },
      "execution_count": null,
      "outputs": [
        {
          "output_type": "stream",
          "name": "stdout",
          "text": [
            "2900\n"
          ]
        }
      ]
    },
    {
      "cell_type": "markdown",
      "source": [
        "'e'가 포함되어 있는 과일들만 추출해서 대문자로 출력하는 프로그램을 구현하세요.  \n",
        "fruits = ['apple', 'banana', 'cherry', 'grape', 'kiwi', 'tomato']\n",
        "\n",
        "[출력결과]\n",
        "['APPLE', 'CHERRY', 'GRAPE']"
      ],
      "metadata": {
        "id": "RdsQcrbEAynk"
      }
    },
    {
      "cell_type": "code",
      "source": [
        "fruits = ['apple', 'banana', 'cherry', 'grape', 'kiwi', 'tomato']\n",
        "s = [item.upper() for item in fruits if 'e' in item]\n",
        "print(s)"
      ],
      "metadata": {
        "colab": {
          "base_uri": "https://localhost:8080/"
        },
        "id": "tbDB_jy0A0eC",
        "outputId": "7afe86c3-fa9d-4e7d-db21-32840288fcf8"
      },
      "execution_count": null,
      "outputs": [
        {
          "output_type": "stream",
          "name": "stdout",
          "text": [
            "['APPLE', 'CHERRY', 'GRAPE']\n"
          ]
        }
      ]
    },
    {
      "cell_type": "code",
      "source": [
        "fruits = ['apPle', 'bANana', 'chErry', 'grape', 'kiwi', 'tomato']\n",
        "s = [item.upper() for item in fruits if 'e' in item.lower()]\n",
        "print(s)"
      ],
      "metadata": {
        "colab": {
          "base_uri": "https://localhost:8080/"
        },
        "id": "IBOlXkwz9Rul",
        "outputId": "7373f8ff-3c1e-4f8e-a9bd-483624615310"
      },
      "execution_count": null,
      "outputs": [
        {
          "output_type": "stream",
          "name": "stdout",
          "text": [
            "['APPLE', 'CHERRY', 'GRAPE']\n"
          ]
        }
      ]
    },
    {
      "cell_type": "markdown",
      "source": [
        "### dict Compression\n",
        "- 사전 정의시 값을 정하지 않고 호출시 사전 내의 값들이 처리되도록 구성\n",
        "- A = {표현식 for (k,V) in 반복가능객체 if 논리식}"
      ],
      "metadata": {
        "id": "4t4GWb8dkeP6"
      }
    },
    {
      "cell_type": "code",
      "source": [
        "d = {}\n",
        "for k, v in zip(range(9), range(9)):\n",
        "  d[k]=v\n",
        "print(d)"
      ],
      "metadata": {
        "colab": {
          "base_uri": "https://localhost:8080/"
        },
        "id": "ZQQ8nPAzktz6",
        "outputId": "47b02620-0f1b-418b-ef02-a4e788c9fc2e"
      },
      "execution_count": null,
      "outputs": [
        {
          "output_type": "stream",
          "name": "stdout",
          "text": [
            "{0: 0, 1: 1, 2: 2, 3: 3, 4: 4, 5: 5, 6: 6, 7: 7, 8: 8}\n"
          ]
        }
      ]
    },
    {
      "cell_type": "code",
      "source": [
        "d = { k:v for k, v in zip(range(9), range(9))}\n",
        "print(d)"
      ],
      "metadata": {
        "colab": {
          "base_uri": "https://localhost:8080/"
        },
        "id": "YggmkniEk_az",
        "outputId": "cb18d915-ba23-49b6-f771-a57a66b3eca4"
      },
      "execution_count": null,
      "outputs": [
        {
          "output_type": "stream",
          "name": "stdout",
          "text": [
            "{0: 0, 1: 1, 2: 2, 3: 3, 4: 4, 5: 5, 6: 6, 7: 7, 8: 8}\n"
          ]
        }
      ]
    },
    {
      "cell_type": "code",
      "source": [
        "a = {'x':1, 'y':2,'z':3}\n",
        "b = {'w':10, 'x':11, 'y':2}\n",
        "print(a.keys())\n",
        "print(b.keys())\n",
        "c = a.keys() - b.keys()\n",
        "print(c)\n",
        "print(type(c))\n",
        "d= c.pop()\n",
        "print('{}:{}'.format(d, a[d]))"
      ],
      "metadata": {
        "colab": {
          "base_uri": "https://localhost:8080/"
        },
        "id": "RotIqIailMF4",
        "outputId": "9735336a-a9ae-4905-b617-fa7b6e02091f"
      },
      "execution_count": null,
      "outputs": [
        {
          "output_type": "stream",
          "name": "stdout",
          "text": [
            "dict_keys(['x', 'y', 'z'])\n",
            "dict_keys(['w', 'x', 'y'])\n",
            "{'z'}\n",
            "<class 'set'>\n",
            "z:3\n"
          ]
        }
      ]
    },
    {
      "cell_type": "code",
      "source": [
        "a = {'x':1, 'y':2,'z':3}\n",
        "b = {'w':10, 'x':11, 'y':2}\n",
        "k = { key:a[key]for key in a.keys() - b.keys()}\n",
        "print(k)"
      ],
      "metadata": {
        "colab": {
          "base_uri": "https://localhost:8080/"
        },
        "id": "_qwoEDFkmj1A",
        "outputId": "fc91ee7d-b504-4cd4-d020-77d169e9400c"
      },
      "execution_count": null,
      "outputs": [
        {
          "output_type": "stream",
          "name": "stdout",
          "text": [
            "{'z': 3}\n"
          ]
        }
      ]
    },
    {
      "cell_type": "markdown",
      "source": [
        "### set comprehension\n",
        "- Set 정의시 값을 정하지 않고 호출시 Set내의 값들이 처리되도록 구성\n",
        "- A = {표현식 for 항목 in 반복가능객체 if}"
      ],
      "metadata": {
        "id": "3aa7FQDOoTUJ"
      }
    },
    {
      "cell_type": "code",
      "source": [
        "k = { (i,j)for i in range(1,3) for j in range(4,8)}\n",
        "print(k)"
      ],
      "metadata": {
        "colab": {
          "base_uri": "https://localhost:8080/"
        },
        "id": "yBq3IiylonpU",
        "outputId": "564f4477-bd70-423c-fe5b-e7a0d84e7223"
      },
      "execution_count": null,
      "outputs": [
        {
          "output_type": "stream",
          "name": "stdout",
          "text": [
            "{(2, 4), (2, 7), (1, 5), (1, 4), (1, 7), (2, 6), (1, 6), (2, 5)}\n"
          ]
        }
      ]
    }
  ]
}