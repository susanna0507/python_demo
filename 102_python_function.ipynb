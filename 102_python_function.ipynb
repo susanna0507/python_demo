{
  "nbformat": 4,
  "nbformat_minor": 0,
  "metadata": {
    "colab": {
      "provenance": [],
      "authorship_tag": "ABX9TyNMoT0EXzRxwMjXAN0nBQm8",
      "include_colab_link": true
    },
    "kernelspec": {
      "name": "python3",
      "display_name": "Python 3"
    },
    "language_info": {
      "name": "python"
    }
  },
  "cells": [
    {
      "cell_type": "markdown",
      "metadata": {
        "id": "view-in-github",
        "colab_type": "text"
      },
      "source": [
        "<a href=\"https://colab.research.google.com/github/susanna0507/python_demo/blob/master/102_python_function.ipynb\" target=\"_parent\"><img src=\"https://colab.research.google.com/assets/colab-badge.svg\" alt=\"Open In Colab\"/></a>"
      ]
    },
    {
      "cell_type": "markdown",
      "source": [
        "## 함수 (function)\n",
        "- 함수: 특정 목적을 가진 코드의 집합이며 독립적으로 호출될 수 있는 기능이다\n",
        "- 함수 구조\n",
        "```\n",
        "  def 함수 이름(parameter_1, parameter_2):\n",
        "    수행할 문장\n",
        "    return 결과값\n",
        "```\n",
        "\n",
        "- 함수 호출\n",
        "```\n",
        "  함수 이름(argument_1, argument_2)  \n",
        "```\n",
        "  - parameter: 인자\n",
        "  - argument: 인수, 호출하면서 값을 넘겨주는 것"
      ],
      "metadata": {
        "id": "SbsEknso0liH"
      }
    },
    {
      "cell_type": "code",
      "source": [
        "# 함수를 정의할 때 수행할 문장을 구현하지 않으면 에러가 발생한다.\n",
        "def proc():\n",
        "  pass # pass는 구현을 안할 때 오류가 발생하지 않도록 사용한다"
      ],
      "metadata": {
        "id": "QTrb-gl70oE_"
      },
      "execution_count": null,
      "outputs": []
    },
    {
      "cell_type": "code",
      "source": [
        "# 실행한 결과값 리턴\n",
        "print(proc())"
      ],
      "metadata": {
        "colab": {
          "base_uri": "https://localhost:8080/"
        },
        "id": "1FJylbvk0oHu",
        "outputId": "ae599209-ef8d-47e8-f642-ef9c001a085d"
      },
      "execution_count": null,
      "outputs": [
        {
          "output_type": "stream",
          "name": "stdout",
          "text": [
            "None\n"
          ]
        }
      ]
    },
    {
      "cell_type": "code",
      "source": [
        "# 함수식을 리턴\n",
        "print(proc)"
      ],
      "metadata": {
        "colab": {
          "base_uri": "https://localhost:8080/"
        },
        "id": "rzU_whSB0oJw",
        "outputId": "cccfdb3e-921a-449f-bfb7-f92a9059f96c"
      },
      "execution_count": null,
      "outputs": [
        {
          "output_type": "stream",
          "name": "stdout",
          "text": [
            "<function proc at 0x78406fe655a0>\n"
          ]
        }
      ]
    },
    {
      "cell_type": "code",
      "source": [
        "# 함수를 변수에 저장 가능\n",
        "a = proc\n",
        "print(a())"
      ],
      "metadata": {
        "colab": {
          "base_uri": "https://localhost:8080/"
        },
        "id": "OMIRT6bU0oL4",
        "outputId": "5b1dc13b-5438-4ba8-9268-fd9367511cf0"
      },
      "execution_count": null,
      "outputs": [
        {
          "output_type": "stream",
          "name": "stdout",
          "text": [
            "None\n"
          ]
        }
      ]
    },
    {
      "cell_type": "markdown",
      "source": [
        "##collable\n",
        "- 이름 뒤에()를 붙이는 것은 call(호출)이라고 한다.\n",
        "- 이름 뒤에()를 붙일 수 있는 것을 calllable이라고 한다.\n",
        "- 험수는 사용할 때 이름 뒤에 괄호를 붙인다\n",
        "-python에서 callable인 것은 3가지 유형이 있다.\n",
        " - (1) function\n",
        " - (2) class(init가 정의되었을 경우)\n",
        " - (3) object(call이 정의되었을 경우)"
      ],
      "metadata": {
        "id": "yUrB4_L3zJAY"
      }
    },
    {
      "cell_type": "code",
      "execution_count": null,
      "metadata": {
        "colab": {
          "base_uri": "https://localhost:8080/",
          "height": 201
        },
        "id": "EBxNe_TJyDaR",
        "outputId": "f394141a-7f9b-404d-9cdf-e5ee9bceefef"
      },
      "outputs": [
        {
          "output_type": "error",
          "ename": "TypeError",
          "evalue": "ignored",
          "traceback": [
            "\u001b[0;31m---------------------------------------------------------------------------\u001b[0m",
            "\u001b[0;31mTypeError\u001b[0m                                 Traceback (most recent call last)",
            "\u001b[0;32m<ipython-input-22-dab3a27d3e29>\u001b[0m in \u001b[0;36m<cell line: 2>\u001b[0;34m()\u001b[0m\n\u001b[1;32m      1\u001b[0m \u001b[0mk\u001b[0m \u001b[0;34m=\u001b[0m \u001b[0;36m1\u001b[0m\u001b[0;34m\u001b[0m\u001b[0;34m\u001b[0m\u001b[0m\n\u001b[0;32m----> 2\u001b[0;31m \u001b[0mk\u001b[0m\u001b[0;34m(\u001b[0m\u001b[0;34m)\u001b[0m\u001b[0;34m\u001b[0m\u001b[0;34m\u001b[0m\u001b[0m\n\u001b[0m",
            "\u001b[0;31mTypeError\u001b[0m: 'int' object is not callable"
          ]
        }
      ],
      "source": [
        "k = 1\n",
        "k()"
      ]
    },
    {
      "cell_type": "code",
      "source": [
        "# callable은 built-in 함수로 ()을 붙여 사용할 수 있는지를 True/False로 알려준다\n",
        "callable(k)"
      ],
      "metadata": {
        "id": "KMw1Oxf-zlRX"
      },
      "execution_count": null,
      "outputs": []
    },
    {
      "cell_type": "code",
      "source": [
        "list()"
      ],
      "metadata": {
        "colab": {
          "base_uri": "https://localhost:8080/"
        },
        "id": "MWegG8ftzlTm",
        "outputId": "c89547df-c2ab-4018-83da-9fd7aa369353"
      },
      "execution_count": null,
      "outputs": [
        {
          "output_type": "execute_result",
          "data": {
            "text/plain": [
              "[]"
            ]
          },
          "metadata": {},
          "execution_count": 23
        }
      ]
    },
    {
      "cell_type": "code",
      "source": [
        "list"
      ],
      "metadata": {
        "colab": {
          "base_uri": "https://localhost:8080/"
        },
        "id": "AdkPP2-UzlV3",
        "outputId": "997b88b7-72eb-4c8b-d45c-97c2e29f9740"
      },
      "execution_count": null,
      "outputs": [
        {
          "output_type": "execute_result",
          "data": {
            "text/plain": [
              "list"
            ]
          },
          "metadata": {},
          "execution_count": 24
        }
      ]
    },
    {
      "cell_type": "code",
      "source": [
        "del list"
      ],
      "metadata": {
        "colab": {
          "base_uri": "https://localhost:8080/",
          "height": 183
        },
        "id": "30tHOZFpzlYG",
        "outputId": "ab6278fa-03f0-41da-90e8-e0dab03f1148"
      },
      "execution_count": null,
      "outputs": [
        {
          "output_type": "error",
          "ename": "NameError",
          "evalue": "ignored",
          "traceback": [
            "\u001b[0;31m---------------------------------------------------------------------------\u001b[0m",
            "\u001b[0;31mNameError\u001b[0m                                 Traceback (most recent call last)",
            "\u001b[0;32m<ipython-input-25-604ec154886e>\u001b[0m in \u001b[0;36m<cell line: 1>\u001b[0;34m()\u001b[0m\n\u001b[0;32m----> 1\u001b[0;31m \u001b[0;32mdel\u001b[0m \u001b[0mlist\u001b[0m\u001b[0;34m\u001b[0m\u001b[0;34m\u001b[0m\u001b[0m\n\u001b[0m",
            "\u001b[0;31mNameError\u001b[0m: name 'list' is not defined"
          ]
        }
      ]
    },
    {
      "cell_type": "code",
      "source": [
        "list()"
      ],
      "metadata": {
        "colab": {
          "base_uri": "https://localhost:8080/"
        },
        "id": "V5v8F4Qrzlar",
        "outputId": "33d37535-2cd3-4bcd-b36c-3091e0d863cf"
      },
      "execution_count": null,
      "outputs": [
        {
          "output_type": "execute_result",
          "data": {
            "text/plain": [
              "[]"
            ]
          },
          "metadata": {},
          "execution_count": 26
        }
      ]
    },
    {
      "cell_type": "code",
      "source": [
        "def prn():\n",
        "  return 1"
      ],
      "metadata": {
        "id": "AC6mUiCxz8oq"
      },
      "execution_count": null,
      "outputs": []
    },
    {
      "cell_type": "code",
      "source": [
        "prn()"
      ],
      "metadata": {
        "colab": {
          "base_uri": "https://localhost:8080/"
        },
        "id": "LZ-PQHCiz8q-",
        "outputId": "ee9c593d-9a68-4a46-b54a-e48d7aa1d9de"
      },
      "execution_count": null,
      "outputs": [
        {
          "output_type": "execute_result",
          "data": {
            "text/plain": [
              "1"
            ]
          },
          "metadata": {},
          "execution_count": 28
        }
      ]
    },
    {
      "cell_type": "code",
      "source": [
        "# callable은 built-in 함수로 ()을 붙여 사용할 수 있는지를 True/False로 알려준다\n",
        "callable(prn)"
      ],
      "metadata": {
        "colab": {
          "base_uri": "https://localhost:8080/"
        },
        "id": "yW_Gi9_Az8tN",
        "outputId": "0b92d8f4-6bf3-4fb7-9e79-a006336d6cb6"
      },
      "execution_count": null,
      "outputs": [
        {
          "output_type": "execute_result",
          "data": {
            "text/plain": [
              "True"
            ]
          },
          "metadata": {},
          "execution_count": 29
        }
      ]
    },
    {
      "cell_type": "code",
      "source": [
        "# parameter(인자)와 리턴 값이 있는 함수 정의\n",
        "def max(x, y):\n",
        "  if x>y:\n",
        "    res = x\n",
        "  else:\n",
        "    res = y\n",
        "\n",
        "  return res"
      ],
      "metadata": {
        "id": "FbtwuF1Ez8vv"
      },
      "execution_count": null,
      "outputs": []
    },
    {
      "cell_type": "code",
      "source": [
        "def max(x, y):\n",
        "  if x>=y:\n",
        "    return x\n",
        "  else:\n",
        "    return y\n"
      ],
      "metadata": {
        "id": "HGAe34mJz8yG"
      },
      "execution_count": null,
      "outputs": []
    },
    {
      "cell_type": "code",
      "source": [
        "print(max(10, 5)) # print 안해도 됨"
      ],
      "metadata": {
        "colab": {
          "base_uri": "https://localhost:8080/"
        },
        "id": "mHV7GyC20Hf2",
        "outputId": "32d8ebd8-a696-489f-f287-69c31a381461"
      },
      "execution_count": null,
      "outputs": [
        {
          "output_type": "stream",
          "name": "stdout",
          "text": [
            "10\n"
          ]
        }
      ]
    },
    {
      "cell_type": "code",
      "source": [
        "# 파라미터 (인자)와 리턴값이 없는 함수 정의\n",
        "def max(x, y):\n",
        "  if x>=y:\n",
        "    print(x)\n",
        "  else:\n",
        "    print(y)\n",
        "  #return #파이썬은 내부적으로 리턴을 명시 안하면 None이 출력\n"
      ],
      "metadata": {
        "id": "ErRfBRN80O42"
      },
      "execution_count": null,
      "outputs": []
    },
    {
      "cell_type": "code",
      "source": [
        "print(max(10, 5))"
      ],
      "metadata": {
        "colab": {
          "base_uri": "https://localhost:8080/"
        },
        "id": "1G6WEagi1BBW",
        "outputId": "b0794b5a-eb22-490e-ebae-5748d73d19be"
      },
      "execution_count": null,
      "outputs": [
        {
          "output_type": "stream",
          "name": "stdout",
          "text": [
            "10\n",
            "None\n"
          ]
        }
      ]
    },
    {
      "cell_type": "code",
      "source": [
        "def max():\n",
        "  x = 10\n",
        "  y = 5\n",
        "  if x>=y:\n",
        "    print(x)\n",
        "  else:\n",
        "    print(y)\n"
      ],
      "metadata": {
        "id": "rRF3OZLs22k1"
      },
      "execution_count": null,
      "outputs": []
    },
    {
      "cell_type": "code",
      "source": [
        "print(max())"
      ],
      "metadata": {
        "colab": {
          "base_uri": "https://localhost:8080/"
        },
        "id": "8j-V4jq-28sA",
        "outputId": "081b143d-e420-445a-b318-d150b4eba6c7"
      },
      "execution_count": null,
      "outputs": [
        {
          "output_type": "stream",
          "name": "stdout",
          "text": [
            "10\n",
            "None\n"
          ]
        }
      ]
    },
    {
      "cell_type": "code",
      "source": [
        "# 인자도 없고 리턴도 없음\n",
        "def max():\n",
        "  x = 10\n",
        "  y = 5\n",
        "  if x>=y:\n",
        "    return x\n",
        "  else:\n",
        "    return y"
      ],
      "metadata": {
        "id": "DyTuAhBy2ENZ"
      },
      "execution_count": null,
      "outputs": []
    },
    {
      "cell_type": "code",
      "source": [
        "print(max())"
      ],
      "metadata": {
        "colab": {
          "base_uri": "https://localhost:8080/"
        },
        "id": "YT5R0Dze2XiP",
        "outputId": "809bc8c8-8e3c-42aa-afda-bd34085f0e46"
      },
      "execution_count": null,
      "outputs": [
        {
          "output_type": "stream",
          "name": "stdout",
          "text": [
            "10\n"
          ]
        }
      ]
    },
    {
      "cell_type": "markdown",
      "source": [
        "## paramter와 argument\n",
        "1. positonal\n",
        "2. keyword\n",
        "3. positonal & keyword\n",
        "4. positonal only\n",
        "5. keyword only\n",
        "6. 가변 positonal\n",
        "7. 가변 keyword\n",
        "\n"
      ],
      "metadata": {
        "id": "bZ5ZDDY83G89"
      }
    },
    {
      "cell_type": "markdown",
      "source": [
        "1. positional\n",
        "- 함수 호출 : 선선할 때 파라키터의 순서와 호풀할 때 argument의 입력의 입력순서를 그대로 매핑한다.\n"
      ],
      "metadata": {
        "id": "6rasj3CN37Tt"
      }
    },
    {
      "cell_type": "code",
      "source": [
        "def proc(a, b):\n",
        "  return a,b"
      ],
      "metadata": {
        "id": "8MZjZvLE3A3l"
      },
      "execution_count": null,
      "outputs": []
    },
    {
      "cell_type": "code",
      "source": [
        "proc(2, 4)"
      ],
      "metadata": {
        "colab": {
          "base_uri": "https://localhost:8080/"
        },
        "id": "MFNzST8k3A6m",
        "outputId": "5ecbe905-03a9-4ed5-81e3-382dfc4ebcc2"
      },
      "execution_count": null,
      "outputs": [
        {
          "output_type": "execute_result",
          "data": {
            "text/plain": [
              "(2, 4)"
            ]
          },
          "metadata": {},
          "execution_count": 49
        }
      ]
    },
    {
      "cell_type": "markdown",
      "source": [
        "2, keyword\n",
        "- keyword 방식을 이용하면 순서와 상관없이 parameter 이름에 따라 값이 대입왼다"
      ],
      "metadata": {
        "id": "8zm2aFtb4ylV"
      }
    },
    {
      "cell_type": "code",
      "source": [
        "proc(b=4, a=2)"
      ],
      "metadata": {
        "colab": {
          "base_uri": "https://localhost:8080/"
        },
        "id": "2ZrXfaoZ4_uw",
        "outputId": "56e28986-2e07-4d52-968b-0ab1b52e81a9"
      },
      "execution_count": null,
      "outputs": [
        {
          "output_type": "execute_result",
          "data": {
            "text/plain": [
              "(2, 4)"
            ]
          },
          "metadata": {},
          "execution_count": 50
        }
      ]
    },
    {
      "cell_type": "markdown",
      "source": [
        "3. positonal & keyword 혼합"
      ],
      "metadata": {
        "id": "ZMYf_3Pq5jnV"
      }
    },
    {
      "cell_type": "code",
      "source": [
        "def proc(a,b,c):\n",
        "  return a, b, c"
      ],
      "metadata": {
        "id": "WFtKBvev3BAU"
      },
      "execution_count": null,
      "outputs": []
    },
    {
      "cell_type": "code",
      "source": [
        "proc(2, c=5, b=3)"
      ],
      "metadata": {
        "colab": {
          "base_uri": "https://localhost:8080/"
        },
        "id": "5sdqxZCf3BDW",
        "outputId": "5b13a72d-7ec1-4caa-8484-9b3482488a95"
      },
      "execution_count": null,
      "outputs": [
        {
          "output_type": "execute_result",
          "data": {
            "text/plain": [
              "(2, 3, 5)"
            ]
          },
          "metadata": {},
          "execution_count": 55
        }
      ]
    },
    {
      "cell_type": "code",
      "source": [
        "# 한번 keyword 방식을 사용하면, 그 다음부터는 keyword 방법만 사용할 수 있다\n",
        "proc(c=5, 2, b=3)"
      ],
      "metadata": {
        "id": "-CQ7NxD058eE"
      },
      "execution_count": null,
      "outputs": []
    },
    {
      "cell_type": "code",
      "source": [
        "# python 버전 확인\n",
        "!python --version"
      ],
      "metadata": {
        "colab": {
          "base_uri": "https://localhost:8080/"
        },
        "id": "5ZJ1qvR_570b",
        "outputId": "3506e770-7b3e-4943-9fda-a93473cd595f"
      },
      "execution_count": null,
      "outputs": [
        {
          "output_type": "stream",
          "name": "stdout",
          "text": [
            "Python 3.10.12\n"
          ]
        }
      ]
    },
    {
      "cell_type": "markdown",
      "source": [
        "4. positonal only\n",
        "- positonal only는 힘수를 사용할 때 positonal 방식으로만 parameter를 쓸 수 있도록 강제하는 방법이다\n",
        "- / 의 앞에 오는 parameter들은 positional 방식으로 입력할 수 있지만, keyword 방식으로 입력할 수 없다.\n",
        "- positonal only 함수를 정의할 수 있는 것은 python3.8부터 지원한다. 이전 버전에서는 사전 정의된 positonal only 함수는 있지만, 사영자가 만들 수는 없었다"
      ],
      "metadata": {
        "id": "lbLS9ES76tx_"
      }
    },
    {
      "cell_type": "code",
      "source": [
        "def proc(a, b, c, /):\n",
        "  return a, b, c"
      ],
      "metadata": {
        "id": "DYXXJTrU66xF"
      },
      "execution_count": null,
      "outputs": []
    },
    {
      "cell_type": "code",
      "source": [
        "proc(4, 5, 6)"
      ],
      "metadata": {
        "colab": {
          "base_uri": "https://localhost:8080/"
        },
        "id": "7JszJDV-7BxF",
        "outputId": "a05dff7e-9620-4aa4-cb41-103aff79de8c"
      },
      "execution_count": null,
      "outputs": [
        {
          "output_type": "execute_result",
          "data": {
            "text/plain": [
              "(4, 5, 6)"
            ]
          },
          "metadata": {},
          "execution_count": 59
        }
      ]
    },
    {
      "cell_type": "code",
      "source": [
        "proc(4, c=6, b=5)"
      ],
      "metadata": {
        "colab": {
          "base_uri": "https://localhost:8080/",
          "height": 201
        },
        "id": "bOOB7tO07Ehk",
        "outputId": "a97afd74-7f87-4966-962c-0219fdc14b6b"
      },
      "execution_count": null,
      "outputs": [
        {
          "output_type": "error",
          "ename": "TypeError",
          "evalue": "ignored",
          "traceback": [
            "\u001b[0;31m---------------------------------------------------------------------------\u001b[0m",
            "\u001b[0;31mTypeError\u001b[0m                                 Traceback (most recent call last)",
            "\u001b[0;32m<ipython-input-61-38ec957656fc>\u001b[0m in \u001b[0;36m<cell line: 1>\u001b[0;34m()\u001b[0m\n\u001b[0;32m----> 1\u001b[0;31m \u001b[0mproc\u001b[0m\u001b[0;34m(\u001b[0m\u001b[0;36m4\u001b[0m\u001b[0;34m,\u001b[0m \u001b[0mc\u001b[0m\u001b[0;34m=\u001b[0m\u001b[0;36m6\u001b[0m\u001b[0;34m,\u001b[0m \u001b[0mb\u001b[0m\u001b[0;34m=\u001b[0m\u001b[0;36m5\u001b[0m\u001b[0;34m)\u001b[0m\u001b[0;34m\u001b[0m\u001b[0;34m\u001b[0m\u001b[0m\n\u001b[0m",
            "\u001b[0;31mTypeError\u001b[0m: proc() got some positional-only arguments passed as keyword arguments: 'b, c'"
          ]
        }
      ]
    },
    {
      "cell_type": "code",
      "source": [
        "def proc (a, b, /, c, d):\n",
        "  return a,b,c,d"
      ],
      "metadata": {
        "id": "HXUkYdOH-3JP"
      },
      "execution_count": null,
      "outputs": []
    },
    {
      "cell_type": "code",
      "source": [
        "proc(4, 5, 6, 7)"
      ],
      "metadata": {
        "colab": {
          "base_uri": "https://localhost:8080/"
        },
        "id": "K-MU5l7R_BeF",
        "outputId": "b22c0a72-a824-490f-937b-1a495eb0dd18"
      },
      "execution_count": null,
      "outputs": [
        {
          "output_type": "execute_result",
          "data": {
            "text/plain": [
              "(4, 5, 6, 7)"
            ]
          },
          "metadata": {},
          "execution_count": 65
        }
      ]
    },
    {
      "cell_type": "code",
      "source": [
        "proc(4, 5, d=7, c = 6)"
      ],
      "metadata": {
        "colab": {
          "base_uri": "https://localhost:8080/"
        },
        "id": "zvSR8HPP_JCr",
        "outputId": "ba22e44d-f81b-4743-9ae1-3208f2991120"
      },
      "execution_count": null,
      "outputs": [
        {
          "output_type": "execute_result",
          "data": {
            "text/plain": [
              "(4, 5, 6, 7)"
            ]
          },
          "metadata": {},
          "execution_count": 66
        }
      ]
    },
    {
      "cell_type": "markdown",
      "source": [
        "5. keyword only\n",
        "- keyword only 방식은 keyword 방식으로만 입력하도록 강제하는 방법이다.\n",
        "- '*' 이후로는 keyword 방식만 가능하다\n"
      ],
      "metadata": {
        "id": "1GyXtYBe_VUf"
      }
    },
    {
      "cell_type": "code",
      "source": [
        "def proc(*,a , b, c, d):\n",
        "  return a, b, c, d"
      ],
      "metadata": {
        "id": "JbULVWc__lb5"
      },
      "execution_count": null,
      "outputs": []
    },
    {
      "cell_type": "code",
      "source": [
        "proc(a=3, c=5, b=4, d=6)"
      ],
      "metadata": {
        "colab": {
          "base_uri": "https://localhost:8080/"
        },
        "id": "j51KGcmw_lfy",
        "outputId": "620b533a-c670-4bff-eb40-d387d94ffa8f"
      },
      "execution_count": null,
      "outputs": [
        {
          "output_type": "execute_result",
          "data": {
            "text/plain": [
              "(3, 4, 5, 6)"
            ]
          },
          "metadata": {},
          "execution_count": 74
        }
      ]
    },
    {
      "cell_type": "code",
      "source": [
        "def proc(a , b,*, c, d):\n",
        "  return a, b, c, d"
      ],
      "metadata": {
        "id": "yS_FWNX6ARbU"
      },
      "execution_count": null,
      "outputs": []
    },
    {
      "cell_type": "code",
      "source": [
        "proc(3. 5, d=4, c=6)"
      ],
      "metadata": {
        "id": "viihVDyz_ljB"
      },
      "execution_count": null,
      "outputs": []
    },
    {
      "cell_type": "markdown",
      "source": [
        "6. 가변 positonal\n",
        "- 가변 positonal은 parameter 이름에 '*'를 붙인다\n",
        "- positonal 방식으로 입력되는 argument는 갯수에 상관없이 모두 받아온다."
      ],
      "metadata": {
        "id": "vsolfyv6AkWl"
      }
    },
    {
      "cell_type": "code",
      "source": [
        "def proc(*a):\n",
        "  print(type(a))\n",
        "  return a"
      ],
      "metadata": {
        "id": "I_LOvgYRAlh-"
      },
      "execution_count": null,
      "outputs": []
    },
    {
      "cell_type": "code",
      "source": [
        "print(proc())"
      ],
      "metadata": {
        "colab": {
          "base_uri": "https://localhost:8080/"
        },
        "id": "4upVFJLAAllU",
        "outputId": "0fdcbdb6-8725-487a-9935-d25a458bc68f"
      },
      "execution_count": null,
      "outputs": [
        {
          "output_type": "stream",
          "name": "stdout",
          "text": [
            "<class 'tuple'>\n",
            "()\n"
          ]
        }
      ]
    },
    {
      "cell_type": "code",
      "source": [
        "print(proc(1))"
      ],
      "metadata": {
        "colab": {
          "base_uri": "https://localhost:8080/"
        },
        "id": "RBT0oOxUAlok",
        "outputId": "dfd514f9-4460-47d3-80bf-77493266dc8d"
      },
      "execution_count": null,
      "outputs": [
        {
          "output_type": "stream",
          "name": "stdout",
          "text": [
            "<class 'tuple'>\n",
            "(1,)\n"
          ]
        }
      ]
    },
    {
      "cell_type": "code",
      "source": [
        "print(proc(1,2,3))"
      ],
      "metadata": {
        "colab": {
          "base_uri": "https://localhost:8080/"
        },
        "id": "NpG-R5pL_lmg",
        "outputId": "e887378b-0a48-4e97-a133-31af468d0c2c"
      },
      "execution_count": null,
      "outputs": [
        {
          "output_type": "stream",
          "name": "stdout",
          "text": [
            "<class 'tuple'>\n",
            "(1, 2, 3)\n"
          ]
        }
      ]
    },
    {
      "cell_type": "markdown",
      "source": [
        "7. 가변 keyword\n",
        "- 가변 keyword는 parameter 이름에 '**'를 붙인다.\n",
        "- keyword 방식으로 입력되는 argument의 개수에 상관없이 모두 받아온다.\n"
      ],
      "metadata": {
        "id": "VkUuJ8YKCDH0"
      }
    },
    {
      "cell_type": "code",
      "source": [
        "def proc(**a):\n",
        "  print(type(a))\n",
        "  return a"
      ],
      "metadata": {
        "id": "CjDswZ5YCX_K"
      },
      "execution_count": null,
      "outputs": []
    },
    {
      "cell_type": "code",
      "source": [
        "proc(x=2, y=3)\n"
      ],
      "metadata": {
        "colab": {
          "base_uri": "https://localhost:8080/"
        },
        "id": "zm1Pyx5PBplt",
        "outputId": "ad801514-5e8a-4a48-d2f0-7139ab010310"
      },
      "execution_count": null,
      "outputs": [
        {
          "output_type": "stream",
          "name": "stdout",
          "text": [
            "<class 'dict'>\n"
          ]
        },
        {
          "output_type": "execute_result",
          "data": {
            "text/plain": [
              "{'x': 2, 'y': 3}"
            ]
          },
          "metadata": {},
          "execution_count": 88
        }
      ]
    },
    {
      "cell_type": "code",
      "source": [
        "proc(x=3, y=1, z=[1,2,3])"
      ],
      "metadata": {
        "colab": {
          "base_uri": "https://localhost:8080/"
        },
        "id": "1j6lK97eCkgj",
        "outputId": "35439889-d924-4f0b-90aa-9762705dcad1"
      },
      "execution_count": null,
      "outputs": [
        {
          "output_type": "stream",
          "name": "stdout",
          "text": [
            "<class 'dict'>\n"
          ]
        },
        {
          "output_type": "execute_result",
          "data": {
            "text/plain": [
              "{'x': 3, 'y': 1, 'z': [1, 2, 3]}"
            ]
          },
          "metadata": {},
          "execution_count": 91
        }
      ]
    },
    {
      "cell_type": "markdown",
      "source": [
        "가변 positional/ 가변 keyword은 한 번만 사용할 수 있다"
      ],
      "metadata": {
        "id": "x81dHgZPDSo0"
      }
    },
    {
      "cell_type": "code",
      "source": [
        "def proc(*a, *b):\n",
        "  return a, b"
      ],
      "metadata": {
        "colab": {
          "base_uri": "https://localhost:8080/",
          "height": 147
        },
        "id": "QR5oD9s-C-_r",
        "outputId": "ef287913-d5f9-413f-9b46-f3bd7b3992ec"
      },
      "execution_count": null,
      "outputs": [
        {
          "output_type": "error",
          "ename": "SyntaxError",
          "evalue": "ignored",
          "traceback": [
            "\u001b[0;36m  File \u001b[0;32m\"<ipython-input-93-51ebdf9f1990>\"\u001b[0;36m, line \u001b[0;32m1\u001b[0m\n\u001b[0;31m    def proc(*a, *b):\u001b[0m\n\u001b[0m                 ^\u001b[0m\n\u001b[0;31mSyntaxError\u001b[0m\u001b[0;31m:\u001b[0m invalid syntax\n"
          ]
        }
      ]
    },
    {
      "cell_type": "code",
      "source": [
        "def proc(**a, **b):\n",
        "  return a, b"
      ],
      "metadata": {
        "colab": {
          "base_uri": "https://localhost:8080/",
          "height": 147
        },
        "id": "werYc68lC_5T",
        "outputId": "b55c8b19-931a-4d49-97b3-43a439092784"
      },
      "execution_count": null,
      "outputs": [
        {
          "output_type": "error",
          "ename": "SyntaxError",
          "evalue": "ignored",
          "traceback": [
            "\u001b[0;36m  File \u001b[0;32m\"<ipython-input-94-13f3d9d25bce>\"\u001b[0;36m, line \u001b[0;32m1\u001b[0m\n\u001b[0;31m    def proc(**a, **b):\u001b[0m\n\u001b[0m                  ^\u001b[0m\n\u001b[0;31mSyntaxError\u001b[0m\u001b[0;31m:\u001b[0m invalid syntax\n"
          ]
        }
      ]
    },
    {
      "cell_type": "code",
      "source": [
        "x=3; y=5\n",
        "result = x + y\n",
        "print(result)\n",
        "\n",
        "x=4; y=8\n",
        "result = x + y\n",
        "print(result)\n",
        "\n",
        "x=5; y=6\n",
        "result = x + y\n",
        "print(result)"
      ],
      "metadata": {
        "colab": {
          "base_uri": "https://localhost:8080/"
        },
        "id": "PJ_O4nF9DACD",
        "outputId": "cde9ebd7-570c-410f-b72d-d8e4407cb94b"
      },
      "execution_count": null,
      "outputs": [
        {
          "output_type": "stream",
          "name": "stdout",
          "text": [
            "8\n",
            "12\n",
            "11\n"
          ]
        }
      ]
    },
    {
      "cell_type": "code",
      "source": [
        "def plus(x,y):\n",
        "  result = x + y\n",
        "  return result"
      ],
      "metadata": {
        "id": "AIP1Fhz4EIfS"
      },
      "execution_count": null,
      "outputs": []
    },
    {
      "cell_type": "code",
      "source": [
        "plus(3,5)"
      ],
      "metadata": {
        "colab": {
          "base_uri": "https://localhost:8080/"
        },
        "id": "b1IGbS-ZDAMD",
        "outputId": "27c6a7e0-f897-4164-dd40-8e061f6b19b1"
      },
      "execution_count": null,
      "outputs": [
        {
          "output_type": "execute_result",
          "data": {
            "text/plain": [
              "8"
            ]
          },
          "metadata": {},
          "execution_count": 100
        }
      ]
    },
    {
      "cell_type": "code",
      "source": [
        "plus(4,8)"
      ],
      "metadata": {
        "colab": {
          "base_uri": "https://localhost:8080/"
        },
        "id": "3KkcVYggEoQU",
        "outputId": "2e941708-019a-4776-ecb2-e106cf1dc27d"
      },
      "execution_count": null,
      "outputs": [
        {
          "output_type": "execute_result",
          "data": {
            "text/plain": [
              "12"
            ]
          },
          "metadata": {},
          "execution_count": 101
        }
      ]
    },
    {
      "cell_type": "code",
      "source": [
        "plus(5,6)"
      ],
      "metadata": {
        "colab": {
          "base_uri": "https://localhost:8080/"
        },
        "id": "QtIJXsa8Eq2q",
        "outputId": "b3549461-1fbc-47d3-8366-cbe2d79cc32e"
      },
      "execution_count": null,
      "outputs": [
        {
          "output_type": "execute_result",
          "data": {
            "text/plain": [
              "11"
            ]
          },
          "metadata": {},
          "execution_count": 102
        }
      ]
    },
    {
      "cell_type": "markdown",
      "source": [
        "## overloading\n",
        "- 함수의 이름은 같은데, parameter 갯수 또는 parameter 타입이 달라야 한다\n",
        "-python은 overloading을 지원하지 않는다"
      ],
      "metadata": {
        "id": "IioYy7zMFu4s"
      }
    },
    {
      "cell_type": "code",
      "source": [
        "def add(a):\n",
        "  return a+1"
      ],
      "metadata": {
        "id": "JcPcNd7gEv0S"
      },
      "execution_count": null,
      "outputs": []
    },
    {
      "cell_type": "code",
      "source": [
        "add(6)"
      ],
      "metadata": {
        "colab": {
          "base_uri": "https://localhost:8080/"
        },
        "id": "PRxGHTceEv4q",
        "outputId": "cd7d016c-dec0-4ad4-d0ae-901b3401fc97"
      },
      "execution_count": null,
      "outputs": [
        {
          "output_type": "execute_result",
          "data": {
            "text/plain": [
              "7"
            ]
          },
          "metadata": {},
          "execution_count": 105
        }
      ]
    },
    {
      "cell_type": "code",
      "source": [
        "# 같은 함수를 사용하게 되면 위의 함수는 사라짐\n",
        "def add(a,b):\n",
        "  return a+b"
      ],
      "metadata": {
        "id": "KCBeYTkhGL_L"
      },
      "execution_count": null,
      "outputs": []
    },
    {
      "cell_type": "code",
      "source": [
        "add(1,2)"
      ],
      "metadata": {
        "colab": {
          "base_uri": "https://localhost:8080/"
        },
        "id": "ZKwuxQMMGXGC",
        "outputId": "580129c3-9809-4182-e410-9c886f3ea040"
      },
      "execution_count": null,
      "outputs": [
        {
          "output_type": "execute_result",
          "data": {
            "text/plain": [
              "3"
            ]
          },
          "metadata": {},
          "execution_count": 109
        }
      ]
    },
    {
      "cell_type": "code",
      "source": [
        "add(3)"
      ],
      "metadata": {
        "colab": {
          "base_uri": "https://localhost:8080/",
          "height": 183
        },
        "id": "IkYGx1BUGZJj",
        "outputId": "5dad5b88-f9ef-4961-b65f-ac21ed4395b5"
      },
      "execution_count": null,
      "outputs": [
        {
          "output_type": "error",
          "ename": "TypeError",
          "evalue": "ignored",
          "traceback": [
            "\u001b[0;31m---------------------------------------------------------------------------\u001b[0m",
            "\u001b[0;31mTypeError\u001b[0m                                 Traceback (most recent call last)",
            "\u001b[0;32m<ipython-input-110-4c015eca70a5>\u001b[0m in \u001b[0;36m<cell line: 1>\u001b[0;34m()\u001b[0m\n\u001b[0;32m----> 1\u001b[0;31m \u001b[0madd\u001b[0m\u001b[0;34m(\u001b[0m\u001b[0;36m3\u001b[0m\u001b[0;34m)\u001b[0m\u001b[0;34m\u001b[0m\u001b[0;34m\u001b[0m\u001b[0m\n\u001b[0m",
            "\u001b[0;31mTypeError\u001b[0m: add() missing 1 required positional argument: 'b'"
          ]
        }
      ]
    },
    {
      "cell_type": "code",
      "source": [
        "sum([1,2,3]) #sum은 내장 함수"
      ],
      "metadata": {
        "colab": {
          "base_uri": "https://localhost:8080/"
        },
        "id": "-lWfxzOSGaLh",
        "outputId": "c0f3b43d-a3e0-45a2-cfb0-5d885472278c"
      },
      "execution_count": null,
      "outputs": [
        {
          "output_type": "execute_result",
          "data": {
            "text/plain": [
              "6"
            ]
          },
          "metadata": {},
          "execution_count": 111
        }
      ]
    },
    {
      "cell_type": "code",
      "source": [
        "def sum(a,b):\n",
        "  return a+b"
      ],
      "metadata": {
        "id": "QtSIVft_G9dS"
      },
      "execution_count": null,
      "outputs": []
    },
    {
      "cell_type": "code",
      "source": [
        "sum(1,2)"
      ],
      "metadata": {
        "colab": {
          "base_uri": "https://localhost:8080/"
        },
        "id": "DUAqoBe6HE4a",
        "outputId": "93adc05e-9ccc-4018-e792-da900e27a303"
      },
      "execution_count": null,
      "outputs": [
        {
          "output_type": "execute_result",
          "data": {
            "text/plain": [
              "3"
            ]
          },
          "metadata": {},
          "execution_count": 113
        }
      ]
    },
    {
      "cell_type": "code",
      "source": [
        "# 위의 sum 함수로 인해서 기능을 잃어버림, 보통 많이 오류가 남\n",
        "sum([1,2,3])"
      ],
      "metadata": {
        "colab": {
          "base_uri": "https://localhost:8080/",
          "height": 201
        },
        "id": "4_UHagc3HGoi",
        "outputId": "063195c3-e825-4b7f-fca0-ecb935c78863"
      },
      "execution_count": null,
      "outputs": [
        {
          "output_type": "error",
          "ename": "TypeError",
          "evalue": "ignored",
          "traceback": [
            "\u001b[0;31m---------------------------------------------------------------------------\u001b[0m",
            "\u001b[0;31mTypeError\u001b[0m                                 Traceback (most recent call last)",
            "\u001b[0;32m<ipython-input-115-53091642c751>\u001b[0m in \u001b[0;36m<cell line: 2>\u001b[0;34m()\u001b[0m\n\u001b[1;32m      1\u001b[0m \u001b[0;31m# 위의 sum 함수로 인해서 기능을 잃어버림, 보통 많이 오류가 남\u001b[0m\u001b[0;34m\u001b[0m\u001b[0;34m\u001b[0m\u001b[0m\n\u001b[0;32m----> 2\u001b[0;31m \u001b[0msum\u001b[0m\u001b[0;34m(\u001b[0m\u001b[0;34m[\u001b[0m\u001b[0;36m1\u001b[0m\u001b[0;34m,\u001b[0m\u001b[0;36m2\u001b[0m\u001b[0;34m,\u001b[0m\u001b[0;36m3\u001b[0m\u001b[0;34m]\u001b[0m\u001b[0;34m)\u001b[0m\u001b[0;34m\u001b[0m\u001b[0;34m\u001b[0m\u001b[0m\n\u001b[0m",
            "\u001b[0;31mTypeError\u001b[0m: sum() missing 1 required positional argument: 'b'"
          ]
        }
      ]
    },
    {
      "cell_type": "code",
      "source": [
        "del sum"
      ],
      "metadata": {
        "id": "Po9SGcBkHSVk"
      },
      "execution_count": null,
      "outputs": []
    },
    {
      "cell_type": "code",
      "source": [
        "type(add)"
      ],
      "metadata": {
        "colab": {
          "base_uri": "https://localhost:8080/"
        },
        "id": "UR9-wEacHVPq",
        "outputId": "db6a0aea-af5a-417a-d928-1d4d342d4bbc"
      },
      "execution_count": null,
      "outputs": [
        {
          "output_type": "execute_result",
          "data": {
            "text/plain": [
              "function"
            ]
          },
          "metadata": {},
          "execution_count": 118
        }
      ]
    },
    {
      "cell_type": "code",
      "source": [
        "print(dir(add))"
      ],
      "metadata": {
        "colab": {
          "base_uri": "https://localhost:8080/"
        },
        "id": "SVWKb2oxHu-i",
        "outputId": "b92668a4-c78f-4599-b027-26d6bef57110"
      },
      "execution_count": null,
      "outputs": [
        {
          "output_type": "stream",
          "name": "stdout",
          "text": [
            "['__annotations__', '__builtins__', '__call__', '__class__', '__closure__', '__code__', '__defaults__', '__delattr__', '__dict__', '__dir__', '__doc__', '__eq__', '__format__', '__ge__', '__get__', '__getattribute__', '__globals__', '__gt__', '__hash__', '__init__', '__init_subclass__', '__kwdefaults__', '__le__', '__lt__', '__module__', '__name__', '__ne__', '__new__', '__qualname__', '__reduce__', '__reduce_ex__', '__repr__', '__setattr__', '__sizeof__', '__str__', '__subclasshook__']\n"
          ]
        }
      ]
    },
    {
      "cell_type": "code",
      "source": [
        "#__name__은 함수 이름을 알려준다\n",
        "add.__name__"
      ],
      "metadata": {
        "colab": {
          "base_uri": "https://localhost:8080/",
          "height": 35
        },
        "id": "NSJVF4VtIDzp",
        "outputId": "0abd1469-004e-4b7a-ffd8-5d266e8bef0a"
      },
      "execution_count": null,
      "outputs": [
        {
          "output_type": "execute_result",
          "data": {
            "text/plain": [
              "'add'"
            ],
            "application/vnd.google.colaboratory.intrinsic+json": {
              "type": "string"
            }
          },
          "metadata": {},
          "execution_count": 122
        }
      ]
    },
    {
      "cell_type": "code",
      "source": [
        "display = add"
      ],
      "metadata": {
        "id": "aXkXG5NOIL_C"
      },
      "execution_count": null,
      "outputs": []
    },
    {
      "cell_type": "code",
      "source": [
        "display(2,3)"
      ],
      "metadata": {
        "colab": {
          "base_uri": "https://localhost:8080/"
        },
        "id": "CpYWCTw8IMn5",
        "outputId": "ec076b47-280f-4b94-c2ba-13f64a67f6ab"
      },
      "execution_count": null,
      "outputs": [
        {
          "output_type": "execute_result",
          "data": {
            "text/plain": [
              "5"
            ]
          },
          "metadata": {},
          "execution_count": 124
        }
      ]
    },
    {
      "cell_type": "code",
      "source": [
        "type(display)"
      ],
      "metadata": {
        "colab": {
          "base_uri": "https://localhost:8080/"
        },
        "id": "R8cm9PRJInFa",
        "outputId": "8e9d7d81-7a22-4e9b-d342-160b9916dc3c"
      },
      "execution_count": null,
      "outputs": [
        {
          "output_type": "execute_result",
          "data": {
            "text/plain": [
              "function"
            ]
          },
          "metadata": {},
          "execution_count": 127
        }
      ]
    },
    {
      "cell_type": "code",
      "source": [
        "#함수를 다른 함수에 재할당해도 __name__은 원래 함수명을 알려준다.\n",
        "display.__name__"
      ],
      "metadata": {
        "colab": {
          "base_uri": "https://localhost:8080/",
          "height": 35
        },
        "id": "cbO3skoPIMqq",
        "outputId": "3b2a952d-8cd7-401c-8e2c-375098a2bf4f"
      },
      "execution_count": null,
      "outputs": [
        {
          "output_type": "execute_result",
          "data": {
            "text/plain": [
              "'add'"
            ],
            "application/vnd.google.colaboratory.intrinsic+json": {
              "type": "string"
            }
          },
          "metadata": {},
          "execution_count": 128
        }
      ]
    },
    {
      "cell_type": "markdown",
      "source": [
        "정수 5개의 argument을 받는 exam 함수를 정의에서 합계와 평균을 계산하는 프로그램을 구현하세요"
      ],
      "metadata": {
        "id": "FyK-5cJ9MY-s"
      }
    },
    {
      "cell_type": "code",
      "source": [
        "def exam(a, b, c, d, e):\n",
        "  hap = a+b+c+d+e\n",
        "  avg = hap/5\n",
        "  print('합계:{}'.format(hap))\n",
        "  print('평균:{}'.format(avg))"
      ],
      "metadata": {
        "id": "J8yeqp3FIMtS"
      },
      "execution_count": null,
      "outputs": []
    },
    {
      "cell_type": "code",
      "source": [
        "exam(2,3,4,5,6)"
      ],
      "metadata": {
        "colab": {
          "base_uri": "https://localhost:8080/"
        },
        "id": "teEu58eIIMvz",
        "outputId": "f3d3b1fb-e62e-4320-cff9-c3d409215fc7"
      },
      "execution_count": null,
      "outputs": [
        {
          "output_type": "stream",
          "name": "stdout",
          "text": [
            "합계:20\n",
            "평균:4.0\n"
          ]
        }
      ]
    },
    {
      "cell_type": "markdown",
      "source": [
        "str 데이터 타입의 argument을 받는 display 함수를 정의하고 문자열의 갯수를 리턴하는 프로그램을 구현하세요"
      ],
      "metadata": {
        "id": "GhogKoB9M_da"
      }
    },
    {
      "cell_type": "code",
      "source": [
        "def display(k):\n",
        "  return len(k)"
      ],
      "metadata": {
        "id": "svl5XRG2M-Qp"
      },
      "execution_count": null,
      "outputs": []
    },
    {
      "cell_type": "code",
      "source": [
        "display('apple')"
      ],
      "metadata": {
        "colab": {
          "base_uri": "https://localhost:8080/"
        },
        "id": "ST1nMXzxNg8h",
        "outputId": "7b28be3b-1026-4d02-87fb-964c8a92531f"
      },
      "execution_count": null,
      "outputs": [
        {
          "output_type": "execute_result",
          "data": {
            "text/plain": [
              "5"
            ]
          },
          "metadata": {},
          "execution_count": 137
        }
      ]
    },
    {
      "cell_type": "markdown",
      "source": [
        "str 데이터 타입의 argument을 받는 display 함수를 정의하고 특정 인덱스에 문자를 리턴하는 프로그램을 구현하세요"
      ],
      "metadata": {
        "id": "Jvi2E060ODu9"
      }
    },
    {
      "cell_type": "code",
      "source": [
        "#찾는 문자가 없을 때 : index() 오류발생, find() -1를 리턴\n",
        "def display(k,i):\n",
        "  return k.index(i)"
      ],
      "metadata": {
        "id": "qJ1gRHkuOBxw"
      },
      "execution_count": null,
      "outputs": []
    },
    {
      "cell_type": "code",
      "source": [
        "display('apple', 'a')"
      ],
      "metadata": {
        "colab": {
          "base_uri": "https://localhost:8080/"
        },
        "id": "x72AK2bjOXyI",
        "outputId": "4cfee1ae-8752-4bc4-ec89-27e7fb4a9132"
      },
      "execution_count": null,
      "outputs": [
        {
          "output_type": "execute_result",
          "data": {
            "text/plain": [
              "0"
            ]
          },
          "metadata": {},
          "execution_count": 143
        }
      ]
    },
    {
      "cell_type": "markdown",
      "source": [
        "특정년도의 윤년, 평년을 구하는 리턴하는 프로그램을 구현하세요"
      ],
      "metadata": {
        "id": "NAZYTTx7O6pz"
      }
    },
    {
      "cell_type": "code",
      "source": [
        "# 윤년 : 연도를 4로 나누어 떨어지고 100으로 나누어 떨어지면 안되거나\n",
        "#                400으로 나눠 떨어지면 된다\n",
        "def isLeapYear(year):\n",
        "  if (year%4==0 and year%100!=0) or year%400==0:\n",
        "    return True\n",
        "  else:\n",
        "    return False"
      ],
      "metadata": {
        "id": "a2d2up6GO6RK"
      },
      "execution_count": null,
      "outputs": []
    },
    {
      "cell_type": "code",
      "source": [
        "year=2016\n",
        "if isLeapYear(year):\n",
        "  print('{}년도는 {}입니다'.format(year,'윤년'))\n",
        "else:\n",
        "  print('{}년도는 {}입니다'.format(year,'평년'))"
      ],
      "metadata": {
        "colab": {
          "base_uri": "https://localhost:8080/"
        },
        "id": "IRYQ6WN6PyTl",
        "outputId": "b1dbb1d1-1803-43de-b519-d0165019d634"
      },
      "execution_count": null,
      "outputs": [
        {
          "output_type": "stream",
          "name": "stdout",
          "text": [
            "2016년도는 윤년입니다\n"
          ]
        }
      ]
    },
    {
      "cell_type": "code",
      "source": [
        "year=2017\n",
        "if isLeapYear(year):\n",
        "  print('{}년도는 {}입니다'.format(year,'윤년'))\n",
        "else:\n",
        "  print('{}년도는 {}입니다'.format(year,'평년'))"
      ],
      "metadata": {
        "colab": {
          "base_uri": "https://localhost:8080/"
        },
        "id": "iZ2QS3H0QZ-n",
        "outputId": "4710f25e-82cb-4e28-d173-0bc262de373a"
      },
      "execution_count": null,
      "outputs": [
        {
          "output_type": "stream",
          "name": "stdout",
          "text": [
            "2017년도는 평년입니다\n"
          ]
        }
      ]
    },
    {
      "cell_type": "code",
      "source": [
        "def resultYear(b): #논리값\n",
        "  if b :\n",
        "    print('{}년도는 {}입니다'.format(year,'윤년'))\n",
        "  else:\n",
        "    print('{}년도는 {}입니다'.format(year,'평년'))"
      ],
      "metadata": {
        "id": "Mr534mVmQeHo"
      },
      "execution_count": null,
      "outputs": []
    },
    {
      "cell_type": "code",
      "source": [
        "year = 2016\n",
        "checkYear = isLeapYear(year)\n",
        "resultYear(checkYear)"
      ],
      "metadata": {
        "colab": {
          "base_uri": "https://localhost:8080/"
        },
        "id": "lC1xMgT9Q3VF",
        "outputId": "72b790f4-f8e4-4dd1-e6c1-b214e687aa70"
      },
      "execution_count": null,
      "outputs": [
        {
          "output_type": "stream",
          "name": "stdout",
          "text": [
            "2016년도는 윤년입니다\n"
          ]
        }
      ]
    },
    {
      "cell_type": "markdown",
      "source": [
        "2개의 요소가 저장된 list 데이터 타입의 reverse해서 결과를 리턴하는 함수를 구현하세요\n"
      ],
      "metadata": {
        "id": "9eyHTkoySMgy"
      }
    },
    {
      "cell_type": "code",
      "source": [
        "def swap(data):\n",
        "  a, b = data # 언패킹 가능하므로 해줌\n",
        "  return [b,a]"
      ],
      "metadata": {
        "id": "WjN1R7H0SSB8"
      },
      "execution_count": null,
      "outputs": []
    },
    {
      "cell_type": "code",
      "source": [
        "swap([1,3])"
      ],
      "metadata": {
        "colab": {
          "base_uri": "https://localhost:8080/"
        },
        "id": "CpdIAEUJSSHm",
        "outputId": "19ffc7eb-cd99-461b-898a-2002247d3958"
      },
      "execution_count": null,
      "outputs": [
        {
          "output_type": "execute_result",
          "data": {
            "text/plain": [
              "[3, 1]"
            ]
          },
          "metadata": {},
          "execution_count": 193
        }
      ]
    },
    {
      "cell_type": "code",
      "source": [
        "# a 값을 swap이 처리해도 그대로 유지되고 싶을 때 이용\n",
        "def swap(data):\n",
        "  return [i for i in reversed(data)]\n"
      ],
      "metadata": {
        "id": "h0TXn-3HSSNR"
      },
      "execution_count": null,
      "outputs": []
    },
    {
      "cell_type": "code",
      "source": [
        "a = [1,3,4,5,6]\n",
        "print(swap(a))\n",
        "print('변경후:', a)"
      ],
      "metadata": {
        "colab": {
          "base_uri": "https://localhost:8080/"
        },
        "id": "E4ToZVwKSSUJ",
        "outputId": "7b88b9e7-a991-47db-c593-27b711700a8c"
      },
      "execution_count": null,
      "outputs": [
        {
          "output_type": "stream",
          "name": "stdout",
          "text": [
            "[6, 5, 4, 3, 1]\n",
            "변경후: [1, 3, 4, 5, 6]\n"
          ]
        }
      ]
    },
    {
      "cell_type": "code",
      "source": [
        "# a 값을 swap이 처리하면 변경되는 것\n",
        "def swap(data):\n",
        "  data.reverse()\n",
        "  return data"
      ],
      "metadata": {
        "id": "Jv0EaAa5VlEl"
      },
      "execution_count": null,
      "outputs": []
    },
    {
      "cell_type": "code",
      "source": [
        "a = [1,3,4,5,6]\n",
        "print(swap(a))\n",
        "print('변경후:', a)"
      ],
      "metadata": {
        "colab": {
          "base_uri": "https://localhost:8080/"
        },
        "id": "TgJQahoGWFBI",
        "outputId": "8c42f3bb-fd98-4332-cdff-b3795ba48736"
      },
      "execution_count": null,
      "outputs": [
        {
          "output_type": "stream",
          "name": "stdout",
          "text": [
            "[6, 5, 4, 3, 1]\n",
            "변경후: [6, 5, 4, 3, 1]\n"
          ]
        }
      ]
    },
    {
      "cell_type": "markdown",
      "source": [
        "대문자는 소문자로, 소문자는 대문자로 나머지는 그대로 해서 반환하는 프로그램을 구현하세요"
      ],
      "metadata": {
        "id": "YUEFHAjuouP9"
      }
    },
    {
      "cell_type": "code",
      "source": [
        "print(chr(97)) # 숫자를 알파벳으로 바꿔줌\n",
        "print(ord('a')) # 위의 역\n",
        "print(ord('a') -32)  # 소문자와 대문자의 차이 32\n",
        "print(chr(65))\n",
        "print(str(True))"
      ],
      "metadata": {
        "colab": {
          "base_uri": "https://localhost:8080/"
        },
        "id": "URxKMtWuqkmH",
        "outputId": "09428b0a-d209-41b6-dcdb-26adecd210c1"
      },
      "execution_count": null,
      "outputs": [
        {
          "output_type": "stream",
          "name": "stdout",
          "text": [
            "a\n",
            "97\n",
            "65\n",
            "A\n"
          ]
        }
      ]
    },
    {
      "cell_type": "code",
      "source": [
        "print(int(True))\n",
        "print(int(False))\n",
        "print(type(True))"
      ],
      "metadata": {
        "colab": {
          "base_uri": "https://localhost:8080/"
        },
        "id": "I27ZaYfAu-gn",
        "outputId": "bdeed82e-279a-4452-9ec7-193737115888"
      },
      "execution_count": null,
      "outputs": [
        {
          "output_type": "stream",
          "name": "stdout",
          "text": [
            "1\n",
            "0\n",
            "<class 'bool'>\n"
          ]
        }
      ]
    },
    {
      "cell_type": "code",
      "source": [
        "# for도 일종의 반복문 이므로 continue 사용 가능\n",
        "a = [1,2,3]\n",
        "for i in a:\n",
        "  if i%2==0:\n",
        "    continue\n",
        "  print(i)"
      ],
      "metadata": {
        "colab": {
          "base_uri": "https://localhost:8080/"
        },
        "id": "lbhGQreU3-oV",
        "outputId": "6a9baf18-5750-454e-8136-49eb97013ad2"
      },
      "execution_count": null,
      "outputs": [
        {
          "output_type": "stream",
          "name": "stdout",
          "text": [
            "1\n",
            "3\n"
          ]
        }
      ]
    },
    {
      "cell_type": "code",
      "source": [
        "def process(arg):  #['p', 'y', 'T','1','_', True]\n",
        "  data = []        # 변경한 값을 저장할 변수\n",
        "  i = -1           # 인덱스에 접근하기 위한 변수\n",
        "  while i <len(arg)-1: #i는 리스트이므로 변경가능한 값인 변수여야함\n",
        "    i += 1\n",
        "    #if (type(arg[i])==bool) or (type(arg[i])==int):\n",
        "    if type(arg[i]) !=str:\n",
        "      data.append(arg[i])#data 리스트에 추가하는 과정\n",
        "      continue\n",
        "\n",
        "    if arg[i] >= 'A' and arg[i] <= 'Z':\n",
        "      data.append(chr(ord(arg[i]) + 32)) # A (65) a(97), arg의 i 번째 있는 것을 소문자로\n",
        "    elif arg[i]>= 'a' and arg[i] <='z':\n",
        "      data.append(chr(ord(arg[i]) - 32))\n",
        "    else:\n",
        "      data.append(arg[i])\n",
        "\n",
        "  return data"
      ],
      "metadata": {
        "id": "pVUEWgeVWwBX"
      },
      "execution_count": null,
      "outputs": []
    },
    {
      "cell_type": "code",
      "source": [
        "process(['p', 'y', 'T',1 ,'_', True])"
      ],
      "metadata": {
        "colab": {
          "base_uri": "https://localhost:8080/"
        },
        "id": "OFDivT2xpBcM",
        "outputId": "41bd8748-cd5d-4b5f-b264-af2d35930c89"
      },
      "execution_count": null,
      "outputs": [
        {
          "output_type": "execute_result",
          "data": {
            "text/plain": [
              "['P', 'Y', 't', 1, '_', True]"
            ]
          },
          "metadata": {},
          "execution_count": 8
        }
      ]
    },
    {
      "cell_type": "code",
      "source": [],
      "metadata": {
        "id": "e2SRoI2uAd5I"
      },
      "execution_count": null,
      "outputs": []
    },
    {
      "cell_type": "code",
      "source": [
        "def process( arg ):  #['p','y','T',1,'_',True]\n",
        "  data = []          # 변경한 값을 저장할 변수\n",
        "  i = -1             # 인덱스에 접근하기 위한 변수\n",
        "  while  i < len(arg)-1:  #i는 리스트이므로 변경가능한 값인 변수여야함\n",
        "    i = i + 1\n",
        "    if type(arg[i]) != str :\n",
        "      data.append(arg[i])      #data 리스트에 추가하는 과정\n",
        "      continue\n",
        "    if arg[i].isupper():\n",
        "      data.append(arg[i].lower())\n",
        "    elif arg[i].islower():\n",
        "      data.append(arg[i].upper())\n",
        "    else:\n",
        "      data.append(arg[i])\n",
        "\n",
        "  return data"
      ],
      "metadata": {
        "id": "Phn7KHEi_O-j"
      },
      "execution_count": null,
      "outputs": []
    },
    {
      "cell_type": "code",
      "source": [
        "process(['p', 'y', 'T', 1, '_', True])"
      ],
      "metadata": {
        "colab": {
          "base_uri": "https://localhost:8080/"
        },
        "id": "NTkuw_Cw_TJJ",
        "outputId": "f42f17e2-e2b1-46f5-9ceb-3c0ca5eb5e2a"
      },
      "execution_count": null,
      "outputs": [
        {
          "output_type": "execute_result",
          "data": {
            "text/plain": [
              "['P', 'Y', 't', 1, '_', True]"
            ]
          },
          "metadata": {},
          "execution_count": 4
        }
      ]
    },
    {
      "cell_type": "markdown",
      "source": [
        "데이터를 'a'는 '_'로, 's'는 '@'로 변경해서 리턴하는 프로그램을 구현하세요"
      ],
      "metadata": {
        "id": "1C_gXRbpEgWJ"
      }
    },
    {
      "cell_type": "code",
      "source": [
        "def passToken(arg):\n",
        "  data=[]\n",
        "  for item in arg: #인덱스 값을 가진 것은 for을 하면 하나씩 가져옴\n",
        "    if item == 'a':\n",
        "      data.append('_')\n",
        "    elif item =='s':\n",
        "      data.append('@')\n",
        "    else:\n",
        "      data.append(item)\n",
        "\n",
        "  return ''.join(data) #list를 스트링으로 바꾸면 대괄호까지 ''"
      ],
      "metadata": {
        "id": "f_lHxJB2pBj0"
      },
      "execution_count": null,
      "outputs": []
    },
    {
      "cell_type": "code",
      "source": [
        "passToken('address')  # _ddre@@"
      ],
      "metadata": {
        "colab": {
          "base_uri": "https://localhost:8080/",
          "height": 35
        },
        "id": "ax72DwIbpBmL",
        "outputId": "f9a8d251-ef71-41bf-e936-2c982477ce29"
      },
      "execution_count": null,
      "outputs": [
        {
          "output_type": "execute_result",
          "data": {
            "text/plain": [
              "'_ddre@@'"
            ],
            "application/vnd.google.colaboratory.intrinsic+json": {
              "type": "string"
            }
          },
          "metadata": {},
          "execution_count": 18
        }
      ]
    },
    {
      "cell_type": "markdown",
      "source": [
        "python은 외부에서 함수 내부로 접근할 수 없다."
      ],
      "metadata": {
        "id": "40f8p9iBIRan"
      }
    },
    {
      "cell_type": "code",
      "source": [
        "def proc():\n",
        "  z = 1"
      ],
      "metadata": {
        "id": "pMhDIv5JpBpE"
      },
      "execution_count": null,
      "outputs": []
    },
    {
      "cell_type": "code",
      "source": [
        "# z는 함수 내에서 할당되었으므로 함수 밖에서 호출할 수 없다\n",
        "z"
      ],
      "metadata": {
        "colab": {
          "base_uri": "https://localhost:8080/",
          "height": 201
        },
        "id": "SfXeolXrIdXl",
        "outputId": "9805d791-13d7-4106-cbe9-3b305863c60f"
      },
      "execution_count": null,
      "outputs": [
        {
          "output_type": "error",
          "ename": "NameError",
          "evalue": "ignored",
          "traceback": [
            "\u001b[0;31m---------------------------------------------------------------------------\u001b[0m",
            "\u001b[0;31mNameError\u001b[0m                                 Traceback (most recent call last)",
            "\u001b[0;32m<ipython-input-20-5b9f9c4bddbe>\u001b[0m in \u001b[0;36m<cell line: 2>\u001b[0;34m()\u001b[0m\n\u001b[1;32m      1\u001b[0m \u001b[0;31m# z는 함수 내에서 할당되었으므로 함수 밖에서 호출할 수 없다\u001b[0m\u001b[0;34m\u001b[0m\u001b[0;34m\u001b[0m\u001b[0m\n\u001b[0;32m----> 2\u001b[0;31m \u001b[0mz\u001b[0m\u001b[0;34m\u001b[0m\u001b[0;34m\u001b[0m\u001b[0m\n\u001b[0m",
            "\u001b[0;31mNameError\u001b[0m: name 'z' is not defined"
          ]
        }
      ]
    },
    {
      "cell_type": "code",
      "source": [
        "c =10 # 함수에서는 전역변수라 함, 여러 함수에서 참조 가능\n",
        "def display():\n",
        "  print(c)"
      ],
      "metadata": {
        "id": "kaQ0g3MCIm9V"
      },
      "execution_count": null,
      "outputs": []
    },
    {
      "cell_type": "code",
      "source": [
        "display() # c가 전역변수이기 때문에 출력 가능"
      ],
      "metadata": {
        "colab": {
          "base_uri": "https://localhost:8080/"
        },
        "id": "AttfXwZYIy9B",
        "outputId": "9698265e-3e17-481f-dbde-8031e91e0388"
      },
      "execution_count": null,
      "outputs": [
        {
          "output_type": "stream",
          "name": "stdout",
          "text": [
            "10\n"
          ]
        }
      ]
    },
    {
      "cell_type": "markdown",
      "source": [
        "global은 내부와 외부의 객체를 동기화(sync) 시켜준다  \n",
        "global은 사용하기는 편하지만 언제 바뀌었는지 흐름을 파악하기 힘들기 때문에 남용은 하지 않는다"
      ],
      "metadata": {
        "id": "qw7PORusKMoO"
      }
    },
    {
      "cell_type": "code",
      "source": [
        "t = 3\n",
        "def prn():\n",
        "  global t\n",
        "  t = t+1\n",
        "  print(t)\n"
      ],
      "metadata": {
        "id": "qIXFk8asI249"
      },
      "execution_count": null,
      "outputs": []
    },
    {
      "cell_type": "code",
      "source": [
        "prn()"
      ],
      "metadata": {
        "colab": {
          "base_uri": "https://localhost:8080/"
        },
        "id": "SUDoI2xbJKm9",
        "outputId": "72c03ead-0d47-4248-b4b3-f929c3f127a9"
      },
      "execution_count": null,
      "outputs": [
        {
          "output_type": "stream",
          "name": "stdout",
          "text": [
            "4\n"
          ]
        }
      ]
    },
    {
      "cell_type": "code",
      "source": [
        "# 외부의 자원도 값이 변경되어 출력이 된다.\n",
        "t"
      ],
      "metadata": {
        "colab": {
          "base_uri": "https://localhost:8080/"
        },
        "id": "WNhqs0nRJLN9",
        "outputId": "9689d1b6-a247-451a-a5bc-8e868429a4e7"
      },
      "execution_count": null,
      "outputs": [
        {
          "output_type": "execute_result",
          "data": {
            "text/plain": [
              "4"
            ]
          },
          "metadata": {},
          "execution_count": 31
        }
      ]
    },
    {
      "cell_type": "markdown",
      "source": [
        "외부 함수의 자원을 내부 함수에서 참조할 때는 nonlocal을 사용한다.\n"
      ],
      "metadata": {
        "id": "8FKNAHhCMGRI"
      }
    },
    {
      "cell_type": "code",
      "source": [
        "k = 1\n",
        "\n",
        "def outer():\n",
        "  m = 1\n",
        "  def inner():\n",
        "    global k\n",
        "    k =k +1\n",
        "    nonlocal m # 밖에 있는 변수를 내부에서 쓸 수 있도록 함\n",
        "    m=m+1\n",
        "    return k, m\n",
        "  return inner()"
      ],
      "metadata": {
        "id": "Ysb4urGiK1nU"
      },
      "execution_count": null,
      "outputs": []
    },
    {
      "cell_type": "code",
      "source": [
        "outer()"
      ],
      "metadata": {
        "colab": {
          "base_uri": "https://localhost:8080/"
        },
        "id": "ICG83HhgLrx6",
        "outputId": "b2d2f678-0883-4123-ae14-0b50e604b68f"
      },
      "execution_count": null,
      "outputs": [
        {
          "output_type": "execute_result",
          "data": {
            "text/plain": [
              "(2, 2)"
            ]
          },
          "metadata": {},
          "execution_count": 33
        }
      ]
    },
    {
      "cell_type": "code",
      "source": [
        "def add(a,b):\n",
        "  return a+b"
      ],
      "metadata": {
        "id": "T6qtasdDLuFk"
      },
      "execution_count": null,
      "outputs": []
    },
    {
      "cell_type": "code",
      "source": [
        "add(3,4)"
      ],
      "metadata": {
        "colab": {
          "base_uri": "https://localhost:8080/"
        },
        "id": "PhpYB_clM1H7",
        "outputId": "3fcc45cf-97a9-4ecb-ad54-8e1c2acc17f6"
      },
      "execution_count": null,
      "outputs": [
        {
          "output_type": "execute_result",
          "data": {
            "text/plain": [
              "7"
            ]
          },
          "metadata": {},
          "execution_count": 40
        }
      ]
    },
    {
      "cell_type": "markdown",
      "source": [
        "##lambda\n",
        "- python에서는 익명함수를 정의할 때 lamda키워드를 사용한다\n",
        "- 간결하게 함수를 표현하거나 def를 정의할 수 없는 경우에 사용한다"
      ],
      "metadata": {
        "id": "sYXrL3DfNITJ"
      }
    },
    {
      "cell_type": "code",
      "source": [
        "add = lambda a, b : a+b"
      ],
      "metadata": {
        "id": "JBthJ9MKM2tj"
      },
      "execution_count": null,
      "outputs": []
    },
    {
      "cell_type": "code",
      "source": [
        "type(add)"
      ],
      "metadata": {
        "colab": {
          "base_uri": "https://localhost:8080/"
        },
        "id": "lAvyIHftNN0N",
        "outputId": "d8f97ce3-1fa7-4ae5-b64f-d14de1e47b2a"
      },
      "execution_count": null,
      "outputs": [
        {
          "output_type": "execute_result",
          "data": {
            "text/plain": [
              "function"
            ]
          },
          "metadata": {},
          "execution_count": 43
        }
      ]
    },
    {
      "cell_type": "code",
      "source": [
        "add.__name__"
      ],
      "metadata": {
        "colab": {
          "base_uri": "https://localhost:8080/",
          "height": 35
        },
        "id": "kLRt3QOXNQCd",
        "outputId": "c56f4f27-aefa-4506-87c7-97f24bfe456b"
      },
      "execution_count": null,
      "outputs": [
        {
          "output_type": "execute_result",
          "data": {
            "text/plain": [
              "'<lambda>'"
            ],
            "application/vnd.google.colaboratory.intrinsic+json": {
              "type": "string"
            }
          },
          "metadata": {},
          "execution_count": 44
        }
      ]
    },
    {
      "cell_type": "code",
      "source": [
        "add(3, 4)"
      ],
      "metadata": {
        "colab": {
          "base_uri": "https://localhost:8080/"
        },
        "id": "evJ1Fdy7NVW7",
        "outputId": "2fe6c5d7-ec51-404f-e9ac-70ee33580544"
      },
      "execution_count": null,
      "outputs": [
        {
          "output_type": "execute_result",
          "data": {
            "text/plain": [
              "7"
            ]
          },
          "metadata": {},
          "execution_count": 45
        }
      ]
    },
    {
      "cell_type": "code",
      "source": [],
      "metadata": {
        "id": "0hVxHXGnNawy"
      },
      "execution_count": null,
      "outputs": []
    }
  ]
}