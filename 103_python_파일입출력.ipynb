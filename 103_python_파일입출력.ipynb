{
  "nbformat": 4,
  "nbformat_minor": 0,
  "metadata": {
    "colab": {
      "provenance": [],
      "authorship_tag": "ABX9TyMdVRfvawMaJrRaxGvHSp0G",
      "include_colab_link": true
    },
    "kernelspec": {
      "name": "python3",
      "display_name": "Python 3"
    },
    "language_info": {
      "name": "python"
    }
  },
  "cells": [
    {
      "cell_type": "markdown",
      "metadata": {
        "id": "view-in-github",
        "colab_type": "text"
      },
      "source": [
        "<a href=\"https://colab.research.google.com/github/susanna0507/python_demo/blob/master/103_python_%ED%8C%8C%EC%9D%BC%EC%9E%85%EC%B6%9C%EB%A0%A5.ipynb\" target=\"_parent\"><img src=\"https://colab.research.google.com/assets/colab-badge.svg\" alt=\"Open In Colab\"/></a>"
      ]
    },
    {
      "cell_type": "markdown",
      "source": [
        "# 파일 입출력"
      ],
      "metadata": {
        "id": "BwpfQJCl2O6G"
      }
    },
    {
      "cell_type": "code",
      "source": [
        "# 구글 드라이버\n",
        "from google.colab import drive\n",
        "drive.mount('/content/drive')"
      ],
      "metadata": {
        "colab": {
          "base_uri": "https://localhost:8080/"
        },
        "id": "tXfANB9NzUuF",
        "outputId": "d1ede231-031d-45c0-edfe-55d52cf722ff"
      },
      "execution_count": null,
      "outputs": [
        {
          "output_type": "stream",
          "name": "stdout",
          "text": [
            "Drive already mounted at /content/drive; to attempt to forcibly remount, call drive.mount(\"/content/drive\", force_remount=True).\n"
          ]
        }
      ]
    },
    {
      "cell_type": "code",
      "execution_count": null,
      "metadata": {
        "colab": {
          "base_uri": "https://localhost:8080/"
        },
        "id": "Y10mKZg-cu2u",
        "outputId": "593bddd2-f1ef-4b97-bd7e-147e4c16de99"
      },
      "outputs": [
        {
          "output_type": "stream",
          "name": "stdout",
          "text": [
            "/content/drive/MyDrive/ai_chat_python\n"
          ]
        }
      ],
      "source": [
        "# 경로변경\n",
        "%cd /content/drive/MyDrive/ai_chat_python"
      ]
    },
    {
      "cell_type": "code",
      "source": [
        "fwrite = open('source/sample.txt','w') # 파일 열기\n",
        "for i in range(5):\n",
        "  data = '{}번째 줄입니다.\\n'.format(i)\n",
        "  fwrite.write(data)\n",
        "fwrite.close()# 파일 닫기\n"
      ],
      "metadata": {
        "id": "H_6hQD0YyuCA"
      },
      "execution_count": null,
      "outputs": []
    },
    {
      "cell_type": "code",
      "source": [
        "fread = open('source/sample.txt','r')\n",
        "line = fread.read() # read()는 파일의 모든 데이터를 읽어온다\n",
        "print(line)\n",
        "print(type(line))\n",
        "fread.close()"
      ],
      "metadata": {
        "colab": {
          "base_uri": "https://localhost:8080/"
        },
        "id": "Ebt0N6vTzrHN",
        "outputId": "37755381-7ad8-4d0b-893a-fcd1b576d499"
      },
      "execution_count": null,
      "outputs": [
        {
          "output_type": "stream",
          "name": "stdout",
          "text": [
            "0번째 줄입니다.\n",
            "1번째 줄입니다.\n",
            "2번째 줄입니다.\n",
            "3번째 줄입니다.\n",
            "4번째 줄입니다.\n",
            "\n",
            "<class 'str'>\n"
          ]
        }
      ]
    },
    {
      "cell_type": "code",
      "source": [
        "fread = open('source/sample.txt','r') #sample.txt파일을 읽기로 연결한다\n",
        "while True:\n",
        "  line = fread.readline() # readline은 파일에서 한라인씩 올라옴\n",
        "  if not line:\n",
        "    break\n",
        "  print(line, end='')\n",
        "fread.close()"
      ],
      "metadata": {
        "colab": {
          "base_uri": "https://localhost:8080/"
        },
        "id": "4hewsZ8D1Bkc",
        "outputId": "a8e3221a-7e2f-4cd6-c705-088b488423e2"
      },
      "execution_count": null,
      "outputs": [
        {
          "output_type": "stream",
          "name": "stdout",
          "text": [
            "0번째 줄입니다.\n",
            "1번째 줄입니다.\n",
            "2번째 줄입니다.\n",
            "3번째 줄입니다.\n",
            "4번째 줄입니다.\n"
          ]
        }
      ]
    },
    {
      "cell_type": "code",
      "source": [
        "fread = open('source/sample.txt','r')\n",
        "line = fread.readlines() #readlines()은 파일에서 한라인씩 읽어와서 list에 저장한 후 리턴한다\n",
        "print(line)\n",
        "print(type(line))\n",
        "fread.close()"
      ],
      "metadata": {
        "colab": {
          "base_uri": "https://localhost:8080/"
        },
        "id": "my3K3CCu1yhc",
        "outputId": "80ac4658-f7c5-4e1c-d1f1-851dcab54fcc"
      },
      "execution_count": null,
      "outputs": [
        {
          "output_type": "stream",
          "name": "stdout",
          "text": [
            "['0번째 줄입니다.\\n', '1번째 줄입니다.\\n', '2번째 줄입니다.\\n', '3번째 줄입니다.\\n', '4번째 줄입니다.\\n']\n",
            "<class 'list'>\n"
          ]
        }
      ]
    },
    {
      "cell_type": "code",
      "source": [
        "# 기존 파일에 새로운 데이터를 추가할 때는 모드의 값을 'a'로 설정\n",
        "fwrite = open('source/sample.txt','a') # 파일 열기\n",
        "for i in range(11,21):\n",
        "  data = '{}번째 줄입니다.\\n'.format(i)\n",
        "  fwrite.write(data)\n",
        "fwrite.close()# 파일 닫기"
      ],
      "metadata": {
        "id": "ExAGaXv624yE"
      },
      "execution_count": null,
      "outputs": []
    },
    {
      "cell_type": "code",
      "source": [
        "fread = open('source/sample.txt','r') # 파일 열기\n",
        "line = fread.readlines() #readlines()은 파일에서 한라인씩 읽어와서 list에 저장한 후 리턴한다\n",
        "print(line)\n",
        "print(type(line))\n",
        "fread.close()"
      ],
      "metadata": {
        "colab": {
          "base_uri": "https://localhost:8080/"
        },
        "id": "vo8g3Kfo3Dds",
        "outputId": "967e2d34-0460-4ed7-c93c-5df04e3dff09"
      },
      "execution_count": null,
      "outputs": [
        {
          "output_type": "stream",
          "name": "stdout",
          "text": [
            "['0번째 줄입니다.\\n', '1번째 줄입니다.\\n', '2번째 줄입니다.\\n', '3번째 줄입니다.\\n', '4번째 줄입니다.\\n', '11번째 줄입니다.\\n', '12번째 줄입니다.\\n', '13번째 줄입니다.\\n', '14번째 줄입니다.\\n', '15번째 줄입니다.\\n', '16번째 줄입니다.\\n', '17번째 줄입니다.\\n', '18번째 줄입니다.\\n', '19번째 줄입니다.\\n', '20번째 줄입니다.\\n']\n",
            "<class 'list'>\n"
          ]
        }
      ]
    },
    {
      "cell_type": "markdown",
      "source": [
        "## with 문과 함께 사용\n",
        "- with문과 함께 파일을 사용하면 일기, 쓰기할 때 close()를 안해도 됨"
      ],
      "metadata": {
        "id": "6jYEeymL4aJd"
      }
    },
    {
      "cell_type": "code",
      "source": [
        "with open('source/sample.txt','w') as f:\n",
        "  for i in range(1,11):\n",
        "    data = '{}번째 줄입니다.\\n'.format(i)\n",
        "    f.write(data)"
      ],
      "metadata": {
        "id": "kgKu2kk73m1a"
      },
      "execution_count": null,
      "outputs": []
    },
    {
      "cell_type": "code",
      "source": [
        "with open('source/sample.txt','r') as f:\n",
        "  while True:\n",
        "    line = f.readline()\n",
        "    if not line:\n",
        "      break;\n",
        "    print(line, end = '')"
      ],
      "metadata": {
        "colab": {
          "base_uri": "https://localhost:8080/"
        },
        "id": "68bcwGAe48L8",
        "outputId": "f02d00b3-6a0e-4081-a607-53b4d099d82b"
      },
      "execution_count": null,
      "outputs": [
        {
          "output_type": "stream",
          "name": "stdout",
          "text": [
            "1번째 줄입니다.\n",
            "2번째 줄입니다.\n",
            "3번째 줄입니다.\n",
            "4번째 줄입니다.\n",
            "5번째 줄입니다.\n",
            "6번째 줄입니다.\n",
            "7번째 줄입니다.\n",
            "8번째 줄입니다.\n",
            "9번째 줄입니다.\n",
            "10번째 줄입니다.\n"
          ]
        }
      ]
    },
    {
      "cell_type": "code",
      "source": [
        "with open('source/test.txt', 'r') as f:\n",
        "  print(f.read())"
      ],
      "metadata": {
        "colab": {
          "base_uri": "https://localhost:8080/"
        },
        "id": "EHatk9G45Zyq",
        "outputId": "dfaf28e8-cc0f-4921-fde5-49e9d1df9f88"
      },
      "execution_count": null,
      "outputs": [
        {
          "output_type": "stream",
          "name": "stdout",
          "text": [
            "\n"
          ]
        }
      ]
    },
    {
      "cell_type": "code",
      "source": [
        "with open('source/test.txt', 'w') as f:\n",
        "  f.writelines('_'.join(['apple','banana','lemon']))"
      ],
      "metadata": {
        "id": "bPH01DQC6jka"
      },
      "execution_count": null,
      "outputs": []
    },
    {
      "cell_type": "code",
      "source": [
        "with open('source/test.txt', 'r') as f:\n",
        "  #[apple_banana_lemon]\n",
        "  print(f.read()) #apple_banana_lemon"
      ],
      "metadata": {
        "colab": {
          "base_uri": "https://localhost:8080/"
        },
        "id": "YuTdbYik_Wib",
        "outputId": "77194577-5b26-4053-9315-0110385bda58"
      },
      "execution_count": null,
      "outputs": [
        {
          "output_type": "stream",
          "name": "stdout",
          "text": [
            "apple_banana_lemon\n"
          ]
        }
      ]
    },
    {
      "cell_type": "code",
      "source": [
        "#str만 가능\n",
        "with open('source/test.txt', 'w') as f:\n",
        "  f.writelines(['apple',1,True]) #write할 때 리스트는 여러개의 자료형을 이용해서 지정할 수 없다"
      ],
      "metadata": {
        "colab": {
          "base_uri": "https://localhost:8080/",
          "height": 201
        },
        "id": "k9v-gosB7ZhE",
        "outputId": "bbc4217c-38db-4a32-854f-836e9fc8b09e"
      },
      "execution_count": null,
      "outputs": [
        {
          "output_type": "error",
          "ename": "TypeError",
          "evalue": "ignored",
          "traceback": [
            "\u001b[0;31m---------------------------------------------------------------------------\u001b[0m",
            "\u001b[0;31mTypeError\u001b[0m                                 Traceback (most recent call last)",
            "\u001b[0;32m<ipython-input-28-770031730b26>\u001b[0m in \u001b[0;36m<cell line: 1>\u001b[0;34m()\u001b[0m\n\u001b[1;32m      1\u001b[0m \u001b[0;32mwith\u001b[0m \u001b[0mopen\u001b[0m\u001b[0;34m(\u001b[0m\u001b[0;34m'source/test.txt'\u001b[0m\u001b[0;34m,\u001b[0m \u001b[0;34m'w'\u001b[0m\u001b[0;34m)\u001b[0m \u001b[0;32mas\u001b[0m \u001b[0mf\u001b[0m\u001b[0;34m:\u001b[0m\u001b[0;34m\u001b[0m\u001b[0;34m\u001b[0m\u001b[0m\n\u001b[0;32m----> 2\u001b[0;31m   \u001b[0mf\u001b[0m\u001b[0;34m.\u001b[0m\u001b[0mwritelines\u001b[0m\u001b[0;34m(\u001b[0m\u001b[0;34m[\u001b[0m\u001b[0;34m'apple'\u001b[0m\u001b[0;34m,\u001b[0m\u001b[0;36m1\u001b[0m\u001b[0;34m,\u001b[0m\u001b[0;32mTrue\u001b[0m\u001b[0;34m]\u001b[0m\u001b[0;34m)\u001b[0m\u001b[0;34m\u001b[0m\u001b[0;34m\u001b[0m\u001b[0m\n\u001b[0m",
            "\u001b[0;31mTypeError\u001b[0m: write() argument must be str, not int"
          ]
        }
      ]
    },
    {
      "cell_type": "markdown",
      "source": [
        "```\n",
        "fread = open('source/sample.txt','r') # 파일 열기\n",
        "line = fread.readlines() #readlines()은 파일에서 한라인씩 읽어와서 list에 저장한 후 리턴한다\n",
        "print(line)\n",
        "print(type(line))\n",
        "fread.close()\n",
        "\n",
        "[출력결과]\n",
        "['0번째 줄입니다.\\n', '1번째 줄입니다.\\n', '2번째 줄입니다.\\n', '3번째 줄입니다.\\n',,,,,]\n",
        "```"
      ],
      "metadata": {
        "id": "o4b9pl-QAZa7"
      }
    },
    {
      "cell_type": "markdown",
      "source": [
        "위의 실행 결과처럼 출력을 했을 때줄바꿈'\\n'이 들어가 있다.   \n",
        "이를 해결하는 방법으로 import pickle해서 사용하면 된다"
      ],
      "metadata": {
        "id": "RtHZwCvZAmcx"
      }
    },
    {
      "cell_type": "code",
      "source": [
        "import pickle"
      ],
      "metadata": {
        "id": "TQM_X1Jk71Wj"
      },
      "execution_count": null,
      "outputs": []
    },
    {
      "cell_type": "code",
      "source": [
        "# 리스트르 저장하기\n",
        "with open('source/fruit.txt', 'wb') as f:\n",
        "  pickle.dump(['apple','banana','lemon'],f) # dump(저장할 데이터,파일)"
      ],
      "metadata": {
        "id": "rGhcToLyA_Ow"
      },
      "execution_count": null,
      "outputs": []
    },
    {
      "cell_type": "code",
      "source": [
        "#리스트로 읽어오기\n",
        "with open('source/fruit.txt','rb') as f: # load(파일)\n",
        "  print(pickle.load(f))\n",
        "  print(param)\n",
        "  print(type(param))"
      ],
      "metadata": {
        "colab": {
          "base_uri": "https://localhost:8080/"
        },
        "id": "6SydaT80BUTJ",
        "outputId": "f08788fe-5801-4394-947b-80bf0f9120fe"
      },
      "execution_count": null,
      "outputs": [
        {
          "output_type": "stream",
          "name": "stdout",
          "text": [
            "['apple', 'banana', 'lemon']\n",
            "{'one': 2, 'two': 5}\n",
            "<class 'dict'>\n"
          ]
        }
      ]
    },
    {
      "cell_type": "code",
      "source": [
        "# dict로 저장하기\n",
        "with open('source/num.txt','wb') as f: # load(파일)\n",
        "  pickle.dump({'one':2,'two':5},f)"
      ],
      "metadata": {
        "id": "5_Iy61ooCHV2"
      },
      "execution_count": null,
      "outputs": []
    },
    {
      "cell_type": "code",
      "source": [
        "# dict로 읽어오기\n",
        "with open('source/num.txt','rb') as f:\n",
        "  param = pickle.load(f)\n",
        "  print(param)\n",
        "  print(type(param))"
      ],
      "metadata": {
        "colab": {
          "base_uri": "https://localhost:8080/"
        },
        "id": "PeEsODDpCngI",
        "outputId": "c0d74fc6-bc5c-46f8-edb0-d4d927830298"
      },
      "execution_count": null,
      "outputs": [
        {
          "output_type": "stream",
          "name": "stdout",
          "text": [
            "{'one': 2, 'two': 5}\n",
            "<class 'dict'>\n"
          ]
        }
      ]
    },
    {
      "cell_type": "markdown",
      "source": [
        "jumsu.txt 파일의 내용을 읽어와서 오름차순으로 정령한 후 출력하는 프로그램을 구현하세요"
      ],
      "metadata": {
        "id": "wO5MbXvgEUJZ"
      }
    },
    {
      "cell_type": "code",
      "source": [
        "with open ('source/jumsu.txt','r') as f:\n",
        "  line = f.read()\n",
        "\n",
        "data = line.split(',')\n",
        "\n",
        "\n",
        "hap = 0\n",
        "for i, v in enumerate(data):\n",
        "  data[i]=int(v)\n",
        "  hap += data[i]\n",
        "\n",
        "print(sorted(data))\n",
        "print('합계', hap)\n",
        "print('평균', hap/len(data))\n",
        "\n"
      ],
      "metadata": {
        "colab": {
          "base_uri": "https://localhost:8080/"
        },
        "id": "HhDjdlLKDXAN",
        "outputId": "6d063233-db11-4468-f87d-fcc06daf9330"
      },
      "execution_count": null,
      "outputs": [
        {
          "output_type": "stream",
          "name": "stdout",
          "text": [
            "[10, 40, 50, 60, 90]\n",
            "합계 250\n",
            "평균 50.0\n"
          ]
        }
      ]
    },
    {
      "cell_type": "markdown",
      "source": [
        "built_in의 sorted()와 list의 sort() 비교"
      ],
      "metadata": {
        "id": "lNL4jHobN12s"
      }
    },
    {
      "cell_type": "code",
      "source": [
        "k = ['d', 'a']\n",
        "print(k.sort()) #None 리턴\n",
        "k"
      ],
      "metadata": {
        "colab": {
          "base_uri": "https://localhost:8080/"
        },
        "id": "9X2YwrJgEacB",
        "outputId": "d43f2c31-e4cd-40ba-fb95-2e4bef9ad9a5"
      },
      "execution_count": null,
      "outputs": [
        {
          "output_type": "stream",
          "name": "stdout",
          "text": [
            "None\n"
          ]
        },
        {
          "output_type": "execute_result",
          "data": {
            "text/plain": [
              "['a', 'd']"
            ]
          },
          "metadata": {},
          "execution_count": 90
        }
      ]
    },
    {
      "cell_type": "code",
      "source": [
        "k = ['d', 'a']\n",
        "print(sorted(k)) #list 리턴\n",
        "k"
      ],
      "metadata": {
        "colab": {
          "base_uri": "https://localhost:8080/"
        },
        "id": "2ZLYoFuYNuKa",
        "outputId": "e9fd6ecc-bd7e-4dc2-c071-f9fcf456b1e0"
      },
      "execution_count": null,
      "outputs": [
        {
          "output_type": "stream",
          "name": "stdout",
          "text": [
            "['a', 'd']\n"
          ]
        },
        {
          "output_type": "execute_result",
          "data": {
            "text/plain": [
              "['d', 'a']"
            ]
          },
          "metadata": {},
          "execution_count": 91
        }
      ]
    },
    {
      "cell_type": "markdown",
      "source": [
        "==========메뉴판==========\n",
        "짜장면 : 7000원\n",
        "----------------------------------\n",
        "1. 수정 | 2. 삭제 | 3. 나가기\n",
        "> 1\n",
        "가격을 변경할 메뉴의 이름을 입력하세요: 짜장면\n",
        "변경할 가격 입력: 8000\n",
        "짜장면의 가격이 8000원으로 변경되었습니다.\n",
        "\n",
        "======음식점 메뉴 관리 프로그램======\n",
        "1. 신규 메뉴 등록\n",
        "2. 메뉴판 전체 보기\n",
        "3. 프로그램 종료\n",
        "> 2\n",
        "\n",
        "==========메뉴판==========\n",
        "짜장면 : 8000원\n",
        "----------------------------------\n",
        "1. 수정 | 2. 삭제 | 3. 나가기\n",
        "> 3\n",
        "\n",
        "======음식점 메뉴 관리 프로그램======\n",
        "1. 신규 메뉴 등록\n",
        "2. 메뉴판 전체 보기\n",
        "3. 프로그램 종료\n",
        "> 1\n",
        "메뉴명: 짬뽕\n",
        "가격: 9000\n",
        "신규 메뉴 짬뽕(이)가 등록되었습니다.\n",
        "{'짜장면': '8000', '짬뽕': '9000'}\n",
        "\n",
        "======음식점 메뉴 관리 프로그램======\n",
        "1. 신규 메뉴 등록\n",
        "2. 메뉴판 전체 보기\n",
        "3. 프로그램 종료\n",
        "> 2\n",
        "\n",
        "==========메뉴판==========\n",
        "짜장면 : 8000원\n",
        "짬뽕 : 9000원\n",
        "----------------------------------\n",
        "1. 수정 | 2. 삭제 | 3. 나가기\n",
        "> 2\n",
        "삭제할 메뉴의 이름을 입력하세요: 짜장면\n",
        "짜장면이(가) 삭제되었습니다.\n",
        "\n",
        "======음식점 메뉴 관리 프로그램======\n",
        "1. 신규 메뉴 등록\n",
        "2. 메뉴판 전체 보기\n",
        "3. 프로그램 종료\n",
        "> 3\n",
        "프로그램을 종료합니다."
      ],
      "metadata": {
        "id": "b9Z4sCj0PUPx"
      }
    },
    {
      "cell_type": "markdown",
      "source": [
        "```\n",
        "[문제1]\n",
        "score.txt 파일의 점수 정보를 읽어 들여서 각 학생의 점수 총합을 콘솔창에 출력하는 입출력 프로그램을 구현하시오.\n",
        "\n",
        "[출력결과]\n",
        "kim의 점수 합계 :146\n",
        "hong의 점수 합계 :243\n",
        "park의 점수 합계 :240\n",
        "```"
      ],
      "metadata": {
        "id": "KnSrNQ9_SkDH"
      }
    },
    {
      "cell_type": "code",
      "source": [
        "with open('source/score.txt', 'r') as f:\n",
        "  for line in f:\n",
        "    #print(line)\n",
        "    total = 0\n",
        "    name, kor, mat, eng = line.strip().split('/') #strip() 양쪽공백 제거, split('/')구분자를 이용한 문자열 분리, unpacking을 함\n",
        "    total = int(kor)+int(mat)+ int(eng)  # total = sum(int(kor), int(mat), int(eng))\n",
        "    print('{:>6}의 점수 합계:{:>5}'.format(name, total))\n"
      ],
      "metadata": {
        "colab": {
          "base_uri": "https://localhost:8080/"
        },
        "id": "mhATxoGcN-iH",
        "outputId": "6be1751c-79b4-4522-8e75-49c5fdedb3cb"
      },
      "execution_count": null,
      "outputs": [
        {
          "output_type": "stream",
          "name": "stdout",
          "text": [
            "   kim의 점수 합계:  146\n",
            "  hong의 점수 합계:  243\n",
            "  park의 점수 합계:  240\n"
          ]
        }
      ]
    },
    {
      "cell_type": "markdown",
      "source": [
        "```\n",
        "[문제2]\n",
        "data.txt 파일에는 PRODUCT 테이블의 컬럼 이름들이 저장되어있다. 이 컬럼 이름들을 camel case 명명표기법으로 바꾸어 출력하는 프로그램을 구현하세요.\n",
        "\n",
        "[출력결과]\n",
        "prodNo\n",
        "prodName\n",
        "price\n",
        "amount\n",
        "maker\n",
        "regDate\n",
        "```"
      ],
      "metadata": {
        "id": "H0B2EPjHUkZn"
      }
    },
    {
      "cell_type": "code",
      "source": [
        "with open('source/data.txt','r') as f:\n",
        "  for line in f:\n",
        "    #print(line)\n",
        "    data = line.strip().lower().split('_')\n",
        "   # print(data)\n",
        "    res = data[0]\n",
        "    for i, v in enumerate(data):\n",
        "      if i != 0:\n",
        "        res +=v.title()\n",
        "      print(res)\n"
      ],
      "metadata": {
        "colab": {
          "base_uri": "https://localhost:8080/"
        },
        "id": "wFfxjT9BUj3j",
        "outputId": "16404e6d-4b91-4c9a-d677-116f774ef7ef"
      },
      "execution_count": null,
      "outputs": [
        {
          "output_type": "stream",
          "name": "stdout",
          "text": [
            "prod\n",
            "prodNo\n",
            "prod\n",
            "prodName\n",
            "price\n",
            "amount\n",
            "maker\n",
            "reg\n",
            "regDate\n"
          ]
        }
      ]
    },
    {
      "cell_type": "code",
      "source": [
        "with open('source/data.txt','r') as f:\n",
        "  for line in f:\n",
        "    #print(line)\n",
        "    data = line.strip().split('_')\n",
        "   # print(data)\n",
        "    res = ''\n",
        "\n",
        "    for i, v in enumerate(data):\n",
        "      if i != 0:\n",
        "        res +=v.title()\n",
        "      else:\n",
        "        res += v.lower()\n",
        "      print(res)"
      ],
      "metadata": {
        "colab": {
          "base_uri": "https://localhost:8080/"
        },
        "id": "aepG_77PXPad",
        "outputId": "2b3f8e2d-f16b-4166-b17d-c54f26af3d26"
      },
      "execution_count": null,
      "outputs": [
        {
          "output_type": "stream",
          "name": "stdout",
          "text": [
            "prod\n",
            "prodNo\n",
            "prod\n",
            "prodName\n",
            "price\n",
            "amount\n",
            "maker\n",
            "reg\n",
            "regDate\n"
          ]
        }
      ]
    },
    {
      "cell_type": "markdown",
      "source": [
        "```\n",
        "[문제3]\n",
        "input.txt 파일에는 팝송 가사가 들어있다. 이 파일에서 검색하고자 하는 문자열이 포함되어있는 라인의 번호와 가사를 출력하는 프로그램을 구현하세요. 만약에 'you'가 포함된 문장을 출력한다면 대소문자 구분없이 찾도록 한다.\n",
        "\n",
        "[출력결과]\n",
        "5 line : It exists to give You comfort\n",
        "6 line : It is there to keep you warm\n",
        "9 line : When You are most alone\n",
        "10 line : The memory of love will bring you home\n",
        "14 line : It invites you to come closer\n",
        "15 line : It wants to show you more\n",
        "17 line : And even if you lose yourself\n",
        "20 line : will see you through\n",
        "39 line : My memories of love will be of you\n",
        "```"
      ],
      "metadata": {
        "id": "8NjtXDUIbGHG"
      }
    },
    {
      "cell_type": "code",
      "source": [
        "with open('source/input.txt', 'r') as f:\n",
        "  for i, v in enumerate(f):\n",
        "    if v.lower().find('you') != -1:  #-1이 아니라는 것은 값이 존재한다는 것\n",
        "      print('{} line : {}'.format(i+1,v), end = '') # i에 +1을 해주어 빈공간을 없앰!"
      ],
      "metadata": {
        "colab": {
          "base_uri": "https://localhost:8080/"
        },
        "id": "qyby1d-WdgQ0",
        "outputId": "a24e2dc1-eb39-4dcf-8045-d4f7e03b79ad"
      },
      "execution_count": null,
      "outputs": [
        {
          "output_type": "stream",
          "name": "stdout",
          "text": [
            "5 line : It exists to give You comfort\n",
            "6 line : It is there to keep you warm\n",
            "9 line : When You are most alone\n",
            "10 line : The memory of love will bring you home\n",
            "14 line : It invites you to come closer\n",
            "15 line : It wants to show you more\n",
            "17 line : And even if you lose yourself\n",
            "20 line : will see you through\n",
            "39 line : My memories of love will be of you"
          ]
        }
      ]
    },
    {
      "cell_type": "code",
      "source": [
        "with open('source/input.txt', 'r') as f:\n",
        "  search = input('search:').lower()\n",
        "  for i, v in enumerate(f):\n",
        "    if v.lower().find(search) != -1:  #-1이 아니라는 것은 값이 존재한다는 것\n",
        "      print('{} line : {}'.format(i+1,v), end = '') # i에 +1을 해주어 빈공간을 없앰!"
      ],
      "metadata": {
        "colab": {
          "base_uri": "https://localhost:8080/"
        },
        "id": "DXw8LBg5TZ0e",
        "outputId": "901b86a2-ed2e-48c7-cf85-7fa647298513"
      },
      "execution_count": null,
      "outputs": [
        {
          "output_type": "stream",
          "name": "stdout",
          "text": [
            "search:i\n",
            "1 line : John Denver & Placido Domingo\n",
            "3 line : Perhaps love is like a resting place\n",
            "5 line : It exists to give You comfort\n",
            "6 line : It is there to keep you warm\n",
            "8 line : And in those times of trouble\n",
            "10 line : The memory of love will bring you home\n",
            "12 line : Perhaps love is like a window\n",
            "14 line : It invites you to come closer\n",
            "15 line : It wants to show you more\n",
            "17 line : And even if you lose yourself\n",
            "20 line : will see you through\n",
            "22 line : Oh love to some is like a cloud\n",
            "24 line : For some a way of living\n",
            "27 line : And some say love is holding on\n",
            "28 line : And some say letting go\n",
            "29 line : And some say love is everything\n",
            "32 line : Perhaps love is like the ocean\n",
            "33 line : Full of conflict, full of pain\n",
            "34 line : Like a fire when it's cold outside\n",
            "35 line : Thunder when it rains\n",
            "37 line : If I should live forever\n",
            "39 line : My memories of love will be of you"
          ]
        }
      ]
    },
    {
      "cell_type": "code",
      "source": [],
      "metadata": {
        "id": "_5q_6BXqcbep"
      },
      "execution_count": null,
      "outputs": []
    }
  ]
}