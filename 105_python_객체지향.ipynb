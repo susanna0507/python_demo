{
  "nbformat": 4,
  "nbformat_minor": 0,
  "metadata": {
    "colab": {
      "provenance": [],
      "authorship_tag": "ABX9TyMycrKLekjQRFr+ywchgIt4",
      "include_colab_link": true
    },
    "kernelspec": {
      "name": "python3",
      "display_name": "Python 3"
    },
    "language_info": {
      "name": "python"
    }
  },
  "cells": [
    {
      "cell_type": "markdown",
      "metadata": {
        "id": "view-in-github",
        "colab_type": "text"
      },
      "source": [
        "<a href=\"https://colab.research.google.com/github/susanna0507/python_demo/blob/master/105_python_%EA%B0%9D%EC%B2%B4%EC%A7%80%ED%96%A5.ipynb\" target=\"_parent\"><img src=\"https://colab.research.google.com/assets/colab-badge.svg\" alt=\"Open In Colab\"/></a>"
      ]
    },
    {
      "cell_type": "markdown",
      "source": [
        "객체: 실세계에 존재하는 모든 사물이나 개념들을 의미한다\n",
        "\n",
        "```\n",
        "객체: 홍길동, 이영희  \n",
        "1. 객체 모델링: 객체의 특징과 동작 분석  \n",
        "1) 특징과 동작  \n",
        "  홍길동  \n",
        "  이름: 홍길동  \n",
        "  나이: 30  \n",
        "  직업: 학생  \n",
        "  동작: 공부를 한다, 밥을 먹는다, 걷는다  \n",
        "  \n",
        "  이영희  \n",
        "  이름: 이영희  \n",
        "  나이: 25  \n",
        "  직업: 개발자  \n",
        "  동작: 코딩을 한다, 밥을 먹는다, 걷는다\n",
        "\n",
        "2. class 정의 : 멤버변수와 메소드\n",
        "  \n",
        " class Person:\n",
        "   def__init__(self,name,age,job):\n",
        "     self.name = name\n",
        "     self.age = age\n",
        "     self.job = job\n",
        "\n",
        "   def eat(self) :\n",
        "       print('eat')\n",
        "\n",
        "   def walk(self):\n",
        "       print ('walk')\n",
        "   \n",
        "\n",
        "3. 객체 생성\n",
        "\n",
        "  hong = Person ('홍길동', 30, '학생')\n",
        "  hong.eat()\n",
        "  hong.walk()\n",
        "  print(hong.name, hong.eat, hong.job)\n",
        "\n",
        "  lee = Person('이영희', 25,'개발자')\n",
        "  lee.eat()\n",
        "  lee.walk()\n",
        "  print(lee.name, lee.eat, lee.job)\n",
        "\n",
        "\n",
        "4. 상속\n",
        "\n",
        "class Hong(Person):\n",
        "  pass\n",
        "\n",
        "class Lee(Person):\n",
        "  pass\n",
        "```"
      ],
      "metadata": {
        "id": "_cchbF-VK7Tw"
      }
    },
    {
      "cell_type": "markdown",
      "source": [
        "is : 메모리 주소\n",
        "issubclass(child, parent) : 상속 여부\n",
        "isinstance(a,int) : int 클래스의 a가 인스턴스 여부"
      ],
      "metadata": {
        "id": "SCCJVo7fPbbv"
      }
    },
    {
      "cell_type": "code",
      "execution_count": null,
      "metadata": {
        "id": "WzlfWE_YK6u_"
      },
      "outputs": [],
      "source": [
        "#int의 literal\n",
        "a=1"
      ]
    },
    {
      "cell_type": "code",
      "source": [
        "type(a)"
      ],
      "metadata": {
        "colab": {
          "base_uri": "https://localhost:8080/"
        },
        "id": "9FeCtwnnQl33",
        "outputId": "652f06ac-7fd0-4296-c67c-b3320e19da87"
      },
      "execution_count": null,
      "outputs": [
        {
          "output_type": "execute_result",
          "data": {
            "text/plain": [
              "int"
            ]
          },
          "metadata": {},
          "execution_count": 18
        }
      ]
    },
    {
      "cell_type": "code",
      "source": [
        "#정수값 1을 ont의 인스턴스 방식으로 만들 수 있다\n",
        "a = int('1')"
      ],
      "metadata": {
        "id": "KdbDxiy_QcRQ"
      },
      "execution_count": null,
      "outputs": []
    },
    {
      "cell_type": "code",
      "source": [
        "type(a)"
      ],
      "metadata": {
        "colab": {
          "base_uri": "https://localhost:8080/"
        },
        "id": "Um6uR6zhP59Y",
        "outputId": "b54ef237-79bd-4156-c165-a5d7117fd094"
      },
      "execution_count": null,
      "outputs": [
        {
          "output_type": "execute_result",
          "data": {
            "text/plain": [
              "int"
            ]
          },
          "metadata": {},
          "execution_count": 20
        }
      ]
    },
    {
      "cell_type": "code",
      "source": [
        "isinstance(a, int)"
      ],
      "metadata": {
        "colab": {
          "base_uri": "https://localhost:8080/"
        },
        "id": "sg5gHypiQCAu",
        "outputId": "cf91976f-e08e-40c1-89c8-8dc26f66594b"
      },
      "execution_count": null,
      "outputs": [
        {
          "output_type": "execute_result",
          "data": {
            "text/plain": [
              "True"
            ]
          },
          "metadata": {},
          "execution_count": 21
        }
      ]
    },
    {
      "cell_type": "code",
      "source": [
        "isinstance(a, str)"
      ],
      "metadata": {
        "colab": {
          "base_uri": "https://localhost:8080/"
        },
        "id": "uIPF52syQ7qG",
        "outputId": "37d28d8a-96bf-42d8-963c-bca4c3d7a62b"
      },
      "execution_count": null,
      "outputs": [
        {
          "output_type": "execute_result",
          "data": {
            "text/plain": [
              "False"
            ]
          },
          "metadata": {},
          "execution_count": 22
        }
      ]
    },
    {
      "cell_type": "code",
      "source": [
        "class A:\n",
        "  x = 1\n",
        "  def prn(self): # 메소드 괄호 안에 값을 반드시 넣어줘야함, 첫번째 매게변수가 자기 자신을 받기 때문에\n",
        "    a = 1"
      ],
      "metadata": {
        "id": "vgYvcadeQ-8e"
      },
      "execution_count": null,
      "outputs": []
    },
    {
      "cell_type": "code",
      "source": [
        "callable(A)"
      ],
      "metadata": {
        "colab": {
          "base_uri": "https://localhost:8080/"
        },
        "id": "qbulQ-JKRbom",
        "outputId": "c5c93eaf-8a14-4c65-d1de-d0947f47a952"
      },
      "execution_count": null,
      "outputs": [
        {
          "output_type": "execute_result",
          "data": {
            "text/plain": [
              "True"
            ]
          },
          "metadata": {},
          "execution_count": 24
        }
      ]
    },
    {
      "cell_type": "code",
      "source": [
        "# 사용할 때 괄호를 붙일 수 있다 -> callable()\n",
        "A()"
      ],
      "metadata": {
        "colab": {
          "base_uri": "https://localhost:8080/"
        },
        "id": "MEmPc6JZReNW",
        "outputId": "7ba28e68-2cf4-4280-f4b9-cd6e47033b61"
      },
      "execution_count": null,
      "outputs": [
        {
          "output_type": "execute_result",
          "data": {
            "text/plain": [
              "<__main__.A at 0x781278805390>"
            ]
          },
          "metadata": {},
          "execution_count": 25
        }
      ]
    },
    {
      "cell_type": "code",
      "source": [
        "print(dir(A))"
      ],
      "metadata": {
        "colab": {
          "base_uri": "https://localhost:8080/"
        },
        "id": "hfhFjuGoRh_2",
        "outputId": "9499d9bd-9aed-445b-a9c2-8eead848c841"
      },
      "execution_count": null,
      "outputs": [
        {
          "output_type": "stream",
          "name": "stdout",
          "text": [
            "['__class__', '__delattr__', '__dict__', '__dir__', '__doc__', '__eq__', '__format__', '__ge__', '__getattribute__', '__gt__', '__hash__', '__init__', '__init_subclass__', '__le__', '__lt__', '__module__', '__ne__', '__new__', '__reduce__', '__reduce_ex__', '__repr__', '__setattr__', '__sizeof__', '__str__', '__subclasshook__', '__weakref__', 'prn', 'x']\n"
          ]
        }
      ]
    },
    {
      "cell_type": "code",
      "source": [
        "k = A() # 객체 생성"
      ],
      "metadata": {
        "id": "hP1EIGSwR0BG"
      },
      "execution_count": null,
      "outputs": []
    },
    {
      "cell_type": "code",
      "source": [
        "isinstance(k,A)"
      ],
      "metadata": {
        "colab": {
          "base_uri": "https://localhost:8080/"
        },
        "id": "-O8aVrQjSJIY",
        "outputId": "0f66e824-462b-4c3b-8e12-9832a796c5d2"
      },
      "execution_count": null,
      "outputs": [
        {
          "output_type": "execute_result",
          "data": {
            "text/plain": [
              "True"
            ]
          },
          "metadata": {},
          "execution_count": 28
        }
      ]
    },
    {
      "cell_type": "code",
      "source": [
        "k.prn() # 객체.메소드()  자동으로 k값이 self로 들어감"
      ],
      "metadata": {
        "id": "m8UmLT3pSMnN"
      },
      "execution_count": null,
      "outputs": []
    },
    {
      "cell_type": "code",
      "source": [
        "A.prn(k) # 클래스.메소드(객체)"
      ],
      "metadata": {
        "id": "3I51vLLpSOzm"
      },
      "execution_count": null,
      "outputs": []
    },
    {
      "cell_type": "code",
      "source": [
        "m = A()"
      ],
      "metadata": {
        "id": "vwHIZ2SUSn7u"
      },
      "execution_count": null,
      "outputs": []
    },
    {
      "cell_type": "code",
      "source": [
        "m.prn()"
      ],
      "metadata": {
        "id": "Q9YNnPwyS_RG"
      },
      "execution_count": null,
      "outputs": []
    },
    {
      "cell_type": "code",
      "source": [
        "A.prn(m)"
      ],
      "metadata": {
        "id": "krepmfVfTBnO"
      },
      "execution_count": null,
      "outputs": []
    },
    {
      "cell_type": "markdown",
      "source": [
        "## callable\n",
        " - 이름 뒤에()를 붙이는 것을 call(호출)이라고 한다.\n",
        " - 이름 뒤에()를 붙일 수 있는 것을 callable이라고 한다.\n",
        " - 함수는 사용할 때 이름 뒤에 괄호를 붙인다.\n",
        " - python에서 callable인 것은 3가지 유형이 있다.  \n",
        "  (1) function  \n",
        "  (2) class (init가 정의되었을 경우)  \n",
        "  (3) object (call이 정의되었을 경우)\n",
        "\n",
        "- 객체지향 프로그래밍\n",
        " - is: 메모리 주소\n",
        " - issubclass(child, parent): 상속 여부\n",
        " - isinstance(a, int): int 클래스의 a가 인스턴스 여부"
      ],
      "metadata": {
        "id": "DJV5LJDpe4Bl"
      }
    },
    {
      "cell_type": "markdown",
      "source": [
        "클래스는 내부에 있는 값을 접근할 수 있다.  \n",
        "2가지 방법으로 접근 가능\n",
        "- 클래스에서 접근\n",
        "- 인스턴스에서 접근\n"
      ],
      "metadata": {
        "id": "30TJWPw-UC9G"
      }
    },
    {
      "cell_type": "code",
      "source": [
        "class A:\n",
        "  x = 1  # 클래스 변수"
      ],
      "metadata": {
        "id": "NLxXAd3lTGgd"
      },
      "execution_count": null,
      "outputs": []
    },
    {
      "cell_type": "code",
      "source": [
        "# 클래스에서 접근\n",
        "A.x"
      ],
      "metadata": {
        "colab": {
          "base_uri": "https://localhost:8080/"
        },
        "id": "zfzeBVTQUQQ-",
        "outputId": "f397e07f-dadf-42b1-a8fd-2c06a66f70d1"
      },
      "execution_count": null,
      "outputs": [
        {
          "output_type": "execute_result",
          "data": {
            "text/plain": [
              "1"
            ]
          },
          "metadata": {},
          "execution_count": 35
        }
      ]
    },
    {
      "cell_type": "code",
      "source": [
        "# 인스턴스에서 접근\n",
        "aa = A() # 인스턴스(객체) 생성\n",
        "aa.x     # 인스턴스(객체)에서 접근"
      ],
      "metadata": {
        "colab": {
          "base_uri": "https://localhost:8080/"
        },
        "id": "55HsEHdaUVBu",
        "outputId": "d23fda00-4f69-4875-c024-d7227e484f76"
      },
      "execution_count": null,
      "outputs": [
        {
          "output_type": "execute_result",
          "data": {
            "text/plain": [
              "1"
            ]
          },
          "metadata": {},
          "execution_count": 36
        }
      ]
    },
    {
      "cell_type": "code",
      "source": [
        "# python에서 제공하는 내장 클래스이다\n",
        "type(int)"
      ],
      "metadata": {
        "colab": {
          "base_uri": "https://localhost:8080/"
        },
        "id": "LlFpMncUYlLE",
        "outputId": "492453c0-485d-4886-d549-e2d1b6e663cc"
      },
      "execution_count": null,
      "outputs": [
        {
          "output_type": "execute_result",
          "data": {
            "text/plain": [
              "type"
            ]
          },
          "metadata": {},
          "execution_count": 37
        }
      ]
    },
    {
      "cell_type": "code",
      "source": [
        "m = 5\n",
        "type(m)"
      ],
      "metadata": {
        "colab": {
          "base_uri": "https://localhost:8080/"
        },
        "id": "rzPEhzMFZBhd",
        "outputId": "dffe5957-c20e-4540-8290-605cfd93bd80"
      },
      "execution_count": null,
      "outputs": [
        {
          "output_type": "execute_result",
          "data": {
            "text/plain": [
              "int"
            ]
          },
          "metadata": {},
          "execution_count": 38
        }
      ]
    },
    {
      "cell_type": "code",
      "source": [
        "# 사용자가 정의한 클래스, 클래스에 타입을 물으면 타입이 나옴\n",
        "type(A)"
      ],
      "metadata": {
        "colab": {
          "base_uri": "https://localhost:8080/"
        },
        "id": "HQY1ZVYMZMWN",
        "outputId": "711229b4-6108-4802-8518-b32a1dc74ab7"
      },
      "execution_count": null,
      "outputs": [
        {
          "output_type": "execute_result",
          "data": {
            "text/plain": [
              "type"
            ]
          },
          "metadata": {},
          "execution_count": 39
        }
      ]
    },
    {
      "cell_type": "code",
      "source": [
        "type(aa)"
      ],
      "metadata": {
        "colab": {
          "base_uri": "https://localhost:8080/"
        },
        "id": "ME3bbMWnZRSc",
        "outputId": "482f0cf1-c81c-427d-f1c2-3156ea1e5dea"
      },
      "execution_count": null,
      "outputs": [
        {
          "output_type": "execute_result",
          "data": {
            "text/plain": [
              "__main__.A"
            ]
          },
          "metadata": {},
          "execution_count": 40
        }
      ]
    },
    {
      "cell_type": "code",
      "source": [
        "class Employee:\n",
        "  x = 1 # 클래스 변수\n",
        "\n",
        "  def __init__(self): # 생성자를 init으로 정의함\n",
        "    pass\n",
        "\n",
        "  def display(self, y): #메소드\n",
        "    self.y = y  # 멤버 변수\n",
        "    print(y)"
      ],
      "metadata": {
        "id": "KE_hlBS_Zqld"
      },
      "execution_count": null,
      "outputs": []
    },
    {
      "cell_type": "code",
      "source": [
        "Employee.x"
      ],
      "metadata": {
        "colab": {
          "base_uri": "https://localhost:8080/"
        },
        "id": "rFPAvKp4aNV2",
        "outputId": "2007f5e8-7e00-4c82-bf56-8efe59c41568"
      },
      "execution_count": null,
      "outputs": [
        {
          "output_type": "execute_result",
          "data": {
            "text/plain": [
              "1"
            ]
          },
          "metadata": {},
          "execution_count": 42
        }
      ]
    },
    {
      "cell_type": "code",
      "source": [
        "ps = Employee() # 생성자를 호출하기 때문에 def __init__(self): 메소드가 실행\n",
        "ps.x"
      ],
      "metadata": {
        "colab": {
          "base_uri": "https://localhost:8080/"
        },
        "id": "c8ayV1DHaab9",
        "outputId": "276fa370-60ea-4a06-c080-820568bb5e44"
      },
      "execution_count": null,
      "outputs": [
        {
          "output_type": "execute_result",
          "data": {
            "text/plain": [
              "1"
            ]
          },
          "metadata": {},
          "execution_count": 43
        }
      ]
    },
    {
      "cell_type": "code",
      "source": [
        "ps.y # 시점 차이로 인해 y값을 끌고 와줘야함"
      ],
      "metadata": {
        "colab": {
          "base_uri": "https://localhost:8080/",
          "height": 183
        },
        "id": "uWvPYEbgadaE",
        "outputId": "67dc5d06-f9f9-4081-9372-2eba1e0cfcbf"
      },
      "execution_count": null,
      "outputs": [
        {
          "output_type": "error",
          "ename": "AttributeError",
          "evalue": "ignored",
          "traceback": [
            "\u001b[0;31m---------------------------------------------------------------------------\u001b[0m",
            "\u001b[0;31mAttributeError\u001b[0m                            Traceback (most recent call last)",
            "\u001b[0;32m<ipython-input-44-2acecfe39377>\u001b[0m in \u001b[0;36m<cell line: 1>\u001b[0;34m()\u001b[0m\n\u001b[0;32m----> 1\u001b[0;31m \u001b[0mps\u001b[0m\u001b[0;34m.\u001b[0m\u001b[0my\u001b[0m \u001b[0;31m# 시점 차이로 인해 y값을 끌고 와줘야함\u001b[0m\u001b[0;34m\u001b[0m\u001b[0;34m\u001b[0m\u001b[0m\n\u001b[0m",
            "\u001b[0;31mAttributeError\u001b[0m: 'Employee' object has no attribute 'y'"
          ]
        }
      ]
    },
    {
      "cell_type": "code",
      "source": [
        "ps.display(3)"
      ],
      "metadata": {
        "id": "GvCdhB-ea44U",
        "colab": {
          "base_uri": "https://localhost:8080/"
        },
        "outputId": "fbd17e11-e53c-41c7-991c-77e18fa94b1d"
      },
      "execution_count": null,
      "outputs": [
        {
          "output_type": "stream",
          "name": "stdout",
          "text": [
            "3\n"
          ]
        }
      ]
    },
    {
      "cell_type": "code",
      "source": [
        "ps.y"
      ],
      "metadata": {
        "id": "F7uGBGW6a620",
        "colab": {
          "base_uri": "https://localhost:8080/"
        },
        "outputId": "7f3155ea-a3cf-418c-8ce9-399822ba1f63"
      },
      "execution_count": null,
      "outputs": [
        {
          "output_type": "execute_result",
          "data": {
            "text/plain": [
              "3"
            ]
          },
          "metadata": {},
          "execution_count": 46
        }
      ]
    },
    {
      "cell_type": "code",
      "source": [
        "pe = Employee()"
      ],
      "metadata": {
        "id": "_N85FyNlbdk7"
      },
      "execution_count": null,
      "outputs": []
    },
    {
      "cell_type": "code",
      "source": [
        "pe.x"
      ],
      "metadata": {
        "id": "LbzzSf8XbyH9",
        "colab": {
          "base_uri": "https://localhost:8080/"
        },
        "outputId": "a7b47bfd-8dd1-48ae-8cef-df90d2ca9487"
      },
      "execution_count": null,
      "outputs": [
        {
          "output_type": "execute_result",
          "data": {
            "text/plain": [
              "1"
            ]
          },
          "metadata": {},
          "execution_count": 48
        }
      ]
    },
    {
      "cell_type": "code",
      "source": [
        "pe.x = 10"
      ],
      "metadata": {
        "id": "jo-zE_Qvbyws"
      },
      "execution_count": null,
      "outputs": []
    },
    {
      "cell_type": "code",
      "source": [
        "pe.x"
      ],
      "metadata": {
        "id": "QKhFG1tCb03M",
        "colab": {
          "base_uri": "https://localhost:8080/"
        },
        "outputId": "dc2a02fd-2ba7-49dd-b277-522903e5574f"
      },
      "execution_count": null,
      "outputs": [
        {
          "output_type": "execute_result",
          "data": {
            "text/plain": [
              "10"
            ]
          },
          "metadata": {},
          "execution_count": 50
        }
      ]
    },
    {
      "cell_type": "code",
      "source": [
        "ps.x"
      ],
      "metadata": {
        "id": "8TB9AwXtb3B0",
        "colab": {
          "base_uri": "https://localhost:8080/"
        },
        "outputId": "d2850594-f342-4602-f2b2-3c6b92c23cd9"
      },
      "execution_count": null,
      "outputs": [
        {
          "output_type": "execute_result",
          "data": {
            "text/plain": [
              "1"
            ]
          },
          "metadata": {},
          "execution_count": 51
        }
      ]
    },
    {
      "cell_type": "code",
      "source": [
        "pe.y # 시점 차이로 인해 y값을 끌고 와줘야함"
      ],
      "metadata": {
        "id": "g0KBbfZxb3ut",
        "colab": {
          "base_uri": "https://localhost:8080/",
          "height": 183
        },
        "outputId": "e1bfbb7b-4bfe-4d61-8621-19504105b9bb"
      },
      "execution_count": null,
      "outputs": [
        {
          "output_type": "error",
          "ename": "AttributeError",
          "evalue": "ignored",
          "traceback": [
            "\u001b[0;31m---------------------------------------------------------------------------\u001b[0m",
            "\u001b[0;31mAttributeError\u001b[0m                            Traceback (most recent call last)",
            "\u001b[0;32m<ipython-input-52-8610e28b9027>\u001b[0m in \u001b[0;36m<cell line: 1>\u001b[0;34m()\u001b[0m\n\u001b[0;32m----> 1\u001b[0;31m \u001b[0mpe\u001b[0m\u001b[0;34m.\u001b[0m\u001b[0my\u001b[0m \u001b[0;31m# 시점 차이로 인해 y값을 끌고 와줘야함\u001b[0m\u001b[0;34m\u001b[0m\u001b[0;34m\u001b[0m\u001b[0m\n\u001b[0m",
            "\u001b[0;31mAttributeError\u001b[0m: 'Employee' object has no attribute 'y'"
          ]
        }
      ]
    },
    {
      "cell_type": "code",
      "source": [
        "pe.display(5)\n",
        "pe.y"
      ],
      "metadata": {
        "id": "k8R2Qg8Vb897",
        "colab": {
          "base_uri": "https://localhost:8080/"
        },
        "outputId": "2533a4bd-80b2-4951-fa5c-417e47acef08"
      },
      "execution_count": null,
      "outputs": [
        {
          "output_type": "stream",
          "name": "stdout",
          "text": [
            "5\n"
          ]
        },
        {
          "output_type": "execute_result",
          "data": {
            "text/plain": [
              "5"
            ]
          },
          "metadata": {},
          "execution_count": 53
        }
      ]
    },
    {
      "cell_type": "code",
      "source": [
        "ps.x = 100\n",
        "ps.x"
      ],
      "metadata": {
        "id": "LPmcSDgOcAHE",
        "colab": {
          "base_uri": "https://localhost:8080/"
        },
        "outputId": "023b5ed2-2f98-4953-a619-7407624d20c4"
      },
      "execution_count": null,
      "outputs": [
        {
          "output_type": "execute_result",
          "data": {
            "text/plain": [
              "100"
            ]
          },
          "metadata": {},
          "execution_count": 54
        }
      ]
    },
    {
      "cell_type": "code",
      "source": [
        "pe.x"
      ],
      "metadata": {
        "id": "MwkvujJPcf00",
        "colab": {
          "base_uri": "https://localhost:8080/"
        },
        "outputId": "dcd0b633-beee-42ad-c52d-9746a159ec52"
      },
      "execution_count": null,
      "outputs": [
        {
          "output_type": "execute_result",
          "data": {
            "text/plain": [
              "10"
            ]
          },
          "metadata": {},
          "execution_count": 55
        }
      ]
    },
    {
      "cell_type": "code",
      "source": [
        "Employee.x"
      ],
      "metadata": {
        "id": "v3G4N78icgak",
        "colab": {
          "base_uri": "https://localhost:8080/"
        },
        "outputId": "c6299cd1-b32a-430a-c26a-3200f26ca5c5"
      },
      "execution_count": null,
      "outputs": [
        {
          "output_type": "execute_result",
          "data": {
            "text/plain": [
              "1"
            ]
          },
          "metadata": {},
          "execution_count": 56
        }
      ]
    },
    {
      "cell_type": "code",
      "source": [
        "Employee.z = 7"
      ],
      "metadata": {
        "id": "3Eye6gKacjak"
      },
      "execution_count": null,
      "outputs": []
    },
    {
      "cell_type": "code",
      "source": [
        "ps.z"
      ],
      "metadata": {
        "id": "8LJo70ljc9Bb",
        "colab": {
          "base_uri": "https://localhost:8080/"
        },
        "outputId": "b2676ff4-a6e5-48fd-d29b-3778821f9076"
      },
      "execution_count": null,
      "outputs": [
        {
          "output_type": "execute_result",
          "data": {
            "text/plain": [
              "7"
            ]
          },
          "metadata": {},
          "execution_count": 58
        }
      ]
    },
    {
      "cell_type": "code",
      "source": [
        "\n",
        "class FourCal:\n",
        "\n",
        "  def __init__(self):\n",
        "    print('init')\n",
        "\n",
        "  def add(self, a,b):\n",
        "    return a+b\n",
        "\n",
        "  def sub(self, a,b):\n",
        "    return a-b\n",
        "\n",
        "  def mul(self, a,b):\n",
        "    return a*b\n",
        "\n",
        "  def div(self, a,b):\n",
        "    return a//b"
      ],
      "metadata": {
        "id": "emL06iJ1c_E7"
      },
      "execution_count": null,
      "outputs": []
    },
    {
      "cell_type": "code",
      "source": [
        "x = FourCal();"
      ],
      "metadata": {
        "id": "KAU7ooGbgd2r",
        "colab": {
          "base_uri": "https://localhost:8080/"
        },
        "outputId": "483f278c-4b8a-4074-f9c0-ef243a27eb80"
      },
      "execution_count": null,
      "outputs": [
        {
          "output_type": "stream",
          "name": "stdout",
          "text": [
            "init\n"
          ]
        }
      ]
    },
    {
      "cell_type": "code",
      "source": [
        "print(x.add(4,2))\n",
        "print(x.sub(4,2))\n",
        "print(x.mul(4,2))\n",
        "print(x.div(4,2))"
      ],
      "metadata": {
        "id": "WOAnfhQegiDb",
        "colab": {
          "base_uri": "https://localhost:8080/"
        },
        "outputId": "1e0303d8-a6ae-4e3e-fc86-cdfe792246c5"
      },
      "execution_count": null,
      "outputs": [
        {
          "output_type": "stream",
          "name": "stdout",
          "text": [
            "6\n",
            "2\n",
            "8\n",
            "2\n"
          ]
        }
      ]
    },
    {
      "cell_type": "code",
      "source": [
        "class FourCal:\n",
        "\n",
        "  def __init__(self, a,b):\n",
        "    self.a = a\n",
        "    self.b = b\n",
        "    print('init2')\n",
        "\n",
        "  def add(self):\n",
        "    return self.a+self.b\n",
        "\n",
        "  def sub(self):\n",
        "    return self.a-self.b\n",
        "\n",
        "  def mul(self):\n",
        "    return self.a*self.b\n",
        "\n",
        "  def div(self):\n",
        "    return self.a//self.b"
      ],
      "metadata": {
        "id": "ZHyM0Li2g15j"
      },
      "execution_count": null,
      "outputs": []
    },
    {
      "cell_type": "code",
      "source": [
        "y = FourCal(4,2) # 생성자는 객체의 초기값을 할당한다"
      ],
      "metadata": {
        "id": "61kw17krhWn7",
        "colab": {
          "base_uri": "https://localhost:8080/"
        },
        "outputId": "b647e9ff-073c-4f7b-b427-699a839b6645"
      },
      "execution_count": null,
      "outputs": [
        {
          "output_type": "stream",
          "name": "stdout",
          "text": [
            "init2\n"
          ]
        }
      ]
    },
    {
      "cell_type": "code",
      "source": [
        "print(y.add())\n",
        "print(y.sub())\n",
        "print(y.mul())\n",
        "print(y.div())"
      ],
      "metadata": {
        "id": "_pyXiVjAhwQ5",
        "colab": {
          "base_uri": "https://localhost:8080/"
        },
        "outputId": "af4ec13a-4c53-4328-cca0-f7e5aa274112"
      },
      "execution_count": null,
      "outputs": [
        {
          "output_type": "stream",
          "name": "stdout",
          "text": [
            "6\n",
            "2\n",
            "8\n",
            "2\n"
          ]
        }
      ]
    },
    {
      "cell_type": "markdown",
      "source": [
        "## 상속(inheritance)\n",
        "- class에서 이름 뒤에 괄호는 상속이다\n",
        "- python의 모든 객체는 object를 상속받는다\n",
        "- python3부터는 (object)는 생략 가능하다. 즉 지금까지 class를 정의할 때 내부적으로 상속하고 있었다"
      ],
      "metadata": {
        "id": "RId8_Dmwk9mD"
      }
    },
    {
      "cell_type": "markdown",
      "source": [
        "```\n",
        "class 도형:\n",
        "  pass\n",
        "\n",
        "class 삼각형(도형): # 삼각형은 도형이다\n",
        "  pass\n",
        "\n",
        "class 사각형(도형): # 사각형은 도형이다.\n",
        "  pass\n",
        "  ```"
      ],
      "metadata": {
        "id": "alsfnSp9nASL"
      }
    },
    {
      "cell_type": "code",
      "source": [
        "# 상속을 해주는 클래스 : 부모클래스 = 수포클래스 = 기본클래스\n",
        "#상속을 받는 클래스 : 자식클래스 = 서브클래스 = 유도 클래스\n",
        "\n",
        "#부모클래스\n",
        "class Parent:\n",
        "  x = 'parent x' #클래스 변수\n",
        "  y = 'parent y'\n",
        "\n",
        "  @classmethod  # 상속받는 클래스에서 부모 또는 사진의 자원을 호출해서 사용할 수 있도록 제공해주는 기능\n",
        "  def output(cls):\n",
        "    return cls.x\n",
        "\n",
        "  def test(self):\n",
        "    return 10\n",
        "\n",
        "#자식클래스\n",
        "class Child(Parent): #Child는 Parent를 상속받는다. 상속관계 is ~ a = Child 는 Parent이다\n",
        "  x = 'child x'\n",
        "\n",
        "  def display(self): # child 에서 메소드를 정리한 것\n",
        "    print('display')\n",
        "    #print(Parent.test(self))\n",
        "    print(Parent.output())\n",
        "    print(Child.output())"
      ],
      "metadata": {
        "id": "Ysqoqwh1lFCi"
      },
      "execution_count": null,
      "outputs": []
    },
    {
      "cell_type": "code",
      "source": [
        "print(Parent.x)\n",
        "print(Parent.y)"
      ],
      "metadata": {
        "id": "10tzhFmfm5RK",
        "colab": {
          "base_uri": "https://localhost:8080/"
        },
        "outputId": "d4288df3-3b2e-4233-8be1-faf1ecdc6cd2"
      },
      "execution_count": null,
      "outputs": [
        {
          "output_type": "stream",
          "name": "stdout",
          "text": [
            "parent x\n",
            "parent y\n"
          ]
        }
      ]
    },
    {
      "cell_type": "code",
      "source": [
        "print(Child.x)\n",
        "print(Child.y) # Child.y 가 없기 때문에 상위인 parent에서 참조함"
      ],
      "metadata": {
        "id": "iVUh-0E_mONX",
        "colab": {
          "base_uri": "https://localhost:8080/"
        },
        "outputId": "9a4f45f7-99ec-4335-b8be-6ba428f126ab"
      },
      "execution_count": null,
      "outputs": [
        {
          "output_type": "stream",
          "name": "stdout",
          "text": [
            "child x\n",
            "parent y\n"
          ]
        }
      ]
    },
    {
      "cell_type": "code",
      "source": [
        "c = Child()\n",
        "c.display()"
      ],
      "metadata": {
        "id": "enEQYMyZnEJZ",
        "colab": {
          "base_uri": "https://localhost:8080/"
        },
        "outputId": "925e4ab0-03da-486f-e444-a7ebd9f23ae4"
      },
      "execution_count": null,
      "outputs": [
        {
          "output_type": "stream",
          "name": "stdout",
          "text": [
            "display\n",
            "parent x\n",
            "child x\n"
          ]
        }
      ]
    },
    {
      "cell_type": "code",
      "source": [
        "Child.display(c)"
      ],
      "metadata": {
        "id": "7aAtAPDcpXkk",
        "colab": {
          "base_uri": "https://localhost:8080/"
        },
        "outputId": "f262fb20-d532-4abd-9c4f-f6e8ad8edcce"
      },
      "execution_count": null,
      "outputs": [
        {
          "output_type": "stream",
          "name": "stdout",
          "text": [
            "display\n",
            "parent x\n",
            "child x\n"
          ]
        }
      ]
    },
    {
      "cell_type": "code",
      "source": [
        "c.output()"
      ],
      "metadata": {
        "id": "hGUFesErppXB",
        "colab": {
          "base_uri": "https://localhost:8080/",
          "height": 35
        },
        "outputId": "8f7414e1-e8fe-4cfd-e360-21a55881f03d"
      },
      "execution_count": null,
      "outputs": [
        {
          "output_type": "execute_result",
          "data": {
            "text/plain": [
              "'child x'"
            ],
            "application/vnd.google.colaboratory.intrinsic+json": {
              "type": "string"
            }
          },
          "metadata": {},
          "execution_count": 70
        }
      ]
    },
    {
      "cell_type": "code",
      "source": [
        "c.test()\n"
      ],
      "metadata": {
        "id": "vbWoH2urs8Hw",
        "colab": {
          "base_uri": "https://localhost:8080/"
        },
        "outputId": "450ebfac-9113-4878-d363-e6dc1d4961ec"
      },
      "execution_count": null,
      "outputs": [
        {
          "output_type": "execute_result",
          "data": {
            "text/plain": [
              "10"
            ]
          },
          "metadata": {},
          "execution_count": 71
        }
      ]
    },
    {
      "cell_type": "code",
      "source": [
        "print(dir(Child))"
      ],
      "metadata": {
        "id": "oQ_ut-AOuIPY",
        "colab": {
          "base_uri": "https://localhost:8080/"
        },
        "outputId": "ec6c3584-d222-4e3e-ac32-c5b0a766b0c5"
      },
      "execution_count": null,
      "outputs": [
        {
          "output_type": "stream",
          "name": "stdout",
          "text": [
            "['__class__', '__delattr__', '__dict__', '__dir__', '__doc__', '__eq__', '__format__', '__ge__', '__getattribute__', '__gt__', '__hash__', '__init__', '__init_subclass__', '__le__', '__lt__', '__module__', '__ne__', '__new__', '__reduce__', '__reduce_ex__', '__repr__', '__setattr__', '__sizeof__', '__str__', '__subclasshook__', '__weakref__', 'display', 'output', 'test', 'x', 'y']\n"
          ]
        }
      ]
    },
    {
      "cell_type": "markdown",
      "source": [
        "## manaling\n",
        "프로그램에서 함수나 변수를 선언했을 때, 선언시 사용했던 이름을 컴파일러가 컴파일단계에서 일정한 규칙을 가지고 변형하는 것으로, 네임 데코레이션(Name Decoration)이라고 한다  \n",
        "\n",
        "private처럼 사용할 때 이름 앞에 __를 붙인다\n",
        "이름을 __클래스 변수 이름의 형태로 바꿔준다"
      ],
      "metadata": {
        "id": "yHjMDVtdzYQo"
      }
    },
    {
      "cell_type": "code",
      "source": [
        "class A:\n",
        "  x = 1\n",
        "  __y = 2 #private 처럼 사용할 때 __를 붙인다."
      ],
      "metadata": {
        "id": "AyawtijUuJ7p"
      },
      "execution_count": null,
      "outputs": []
    },
    {
      "cell_type": "code",
      "source": [
        "print(dir(A))"
      ],
      "metadata": {
        "id": "XcSGeTN2uemo",
        "colab": {
          "base_uri": "https://localhost:8080/"
        },
        "outputId": "e992a48c-3aea-440b-b81d-f8bf008ebd6d"
      },
      "execution_count": null,
      "outputs": [
        {
          "output_type": "stream",
          "name": "stdout",
          "text": [
            "['_A__y', '__class__', '__delattr__', '__dict__', '__dir__', '__doc__', '__eq__', '__format__', '__ge__', '__getattribute__', '__gt__', '__hash__', '__init__', '__init_subclass__', '__le__', '__lt__', '__module__', '__ne__', '__new__', '__reduce__', '__reduce_ex__', '__repr__', '__setattr__', '__sizeof__', '__str__', '__subclasshook__', '__weakref__', 'x']\n"
          ]
        }
      ]
    },
    {
      "cell_type": "code",
      "source": [
        "A.x"
      ],
      "metadata": {
        "id": "r5kXJlqouhvB",
        "colab": {
          "base_uri": "https://localhost:8080/"
        },
        "outputId": "698196bc-62ef-4ed1-985d-c4801a69e792"
      },
      "execution_count": null,
      "outputs": [
        {
          "output_type": "execute_result",
          "data": {
            "text/plain": [
              "1"
            ]
          },
          "metadata": {},
          "execution_count": 75
        }
      ]
    },
    {
      "cell_type": "code",
      "source": [
        "# AttributeError\n",
        "#dir(__y)로 생성된 변수가 없기 때문에 Error 발생\n",
        "A.__y"
      ],
      "metadata": {
        "id": "gVLFhN9ovcCA",
        "colab": {
          "base_uri": "https://localhost:8080/",
          "height": 220
        },
        "outputId": "a9713138-9309-432e-f433-48ba6a43f1ee"
      },
      "execution_count": null,
      "outputs": [
        {
          "output_type": "error",
          "ename": "AttributeError",
          "evalue": "ignored",
          "traceback": [
            "\u001b[0;31m---------------------------------------------------------------------------\u001b[0m",
            "\u001b[0;31mAttributeError\u001b[0m                            Traceback (most recent call last)",
            "\u001b[0;32m<ipython-input-76-f8e85dfbfbfa>\u001b[0m in \u001b[0;36m<cell line: 3>\u001b[0;34m()\u001b[0m\n\u001b[1;32m      1\u001b[0m \u001b[0;31m# AttributeError\u001b[0m\u001b[0;34m\u001b[0m\u001b[0;34m\u001b[0m\u001b[0m\n\u001b[1;32m      2\u001b[0m \u001b[0;31m#dir(__y)로 생성된 변수가 없기 때문에 Error 발생\u001b[0m\u001b[0;34m\u001b[0m\u001b[0;34m\u001b[0m\u001b[0m\n\u001b[0;32m----> 3\u001b[0;31m \u001b[0mA\u001b[0m\u001b[0;34m.\u001b[0m\u001b[0m__y\u001b[0m\u001b[0;34m\u001b[0m\u001b[0;34m\u001b[0m\u001b[0m\n\u001b[0m",
            "\u001b[0;31mAttributeError\u001b[0m: type object 'A' has no attribute '__y'"
          ]
        }
      ]
    },
    {
      "cell_type": "code",
      "source": [
        "# __y을 private으로 사용하기 위해서 선언했지만\n",
        "# _A__Y로 접근이 가능하다\n",
        "A._A__y"
      ],
      "metadata": {
        "id": "b6PzBmHGvgKA",
        "colab": {
          "base_uri": "https://localhost:8080/"
        },
        "outputId": "88fc0490-45a0-48e6-e6e5-40317362c320"
      },
      "execution_count": null,
      "outputs": [
        {
          "output_type": "execute_result",
          "data": {
            "text/plain": [
              "2"
            ]
          },
          "metadata": {},
          "execution_count": 77
        }
      ]
    },
    {
      "cell_type": "markdown",
      "source": [
        "## vars\n",
        "vars는 인스턴스 안에 정의된 값들을 보여준다."
      ],
      "metadata": {
        "id": "lnA0J3SI042g"
      }
    },
    {
      "cell_type": "code",
      "source": [
        "class A:\n",
        "  x = 1\n",
        "  __y = 2"
      ],
      "metadata": {
        "id": "D_XbCDSEv6xg"
      },
      "execution_count": null,
      "outputs": []
    },
    {
      "cell_type": "code",
      "source": [
        "a = A()"
      ],
      "metadata": {
        "id": "wrvgdeZR1CsW"
      },
      "execution_count": null,
      "outputs": []
    },
    {
      "cell_type": "code",
      "source": [
        "# 현재 a는 아무런 값이 들어 있지 않다.\n",
        "vars(a)"
      ],
      "metadata": {
        "id": "maMgFzHx1Dof",
        "colab": {
          "base_uri": "https://localhost:8080/"
        },
        "outputId": "132859b9-7f65-4465-a71d-0ebb582dbbe3"
      },
      "execution_count": null,
      "outputs": [
        {
          "output_type": "execute_result",
          "data": {
            "text/plain": [
              "{}"
            ]
          },
          "metadata": {},
          "execution_count": 80
        }
      ]
    },
    {
      "cell_type": "code",
      "source": [
        "# a의 인스턴스는 변수를 마들어주면 vars에서 보인다\n",
        "a.t = 3"
      ],
      "metadata": {
        "id": "cVTsbyXj1Ezn"
      },
      "execution_count": null,
      "outputs": []
    },
    {
      "cell_type": "code",
      "source": [
        "vars(a) #딕셔너리 형태로 나옴"
      ],
      "metadata": {
        "id": "tWvqsp3h1fD3",
        "colab": {
          "base_uri": "https://localhost:8080/"
        },
        "outputId": "74634489-db19-41f5-b23d-43f208eb9693"
      },
      "execution_count": null,
      "outputs": [
        {
          "output_type": "execute_result",
          "data": {
            "text/plain": [
              "{'t': 3}"
            ]
          },
          "metadata": {},
          "execution_count": 82
        }
      ]
    },
    {
      "cell_type": "code",
      "source": [
        "# a 인스턴스의 변수를 삭제할 수 있다\n",
        "del a.t"
      ],
      "metadata": {
        "id": "8zToKLcZ1gqn"
      },
      "execution_count": null,
      "outputs": []
    },
    {
      "cell_type": "code",
      "source": [
        "vars(a)"
      ],
      "metadata": {
        "id": "CZciyhHT14sX",
        "colab": {
          "base_uri": "https://localhost:8080/"
        },
        "outputId": "e2347a89-2363-4060-831a-c6ed3d5a6af4"
      },
      "execution_count": null,
      "outputs": [
        {
          "output_type": "execute_result",
          "data": {
            "text/plain": [
              "{}"
            ]
          },
          "metadata": {},
          "execution_count": 84
        }
      ]
    },
    {
      "cell_type": "code",
      "source": [
        "# A클래스의 변수들을 확인한다\n",
        "vars(A)"
      ],
      "metadata": {
        "id": "Z7dKETwj15_3",
        "colab": {
          "base_uri": "https://localhost:8080/"
        },
        "outputId": "1ab60b20-b569-4dc4-8b7b-c693f3104ef3"
      },
      "execution_count": null,
      "outputs": [
        {
          "output_type": "execute_result",
          "data": {
            "text/plain": [
              "mappingproxy({'__module__': '__main__',\n",
              "              'x': 1,\n",
              "              '_A__y': 2,\n",
              "              '__dict__': <attribute '__dict__' of 'A' objects>,\n",
              "              '__weakref__': <attribute '__weakref__' of 'A' objects>,\n",
              "              '__doc__': None})"
            ]
          },
          "metadata": {},
          "execution_count": 85
        }
      ]
    },
    {
      "cell_type": "code",
      "source": [
        "# 클래스의 변수도 삭제가 가능하다\n",
        "# 그래서 A클래스의 x클래스 변수를 삭제한다\n",
        "del A.x"
      ],
      "metadata": {
        "id": "rRJn8hdW1_UH"
      },
      "execution_count": null,
      "outputs": []
    },
    {
      "cell_type": "code",
      "source": [
        "vars(A)"
      ],
      "metadata": {
        "id": "wwNlpbBD2iyh",
        "colab": {
          "base_uri": "https://localhost:8080/"
        },
        "outputId": "5fd575b6-e3ad-42a7-846f-7dfaa44a7d5c"
      },
      "execution_count": null,
      "outputs": [
        {
          "output_type": "execute_result",
          "data": {
            "text/plain": [
              "mappingproxy({'__module__': '__main__',\n",
              "              '_A__y': 2,\n",
              "              '__dict__': <attribute '__dict__' of 'A' objects>,\n",
              "              '__weakref__': <attribute '__weakref__' of 'A' objects>,\n",
              "              '__doc__': None})"
            ]
          },
          "metadata": {},
          "execution_count": 87
        }
      ]
    },
    {
      "cell_type": "code",
      "source": [
        "# 앞 과정에서 A클래스의 x을 삭제했기 때문에 Error 발생\n",
        "A.x"
      ],
      "metadata": {
        "id": "lLEIPuLc2yWm",
        "colab": {
          "base_uri": "https://localhost:8080/",
          "height": 201
        },
        "outputId": "7a9958d5-85c1-438a-aa06-93dd6b3a88b8"
      },
      "execution_count": null,
      "outputs": [
        {
          "output_type": "error",
          "ename": "AttributeError",
          "evalue": "ignored",
          "traceback": [
            "\u001b[0;31m---------------------------------------------------------------------------\u001b[0m",
            "\u001b[0;31mAttributeError\u001b[0m                            Traceback (most recent call last)",
            "\u001b[0;32m<ipython-input-88-c91d5351a3ef>\u001b[0m in \u001b[0;36m<cell line: 2>\u001b[0;34m()\u001b[0m\n\u001b[1;32m      1\u001b[0m \u001b[0;31m# 앞 과정에서 A클래스의 x을 삭제했기 때문에 Error 발생\u001b[0m\u001b[0;34m\u001b[0m\u001b[0;34m\u001b[0m\u001b[0m\n\u001b[0;32m----> 2\u001b[0;31m \u001b[0mA\u001b[0m\u001b[0;34m.\u001b[0m\u001b[0mx\u001b[0m\u001b[0;34m\u001b[0m\u001b[0;34m\u001b[0m\u001b[0m\n\u001b[0m",
            "\u001b[0;31mAttributeError\u001b[0m: type object 'A' has no attribute 'x'"
          ]
        }
      ]
    },
    {
      "cell_type": "code",
      "source": [
        "A.__dict__  #vars(A)"
      ],
      "metadata": {
        "id": "9bgkuJJt20bG",
        "colab": {
          "base_uri": "https://localhost:8080/"
        },
        "outputId": "0fed29a4-052b-41ec-e328-d2f809f49099"
      },
      "execution_count": null,
      "outputs": [
        {
          "output_type": "execute_result",
          "data": {
            "text/plain": [
              "mappingproxy({'__module__': '__main__',\n",
              "              '_A__y': 2,\n",
              "              '__dict__': <attribute '__dict__' of 'A' objects>,\n",
              "              '__weakref__': <attribute '__weakref__' of 'A' objects>,\n",
              "              '__doc__': None})"
            ]
          },
          "metadata": {},
          "execution_count": 89
        }
      ]
    },
    {
      "cell_type": "code",
      "source": [
        "a.__dict__  #vars(a)"
      ],
      "metadata": {
        "id": "ZTAMMSBP3Xef",
        "colab": {
          "base_uri": "https://localhost:8080/"
        },
        "outputId": "2e848f05-257d-40ff-8141-86c6beedcb35"
      },
      "execution_count": null,
      "outputs": [
        {
          "output_type": "execute_result",
          "data": {
            "text/plain": [
              "{}"
            ]
          },
          "metadata": {},
          "execution_count": 90
        }
      ]
    },
    {
      "cell_type": "code",
      "source": [
        "print(dir(a))  # a.__dir__"
      ],
      "metadata": {
        "id": "ctbfw-Ha3aCu",
        "colab": {
          "base_uri": "https://localhost:8080/"
        },
        "outputId": "4c36562f-6af9-425e-e677-11a1ea376c61"
      },
      "execution_count": null,
      "outputs": [
        {
          "output_type": "stream",
          "name": "stdout",
          "text": [
            "['_A__y', '__class__', '__delattr__', '__dict__', '__dir__', '__doc__', '__eq__', '__format__', '__ge__', '__getattribute__', '__gt__', '__hash__', '__init__', '__init_subclass__', '__le__', '__lt__', '__module__', '__ne__', '__new__', '__reduce__', '__reduce_ex__', '__repr__', '__setattr__', '__sizeof__', '__str__', '__subclasshook__', '__weakref__']\n"
          ]
        }
      ]
    },
    {
      "cell_type": "code",
      "source": [
        "set(a.__dict__)-set(vars(a))"
      ],
      "metadata": {
        "id": "HPA2iSar3ca3",
        "colab": {
          "base_uri": "https://localhost:8080/"
        },
        "outputId": "7ab34ce6-65ed-41d5-9c2d-94f50ff66426"
      },
      "execution_count": null,
      "outputs": [
        {
          "output_type": "execute_result",
          "data": {
            "text/plain": [
              "set()"
            ]
          },
          "metadata": {},
          "execution_count": 92
        }
      ]
    },
    {
      "cell_type": "code",
      "source": [
        "set(vars(A))-set(A.__dict__)"
      ],
      "metadata": {
        "id": "7IhaD_hN4QQW",
        "colab": {
          "base_uri": "https://localhost:8080/"
        },
        "outputId": "853df321-f258-48af-e423-d7aeefeb16a4"
      },
      "execution_count": null,
      "outputs": [
        {
          "output_type": "execute_result",
          "data": {
            "text/plain": [
              "set()"
            ]
          },
          "metadata": {},
          "execution_count": 93
        }
      ]
    },
    {
      "cell_type": "code",
      "source": [
        "set(vars(A)) | set(A.__dict__)"
      ],
      "metadata": {
        "id": "8mNzAX8I4XUm",
        "colab": {
          "base_uri": "https://localhost:8080/"
        },
        "outputId": "946eced0-69a7-4bb3-ee51-08cdc960003c"
      },
      "execution_count": null,
      "outputs": [
        {
          "output_type": "execute_result",
          "data": {
            "text/plain": [
              "{'_A__y', '__dict__', '__doc__', '__module__', '__weakref__'}"
            ]
          },
          "metadata": {},
          "execution_count": 94
        }
      ]
    },
    {
      "cell_type": "code",
      "source": [
        "set(vars(A)) & set(A.__dict__)"
      ],
      "metadata": {
        "id": "nnIIqbMl4mVm",
        "colab": {
          "base_uri": "https://localhost:8080/"
        },
        "outputId": "05720f22-e207-4c31-c5e8-ae0f96d1e2fc"
      },
      "execution_count": null,
      "outputs": [
        {
          "output_type": "execute_result",
          "data": {
            "text/plain": [
              "{'_A__y', '__dict__', '__doc__', '__module__', '__weakref__'}"
            ]
          },
          "metadata": {},
          "execution_count": 95
        }
      ]
    },
    {
      "cell_type": "markdown",
      "source": [
        "함수를 메소드로 추가할 수 있다"
      ],
      "metadata": {
        "id": "2WsAUgYf5lbf"
      }
    },
    {
      "cell_type": "code",
      "source": [
        "# 함수를 정의: 메소드로 등록할 함수이면 self을 선언해 준다\n",
        "def display(self, p):\n",
        "  print(p)"
      ],
      "metadata": {
        "id": "9gZEdrX45cwl"
      },
      "execution_count": null,
      "outputs": []
    },
    {
      "cell_type": "code",
      "source": [
        "display(10)"
      ],
      "metadata": {
        "id": "8kumV5QX5dkm",
        "colab": {
          "base_uri": "https://localhost:8080/",
          "height": 183
        },
        "outputId": "70e8bea2-f6a8-4d1c-993f-900289ab61ec"
      },
      "execution_count": null,
      "outputs": [
        {
          "output_type": "error",
          "ename": "TypeError",
          "evalue": "ignored",
          "traceback": [
            "\u001b[0;31m---------------------------------------------------------------------------\u001b[0m",
            "\u001b[0;31mTypeError\u001b[0m                                 Traceback (most recent call last)",
            "\u001b[0;32m<ipython-input-97-c767b24d99f8>\u001b[0m in \u001b[0;36m<cell line: 1>\u001b[0;34m()\u001b[0m\n\u001b[0;32m----> 1\u001b[0;31m \u001b[0mdisplay\u001b[0m\u001b[0;34m(\u001b[0m\u001b[0;36m10\u001b[0m\u001b[0;34m)\u001b[0m\u001b[0;34m\u001b[0m\u001b[0;34m\u001b[0m\u001b[0m\n\u001b[0m",
            "\u001b[0;31mTypeError\u001b[0m: display() missing 1 required positional argument: 'p'"
          ]
        }
      ]
    },
    {
      "cell_type": "code",
      "source": [
        "# 함수를 메소드로 등록\n",
        "A.display = display  # 이름을 서로 동일하게 안해도 상관없으나 가독성을 위해 같게 함"
      ],
      "metadata": {
        "id": "cbUihlcn5dnv"
      },
      "execution_count": null,
      "outputs": []
    },
    {
      "cell_type": "code",
      "source": [
        "print(dir(A))"
      ],
      "metadata": {
        "id": "_EsoEKGq5dqv",
        "colab": {
          "base_uri": "https://localhost:8080/"
        },
        "outputId": "06db62da-fbab-430d-8f93-059fb0f591d9"
      },
      "execution_count": null,
      "outputs": [
        {
          "output_type": "stream",
          "name": "stdout",
          "text": [
            "['_A__y', '__class__', '__delattr__', '__dict__', '__dir__', '__doc__', '__eq__', '__format__', '__ge__', '__getattribute__', '__gt__', '__hash__', '__init__', '__init_subclass__', '__le__', '__lt__', '__module__', '__ne__', '__new__', '__reduce__', '__reduce_ex__', '__repr__', '__setattr__', '__sizeof__', '__str__', '__subclasshook__', '__weakref__', 'display']\n"
          ]
        }
      ]
    },
    {
      "cell_type": "code",
      "source": [
        "a = A()"
      ],
      "metadata": {
        "id": "ftpHApVt6q6G"
      },
      "execution_count": null,
      "outputs": []
    },
    {
      "cell_type": "code",
      "source": [
        "a.display(20)"
      ],
      "metadata": {
        "id": "mFurcELz5duH",
        "colab": {
          "base_uri": "https://localhost:8080/"
        },
        "outputId": "0f24567b-6881-43fe-e875-e7f2ccdf72c6"
      },
      "execution_count": null,
      "outputs": [
        {
          "output_type": "stream",
          "name": "stdout",
          "text": [
            "20\n"
          ]
        }
      ]
    },
    {
      "cell_type": "code",
      "source": [
        "from google.colab import drive\n",
        "drive.mount('/content/drive')"
      ],
      "metadata": {
        "colab": {
          "base_uri": "https://localhost:8080/"
        },
        "id": "PR4Wi2iO85J-",
        "outputId": "f0df6c66-79ac-4552-9189-3ba7e784df9c"
      },
      "execution_count": null,
      "outputs": [
        {
          "output_type": "stream",
          "name": "stdout",
          "text": [
            "Mounted at /content/drive\n"
          ]
        }
      ]
    },
    {
      "cell_type": "code",
      "source": [
        "%cd /content/drive/MyDrive/ai_chat_python"
      ],
      "metadata": {
        "colab": {
          "base_uri": "https://localhost:8080/"
        },
        "id": "euk83zj99MgZ",
        "outputId": "1a9bf0f6-3dcc-4533-eadd-4ce72a333930"
      },
      "execution_count": null,
      "outputs": [
        {
          "output_type": "stream",
          "name": "stdout",
          "text": [
            "/content/drive/MyDrive/ai_chat_python\n"
          ]
        }
      ]
    },
    {
      "cell_type": "code",
      "source": [
        "%%writefile source/gosu.py\n",
        "\n",
        "a = 1\n",
        "_a = 2\n",
        "__a = 3\n",
        "\n",
        "def b():\n",
        "  return 1\n",
        "\n",
        "def _b():\n",
        "  return 2\n",
        "\n",
        "def __b():\n",
        "  return 3\n",
        "\n"
      ],
      "metadata": {
        "colab": {
          "base_uri": "https://localhost:8080/"
        },
        "id": "UiwXSm5d5dxO",
        "outputId": "598493df-38a3-4abc-dfe2-a02a3acbb69b"
      },
      "execution_count": null,
      "outputs": [
        {
          "output_type": "stream",
          "name": "stdout",
          "text": [
            "Overwriting source/gosu.py\n"
          ]
        }
      ]
    },
    {
      "cell_type": "code",
      "source": [
        "# 실행\n",
        "#!python source/gosu.py"
      ],
      "metadata": {
        "id": "jvy4skqk5d0x"
      },
      "execution_count": null,
      "outputs": []
    },
    {
      "cell_type": "code",
      "source": [
        "# 실행\n",
        "#%run source/gosu.py"
      ],
      "metadata": {
        "id": "LMv5YwHxOr-x"
      },
      "execution_count": null,
      "outputs": []
    },
    {
      "cell_type": "markdown",
      "source": [
        "```\n",
        "import source.gosu #Java\n",
        "import gosu from source #react\n",
        "```"
      ],
      "metadata": {
        "id": "tG8UUourW7oK"
      }
    },
    {
      "cell_type": "code",
      "source": [
        "from source import gosu #import 모듈 or package"
      ],
      "metadata": {
        "id": "KmEUBmEtO38x"
      },
      "execution_count": null,
      "outputs": []
    },
    {
      "cell_type": "markdown",
      "source": [
        "작업중인 파일과 불러올 파이썬 파일이 반드시 같은 위치가 아니더라도 path에 등록되어 있으면 import된다"
      ],
      "metadata": {
        "id": "dU-2e62MP4HM"
      }
    },
    {
      "cell_type": "code",
      "source": [
        "import sys\n",
        "sys.path"
      ],
      "metadata": {
        "id": "iQugV5tqPZFJ"
      },
      "execution_count": null,
      "outputs": []
    },
    {
      "cell_type": "code",
      "source": [
        "#__가 붙은 이름은 python에서 내부적으로 관리하는 기능이다\n",
        "print(dir(gosu))"
      ],
      "metadata": {
        "id": "X-cxb1cGPs0q"
      },
      "execution_count": null,
      "outputs": []
    },
    {
      "cell_type": "code",
      "source": [
        "gosu.a"
      ],
      "metadata": {
        "id": "uyBO0TOrQSJq"
      },
      "execution_count": null,
      "outputs": []
    },
    {
      "cell_type": "code",
      "source": [
        "gosu._a"
      ],
      "metadata": {
        "id": "rM5bT23-RpMR"
      },
      "execution_count": null,
      "outputs": []
    },
    {
      "cell_type": "code",
      "source": [
        "gosu.__a"
      ],
      "metadata": {
        "id": "g10dWc23RtZZ"
      },
      "execution_count": null,
      "outputs": []
    },
    {
      "cell_type": "code",
      "source": [
        "import source.gosu"
      ],
      "metadata": {
        "id": "maNIJAX3RvMh"
      },
      "execution_count": null,
      "outputs": []
    },
    {
      "cell_type": "code",
      "source": [
        "print(gosu.a)\n",
        "print(gosu._a)\n",
        "print(gosu.__a)"
      ],
      "metadata": {
        "id": "6Za9-mhKRzXZ"
      },
      "execution_count": null,
      "outputs": []
    },
    {
      "cell_type": "markdown",
      "source": [
        "- as는 alias의 줄임말로 별칭이라는 뜻이다"
      ],
      "metadata": {
        "id": "hoK_JcC4SBQk"
      }
    },
    {
      "cell_type": "code",
      "source": [
        "from source import gosu as g #g라는 이름으로 gosu을 임포드한다"
      ],
      "metadata": {
        "id": "d3GDqGPfR3yx"
      },
      "execution_count": null,
      "outputs": []
    },
    {
      "cell_type": "code",
      "source": [
        "print(g.a)\n",
        "print(g._a)\n",
        "print(g.__a)"
      ],
      "metadata": {
        "id": "q6BCtqxlSSBB"
      },
      "execution_count": null,
      "outputs": []
    },
    {
      "cell_type": "code",
      "source": [
        "#__name__은 원래 이름을 알려준다\n",
        "g.__name__"
      ],
      "metadata": {
        "id": "lKnP7jQ6SXFR"
      },
      "execution_count": null,
      "outputs": []
    },
    {
      "cell_type": "markdown",
      "source": [
        "from"
      ],
      "metadata": {
        "id": "g2bfWJ4LSpOc"
      }
    },
    {
      "cell_type": "code",
      "source": [
        "from source.gosu import a, _a #하나씩 import를 시켜줘야함!"
      ],
      "metadata": {
        "id": "Y4xnyeqfSc25"
      },
      "execution_count": null,
      "outputs": []
    },
    {
      "cell_type": "code",
      "source": [
        "print (a)\n",
        "print (_a)\n",
        "print (__a)  #__a는 import을 안했기 때문에 오류 발생"
      ],
      "metadata": {
        "id": "ByaMLw4dUc4w"
      },
      "execution_count": null,
      "outputs": []
    },
    {
      "cell_type": "code",
      "source": [
        "from source.gosu import a as f"
      ],
      "metadata": {
        "id": "mLEzYqsoUl6R"
      },
      "execution_count": null,
      "outputs": []
    },
    {
      "cell_type": "code",
      "source": [
        "f"
      ],
      "metadata": {
        "id": "upIZ0mBuYMSx"
      },
      "execution_count": null,
      "outputs": []
    },
    {
      "cell_type": "code",
      "source": [
        "print(dir(f))"
      ],
      "metadata": {
        "id": "qWSx41WYYMc_"
      },
      "execution_count": null,
      "outputs": []
    },
    {
      "cell_type": "code",
      "source": [
        "print(type(f))"
      ],
      "metadata": {
        "id": "3t2HtwSgYgMs"
      },
      "execution_count": null,
      "outputs": []
    },
    {
      "cell_type": "code",
      "source": [
        "#int이기 때문에 __name__ 제공 ㄴㄴ\n",
        "f.__name__"
      ],
      "metadata": {
        "id": "h2hA68bPYN6I"
      },
      "execution_count": null,
      "outputs": []
    },
    {
      "cell_type": "markdown",
      "source": [
        "--- *(asterisk)---\n",
        "*는 이름이 언더바로 시작하는 것 빼고 모두 가져온다.  \n",
        "여기서 kernel을 재시작하거나, jupyter notebook파일을 새로 만든 후 실습한다.  \n",
        "kernel을 재시작 했으면"
      ],
      "metadata": {
        "id": "58STfKgCcxtZ"
      }
    },
    {
      "cell_type": "code",
      "source": [
        "%who"
      ],
      "metadata": {
        "colab": {
          "base_uri": "https://localhost:8080/"
        },
        "id": "--c2E6ovYeWw",
        "outputId": "b06eaf5c-2041-44d2-b361-cee7ee587449"
      },
      "execution_count": null,
      "outputs": [
        {
          "output_type": "stream",
          "name": "stdout",
          "text": [
            "drive\t \n"
          ]
        }
      ]
    },
    {
      "cell_type": "markdown",
      "source": [
        "import하면 gosu에 있는 객체들이 현재 네임스페이스에 추가된다.  \n",
        "이름이 언더바(_, __)로 시작하는 것은 빼고 a, b 만 추가된 것을 알 수 있다"
      ],
      "metadata": {
        "id": "giNaXObwcqPo"
      }
    },
    {
      "cell_type": "code",
      "source": [
        "from source.gosu import *"
      ],
      "metadata": {
        "id": "vxvFJbCSYoZz"
      },
      "execution_count": null,
      "outputs": []
    },
    {
      "cell_type": "code",
      "source": [
        "%who"
      ],
      "metadata": {
        "colab": {
          "base_uri": "https://localhost:8080/"
        },
        "id": "rQWQQrvYcZCv",
        "outputId": "c0358f10-8242-48b9-b462-bab180c40e14"
      },
      "execution_count": null,
      "outputs": [
        {
          "output_type": "stream",
          "name": "stdout",
          "text": [
            "a\t b\t drive\t \n"
          ]
        }
      ]
    },
    {
      "cell_type": "markdown",
      "source": [
        "##__double underbar__\n",
        "```\n",
        "이름의 앞 뒤에 언더바가 2개씩 붙은 것들은 python에 미리 정해져 있는 기능이다.  \n",
        "ex) __init__, __call__, __len__등\n",
        "다른 표현으로 dender, magic method, special method 이라고 한다\n",
        "```"
      ],
      "metadata": {
        "id": "jrnS52BNeXDi"
      }
    },
    {
      "cell_type": "markdown",
      "source": [
        "## overriding (오버라이딩)\n",
        "부모가 가진 기능을 변경하는 것을 overriding이라고 한다.  \n",
        "double underbar 같은 것들은 overriding해서 객체의 기능을 바꿀 수 없다"
      ],
      "metadata": {
        "id": "bNPgzNlufbOg"
      }
    },
    {
      "cell_type": "markdown",
      "source": [
        "## overloading(오버로딩)\n",
        "- parameter에 따라서 다른 함수를 사용하는 기법  \n",
        "- python은 overloading을 지원하지 않고, 뒤의 것이 앞의 것을 덮었쓴다.  \n",
        "\n",
        "- python은 overloading을 지원하지 않으므로 defailt value를 많이 만들어 두는 기법을 자주 사용한다  \n",
        "- 위 overloading 예시를 default value를 이용해 python에서 구현한다면 다음과 같이 만들 수 있다"
      ],
      "metadata": {
        "id": "QCyH4JtJf-fg"
      }
    },
    {
      "cell_type": "code",
      "source": [
        "def student(first, last = 'Mark', age=30):\n",
        "    print(first)\n",
        "    print(last)\n",
        "    print(age)\n",
        "\n",
        "\n",
        "student('Young')\n",
        "student('Young', 'Lee')"
      ],
      "metadata": {
        "colab": {
          "base_uri": "https://localhost:8080/"
        },
        "id": "NKE5FmECcaaw",
        "outputId": "1e3fa26c-b575-46d4-9ede-bedc916a8f49"
      },
      "execution_count": null,
      "outputs": [
        {
          "output_type": "stream",
          "name": "stdout",
          "text": [
            "Young\n",
            "Mark\n",
            "30\n",
            "Young\n",
            "Lee\n",
            "30\n"
          ]
        }
      ]
    },
    {
      "cell_type": "markdown",
      "source": [
        "### __init__\n",
        "- __ init__는 파이썬의 생성자(constructor)이다\n",
        "- 인스턴스화할 때 자동으로 실행한다\n",
        "- 초기화한다는 뜻의 initialize에서 이름을 가져왔다."
      ],
      "metadata": {
        "id": "L4jXXNgfhqwA"
      }
    },
    {
      "cell_type": "code",
      "source": [
        "class A:\n",
        "  def __init__(self):\n",
        "    print('__init__')"
      ],
      "metadata": {
        "id": "uxWarIt4hScm"
      },
      "execution_count": null,
      "outputs": []
    },
    {
      "cell_type": "code",
      "source": [
        "# 인스턴스화할 때 자동으로 실행되어 print가 출력된다\n",
        "a = A()"
      ],
      "metadata": {
        "colab": {
          "base_uri": "https://localhost:8080/"
        },
        "id": "Mmod2rYXiOAF",
        "outputId": "e56c422a-9e68-4add-9da6-735749005250"
      },
      "execution_count": null,
      "outputs": [
        {
          "output_type": "stream",
          "name": "stdout",
          "text": [
            "__init__\n"
          ]
        }
      ]
    },
    {
      "cell_type": "code",
      "source": [
        "class A:\n",
        "  def __init__(self, param):\n",
        "    self.param = param\n",
        "    print('__init__')\n",
        "    print(param)"
      ],
      "metadata": {
        "id": "IXRFtnSOiP02"
      },
      "execution_count": null,
      "outputs": []
    },
    {
      "cell_type": "code",
      "source": [
        "a = A('param')"
      ],
      "metadata": {
        "colab": {
          "base_uri": "https://localhost:8080/"
        },
        "id": "in1801_oix62",
        "outputId": "b7e3b326-5545-41e5-937d-92602311cdde"
      },
      "execution_count": null,
      "outputs": [
        {
          "output_type": "stream",
          "name": "stdout",
          "text": [
            "__init__\n",
            "param\n"
          ]
        }
      ]
    },
    {
      "cell_type": "code",
      "source": [
        "vars(a)"
      ],
      "metadata": {
        "colab": {
          "base_uri": "https://localhost:8080/"
        },
        "id": "tWTLH1GSizZe",
        "outputId": "4b0b97f1-ff00-49ea-9772-243ac4ef80d2"
      },
      "execution_count": null,
      "outputs": [
        {
          "output_type": "execute_result",
          "data": {
            "text/plain": [
              "{'param': 'param'}"
            ]
          },
          "metadata": {},
          "execution_count": 17
        }
      ]
    },
    {
      "cell_type": "code",
      "source": [
        "class A:\n",
        "\n",
        "  def __new__(cls, *args, **kwargs):  #overriding해준것\n",
        "    print('__new__')\n",
        "    return object.__new__(cls)\n",
        "\n",
        "\n",
        "  def __init__(self, *args, **kwargs):\n",
        "    print('__init__')\n",
        "    print(args)\n",
        "    self.x = 1"
      ],
      "metadata": {
        "id": "JdwCPwIdi281"
      },
      "execution_count": null,
      "outputs": []
    },
    {
      "cell_type": "code",
      "source": [
        "a = A(3)  #__new__도 인스턴스화할 때 실행된다"
      ],
      "metadata": {
        "colab": {
          "base_uri": "https://localhost:8080/"
        },
        "id": "NfcbA-hnjbe1",
        "outputId": "e732835c-9ee9-4b76-b14e-348bffe236a9"
      },
      "execution_count": null,
      "outputs": [
        {
          "output_type": "stream",
          "name": "stdout",
          "text": [
            "__new__\n",
            "__init__\n",
            "(3,)\n"
          ]
        }
      ]
    },
    {
      "cell_type": "markdown",
      "source": [
        "__ del__  은 소멸자이다.\n",
        "인스턴스를 삭제할 때 실행된다\n",
        "\n",
        "  \n",
        "   __ class__\n",
        "type와 같다. 객체의 class을 알려준다"
      ],
      "metadata": {
        "id": "vFKwgYWvkwkA"
      }
    },
    {
      "cell_type": "code",
      "source": [
        "class A:\n",
        "  def __init__(self):\n",
        "    self.a = 4\n",
        "    print('__init__')\n",
        "\n",
        "  def __del__(self):\n",
        "    print('__del__')"
      ],
      "metadata": {
        "id": "V10YMJFvjdJl"
      },
      "execution_count": null,
      "outputs": []
    },
    {
      "cell_type": "code",
      "source": [
        "a = A()"
      ],
      "metadata": {
        "colab": {
          "base_uri": "https://localhost:8080/"
        },
        "id": "Q3Dl7k8BlINV",
        "outputId": "11cc1dd5-d8e8-421c-935f-d29391257b8c"
      },
      "execution_count": null,
      "outputs": [
        {
          "output_type": "stream",
          "name": "stdout",
          "text": [
            "__init__\n"
          ]
        }
      ]
    },
    {
      "cell_type": "code",
      "source": [
        "type(a)"
      ],
      "metadata": {
        "colab": {
          "base_uri": "https://localhost:8080/"
        },
        "id": "cToeDacOlKBV",
        "outputId": "bc74ce1c-7cb3-4664-839d-ffe4d29d17e7"
      },
      "execution_count": null,
      "outputs": [
        {
          "output_type": "execute_result",
          "data": {
            "text/plain": [
              "__main__.A"
            ]
          },
          "metadata": {},
          "execution_count": 33
        }
      ]
    },
    {
      "cell_type": "code",
      "source": [
        "print(dir(a))"
      ],
      "metadata": {
        "colab": {
          "base_uri": "https://localhost:8080/"
        },
        "id": "k3CAxo5OlKUt",
        "outputId": "660810dc-91df-4b6d-b3d9-66cc1d81627a"
      },
      "execution_count": null,
      "outputs": [
        {
          "output_type": "stream",
          "name": "stdout",
          "text": [
            "['__class__', '__del__', '__delattr__', '__dict__', '__dir__', '__doc__', '__eq__', '__format__', '__ge__', '__getattribute__', '__gt__', '__hash__', '__init__', '__init_subclass__', '__le__', '__lt__', '__module__', '__ne__', '__new__', '__reduce__', '__reduce_ex__', '__repr__', '__setattr__', '__sizeof__', '__str__', '__subclasshook__', '__weakref__', 'a']\n"
          ]
        }
      ]
    },
    {
      "cell_type": "code",
      "source": [
        "a.__class__"
      ],
      "metadata": {
        "colab": {
          "base_uri": "https://localhost:8080/"
        },
        "id": "ZQ4e-ROtlnN1",
        "outputId": "596bb3fc-2233-4cc8-cf34-f93d40214ac4"
      },
      "execution_count": null,
      "outputs": [
        {
          "output_type": "execute_result",
          "data": {
            "text/plain": [
              "__main__.A"
            ]
          },
          "metadata": {},
          "execution_count": 35
        }
      ]
    },
    {
      "cell_type": "code",
      "source": [
        "type(A)"
      ],
      "metadata": {
        "colab": {
          "base_uri": "https://localhost:8080/"
        },
        "id": "plQEM2Snlwr9",
        "outputId": "20db6881-5960-4fc9-929c-a7dcb94b8265"
      },
      "execution_count": null,
      "outputs": [
        {
          "output_type": "execute_result",
          "data": {
            "text/plain": [
              "type"
            ]
          },
          "metadata": {},
          "execution_count": 36
        }
      ]
    },
    {
      "cell_type": "markdown",
      "source": [
        "- type에 인스턴스를 넣으면 클래스를 알려준다.\n",
        "- type에 클래스를 넣으면 메타 클래스를 알려준다.\n",
        "- 메타클래스는 class의 class이다"
      ],
      "metadata": {
        "id": "uqUlwXdgl7wZ"
      }
    },
    {
      "cell_type": "markdown",
      "source": [
        "__ dir__  \n",
        "dir()과 비슷하다.  \n",
        "차이점은 정렬 여부이다.(ordering)"
      ],
      "metadata": {
        "id": "OcjnKzwQmRCP"
      }
    },
    {
      "cell_type": "code",
      "source": [
        "print(dir(a))"
      ],
      "metadata": {
        "colab": {
          "base_uri": "https://localhost:8080/"
        },
        "id": "6JARSouQo0te",
        "outputId": "b69eb4a9-c949-45e5-96b3-68628b428e80"
      },
      "execution_count": null,
      "outputs": [
        {
          "output_type": "stream",
          "name": "stdout",
          "text": [
            "['__class__', '__del__', '__delattr__', '__dict__', '__dir__', '__doc__', '__eq__', '__format__', '__ge__', '__getattribute__', '__gt__', '__hash__', '__init__', '__init_subclass__', '__le__', '__lt__', '__module__', '__ne__', '__new__', '__reduce__', '__reduce_ex__', '__repr__', '__setattr__', '__sizeof__', '__str__', '__subclasshook__', '__weakref__', 'a']\n"
          ]
        }
      ]
    },
    {
      "cell_type": "code",
      "source": [
        "print(a.__dir__())"
      ],
      "metadata": {
        "colab": {
          "base_uri": "https://localhost:8080/"
        },
        "id": "-L2WVDEUlyAm",
        "outputId": "4490ba45-9a04-465a-c6f3-506a66c8c37d"
      },
      "execution_count": null,
      "outputs": [
        {
          "output_type": "stream",
          "name": "stdout",
          "text": [
            "['a', '__module__', '__init__', '__del__', '__dict__', '__weakref__', '__doc__', '__new__', '__repr__', '__hash__', '__str__', '__getattribute__', '__setattr__', '__delattr__', '__lt__', '__le__', '__eq__', '__ne__', '__gt__', '__ge__', '__reduce_ex__', '__reduce__', '__subclasshook__', '__init_subclass__', '__format__', '__sizeof__', '__dir__', '__class__']\n"
          ]
        }
      ]
    },
    {
      "cell_type": "code",
      "source": [
        "print(len(dir(a))- len(a.__dir__()))\n",
        "print(len(dir(a)))"
      ],
      "metadata": {
        "colab": {
          "base_uri": "https://localhost:8080/"
        },
        "id": "uEOSlnwZovOU",
        "outputId": "ce68bd49-2f55-4a37-aa4e-e5c91f81ec48"
      },
      "execution_count": null,
      "outputs": [
        {
          "output_type": "stream",
          "name": "stdout",
          "text": [
            "0\n",
            "28\n"
          ]
        }
      ]
    },
    {
      "cell_type": "markdown",
      "source": [
        "__ doc __\n",
        "\n",
        "- docstring을 의미한다\n",
        "- 함수나 클래스를 선언할 때signature 바로 앞에 따옴표 3개를 이용해서 설명을 기재할 수 있음"
      ],
      "metadata": {
        "id": "gEJQcrJyqHAQ"
      }
    },
    {
      "cell_type": "code",
      "source": [
        "int?"
      ],
      "metadata": {
        "id": "05mENMUFoyYM"
      },
      "execution_count": null,
      "outputs": []
    },
    {
      "cell_type": "code",
      "source": [
        "int.__doc__"
      ],
      "metadata": {
        "colab": {
          "base_uri": "https://localhost:8080/",
          "height": 163
        },
        "id": "aMV4DvkWpzU9",
        "outputId": "1d8f2d7e-501b-429c-8a1c-e25ca33a4266"
      },
      "execution_count": null,
      "outputs": [
        {
          "output_type": "execute_result",
          "data": {
            "text/plain": [
              "\"int([x]) -> integer\\nint(x, base=10) -> integer\\n\\nConvert a number or string to an integer, or return 0 if no arguments\\nare given.  If x is a number, return x.__int__().  For floating point\\nnumbers, this truncates towards zero.\\n\\nIf x is not a number or if base is given, then x must be a string,\\nbytes, or bytearray instance representing an integer literal in the\\ngiven base.  The literal can be preceded by '+' or '-' and be surrounded\\nby whitespace.  The base defaults to 10.  Valid bases are 0 and 2-36.\\nBase 0 means to interpret the base from the string as an integer literal.\\n>>> int('0b100', base=0)\\n4\""
            ],
            "application/vnd.google.colaboratory.intrinsic+json": {
              "type": "string"
            }
          },
          "metadata": {},
          "execution_count": 44
        }
      ]
    },
    {
      "cell_type": "code",
      "source": [
        "class A:\n",
        "  '''클래스 설명서'''\n",
        "  def __init__(self):\n",
        "    '''INIT 설명서'''\n",
        "    self.a = 10\n",
        "    print('__init__')"
      ],
      "metadata": {
        "id": "xYK4guAVp120"
      },
      "execution_count": null,
      "outputs": []
    },
    {
      "cell_type": "code",
      "source": [
        "a= A()"
      ],
      "metadata": {
        "colab": {
          "base_uri": "https://localhost:8080/"
        },
        "id": "nnrr7y-aqx7s",
        "outputId": "91533b01-a6f0-4c0f-aae2-3a4460312997"
      },
      "execution_count": null,
      "outputs": [
        {
          "output_type": "stream",
          "name": "stdout",
          "text": [
            "__init__\n"
          ]
        }
      ]
    },
    {
      "cell_type": "code",
      "source": [
        "a?"
      ],
      "metadata": {
        "id": "tinJh-Chqy08"
      },
      "execution_count": null,
      "outputs": []
    },
    {
      "cell_type": "code",
      "source": [
        "a.__doc__"
      ],
      "metadata": {
        "colab": {
          "base_uri": "https://localhost:8080/",
          "height": 35
        },
        "id": "LuThxcoNq2l0",
        "outputId": "3dcb9329-ea46-416f-f761-130bb9c185f4"
      },
      "execution_count": null,
      "outputs": [
        {
          "output_type": "execute_result",
          "data": {
            "text/plain": [
              "'클래스 설명서'"
            ],
            "application/vnd.google.colaboratory.intrinsic+json": {
              "type": "string"
            }
          },
          "metadata": {},
          "execution_count": 50
        }
      ]
    },
    {
      "cell_type": "code",
      "source": [
        "a.__init__.__doc__"
      ],
      "metadata": {
        "colab": {
          "base_uri": "https://localhost:8080/",
          "height": 35
        },
        "id": "uH7G6Kebq5VK",
        "outputId": "7c40fb7b-c54d-4d52-d9f2-519f988dae3b"
      },
      "execution_count": null,
      "outputs": [
        {
          "output_type": "execute_result",
          "data": {
            "text/plain": [
              "'INIT 설명서'"
            ],
            "application/vnd.google.colaboratory.intrinsic+json": {
              "type": "string"
            }
          },
          "metadata": {},
          "execution_count": 52
        }
      ]
    },
    {
      "cell_type": "markdown",
      "source": [
        "###Decorator\n"
      ],
      "metadata": {
        "id": "0FFLb1kVXZUu"
      }
    },
    {
      "cell_type": "code",
      "source": [
        "def t(a):\n",
        "  return a"
      ],
      "metadata": {
        "id": "X7i-cctxq4w8"
      },
      "execution_count": null,
      "outputs": []
    },
    {
      "cell_type": "code",
      "source": [
        "t(3)"
      ],
      "metadata": {
        "colab": {
          "base_uri": "https://localhost:8080/"
        },
        "id": "ch8lNaviX_hE",
        "outputId": "d5b20251-2c11-49ec-f3de-f26d823b63e5"
      },
      "execution_count": null,
      "outputs": [
        {
          "output_type": "execute_result",
          "data": {
            "text/plain": [
              "3"
            ]
          },
          "metadata": {},
          "execution_count": 3
        }
      ]
    },
    {
      "cell_type": "code",
      "source": [
        "# fun = t\n",
        "# fun(5)\n",
        "def x(fun):\n",
        "  def y(x):\n",
        "    return fun(x+1)\n",
        "  return y"
      ],
      "metadata": {
        "id": "Z31D9jHKX_kM"
      },
      "execution_count": null,
      "outputs": []
    },
    {
      "cell_type": "code",
      "source": [
        "m = x(t)\n",
        "m(5)"
      ],
      "metadata": {
        "colab": {
          "base_uri": "https://localhost:8080/"
        },
        "id": "-RHJRgPnX_m7",
        "outputId": "25889c41-069a-4ec6-8b72-b4c753e708cc"
      },
      "execution_count": null,
      "outputs": [
        {
          "output_type": "execute_result",
          "data": {
            "text/plain": [
              "6"
            ]
          },
          "metadata": {},
          "execution_count": 6
        }
      ]
    },
    {
      "cell_type": "code",
      "source": [
        "x(t)(5)"
      ],
      "metadata": {
        "colab": {
          "base_uri": "https://localhost:8080/"
        },
        "id": "ovIrYhr_YZ_E",
        "outputId": "a0fa3a92-cf9e-4fd1-d13b-271454040c00"
      },
      "execution_count": null,
      "outputs": [
        {
          "output_type": "execute_result",
          "data": {
            "text/plain": [
              "6"
            ]
          },
          "metadata": {},
          "execution_count": 9
        }
      ]
    },
    {
      "cell_type": "code",
      "source": [
        "# @을 붙이면 decorator이다\n",
        "@x\n",
        "def s(a):\n",
        "  return a"
      ],
      "metadata": {
        "id": "m_rpIKcXYfx7"
      },
      "execution_count": null,
      "outputs": []
    },
    {
      "cell_type": "code",
      "source": [
        "# x(s)(5)\n",
        "s(5)"
      ],
      "metadata": {
        "colab": {
          "base_uri": "https://localhost:8080/"
        },
        "id": "4iby-fPgYf1D",
        "outputId": "52770ca2-0e3d-4208-eadc-d69a52ba1597"
      },
      "execution_count": null,
      "outputs": [
        {
          "output_type": "execute_result",
          "data": {
            "text/plain": [
              "6"
            ]
          },
          "metadata": {},
          "execution_count": 11
        }
      ]
    },
    {
      "cell_type": "markdown",
      "source": [
        "###__ repr__와 __ str__"
      ],
      "metadata": {
        "id": "TeiOLzQxXml-"
      }
    },
    {
      "cell_type": "code",
      "source": [
        "class B:\n",
        "  def __init__(self):\n",
        "    '''doc'''\n",
        "    print(\"init\")\n",
        "\n",
        "  def __repr__(self):\n",
        "    print('repr')\n",
        "    return('1')\n",
        "\n",
        "  def __str__(self):\n",
        "    print('str')\n",
        "    return('2')"
      ],
      "metadata": {
        "id": "Zn_1WI3za5Hm"
      },
      "execution_count": null,
      "outputs": []
    },
    {
      "cell_type": "code",
      "source": [
        "b = B()"
      ],
      "metadata": {
        "colab": {
          "base_uri": "https://localhost:8080/"
        },
        "id": "42d6JOjPYfGs",
        "outputId": "9cc56a6d-a4ed-4ebe-c2d0-4197a8039a1e"
      },
      "execution_count": null,
      "outputs": [
        {
          "output_type": "stream",
          "name": "stdout",
          "text": [
            "init\n"
          ]
        }
      ]
    },
    {
      "cell_type": "code",
      "source": [
        "b"
      ],
      "metadata": {
        "colab": {
          "base_uri": "https://localhost:8080/"
        },
        "id": "qgD6yqLpbjkC",
        "outputId": "8d5ccc12-76cd-48ca-bcd0-f716803c9680"
      },
      "execution_count": null,
      "outputs": [
        {
          "output_type": "stream",
          "name": "stdout",
          "text": [
            "repr\n"
          ]
        },
        {
          "output_type": "execute_result",
          "data": {
            "text/plain": [
              "1"
            ]
          },
          "metadata": {},
          "execution_count": 107
        }
      ]
    },
    {
      "cell_type": "code",
      "source": [
        "print(b)"
      ],
      "metadata": {
        "colab": {
          "base_uri": "https://localhost:8080/"
        },
        "id": "d0MQVGzEbkMb",
        "outputId": "ab87e129-a522-465e-c9f7-f13f2f8e0b62"
      },
      "execution_count": null,
      "outputs": [
        {
          "output_type": "stream",
          "name": "stdout",
          "text": [
            "str\n",
            "2\n"
          ]
        }
      ]
    },
    {
      "cell_type": "markdown",
      "source": [
        "#정리\n",
        " 반드시 기억해야 함\n",
        "\n",
        " - type = __class __\n",
        " - dir = __dir __\n",
        " - vars = __dict __\n"
      ],
      "metadata": {
        "id": "vEskGujgb918"
      }
    },
    {
      "cell_type": "markdown",
      "source": [
        "## 다이아몬드 상속 구조(다중 상속 가능)"
      ],
      "metadata": {
        "id": "dXrLlO1wcfJ7"
      }
    },
    {
      "cell_type": "code",
      "source": [
        "class Base:\n",
        "  pass\n",
        "\n",
        "class A(Base):\n",
        "  a = 1\n",
        "\n",
        "class B (Base):\n",
        "  b = 1\n",
        "\n",
        "class C(A,B):\n",
        "  pass"
      ],
      "metadata": {
        "id": "2f6o0xOVblgS"
      },
      "execution_count": null,
      "outputs": []
    },
    {
      "cell_type": "code",
      "source": [
        "C.mro() #처리되는 순서를 나타내줌"
      ],
      "metadata": {
        "colab": {
          "base_uri": "https://localhost:8080/"
        },
        "id": "J5sJE4jrdOwT",
        "outputId": "f209bc8b-5960-45a9-ec89-6109c9ea1745"
      },
      "execution_count": null,
      "outputs": [
        {
          "output_type": "execute_result",
          "data": {
            "text/plain": [
              "[__main__.C, __main__.A, __main__.B, __main__.Base, object]"
            ]
          },
          "metadata": {},
          "execution_count": 111
        }
      ]
    },
    {
      "cell_type": "code",
      "source": [
        "class Base:\n",
        "  def __init__(self):\n",
        "    print('Base')\n",
        "\n",
        "class A(Base):\n",
        "  a = 1\n",
        "\n",
        "  def __init__(self):\n",
        "    print('A')\n",
        "\n",
        "class B (Base):\n",
        "  b = 1\n",
        "\n",
        "  def __init__(self):\n",
        "    print('B')\n",
        "\n",
        "class C(A,B):\n",
        "  def __init__(self):\n",
        "    A.__init__(self)\n",
        "    B.__init__(self)\n",
        "    Base.__init__(self)\n",
        "    print('C')\n"
      ],
      "metadata": {
        "id": "ttgp2yS_dRvS"
      },
      "execution_count": null,
      "outputs": []
    },
    {
      "cell_type": "markdown",
      "source": [
        "C의 __ init__에서 실행된 순서대로 print 찍힌다.  \n",
        "상속받을 때 부모의 __ init__가 실행되는 순서를 파악하기 위함이다"
      ],
      "metadata": {
        "id": "-1k2nSgxhs6b"
      }
    },
    {
      "cell_type": "code",
      "source": [
        "c = C()"
      ],
      "metadata": {
        "colab": {
          "base_uri": "https://localhost:8080/"
        },
        "id": "yH9el2Ogh4Iu",
        "outputId": "345f8939-2ed8-4b9c-957d-791bcb005096"
      },
      "execution_count": null,
      "outputs": [
        {
          "output_type": "stream",
          "name": "stdout",
          "text": [
            "A\n",
            "B\n",
            "Base\n",
            "C\n"
          ]
        }
      ]
    },
    {
      "cell_type": "markdown",
      "source": [
        "A와 B의 부모의 생성자를 실행하도록 코드를 추가한다."
      ],
      "metadata": {
        "id": "KsnFNb_niCFh"
      }
    },
    {
      "cell_type": "code",
      "source": [
        "class Base:\n",
        "  def __init__(self):\n",
        "    print('Base')\n",
        "\n",
        "class A(Base):\n",
        "  a = 1\n",
        "\n",
        "  def __init__(self):\n",
        "    print('A')\n",
        "    Base.__init__(self) #추가\n",
        "\n",
        "class B (Base):\n",
        "  b = 1\n",
        "\n",
        "  def __init__(self):\n",
        "    print('B')\n",
        "    Base.__init__(self) #추가\n",
        "\n",
        "class C(A,B):\n",
        "  def __init__(self):\n",
        "    A.__init__(self)\n",
        "    B.__init__(self)\n",
        "    Base.__init__(self)\n",
        "    print('C')"
      ],
      "metadata": {
        "id": "v3KAlkg8h9k5"
      },
      "execution_count": null,
      "outputs": []
    },
    {
      "cell_type": "code",
      "source": [
        "c = C()"
      ],
      "metadata": {
        "colab": {
          "base_uri": "https://localhost:8080/"
        },
        "id": "5ZK18JZjikK9",
        "outputId": "e0c3c3a3-5abd-4af2-d0f3-7be7c7e890ed"
      },
      "execution_count": null,
      "outputs": [
        {
          "output_type": "stream",
          "name": "stdout",
          "text": [
            "A\n",
            "Base\n",
            "B\n",
            "Base\n",
            "Base\n",
            "C\n"
          ]
        }
      ]
    },
    {
      "cell_type": "markdown",
      "source": [
        "C 생성자에서 Baㄴe생성자 호출을 생략한다"
      ],
      "metadata": {
        "id": "xcrDBla-kEC6"
      }
    },
    {
      "cell_type": "code",
      "source": [
        "class Base:\n",
        "  def __init__(self):\n",
        "    print('Base')\n",
        "\n",
        "class A(Base):\n",
        "  a = 1\n",
        "\n",
        "  def __init__(self):\n",
        "    Base.__init__(self) #순서변경\n",
        "    print('A')  #순서변경\n",
        "\n",
        "class B (Base):\n",
        "  b = 1\n",
        "\n",
        "  def __init__(self):\n",
        "    Base.__init__(self) #순서변경\n",
        "    print('B')  #순서변경\n",
        "\n",
        "\n",
        "class C(A,B):\n",
        "  def __init__(self):\n",
        "    A.__init__(self)\n",
        "    B.__init__(self)\n",
        "   # Base.__init__(self) 생략\n",
        "    print('C')"
      ],
      "metadata": {
        "id": "vvDqUMDXio3p"
      },
      "execution_count": null,
      "outputs": []
    },
    {
      "cell_type": "markdown",
      "source": [
        "생성자 내에서 print 함수의 위치에 따라서 출력이 달라진다"
      ],
      "metadata": {
        "id": "FodsP34wjatJ"
      }
    },
    {
      "cell_type": "code",
      "source": [
        "c = C() #여전히 Base가 두번 실행됨"
      ],
      "metadata": {
        "colab": {
          "base_uri": "https://localhost:8080/"
        },
        "id": "W4XafxPZjX4x",
        "outputId": "27c063b3-985b-4ec9-a79b-4c7ec6b28ad2"
      },
      "execution_count": null,
      "outputs": [
        {
          "output_type": "stream",
          "name": "stdout",
          "text": [
            "Base\n",
            "A\n",
            "Base\n",
            "B\n",
            "Base\n",
            "C\n"
          ]
        }
      ]
    },
    {
      "cell_type": "code",
      "source": [
        "class Base:\n",
        "  def __init__(self):\n",
        "    self.x = 'Base' # 추가된 부분\n",
        "    self.y = 'Base' # 추가된 부분\n",
        "    print('Base')\n",
        "\n",
        "class A(Base):\n",
        "  a = 1\n",
        "\n",
        "  def __init__(self):\n",
        "    Base.__init__(self)\n",
        "    self.x = 'Base'\n",
        "    print('A')\n",
        "\n",
        "class B (Base):\n",
        "  b = 1\n",
        "\n",
        "  def __init__(self):\n",
        "    Base.__init__(self)\n",
        "    self.y = 'Base' # 추가된 부분\n",
        "    print('B')\n",
        "\n",
        "\n",
        "class C(A,B):\n",
        "  def __init__(self):\n",
        "    A.__init__(self)\n",
        "    B.__init__(self)\n",
        "    print('C')"
      ],
      "metadata": {
        "id": "rLTBkWIxjZ9o"
      },
      "execution_count": null,
      "outputs": []
    },
    {
      "cell_type": "code",
      "source": [
        "c = C()"
      ],
      "metadata": {
        "colab": {
          "base_uri": "https://localhost:8080/"
        },
        "id": "r0qmTeo0kwNx",
        "outputId": "59246493-7aa8-4765-9b31-4db9194fe7c7"
      },
      "execution_count": null,
      "outputs": [
        {
          "output_type": "stream",
          "name": "stdout",
          "text": [
            "Base\n",
            "A\n",
            "Base\n",
            "B\n",
            "C\n"
          ]
        }
      ]
    },
    {
      "cell_type": "markdown",
      "source": [
        "Base의 생성자가 한번 더 실행되었기 때문에 A를 상속 받음"
      ],
      "metadata": {
        "id": "DNC0vBcelebg"
      }
    },
    {
      "cell_type": "code",
      "source": [
        "c.x"
      ],
      "metadata": {
        "colab": {
          "base_uri": "https://localhost:8080/",
          "height": 35
        },
        "id": "S5qpOQ_ekxjR",
        "outputId": "287ab6c8-4473-4b90-cb9c-79fafcaa6e24"
      },
      "execution_count": null,
      "outputs": [
        {
          "output_type": "execute_result",
          "data": {
            "text/plain": [
              "'Base'"
            ],
            "application/vnd.google.colaboratory.intrinsic+json": {
              "type": "string"
            }
          },
          "metadata": {},
          "execution_count": 123
        }
      ]
    },
    {
      "cell_type": "code",
      "source": [
        "c.y"
      ],
      "metadata": {
        "colab": {
          "base_uri": "https://localhost:8080/",
          "height": 35
        },
        "id": "fGxhArKqloIp",
        "outputId": "c17d5fc1-3b87-4481-e4fd-e7dea205ca35"
      },
      "execution_count": null,
      "outputs": [
        {
          "output_type": "execute_result",
          "data": {
            "text/plain": [
              "'Base'"
            ],
            "application/vnd.google.colaboratory.intrinsic+json": {
              "type": "string"
            }
          },
          "metadata": {},
          "execution_count": 124
        }
      ]
    },
    {
      "cell_type": "markdown",
      "source": [
        "super를 사용하면 다중상속문제를 해결할 수 있다"
      ],
      "metadata": {
        "id": "CbxK6XrtlpqK"
      }
    },
    {
      "cell_type": "code",
      "source": [
        "class Base:\n",
        "  def __init__(self):\n",
        "    self.x = 'Base' # 추가된 부분\n",
        "    self.y = 'Base' # 추가된 부분\n",
        "    print('Base')\n",
        "\n",
        "class A(Base):\n",
        "  a = 1\n",
        "\n",
        "  def __init__(self):\n",
        "    Base.__init__(self)\n",
        "    self.x = 'A'\n",
        "    print('A')\n",
        "\n",
        "class B (Base):\n",
        "  b = 1\n",
        "\n",
        "  def __init__(self):\n",
        "    Base.__init__(self)\n",
        "    self.y = 'B' # 추가된 부분\n",
        "    print('B')\n",
        "\n",
        "\n",
        "class C(A,B):\n",
        "  def __init__(self):\n",
        "   # A.__init__(self)\n",
        "   # B.__init__(self)\n",
        "    super(C, self).__init__() # super사용 : super는 부모를 의미한다\n",
        "    print('C')"
      ],
      "metadata": {
        "id": "-8my77N6loj5"
      },
      "execution_count": null,
      "outputs": []
    },
    {
      "cell_type": "code",
      "source": [
        "c = C()"
      ],
      "metadata": {
        "colab": {
          "base_uri": "https://localhost:8080/"
        },
        "id": "5F3RR9lul_fT",
        "outputId": "a2ed07a2-c32d-44bb-96ef-4b956aa2c2df"
      },
      "execution_count": null,
      "outputs": [
        {
          "output_type": "stream",
          "name": "stdout",
          "text": [
            "Base\n",
            "A\n",
            "C\n"
          ]
        }
      ]
    },
    {
      "cell_type": "markdown",
      "source": [
        "Base의 생성자는 한 번만 실행되었다. 그러나 A생성자만 실행되고, B생성자는 실행되지 않는다"
      ],
      "metadata": {
        "id": "TjQKbR_4mkxP"
      }
    },
    {
      "cell_type": "code",
      "source": [
        "c.x"
      ],
      "metadata": {
        "colab": {
          "base_uri": "https://localhost:8080/",
          "height": 35
        },
        "id": "SOPyRzo7mE_I",
        "outputId": "151b754f-55f0-4b31-b139-eb4dc5fb82fc"
      },
      "execution_count": null,
      "outputs": [
        {
          "output_type": "execute_result",
          "data": {
            "text/plain": [
              "'A'"
            ],
            "application/vnd.google.colaboratory.intrinsic+json": {
              "type": "string"
            }
          },
          "metadata": {},
          "execution_count": 134
        }
      ]
    },
    {
      "cell_type": "code",
      "source": [
        "class Base:\n",
        "  def __init__(self):\n",
        "    self.x = 'Base' # 추가된 부분\n",
        "    self.y = 'Base' # 추가된 부분\n",
        "    print('Base')\n",
        "\n",
        "class A(Base):\n",
        "  a = 1\n",
        "\n",
        "  def __init__(self):\n",
        "    Base.__init__(self)\n",
        "    self.x = 'A'\n",
        "    print('A')\n",
        "\n",
        "class B (Base):\n",
        "  b = 1\n",
        "\n",
        "  def __init__(self):\n",
        "    Base.__init__(self)\n",
        "    self.y = 'B' # 추가된 부분\n",
        "    print('B')\n",
        "\n",
        "\n",
        "class C(A,B):\n",
        "  def __init__(self):\n",
        "   # A.__init__(self)\n",
        "   # B.__init__(self)\n",
        "    super(C, self).__init__() # super사용 : super는 부모를 의미한다\n",
        "    super(C, self).__init__()\n",
        "    print('C')"
      ],
      "metadata": {
        "id": "shFDVTmqmwTJ"
      },
      "execution_count": null,
      "outputs": []
    },
    {
      "cell_type": "markdown",
      "source": [
        "A만 2번 실행되었고, Base도 2번 중복 실행되었다"
      ],
      "metadata": {
        "id": "Y4OSDkz8neva"
      }
    },
    {
      "cell_type": "code",
      "source": [
        "c = C()"
      ],
      "metadata": {
        "colab": {
          "base_uri": "https://localhost:8080/"
        },
        "id": "ybZaFek7nfkQ",
        "outputId": "9087842d-c5bc-4974-bd13-f6e780a769e0"
      },
      "execution_count": null,
      "outputs": [
        {
          "output_type": "stream",
          "name": "stdout",
          "text": [
            "Base\n",
            "A\n",
            "Base\n",
            "A\n",
            "C\n"
          ]
        }
      ]
    },
    {
      "cell_type": "code",
      "source": [
        "class Base:\n",
        "  def __init__(self):\n",
        "    self.x = 'Base' # 추가된 부분\n",
        "    self.y = 'Base' # 추가된 부분\n",
        "    print('Base')\n",
        "\n",
        "class A(Base):\n",
        "  a = 1\n",
        "\n",
        "  def __init__(self):\n",
        "    # Base.__init__(self)\n",
        "    super().__init__() #super로 변경\n",
        "    self.x = 'A'\n",
        "    print('A')\n",
        "\n",
        "class B (Base):\n",
        "  b = 1\n",
        "\n",
        "  def __init__(self):\n",
        "    # Base.__init__(self)\n",
        "    super().__init__() #super로 변경\n",
        "    self.y = 'B' # 추가된 부분\n",
        "    print('B')\n",
        "\n",
        "\n",
        "class C(A,B):\n",
        "  def __init__(self):\n",
        "   # super(C, self).__init__() # super사용 : super는 부모를 의미한다\n",
        "   # super(C, self).__init__() #ptyhon2 방식\n",
        "    super().__init__()  #python3 방식, 생략 가능\n",
        "    print('C')"
      ],
      "metadata": {
        "id": "gxfvomnanhi4"
      },
      "execution_count": null,
      "outputs": []
    },
    {
      "cell_type": "markdown",
      "source": [
        "A를 먼저 상속받았지만 B생성자가 먼저 출력된다.\n",
        "stack 방식으로 되기 때문에 순서가 거꾸로 이다."
      ],
      "metadata": {
        "id": "RG25WAQhp6ui"
      }
    },
    {
      "cell_type": "code",
      "source": [
        "c = C()"
      ],
      "metadata": {
        "colab": {
          "base_uri": "https://localhost:8080/"
        },
        "id": "zbRLGuNXoWZq",
        "outputId": "28153b20-d1ff-4a17-c62d-2ca727071840"
      },
      "execution_count": null,
      "outputs": [
        {
          "output_type": "stream",
          "name": "stdout",
          "text": [
            "Base\n",
            "B\n",
            "A\n",
            "C\n"
          ]
        }
      ]
    },
    {
      "cell_type": "code",
      "source": [
        "c.x"
      ],
      "metadata": {
        "colab": {
          "base_uri": "https://localhost:8080/",
          "height": 35
        },
        "id": "0MtjKxSKoXuo",
        "outputId": "eb3096f8-1449-4075-b885-a93d5db99cfa"
      },
      "execution_count": null,
      "outputs": [
        {
          "output_type": "execute_result",
          "data": {
            "text/plain": [
              "'A'"
            ],
            "application/vnd.google.colaboratory.intrinsic+json": {
              "type": "string"
            }
          },
          "metadata": {},
          "execution_count": 140
        }
      ]
    },
    {
      "cell_type": "code",
      "source": [
        "C.mro()"
      ],
      "metadata": {
        "colab": {
          "base_uri": "https://localhost:8080/"
        },
        "id": "axHviQ-toZFY",
        "outputId": "f7176c07-3def-4041-e741-0694fa116d1b"
      },
      "execution_count": null,
      "outputs": [
        {
          "output_type": "execute_result",
          "data": {
            "text/plain": [
              "[__main__.C, __main__.A, __main__.B, __main__.Base, object]"
            ]
          },
          "metadata": {},
          "execution_count": 142
        }
      ]
    },
    {
      "cell_type": "code",
      "source": [
        "class Base:\n",
        "  def __init__(self):\n",
        "    self.x = 'Base' # 추가된 부분\n",
        "    self.y = 'Base' # 추가된 부분\n",
        "    print('Base')\n",
        "\n",
        "class A(Base):\n",
        "  a = 1\n",
        "\n",
        "  def __init__(self):\n",
        "    print('A')\n",
        "    super().__init__() #super로 변경\n",
        "    self.x = 'A'\n",
        "\n",
        "\n",
        "class B (Base):\n",
        "  b = 1\n",
        "\n",
        "  def __init__(self):\n",
        "    print('B')\n",
        "    super().__init__() #super로 변경\n",
        "    self.y = 'B' # 추가된 부분\n",
        "\n",
        "\n",
        "\n",
        "class C(A,B):\n",
        "  def __init__(self):\n",
        "    print('C')\n",
        "    super().__init__()  #python3 방식, 생략 가능\n",
        "    print('C-1')\n"
      ],
      "metadata": {
        "id": "8eR4z4cWqLew"
      },
      "execution_count": null,
      "outputs": []
    },
    {
      "cell_type": "code",
      "source": [
        "c = C()"
      ],
      "metadata": {
        "colab": {
          "base_uri": "https://localhost:8080/"
        },
        "id": "IIdpZXsvrhBz",
        "outputId": "d5ef0cea-133a-4969-f8e2-6a322d7aea54"
      },
      "execution_count": null,
      "outputs": [
        {
          "output_type": "stream",
          "name": "stdout",
          "text": [
            "C\n",
            "A\n",
            "B\n",
            "Base\n"
          ]
        }
      ]
    },
    {
      "cell_type": "code",
      "source": [
        "# 위는 참고, 얘를 이용해서 코드를 짜야함!!\n",
        "\n",
        "class Base:\n",
        "  def __init__(self):\n",
        "    self.x = 'Base' # 추가된 부분\n",
        "    self.y = 'Base' # 추가된 부분\n",
        "    print('Base')\n",
        "\n",
        "class A(Base):\n",
        "  a = 1\n",
        "\n",
        "  def __init__(self):\n",
        "    print('A')\n",
        "    super().__init__() #super로 변경\n",
        "    self.x = 'A'\n",
        "    print('A-1')\n",
        "\n",
        "\n",
        "class B (Base):\n",
        "  b = 1\n",
        "\n",
        "  def __init__(self):\n",
        "    print('B')\n",
        "    super().__init__() #super로 변경\n",
        "    self.y = 'B' # 추가된 부분\n",
        "    print('B-1')\n",
        "\n",
        "\n",
        "\n",
        "class C(A,B):\n",
        "  def __init__(self):\n",
        "    print('C')\n",
        "    super().__init__()  #python3 방식, 생략 가능\n",
        "    print('C-1')"
      ],
      "metadata": {
        "id": "oQzRccLmrh64"
      },
      "execution_count": null,
      "outputs": []
    },
    {
      "cell_type": "code",
      "source": [
        "c = C()"
      ],
      "metadata": {
        "colab": {
          "base_uri": "https://localhost:8080/"
        },
        "id": "TeAVnP93r5W3",
        "outputId": "79d14949-ff86-4431-b64f-73f1ba789d3d"
      },
      "execution_count": null,
      "outputs": [
        {
          "output_type": "stream",
          "name": "stdout",
          "text": [
            "C\n",
            "A\n",
            "B\n",
            "Base\n",
            "B-1\n",
            "A-1\n",
            "C-1\n"
          ]
        }
      ]
    },
    {
      "cell_type": "code",
      "source": [],
      "metadata": {
        "id": "_9sbYn-Hvnph"
      },
      "execution_count": null,
      "outputs": []
    },
    {
      "cell_type": "code",
      "source": [],
      "metadata": {
        "id": "CCQkenjfvnuy"
      },
      "execution_count": null,
      "outputs": []
    }
  ]
}