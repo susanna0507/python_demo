{
  "nbformat": 4,
  "nbformat_minor": 0,
  "metadata": {
    "colab": {
      "provenance": [],
      "authorship_tag": "ABX9TyPvU2kZjjIj21fVoqjJfVtx",
      "include_colab_link": true
    },
    "kernelspec": {
      "name": "python3",
      "display_name": "Python 3"
    },
    "language_info": {
      "name": "python"
    }
  },
  "cells": [
    {
      "cell_type": "markdown",
      "metadata": {
        "id": "view-in-github",
        "colab_type": "text"
      },
      "source": [
        "<a href=\"https://colab.research.google.com/github/susanna0507/python_demo/blob/master/105_python_%EA%B0%9D%EC%B2%B4%EC%A7%80%ED%96%A5_%ED%92%80%EC%9D%B4.ipynb\" target=\"_parent\"><img src=\"https://colab.research.google.com/assets/colab-badge.svg\" alt=\"Open In Colab\"/></a>"
      ]
    },
    {
      "cell_type": "markdown",
      "source": [
        "문제1]"
      ],
      "metadata": {
        "id": "MgAm1OMerOyz"
      }
    },
    {
      "cell_type": "code",
      "execution_count": null,
      "metadata": {
        "colab": {
          "base_uri": "https://localhost:8080/"
        },
        "id": "RhDKOatprIwB",
        "outputId": "aad8a13e-a120-4e19-a56e-8a6652e0e472"
      },
      "outputs": [
        {
          "output_type": "stream",
          "name": "stdout",
          "text": [
            "합계:767.00\n",
            "평균:38\n"
          ]
        }
      ],
      "source": [
        "class ListTest:\n",
        "  def process(self):\n",
        "    data = [[12, 41, 36, 56, 21], [82, 10, 12, 61, 45], [14, 16, 18, 78, 65], [45, 26, 72, 23, 34]]\n",
        "\n",
        "    total = 0  # 값 누적\n",
        "    cnt = 0  #  갯수 누적\n",
        "    for element in data:\n",
        "      for i in element:\n",
        "        total += i\n",
        "        cnt = cnt +1\n",
        "\n",
        "    print('합계:{0:0.2f}'.format(total))\n",
        "    print('평균:{}'.format(total//cnt))\n",
        "\n",
        "if __name__ == '__main__': # public static void main(String[] args)[]\n",
        "  a = ListTest()\n",
        "  a.process()"
      ]
    },
    {
      "cell_type": "markdown",
      "source": [
        "문제2]"
      ],
      "metadata": {
        "id": "cpus8UIMue_6"
      }
    },
    {
      "cell_type": "code",
      "source": [
        "class StringTest:\n",
        "  def process(self):\n",
        "    data = '1.22,4.12,5.93,8.71,9.34'\n",
        "\n",
        "    total = 0\n",
        "    line = data.split(',')\n",
        "   #  print(line)\n",
        "   #  print(len(line))\n",
        "    for i in line:\n",
        "      total+=float(i)\n",
        "\n",
        "    print('합계:{0:0.1f}'.format(total))\n",
        "    print('평균:{0:0.1f}'.format(total//len(line)))\n",
        "\n",
        "if __name__=='__main__':\n",
        "  a = StringTest()\n",
        "  a.process()"
      ],
      "metadata": {
        "colab": {
          "base_uri": "https://localhost:8080/"
        },
        "id": "-Eife2qGsrIn",
        "outputId": "5988575b-f50b-4fec-f636-33b19c6b4170"
      },
      "execution_count": null,
      "outputs": [
        {
          "output_type": "stream",
          "name": "stdout",
          "text": [
            "합계:29.3\n",
            "평균:5.0\n"
          ]
        }
      ]
    },
    {
      "cell_type": "markdown",
      "source": [
        "문제3]"
      ],
      "metadata": {
        "id": "NFLsIgnbw5SC"
      }
    },
    {
      "cell_type": "code",
      "source": [
        "import datetime\n",
        "print(dir(datetime))\n",
        "print(dir(datetime.date))\n",
        "print(dir(datetime.time))"
      ],
      "metadata": {
        "colab": {
          "base_uri": "https://localhost:8080/"
        },
        "id": "sRceB3obu5fC",
        "outputId": "2e5ba8a6-8d6d-41d4-eb92-2007efea495b"
      },
      "execution_count": null,
      "outputs": [
        {
          "output_type": "stream",
          "name": "stdout",
          "text": [
            "['MAXYEAR', 'MINYEAR', '__all__', '__builtins__', '__cached__', '__doc__', '__file__', '__loader__', '__name__', '__package__', '__spec__', 'date', 'datetime', 'datetime_CAPI', 'sys', 'time', 'timedelta', 'timezone', 'tzinfo']\n",
            "['__add__', '__class__', '__delattr__', '__dir__', '__doc__', '__eq__', '__format__', '__ge__', '__getattribute__', '__gt__', '__hash__', '__init__', '__init_subclass__', '__le__', '__lt__', '__ne__', '__new__', '__radd__', '__reduce__', '__reduce_ex__', '__repr__', '__rsub__', '__setattr__', '__sizeof__', '__str__', '__sub__', '__subclasshook__', 'ctime', 'day', 'fromisocalendar', 'fromisoformat', 'fromordinal', 'fromtimestamp', 'isocalendar', 'isoformat', 'isoweekday', 'max', 'min', 'month', 'replace', 'resolution', 'strftime', 'timetuple', 'today', 'toordinal', 'weekday', 'year']\n",
            "['__class__', '__delattr__', '__dir__', '__doc__', '__eq__', '__format__', '__ge__', '__getattribute__', '__gt__', '__hash__', '__init__', '__init_subclass__', '__le__', '__lt__', '__ne__', '__new__', '__reduce__', '__reduce_ex__', '__repr__', '__setattr__', '__sizeof__', '__str__', '__subclasshook__', 'dst', 'fold', 'fromisoformat', 'hour', 'isoformat', 'max', 'microsecond', 'min', 'minute', 'replace', 'resolution', 'second', 'strftime', 'tzinfo', 'tzname', 'utcoffset']\n"
          ]
        }
      ]
    },
    {
      "cell_type": "code",
      "source": [
        "from datetime import date\n",
        "\n",
        "class DateTest:\n",
        "  def process(self):\n",
        "\n",
        "    # 기본 시스템은 1월은 0으로 세팅되어 있다.\n",
        "    # python에서는 우리가 사용하는 월 그대로 넣어주면 된다\n",
        "    tm = date(2023, 11, 20)\n",
        "    print(tm)\n",
        "\n",
        "    tyear = tm.year\n",
        "    tmonth = tm.month\n",
        "    tday = tm.day\n",
        "    #python에서는 월요일 => 0으로 리턴한다\n",
        "    tweekday = tm.weekday()\n",
        "    print(tyear, tmonth, tday, tweekday)\n",
        "    dow = None\n",
        "    if tweekday == 0:\n",
        "      dow = '월'\n",
        "    elif tweekday == 1:\n",
        "      dow = '화'\n",
        "    elif tweekday == 2:\n",
        "      dow = '수'\n",
        "    elif tweekday == 3:\n",
        "      dow = '목'\n",
        "    elif tweekday == 4:\n",
        "      dow = '금'\n",
        "    elif tweekday == 5:\n",
        "      dow = '토'\n",
        "    elif tweekday == 6:\n",
        "      dow = '일'\n",
        "\n",
        "    print('오늘 날짜: {}-{}-{} {}요일 입니다.'.format(tyear, tmonth, tday, dow))\n",
        "if __name__ == '__main__':\n",
        "  a = DateTest()\n",
        "  a.process()\n",
        "\n"
      ],
      "metadata": {
        "colab": {
          "base_uri": "https://localhost:8080/"
        },
        "id": "zEzS2hTaxG7E",
        "outputId": "41c5551a-73f7-46d9-c334-9ac1a0e5fb45"
      },
      "execution_count": null,
      "outputs": [
        {
          "output_type": "stream",
          "name": "stdout",
          "text": [
            "2023-11-20\n",
            "2023 11 20 0\n",
            "오늘 날짜: 2023-11-20 월요일 입니다.\n"
          ]
        }
      ]
    },
    {
      "cell_type": "markdown",
      "source": [
        "문제4]\n",
        "```\n",
        "상품명 : 갤럭시 s7\n",
        "상품가격 : 563500\n",
        "삼품수량 : 3\n",
        "상품명 : 갤럭시 s7\n",
        "가격: 563500원\n",
        "수량 : 3개\n",
        "총 구매 가격 : 1690500원\n",
        "```"
      ],
      "metadata": {
        "id": "follD1iS5T4x"
      }
    },
    {
      "cell_type": "code",
      "source": [
        "class Product:  #class Product(object):\n",
        "    def __init__(self,name,price,quantity):\n",
        "      self.__name =name\n",
        "      self.__price=price\n",
        "      self.__quantity=quantity\n",
        "\n",
        "    def getName(self):\n",
        "      return self.__name\n",
        "\n",
        "    def setName(self, name):\n",
        "      self.__name=name\n",
        "\n",
        "    def getPrice(self):\n",
        "      return self.__price\n",
        "\n",
        "    def setPrice(self, price):\n",
        "      self.__price=price\n",
        "\n",
        "    def getQuantity(self):\n",
        "      return self.__quantity\n",
        "\n",
        "    def setQuantity(self,quantity):\n",
        "      self.__quantity=quantity\n",
        "\n",
        "    def information(self):\n",
        "      return '상품명:{}\\n상품가격:{:,}원\\n상품수량:{:,}개\\n'.format(self.__name, self.__price, self.__quantity)\n",
        "\n",
        "class ProductTest:\n",
        "    def process(self):\n",
        "      name = input('상품명:')\n",
        "      price = int(input('상품가격:'))\n",
        "      quantity = int(input('상품수량:'))\n",
        "\n",
        "      pd = Product(name, price, quantity)\n",
        "      print(pd.information())\n",
        "      print('총 구매가격:{:,}원'.format(pd.getPrice()*pd.getQuantity()))\n",
        "\n",
        "\n",
        "if __name__=='__main__':\n",
        "  pt=ProductTest()\n",
        "  pt.process()\n"
      ],
      "metadata": {
        "colab": {
          "base_uri": "https://localhost:8080/"
        },
        "id": "WVj6GBc1xwGd",
        "outputId": "8a58b9ca-0d1e-4a61-faba-2ceae27c9fc9"
      },
      "execution_count": null,
      "outputs": [
        {
          "output_type": "stream",
          "name": "stdout",
          "text": [
            "상품명:갤\n",
            "상품가격:50000\n",
            "상품수량:5\n",
            "상품명:갤\n",
            "상품가격:50,000원\n",
            "상품수량:5개\n",
            "\n",
            "총 구매가격:250,000원\n"
          ]
        }
      ]
    },
    {
      "cell_type": "markdown",
      "source": [
        "문제5]\n",
        "```\n",
        "파이썬의 정석,남군은,30000,도우출판,10.0%할인\n",
        "할인된 가격:27000\n",
        "열혈강의 파이썬,구정아,29000,프리렉,10.0%할인\n",
        "할인된 가격:26100\n",
        "데이터분석의 파이썬,금영욱,30000,북스홈,10.0%할인\n",
        "할인된 가격:27000\n",
        "```"
      ],
      "metadata": {
        "id": "YnGhV9beBaDv"
      }
    },
    {
      "cell_type": "code",
      "source": [
        "class Book:\n",
        "  def __init__(self, title, author, price, pulisher, discountRate):\n",
        "    self.__title = title\n",
        "    self.__author = author\n",
        "    self.__price = price\n",
        "    self.__pulisher = pulisher\n",
        "    self.__discountRate = discountRate\n",
        "\n",
        "  def getTitle(self):\n",
        "    return self.__title\n",
        "\n",
        "  def getAuthor(self):\n",
        "    return self.__author\n",
        "\n",
        "  def getPrice(self):\n",
        "    return self.__price\n",
        "\n",
        "  def getPulisher(self):\n",
        "    return self.__pulisher\n",
        "\n",
        "  def getDiscountRate(self):\n",
        "    return self.__discountRate\n",
        "\n",
        "class BookListTest:\n",
        "\n",
        "  def __init__(self):\n",
        "    pass\n",
        "\n",
        "  def process(self):\n",
        "\n",
        "    bList = []\n",
        "    bList.append(Book('파이썬의 정석','남군은',30000,'도우출판',0.1))\n",
        "    bList.append(Book('열혈강의 파이썬','구정아',29000,'프리렉',0.1))\n",
        "    bList.append(Book('데이터 분석의 파이썬','금영욱',30000,'북스홈',0.1))\n",
        "\n",
        "    print(bList)\n",
        "\n",
        "    for line in bList:\n",
        "      print('{},{},{},{}'.format(line.getTitle(), line.getAuthor(), line.getPrice(), line.getPulisher()))\n",
        "      print('할인된 가격:{}'.format(int(line.getPrice()*(1-line.getDiscountRate()))))\n",
        "\n",
        "if __name__=='__main__':\n",
        "  bt = BookListTest()\n",
        "  bt.process()\n",
        "\n",
        "\n"
      ],
      "metadata": {
        "id": "kTknPA8z_DFH",
        "colab": {
          "base_uri": "https://localhost:8080/"
        },
        "outputId": "0254f249-73b9-4111-ea46-ea1b7aa747b3"
      },
      "execution_count": null,
      "outputs": [
        {
          "output_type": "stream",
          "name": "stdout",
          "text": [
            "[<__main__.Book object at 0x7b11b5386740>, <__main__.Book object at 0x7b11b5387b80>, <__main__.Book object at 0x7b11b5386b30>]\n",
            "파이썬의 정석,남군은,30000,도우출판\n",
            "할인된 가격:27000\n",
            "열혈강의 파이썬,구정아,29000,프리렉\n",
            "할인된 가격:26100\n",
            "데이터 분석의 파이썬,금영욱,30000,북스홈\n",
            "할인된 가격:27000\n"
          ]
        }
      ]
    },
    {
      "cell_type": "markdown",
      "source": [
        "```\n",
        "-(private) +(public)\n",
        "\n",
        "-name:str -dept:str -pay:int -score:float\n",
        "\n",
        "Employee(name=None:str,dept=None:str, pay=None:int, Score=None:float)\n",
        "+getName():str\n",
        "+setName(name:str):None\n",
        "+getDept():str\n",
        "+setDept(dept:str):None\n",
        "+getPay():int\n",
        "+setPay(pay:int):None\n",
        "+getScore():float\n",
        "+setScore(score:float):None\n",
        "```"
      ],
      "metadata": {
        "id": "2x45U4pf8p6s"
      }
    },
    {
      "cell_type": "markdown",
      "source": [
        "```\n",
        "유대위\n",
        "유대위,None,None,None\n",
        "진달래\n",
        "진달래,사업부,120000,75.34\n",
        "```"
      ],
      "metadata": {
        "id": "8WkIOpsd_hEs"
      }
    },
    {
      "cell_type": "code",
      "source": [
        "class Employee:\n",
        "  # 다양한 방법으로 생성자를 호출하고 있으면 매개변수(parameter)에 default value을 할당한다\n",
        "    def __init__(self, name= None, dept=None, pay = None, score=None):\n",
        "      self.__name = name\n",
        "      self.__dept = dept\n",
        "      self.__pay = pay\n",
        "      self.__score = score\n",
        "\n",
        "    def gatName(self):\n",
        "      return self.__name\n",
        "    def setName(self, name):\n",
        "      self.__name = name\n",
        "\n",
        "    def getDept(self):\n",
        "      return self.__dept\n",
        "    def setDept(self, dept):\n",
        "      self.__dept=dept\n",
        "\n",
        "    def getPay(self):\n",
        "      return self.__pay\n",
        "    def setPay(self, pay):\n",
        "      self.__pay=pay\n",
        "\n",
        "    def getScore(self):\n",
        "      return self.__score\n",
        "    def setScore(self, score):\n",
        "      self.__score=score\n",
        "\n",
        "    def toString(self):\n",
        "      return '{},{},{},{}'.format(self.__name, self.__dept, self.__pay, self.__score)\n",
        "\n",
        "class EmpTest:\n",
        "\n",
        "  def process(self):\n",
        "    em= Employee()\n",
        "    em.setName('유대위')\n",
        "    print(em.toString())\n",
        "\n",
        "    ee = Employee('진달래', '사업부', 120000, 75.34)\n",
        "    print(ee.toString())\n",
        "\n",
        "if __name__ == '__main__':\n",
        "  ep = EmpTest()\n",
        "  ep.process()\n",
        "\n"
      ],
      "metadata": {
        "colab": {
          "base_uri": "https://localhost:8080/"
        },
        "id": "vxVhDCRfyGgs",
        "outputId": "9eb99904-403e-440d-bae4-0f6906c74037"
      },
      "execution_count": null,
      "outputs": [
        {
          "output_type": "stream",
          "name": "stdout",
          "text": [
            "유대위,None,None,None\n",
            "진달래,사업부,120000,75.34\n"
          ]
        }
      ]
    },
    {
      "cell_type": "markdown",
      "source": [
        "```\n",
        "클래스명 : Sales\n",
        "-item:str\n",
        "-qty:int\n",
        "-cost:int\n",
        "\n",
        "Sales(self, item=None:str, qty=None:int, cost=None:int)\n",
        "+setItem(item str):None\n",
        "+setQty(qty int):void\n",
        "+setCost(cost int):None\n",
        "+getItem():str\n",
        "+getQty():int\n",
        "+getCost():int\n",
        "+toString():str => 출력\n",
        "+getPrice():int => 수량 * 단가\n",
        "\n",
        "예시)\n",
        "품목 : apple 수량 : 5 단가 : 1200원 금액 : 6000원\n",
        "\n",
        "apple 1200원 짜리 5개 구입하면 6000원이 필요함\n",
        "```"
      ],
      "metadata": {
        "id": "DZPBteE4EmN7"
      }
    },
    {
      "cell_type": "code",
      "source": [
        "class Sales:\n",
        "\n",
        "  def __init__(self, item=None, qty=None, cost=None):\n",
        "    self.__item = item\n",
        "    self.__qty = qty\n",
        "    self.__cost = cost\n",
        "\n",
        "  def getItem(self):\n",
        "    return self.__item\n",
        "  def setItem(self, item):\n",
        "    self.__item = item\n",
        "\n",
        "  def getQty(self):\n",
        "    return self.__qty\n",
        "  def setQty(self, qty):\n",
        "    self.__qty = qty\n",
        "\n",
        "  def getCost(self):\n",
        "    return self.__cost\n",
        "  def setCost(self, cost):\n",
        "    self.__cost = cost\n",
        "\n",
        "  def getPrice(self):\n",
        "    return self.__qty*self.__cost  #qty*cost\n",
        "\n",
        "  def toString(self):\n",
        "    return '{} {}원 짜리 {}개 구입하면 {}원이 필요함'.format(self.__item, self.__cost, self.__qty, self.getPrice())\n",
        "\n",
        "\n",
        "if __name__ =='__main__':\n",
        "    ss = Sales();\n",
        "    ss.setItem(\"apple\");\n",
        "    ss.setQty(5);\n",
        "    ss.setCost(1200);\n",
        "    print(ss.toString())\n",
        "\n"
      ],
      "metadata": {
        "colab": {
          "base_uri": "https://localhost:8080/"
        },
        "id": "SVNtxvOM__LM",
        "outputId": "f8ca9a22-5d2a-4c6c-876a-1b728ea6b8f9"
      },
      "execution_count": null,
      "outputs": [
        {
          "output_type": "stream",
          "name": "stdout",
          "text": [
            "apple 1200원 짜리 5개 구입하면 6000원이 필요함\n"
          ]
        }
      ]
    },
    {
      "cell_type": "code",
      "source": [
        "class Sales:\n",
        "\n",
        "  def __init__(self, item=None, qty=None, cost=None):\n",
        "    print('parent')\n",
        "    self.__item = item\n",
        "    self.__qty = qty\n",
        "    self.__cost = cost\n",
        "\n",
        "  def getItem(self):\n",
        "    return self.__item\n",
        "  def setItem(self, item):\n",
        "    self.__item = item\n",
        "\n",
        "  def getQty(self):\n",
        "    return self.__qty\n",
        "  def setQty(self, qty):\n",
        "    self.__qty = qty\n",
        "\n",
        "  def getCost(self):\n",
        "    return self.__cost\n",
        "  def setCost(self, cost):\n",
        "    self.__cost = cost\n",
        "\n",
        "\n",
        "\n",
        "  def toString(self):\n",
        "    return '{} {}원 짜리 {}개'.format(self.__item, self.__cost, self.__qty)\n",
        "\n",
        "class SubSales(Sales):\n",
        "  def __init__(self,  item=None, qty=None, cost=None):\n",
        "    print('child')\n",
        "    super().__init__(item, qty, cost)\n",
        "\n",
        "\n",
        "  def getPrice(self):\n",
        "    return self.getQty()*self.getCost()  #qty*cost\n",
        "\n",
        "#overridng : 메소드 선언부는 그대로 사용하고 구현부만 수정한다\n",
        "  def toString(self):\n",
        "    return '{} {}원 짜리 {}개 {}원'.format(self.getItem(), self.getCost(), self.getQty(), self.getPrice())\n",
        "\n",
        "if __name__ =='__main__':\n",
        "    # ss = SubSales();\n",
        "    # ss.setItem(\"apple\");\n",
        "    # ss.setQty(5);\n",
        "    # ss.setCost(1200);\n",
        "    # print(ss.toString())\n",
        "\n",
        "    se = SubSales('Apple', 5, 1200)\n",
        "    print(se.toString)\n",
        "\n"
      ],
      "metadata": {
        "id": "xNpEtRfVYA8e",
        "colab": {
          "base_uri": "https://localhost:8080/"
        },
        "outputId": "913d2d05-953c-4ec7-a370-c11c133006b0"
      },
      "execution_count": null,
      "outputs": [
        {
          "output_type": "stream",
          "name": "stdout",
          "text": [
            "child\n",
            "parent\n",
            "<bound method SubSales.toString of <__main__.SubSales object at 0x7b11b53bd720>>\n"
          ]
        }
      ]
    },
    {
      "cell_type": "code",
      "source": [
        "class Human:\n",
        "  def __init__(self, name, age, height, weight):\n",
        "    self.name = name\n",
        "    self.age = age\n",
        "    self.height = height\n",
        "    self.weight = weight\n",
        "\n",
        "  def toString(self):\n",
        "\t  return '{:8}{:5}{:8}{:8}'.format(self.name, self.age, self.height, self.weight)\n",
        "\n",
        "\n",
        "\n",
        "class StudentExam(Human):\n",
        "  def __init__(self, name, age, height, weight, hak):\n",
        "    super().__init__(name, age, height, weight)  #상위 클래스에서 가져옴\n",
        "    self.hak=hak\n",
        "\n",
        "\n",
        "\n",
        "  #overriding\n",
        "  def toString(self):\n",
        "    return '{:8}{:>5}{:>8}{:>8}{:>10}'.format(self.name, self.age, self.height, self.weight, self.hak)\n",
        "\n",
        "if __name__ == '__main__':\n",
        "  se=[];\n",
        "  se.append(StudentExam(\"홍길동\",15, 171, 81, \"201101\"))\n",
        "  se.append(StudentExam(\"정길동\",13, 183, 72, \"201102\"))\n",
        "  se.append(StudentExam(\"박길동\",16, 175, 65, \"201103\"))\n",
        "\n",
        "  print('{:8}{:>5}{:>5}{:>8}{:>4}'.format('이름','나이','신장','몸무게','학번'))\n",
        "\n",
        "  for data in se :\n",
        "    print(data.toString())"
      ],
      "metadata": {
        "colab": {
          "base_uri": "https://localhost:8080/"
        },
        "id": "JniRxe7PgXeT",
        "outputId": "74b31e13-f440-421c-9427-79ca79cc21c8"
      },
      "execution_count": null,
      "outputs": [
        {
          "output_type": "stream",
          "name": "stdout",
          "text": [
            "이름         나이   신장     몸무게  학번\n",
            "홍길동        15     171      81    201101\n",
            "정길동        13     183      72    201102\n",
            "박길동        16     175      65    201103\n"
          ]
        }
      ]
    },
    {
      "cell_type": "markdown",
      "source": [
        "```\n",
        " 문제)\n",
        " 사람의 신장(H)와 몸무게(W)를 입력받아 비만도(B)를 계산하는 프로그램작성\n",
        " 표준체중:SW=(H-100)*0.9\n",
        " 비만도: B(%)=(W-SW)/SW*100\n",
        "\n",
        " HealthRate 클래스에 아래 사항을 추가합니다.\n",
        " 1 표준체중 계산하는 메소드를 정의한다. standardHealth(self)\n",
        " 2 비만도를 계산하는 메소드를 정의한다.  rateCheck(self)\n",
        " 비만도가 10% 이내이면 정상, 10%이상 20%이면 과체중, 20% 이상은 비만\n",
        "\n",
        "\n",
        " 3 출력결과\n",
        " 홍길동님의 신장 168 , 몸무게 45  정상입니다.\n",
        " 박둘이님의 신장 168 , 몸무게 90  비만입니다.\n",
        "```"
      ],
      "metadata": {
        "id": "bGKCeLrBp8gc"
      }
    },
    {
      "cell_type": "code",
      "source": [
        "class Health:\n",
        "\n",
        "  def __init__(self, name, height, weight):\n",
        "    self.name = name\n",
        "    self.height = height\n",
        "    self.weight = weight\n",
        "\n",
        "  def display(self):\n",
        "    print('{}님의 키 {} , 몸무게 {}입니다.'.format(self.name, self.height, self.weight));\n",
        "\n",
        "\n",
        "\n",
        "class HealthRate(Health):\n",
        "  def __init__(self, name, height, weight):\n",
        "    super().__init__(name, height, weight)\n",
        "\n",
        "  # 표준체중 로직 구현\n",
        "  def standardHealth(self):\n",
        "    return (self.height-100)*0.9\n",
        "\n",
        "  # 비만도를 로직구현\n",
        "  def rateCheck(self):\n",
        "    res = (self.weight-self.standardHealth())/self.standardHealth()*100\n",
        "    if res<10:\n",
        "      return '정상'\n",
        "    elif res>=10 and res<20:\n",
        "      return '과체중'\n",
        "    else:\n",
        "      return '비만'\n",
        "\n",
        "      # 오버라이딩\n",
        "  def display(self):\n",
        "    print('{}님의 키 {:.0f} , 몸무게 {:.0f} {}입니다.'.format(self.name, self.height, self.weight, self.rateCheck()));\n",
        "\n",
        "\n",
        "if __name__ == '__main__':\n",
        "  hr1 = HealthRate(\"홍길동\",168,45)\n",
        "  hr1.display()\n",
        "  # print(vars(hr1))  확인 가능\n",
        "\n",
        "  hr2 = HealthRate(\"박돌이\",168,90)\n",
        "  hr2.display()\n",
        "\n"
      ],
      "metadata": {
        "colab": {
          "base_uri": "https://localhost:8080/"
        },
        "id": "-sjB2WRwo1Xu",
        "outputId": "9da877a9-2ab6-4050-98df-182d54fcaf7c"
      },
      "execution_count": null,
      "outputs": [
        {
          "output_type": "stream",
          "name": "stdout",
          "text": [
            "홍길동님의 키 168 , 몸무게 45 정상입니다.\n",
            "{'name': '홍길동', 'height': 168, 'weight': 45}\n",
            "박돌이님의 키 168 , 몸무게 90 비만입니다.\n"
          ]
        }
      ]
    },
    {
      "cell_type": "markdown",
      "source": [
        "```\n",
        "class Test:\n",
        "\n",
        "  def__init__(self,name,age): #(매개변수): 해당이 되는 메소드에서만 사용 가능\n",
        "    b=name\n",
        "    c=age\n",
        "\n",
        "  def display(self):\n",
        "    total = 3 # 지역변수 local variable #해당이 되는 메소드에서만 사용 가능\n",
        "    print(b,c)\n",
        "    return total # 리턴을 하게 되면 다른 메소드에서도 사용 가능\n",
        "\n",
        "  def process(self):\n",
        "    res = self.display()\n",
        "\n",
        "```"
      ],
      "metadata": {
        "id": "5fmw172o610o"
      }
    },
    {
      "cell_type": "markdown",
      "source": [
        "```\n",
        "Movie클래스를 상속받아 MovieWork클래스를 구현하세요.\n",
        " MovieWork클래스에서 display( )메소드를 오버라이딩해서\n",
        "  아래와 같이 구현하세요.\n",
        "\n",
        "  [MovieWork 영화평점 조건]\n",
        "   if total >= 45:\n",
        "      result = '☆☆☆☆☆'\n",
        "    elif total >= 40:\n",
        "      result = '☆☆☆☆'\n",
        "    elif total >= 35:\n",
        "      result = '☆☆☆'\n",
        "    else:\n",
        "      result = '☆☆'\n",
        "\n",
        "  [출력결과]\n",
        "  영화제목:추격자\n",
        " 감독 : 7, 배우 : 5\n",
        " 영화총점 :12\n",
        " 영화평점 : ☆☆☆☆\n",
        "\n",
        " ***********************************\n",
        " 영화제목:사도세자\n",
        " 감독:9, 배우:10, 작품성:10, 대중성:8, 대본:9\n",
        " 영화총점 : 46\n",
        " 영화평점 : ☆☆☆☆☆\n",
        "\n",
        "\n",
        " [main 실행]\n",
        " if __name__ == '__main__':\n",
        " # title  영화제목,  director 감독점수,  acter 배우점수\n",
        " #cinematic 작품성, popular  대중성, scenario 시나리오\n",
        "  # title, director, acter\n",
        "  mv = Movie('추격자', 7, 5)\n",
        "  mv.display()\n",
        "\n",
        "  print('\\n***********************************')\n",
        "\n",
        "  #    title, director, acter, cinematic, popular, scenario    \n",
        "  mk = MovieWork(\"사도세자\", 9, 10, 10, 8, 9)\n",
        "  mk.display();\n",
        "  ```"
      ],
      "metadata": {
        "id": "otKx66a6Ai_Y"
      }
    },
    {
      "cell_type": "code",
      "source": [
        "class Movie:\n",
        "\n",
        "  # title  영화제목,  director 감독점수,  actor 배우점수\n",
        "  def __init__(self, title, director, acter):\n",
        "    self.title = title\n",
        "    self.director = director\n",
        "    self.acter = acter\n",
        "\n",
        "\n",
        "  def display(self):\n",
        "    total = self.director + self.acter\n",
        "\n",
        "    print('영화제목: {}'.format(self.title))\n",
        "    print('감독: {}, 배우: {}'.format(self.director, self.acter))\n",
        "    print('영화총점: {}'.format(total))\n",
        "\n",
        "    if total >= 15:\n",
        "      result = '☆☆☆☆☆'\n",
        "    elif total >= 12:\n",
        "      result = '☆☆☆☆'\n",
        "    elif total >= 10:\n",
        "      result = '☆☆☆'\n",
        "    else:\n",
        "      result = '☆☆'\n",
        "    print('영화평점: {}'.format(result))\n",
        "\n",
        "\n",
        "\n",
        "class MovieWork(Movie):\n",
        "  def __init__(self, title, director, acter, cinematic, popular, scenario):\n",
        "    super().__init__(title, director, acter)\n",
        "    self.cinematic = cinematic\n",
        "    self.popular = popular\n",
        "    self.scenario = scenario\n",
        "\n",
        "  def display(self):\n",
        "    total = self.director + self.acter +self.cinematic+ self.popular + self.scenario\n",
        "\n",
        "    print('영화제목: {}'.format(self.title))\n",
        "    print('감독: {}, 배우: {}, 작품성:{}, 대중성:{}, 대본:{}'.format(self.director, self.acter, self.cinematic, self.popular, self.scenario))\n",
        "    print('영화총점: {}'.format(total))\n",
        "\n",
        "    if total >= 45:\n",
        "      result = '☆☆☆☆☆'\n",
        "    elif total >= 40:\n",
        "      result = '☆☆☆☆'\n",
        "    elif total >= 35:\n",
        "      result = '☆☆☆'\n",
        "    else:\n",
        "      result = '☆☆'\n",
        "    print('영화평점: {}'.format(result))\n",
        "\n",
        "if __name__ == '__main__':\n",
        " # title  영화제목,  director 감독점수,  acter 배우점수\n",
        " #cinematic 작품성, popular  대중성, scenario 시나리오\n",
        "  # title, director, acter\n",
        "  mv = Movie('추격자', 7, 5)\n",
        "  mv.display()\n",
        "\n",
        "  print('\\n***********************************')\n",
        "  name = input('영화제목:')\n",
        "  #    title, director, acter, cinematic, popular, scenario\n",
        "  # mk = MovieWork(\"사도세자\", 9, 10, 10, 8, 9)\n",
        "  mk = MovieWork(name, 9, 10, 10, 8, 9)\n",
        "  mk.display();"
      ],
      "metadata": {
        "colab": {
          "base_uri": "https://localhost:8080/"
        },
        "id": "yEqoe7tusUtc",
        "outputId": "153ab22e-f2a7-4b8c-d34b-32532a75b91e"
      },
      "execution_count": null,
      "outputs": [
        {
          "output_type": "stream",
          "name": "stdout",
          "text": [
            "영화제목: 추격자\n",
            "감독: 7, 배우: 5\n",
            "영화총점: 12\n",
            "영화평점: ☆☆☆☆\n",
            "\n",
            "***********************************\n",
            "영화제목사도세자\n",
            "영화제목: 사도세자\n",
            "감독: 9, 배우: 10, 작품성:10, 대중성:8, 대본:9\n",
            "영화총점: 46\n",
            "영화평점: ☆☆☆☆☆\n"
          ]
        }
      ]
    },
    {
      "cell_type": "code",
      "source": [],
      "metadata": {
        "id": "RiZSPtboD9YS"
      },
      "execution_count": null,
      "outputs": []
    }
  ]
}