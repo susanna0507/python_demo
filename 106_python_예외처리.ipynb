{
  "nbformat": 4,
  "nbformat_minor": 0,
  "metadata": {
    "colab": {
      "provenance": [],
      "authorship_tag": "ABX9TyM/V0kWZo1gFEUPnwY/ArUP",
      "include_colab_link": true
    },
    "kernelspec": {
      "name": "python3",
      "display_name": "Python 3"
    },
    "language_info": {
      "name": "python"
    }
  },
  "cells": [
    {
      "cell_type": "markdown",
      "metadata": {
        "id": "view-in-github",
        "colab_type": "text"
      },
      "source": [
        "<a href=\"https://colab.research.google.com/github/susanna0507/python_demo/blob/master/106_python_%EC%98%88%EC%99%B8%EC%B2%98%EB%A6%AC.ipynb\" target=\"_parent\"><img src=\"https://colab.research.google.com/assets/colab-badge.svg\" alt=\"Open In Colab\"/></a>"
      ]
    },
    {
      "cell_type": "markdown",
      "source": [
        "## 예외(exception)\n",
        "- 코드를 실행하는 중에 발생하는 오류이다 (문법적 오류 X)\n",
        "- 오류가 발생하는 이유는 프로그램이 잘못 동작하는 것을 막기 위함이다"
      ],
      "metadata": {
        "id": "s-x9aJXjeI8J"
      }
    },
    {
      "cell_type": "code",
      "execution_count": null,
      "metadata": {
        "colab": {
          "base_uri": "https://localhost:8080/",
          "height": 183
        },
        "id": "h73HI6VUd5wW",
        "outputId": "a060a17d-d5a7-4cc9-b081-f8b02997ca22"
      },
      "outputs": [
        {
          "output_type": "error",
          "ename": "ZeroDivisionError",
          "evalue": "ignored",
          "traceback": [
            "\u001b[0;31m---------------------------------------------------------------------------\u001b[0m",
            "\u001b[0;31mZeroDivisionError\u001b[0m                         Traceback (most recent call last)",
            "\u001b[0;32m<ipython-input-1-94e7f95dafed>\u001b[0m in \u001b[0;36m<cell line: 1>\u001b[0;34m()\u001b[0m\n\u001b[0;32m----> 1\u001b[0;31m \u001b[0ma\u001b[0m \u001b[0;34m=\u001b[0m \u001b[0;36m10\u001b[0m\u001b[0;34m/\u001b[0m\u001b[0;36m0\u001b[0m\u001b[0;34m\u001b[0m\u001b[0;34m\u001b[0m\u001b[0m\n\u001b[0m",
            "\u001b[0;31mZeroDivisionError\u001b[0m: division by zero"
          ]
        }
      ],
      "source": [
        "a = 10/0"
      ]
    },
    {
      "cell_type": "markdown",
      "source": [
        "##예외 처리\n",
        "- 예외처리는 에러가 발생하되 실행을 중단하지 않고 계속 실행하게 해주는 방법이다\n",
        "- 예외처리 구조\n",
        "```\n",
        "  try:\n",
        "    실행할 코드\n",
        "  except:\n",
        "    오류가 발생했을 때 처리하는 코드\n",
        "  else:\n",
        "    오류가 없을 때 처리하는 코드\n",
        "  finally:\n",
        "    무조건 처리하는 코드\n",
        "\n",
        "```\n",
        "\n",
        "- 파이썬에서는 선언할 때 오류를 일일이 체크하지 않고, 사용할 때 에러가 발생하면 디버깅하는 스타일이다.\n",
        "- EAFP\n",
        "  - 허락보다는 용서를 구하기 쉽다.(Easier to ask for forgiveness than permission)\n",
        "  - 출처:https://docs.python.org/3/glossary.html\n",
        "\n",
        "- expect 뒤에 에러 이름을 넣으면, 해당하는 에러가 발생했을 대만 expect를 발생시킨다\n",
        "- Built-in Exceptions 예외 계층도: https://docs.python.org/3/library/exceptions.html#exception-hierarchy"
      ],
      "metadata": {
        "id": "8xsKXXx7gXcZ"
      }
    },
    {
      "cell_type": "code",
      "source": [
        "# try 블록이 정상적으로 실행되지 않으면 else 블록은 실행되지 않는다.\n",
        "# try 실행 -> except 실행 -> finally 실행\n",
        "try:\n",
        "  a = int(3)\n",
        "  b = int('a')\n",
        "  c = int(4)\n",
        "except:\n",
        "  print('숫자가 아닌 문자가 입력되었습니다')\n",
        "else:\n",
        "  print('{}와 {}와 {}의 힘:{}'.format(a,b,c, a+b+c))\n",
        "finally:\n",
        "  print('program end')"
      ],
      "metadata": {
        "colab": {
          "base_uri": "https://localhost:8080/"
        },
        "id": "gk9NjgbdgMWh",
        "outputId": "4a2b229f-6d57-4e43-f20f-29a6a1ce42a4"
      },
      "execution_count": null,
      "outputs": [
        {
          "output_type": "stream",
          "name": "stdout",
          "text": [
            "숫자가 아닌 문자가 입력되었습니다\n",
            "program end\n"
          ]
        }
      ]
    },
    {
      "cell_type": "code",
      "source": [
        "# try 블록이 완벽하게 실행이 되었기 때문에 else 불록이 실행이 된다\n",
        "# try 실행 -> else 실행 -> finally 실행\n",
        "try:\n",
        "  a = int(3)\n",
        "  b = int(5)\n",
        "  c = int(4)\n",
        "except:\n",
        "  print('숫자가 아닌 문자가 입력되었습니다')\n",
        "else:\n",
        "  print('{}와 {}와 {}의 힘:{}'.format(a,b,c, a+b+c))\n",
        "finally:\n",
        "  print('program end')"
      ],
      "metadata": {
        "colab": {
          "base_uri": "https://localhost:8080/"
        },
        "id": "cMsX3iQXjnGA",
        "outputId": "3889d037-dc40-403b-b57d-bb117e8f507c"
      },
      "execution_count": null,
      "outputs": [
        {
          "output_type": "stream",
          "name": "stdout",
          "text": [
            "3와 5와 4의 힘:12\n",
            "program end\n"
          ]
        }
      ]
    },
    {
      "cell_type": "markdown",
      "source": [
        "## 다중 except\n",
        "- 다중 except 선언이 가능하다\n",
        "- except 뒤에 오는 as는 try블록에서 발생한 이름을 받아온다\n",
        "- d여러개의 except 사용 가능\n",
        "```\n",
        "  try:\n",
        "    실행할 코드\n",
        "  except 예외 as 변수:\n",
        "    예외가 발생했을 때 처리하는 코드\n",
        "  except 예외 as 변수:\n",
        "    예외가 발생했을 때 처리하는 코드\n",
        "  except:\n",
        "    예외가 발생했을 때 처리하는 코드\n",
        "```"
      ],
      "metadata": {
        "id": "MeYvEebxlWnP"
      }
    },
    {
      "cell_type": "code",
      "source": [
        "y = [10, 20, 30]\n",
        "\n",
        "try:\n",
        "  index , x = map(int, input('인덱스와 나눌 숫자를 입력하세요: ').split())\n",
        "  print(y[index]//x)\n",
        "except ZeroDivisionError as e:\n",
        "  print('숫자를 0으로 나눌 수 없습니다.', e)\n",
        "except IndexError as e:\n",
        "  print('잘못된 인덱스입니다', e)\n",
        "except Exception as e:\n",
        "  print(e)\n",
        "else:\n",
        "  print('end')\n",
        "finally:\n",
        "  print('program end')"
      ],
      "metadata": {
        "colab": {
          "base_uri": "https://localhost:8080/"
        },
        "id": "uGnlWVsPkdsX",
        "outputId": "937dc6ec-3859-4551-ff92-8aacabe800e1"
      },
      "execution_count": null,
      "outputs": [
        {
          "output_type": "stream",
          "name": "stdout",
          "text": [
            "인덱스와 나눌 숫자를 입력하세요: 1 2\n",
            "10\n",
            "end\n",
            "program end\n"
          ]
        }
      ]
    },
    {
      "cell_type": "markdown",
      "source": [
        "# 강제로 오류 발생시키기\n",
        "- raise\n"
      ],
      "metadata": {
        "id": "pDNQRPiSr232"
      }
    },
    {
      "cell_type": "code",
      "source": [
        "try:\n",
        "  x = int(input('3의 배수 숫자입력:'))\n",
        "  if x % 3 != 0:\n",
        "    raise Exception('3의 배수가 아니다')\n",
        "  print(x)\n",
        "except Exception as e:\n",
        "  print(e)"
      ],
      "metadata": {
        "colab": {
          "base_uri": "https://localhost:8080/"
        },
        "id": "bhl_Bo1ZmmJJ",
        "outputId": "2492f1c0-3b9e-473e-f5f7-c2d4b537f6cb"
      },
      "execution_count": null,
      "outputs": [
        {
          "output_type": "stream",
          "name": "stdout",
          "text": [
            "3의 배수 숫자입력:5\n",
            "3의 배수가 아니다\n"
          ]
        }
      ]
    },
    {
      "cell_type": "code",
      "source": [
        "class Bird:\n",
        "  def fly(self):\n",
        "    # pass\n",
        "    raise NotImplementedError\n",
        "\n",
        "b = Bird()\n",
        "b.fly()"
      ],
      "metadata": {
        "colab": {
          "base_uri": "https://localhost:8080/",
          "height": 348
        },
        "id": "vQ0ni3YgsJ3d",
        "outputId": "16a4b3fd-deca-4cb8-a86e-726aa56b727a"
      },
      "execution_count": null,
      "outputs": [
        {
          "output_type": "error",
          "ename": "NotImplementedError",
          "evalue": "ignored",
          "traceback": [
            "\u001b[0;31m---------------------------------------------------------------------------\u001b[0m",
            "\u001b[0;31mNotImplementedError\u001b[0m                       Traceback (most recent call last)",
            "\u001b[0;32m<ipython-input-28-707d008687eb>\u001b[0m in \u001b[0;36m<cell line: 7>\u001b[0;34m()\u001b[0m\n\u001b[1;32m      5\u001b[0m \u001b[0;34m\u001b[0m\u001b[0m\n\u001b[1;32m      6\u001b[0m \u001b[0mb\u001b[0m \u001b[0;34m=\u001b[0m \u001b[0mBird\u001b[0m\u001b[0;34m(\u001b[0m\u001b[0;34m)\u001b[0m\u001b[0;34m\u001b[0m\u001b[0;34m\u001b[0m\u001b[0m\n\u001b[0;32m----> 7\u001b[0;31m \u001b[0mb\u001b[0m\u001b[0;34m.\u001b[0m\u001b[0mfly\u001b[0m\u001b[0;34m(\u001b[0m\u001b[0;34m)\u001b[0m\u001b[0;34m\u001b[0m\u001b[0;34m\u001b[0m\u001b[0m\n\u001b[0m",
            "\u001b[0;32m<ipython-input-28-707d008687eb>\u001b[0m in \u001b[0;36mfly\u001b[0;34m(self)\u001b[0m\n\u001b[1;32m      2\u001b[0m   \u001b[0;32mdef\u001b[0m \u001b[0mfly\u001b[0m\u001b[0;34m(\u001b[0m\u001b[0mself\u001b[0m\u001b[0;34m)\u001b[0m\u001b[0;34m:\u001b[0m\u001b[0;34m\u001b[0m\u001b[0;34m\u001b[0m\u001b[0m\n\u001b[1;32m      3\u001b[0m     \u001b[0;31m# pass\u001b[0m\u001b[0;34m\u001b[0m\u001b[0;34m\u001b[0m\u001b[0m\n\u001b[0;32m----> 4\u001b[0;31m     \u001b[0;32mraise\u001b[0m \u001b[0mNotImplementedError\u001b[0m\u001b[0;34m\u001b[0m\u001b[0;34m\u001b[0m\u001b[0m\n\u001b[0m\u001b[1;32m      5\u001b[0m \u001b[0;34m\u001b[0m\u001b[0m\n\u001b[1;32m      6\u001b[0m \u001b[0mb\u001b[0m \u001b[0;34m=\u001b[0m \u001b[0mBird\u001b[0m\u001b[0;34m(\u001b[0m\u001b[0;34m)\u001b[0m\u001b[0;34m\u001b[0m\u001b[0;34m\u001b[0m\u001b[0m\n",
            "\u001b[0;31mNotImplementedError\u001b[0m: "
          ]
        }
      ]
    },
    {
      "cell_type": "code",
      "source": [
        "class Bird:\n",
        "  def fiy(self):\n",
        "     raise NotImplementedError # 상속받은 자식클래스에서 fiy()을 오버라이딩 해줘야 한다\n",
        "\n",
        "class Eagle(Bird):\n",
        "  def fly(self):               # fly() 오버라이딩을 안하면 오류 발생\n",
        "    print('very fast')\n",
        "\n",
        "  def display():\n",
        "    print('display')\n",
        "\n",
        "eagle = Eagle()\n",
        "eagle.fly()"
      ],
      "metadata": {
        "colab": {
          "base_uri": "https://localhost:8080/"
        },
        "id": "Puc2EaK-ttut",
        "outputId": "e99efbe3-09d5-4236-dc35-d7649c167256"
      },
      "execution_count": null,
      "outputs": [
        {
          "output_type": "stream",
          "name": "stdout",
          "text": [
            "very fast\n"
          ]
        }
      ]
    },
    {
      "cell_type": "code",
      "source": [
        "from abc import abstractclassmethod\n",
        "\n",
        "class Bird:\n",
        "  @abstractclassmethod  # 추상메소드\n",
        "  def fly(self):\n",
        "    pass\n",
        "\n",
        "class Eagle(Bird):\n",
        "  def fly(self):\n",
        "    print('very fast')\n",
        "\n",
        "  def display():\n",
        "    print('display')\n",
        "\n",
        "eagle = Eagle()\n",
        "eagle.fly()\n"
      ],
      "metadata": {
        "colab": {
          "base_uri": "https://localhost:8080/"
        },
        "id": "sjKvgHF_unxN",
        "outputId": "9a3defdc-28a4-45c1-8538-3c00ab3b7245"
      },
      "execution_count": null,
      "outputs": [
        {
          "output_type": "stream",
          "name": "stdout",
          "text": [
            "very fast\n"
          ]
        }
      ]
    },
    {
      "cell_type": "markdown",
      "source": [
        "# 사용자 정의 예외 클래스 만들기"
      ],
      "metadata": {
        "id": "Dpk1aJHVxlb9"
      }
    },
    {
      "cell_type": "code",
      "source": [
        "class UserClass(Exception):\n",
        "  def __str__(self):\n",
        "    return '허용하지 않는 데이터입니다.'"
      ],
      "metadata": {
        "id": "cfNjTYDSwadH"
      },
      "execution_count": null,
      "outputs": []
    },
    {
      "cell_type": "code",
      "source": [
        "try:\n",
        "  x = int(input('숫자입력'))\n",
        "  if x<1:\n",
        "    raise UserClass\n",
        "  print(x)\n",
        "except UserClass as e:\n",
        "  print(e)"
      ],
      "metadata": {
        "colab": {
          "base_uri": "https://localhost:8080/"
        },
        "id": "aIzfe4_Wx0pf",
        "outputId": "51354a4e-9e8f-413f-9191-fdda1f4bb15d"
      },
      "execution_count": null,
      "outputs": [
        {
          "output_type": "stream",
          "name": "stdout",
          "text": [
            "숫자입력0\n",
            "허용하지 않는 데이터입니다.\n"
          ]
        }
      ]
    },
    {
      "cell_type": "code",
      "source": [],
      "metadata": {
        "id": "IlnkS-VtyacM"
      },
      "execution_count": null,
      "outputs": []
    }
  ]
}