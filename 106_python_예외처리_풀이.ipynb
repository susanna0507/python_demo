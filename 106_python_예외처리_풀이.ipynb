{
  "nbformat": 4,
  "nbformat_minor": 0,
  "metadata": {
    "colab": {
      "provenance": [],
      "authorship_tag": "ABX9TyOa8wZynR00yhPUoWl29lai",
      "include_colab_link": true
    },
    "kernelspec": {
      "name": "python3",
      "display_name": "Python 3"
    },
    "language_info": {
      "name": "python"
    }
  },
  "cells": [
    {
      "cell_type": "markdown",
      "metadata": {
        "id": "view-in-github",
        "colab_type": "text"
      },
      "source": [
        "<a href=\"https://colab.research.google.com/github/susanna0507/python_demo/blob/master/106_python_%EC%98%88%EC%99%B8%EC%B2%98%EB%A6%AC_%ED%92%80%EC%9D%B4.ipynb\" target=\"_parent\"><img src=\"https://colab.research.google.com/assets/colab-badge.svg\" alt=\"Open In Colab\"/></a>"
      ]
    },
    {
      "cell_type": "code",
      "execution_count": null,
      "metadata": {
        "id": "ayz9nuQEyr-U"
      },
      "outputs": [],
      "source": [
        "class InvalidException(Exception):\n",
        "\n",
        "  def __init__(self):\n",
        "    super().__init__('입력값에 오류가 있습니다')"
      ]
    },
    {
      "cell_type": "code",
      "source": [
        "class Calculator:\n",
        "\n",
        "\n",
        "  @staticmethod #얘로 메소드를 지정하면 밑에 self ㄴㄴ\n",
        "  def getSum(data):\n",
        "    total = 0.0\n",
        "\n",
        "    try:\n",
        "      if(data<2 or data>5):\n",
        "        raise InvalidException\n",
        "      else:\n",
        "        for i in range(1, data +1):\n",
        "          total += 1\n",
        "    except InvalidException as e:\n",
        "      print(e)\n",
        "      print('2보다 크거나 같고 5보다 작거나 같아야 한다')\n",
        "\n",
        "\n",
        "    return total\n",
        "\n",
        "\n",
        "if __name__ =='__main__':\n",
        "  data = int(input('숫자입력:'))\n",
        "  res = Calculator.getSum(data)\n",
        "  print('결과값:',res)\n"
      ],
      "metadata": {
        "colab": {
          "base_uri": "https://localhost:8080/"
        },
        "id": "hnJqeHkbzIlP",
        "outputId": "f857b9a1-0d43-4cb3-85a2-59c5f92cc38f"
      },
      "execution_count": null,
      "outputs": [
        {
          "output_type": "stream",
          "name": "stdout",
          "text": [
            "숫자입력:5\n",
            "결과값: 5.0\n"
          ]
        }
      ]
    },
    {
      "cell_type": "code",
      "source": [],
      "metadata": {
        "id": "pcQdzLkD5hTo"
      },
      "execution_count": null,
      "outputs": []
    }
  ]
}