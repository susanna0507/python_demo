{
  "nbformat": 4,
  "nbformat_minor": 0,
  "metadata": {
    "colab": {
      "provenance": [],
      "authorship_tag": "ABX9TyNf3sdbkHVSLvlAxbuhKznc",
      "include_colab_link": true
    },
    "kernelspec": {
      "name": "python3",
      "display_name": "Python 3"
    },
    "language_info": {
      "name": "python"
    }
  },
  "cells": [
    {
      "cell_type": "markdown",
      "metadata": {
        "id": "view-in-github",
        "colab_type": "text"
      },
      "source": [
        "<a href=\"https://colab.research.google.com/github/susanna0507/python_demo/blob/master/107_python_%ED%91%9C%EC%A4%80%EB%9D%BC%EC%9D%B4%EB%B8%8C%EB%9F%AC%EB%A6%AC.ipynb\" target=\"_parent\"><img src=\"https://colab.research.google.com/assets/colab-badge.svg\" alt=\"Open In Colab\"/></a>"
      ]
    },
    {
      "cell_type": "code",
      "execution_count": null,
      "metadata": {
        "colab": {
          "base_uri": "https://localhost:8080/"
        },
        "id": "OSaN5Q0J7wIL",
        "outputId": "bf960114-6a2d-4d89-f55e-46bf7aa5a144"
      },
      "outputs": [
        {
          "output_type": "stream",
          "name": "stdout",
          "text": [
            "['MAXYEAR', 'MINYEAR', '__all__', '__builtins__', '__cached__', '__doc__', '__file__', '__loader__', '__name__', '__package__', '__spec__', 'date', 'datetime', 'datetime_CAPI', 'sys', 'time', 'timedelta', 'timezone', 'tzinfo']\n",
            "['__add__', '__class__', '__delattr__', '__dir__', '__doc__', '__eq__', '__format__', '__ge__', '__getattribute__', '__gt__', '__hash__', '__init__', '__init_subclass__', '__le__', '__lt__', '__ne__', '__new__', '__radd__', '__reduce__', '__reduce_ex__', '__repr__', '__rsub__', '__setattr__', '__sizeof__', '__str__', '__sub__', '__subclasshook__', 'ctime', 'day', 'fromisocalendar', 'fromisoformat', 'fromordinal', 'fromtimestamp', 'isocalendar', 'isoformat', 'isoweekday', 'max', 'min', 'month', 'replace', 'resolution', 'strftime', 'timetuple', 'today', 'toordinal', 'weekday', 'year']\n"
          ]
        }
      ],
      "source": [
        "import datetime\n",
        "\n",
        "print(dir(datetime))\n",
        "\n",
        "print(dir(datetime.date))"
      ]
    },
    {
      "cell_type": "code",
      "source": [
        "day1 = datetime.date(2023,11,19)\n",
        "day2 = datetime.date(2023,11,19)\n",
        "\n",
        "print(type(day1))\n",
        "\n",
        "diff = day2 - day1\n",
        "print(type(diff))\n",
        "print(dir(diff)) # 일 차이값을 리턴\n",
        "\n",
        "print(diff.days)\n",
        "\n",
        "# 0 월요일 ~ 6 일요일\n",
        "print(day1.weekday())\n",
        "\n",
        "# 1월요일 ~ 7 일요일\n",
        "print(day1.isoweekday())"
      ],
      "metadata": {
        "colab": {
          "base_uri": "https://localhost:8080/"
        },
        "id": "dUYIuian788z",
        "outputId": "37863e60-60b1-4ef6-a53e-9e97a0807d65"
      },
      "execution_count": null,
      "outputs": [
        {
          "output_type": "stream",
          "name": "stdout",
          "text": [
            "<class 'datetime.date'>\n",
            "<class 'datetime.timedelta'>\n",
            "['__abs__', '__add__', '__bool__', '__class__', '__delattr__', '__dir__', '__divmod__', '__doc__', '__eq__', '__floordiv__', '__format__', '__ge__', '__getattribute__', '__gt__', '__hash__', '__init__', '__init_subclass__', '__le__', '__lt__', '__mod__', '__mul__', '__ne__', '__neg__', '__new__', '__pos__', '__radd__', '__rdivmod__', '__reduce__', '__reduce_ex__', '__repr__', '__rfloordiv__', '__rmod__', '__rmul__', '__rsub__', '__rtruediv__', '__setattr__', '__sizeof__', '__str__', '__sub__', '__subclasshook__', '__truediv__', 'days', 'max', 'microseconds', 'min', 'resolution', 'seconds', 'total_seconds']\n",
            "0\n",
            "6\n",
            "7\n"
          ]
        }
      ]
    },
    {
      "cell_type": "code",
      "source": [
        "import time\n",
        "\n",
        "print(time)\n",
        "print(dir(time))\n",
        "print(time.time())\n",
        "print(time.strftime('%x',time.localtime(time.time())))\n",
        "print(time.strftime('%c',time.localtime(time.time())))"
      ],
      "metadata": {
        "colab": {
          "base_uri": "https://localhost:8080/"
        },
        "id": "czf3TsMt9vO8",
        "outputId": "ff26f614-d8d8-4617-bdb8-baf320f93a1a"
      },
      "execution_count": null,
      "outputs": [
        {
          "output_type": "stream",
          "name": "stdout",
          "text": [
            "<module 'time' (built-in)>\n",
            "['CLOCK_BOOTTIME', 'CLOCK_MONOTONIC', 'CLOCK_MONOTONIC_RAW', 'CLOCK_PROCESS_CPUTIME_ID', 'CLOCK_REALTIME', 'CLOCK_TAI', 'CLOCK_THREAD_CPUTIME_ID', '_STRUCT_TM_ITEMS', '__doc__', '__loader__', '__name__', '__package__', '__spec__', 'altzone', 'asctime', 'clock_getres', 'clock_gettime', 'clock_gettime_ns', 'clock_settime', 'clock_settime_ns', 'ctime', 'daylight', 'get_clock_info', 'gmtime', 'localtime', 'mktime', 'monotonic', 'monotonic_ns', 'perf_counter', 'perf_counter_ns', 'process_time', 'process_time_ns', 'pthread_getcpuclockid', 'sleep', 'strftime', 'strptime', 'struct_time', 'thread_time', 'thread_time_ns', 'time', 'time_ns', 'timezone', 'tzname', 'tzset']\n",
            "1700622236.7277782\n",
            "11/22/23\n",
            "Wed Nov 22 03:03:56 2023\n"
          ]
        }
      ]
    },
    {
      "cell_type": "code",
      "source": [
        "import time\n",
        "\n",
        "for i in range(5):\n",
        "  print(i)\n",
        "  time.sleep(1) # 1초 대기"
      ],
      "metadata": {
        "colab": {
          "base_uri": "https://localhost:8080/"
        },
        "id": "q0hPG-Cj-LBx",
        "outputId": "4dac3fb9-9778-4268-91db-2876499d85f8"
      },
      "execution_count": null,
      "outputs": [
        {
          "output_type": "stream",
          "name": "stdout",
          "text": [
            "0\n",
            "1\n",
            "2\n",
            "3\n",
            "4\n"
          ]
        }
      ]
    },
    {
      "cell_type": "code",
      "source": [
        "import math\n",
        "print(dir(math))\n",
        "\n",
        "print(math.gcd(60, 100, 80))  #최대공약수 (gcd, greatest common divisor)\n",
        "print(math.lcm(15, 25)) # 최소공배수 (lcm, least common multiple)"
      ],
      "metadata": {
        "colab": {
          "base_uri": "https://localhost:8080/"
        },
        "id": "Mk2lBCSW_NYR",
        "outputId": "f646579d-c0ef-4596-c3b5-713cc9ebda9d"
      },
      "execution_count": null,
      "outputs": [
        {
          "output_type": "stream",
          "name": "stdout",
          "text": [
            "['__doc__', '__loader__', '__name__', '__package__', '__spec__', 'acos', 'acosh', 'asin', 'asinh', 'atan', 'atan2', 'atanh', 'ceil', 'comb', 'copysign', 'cos', 'cosh', 'degrees', 'dist', 'e', 'erf', 'erfc', 'exp', 'expm1', 'fabs', 'factorial', 'floor', 'fmod', 'frexp', 'fsum', 'gamma', 'gcd', 'hypot', 'inf', 'isclose', 'isfinite', 'isinf', 'isnan', 'isqrt', 'lcm', 'ldexp', 'lgamma', 'log', 'log10', 'log1p', 'log2', 'modf', 'nan', 'nextafter', 'perm', 'pi', 'pow', 'prod', 'radians', 'remainder', 'sin', 'sinh', 'sqrt', 'tan', 'tanh', 'tau', 'trunc', 'ulp']\n",
            "20\n",
            "75\n"
          ]
        }
      ]
    },
    {
      "cell_type": "code",
      "source": [
        "# time 출력 형식 공식문서\n",
        "# https://docs.python.org/3/library/time.html\n",
        "import random\n",
        "\n",
        "print(dir(random))\n",
        "\n",
        "print(random.random())  # 0부터 1미만 [0,1)\n",
        "print(random.randint(1,10))  # 1부터 10까지[1,10] including both end points\n",
        "\n",
        "data = [10,20,30,40,50]\n",
        "print(random.choice(data)) #무작위로 하나만 선택\n",
        "print(random.sample(data,4)) #무작위로 4개를 선택 최대 선택할 수 있는 개수는 data리스트에 저장되어 있는 요소 개수만큼"
      ],
      "metadata": {
        "colab": {
          "base_uri": "https://localhost:8080/"
        },
        "id": "0vHgbV-G_6Hq",
        "outputId": "f239480e-16fb-4c04-d8be-2f9a62b266b8"
      },
      "execution_count": null,
      "outputs": [
        {
          "output_type": "stream",
          "name": "stdout",
          "text": [
            "['BPF', 'LOG4', 'NV_MAGICCONST', 'RECIP_BPF', 'Random', 'SG_MAGICCONST', 'SystemRandom', 'TWOPI', '_ONE', '_Sequence', '_Set', '__all__', '__builtins__', '__cached__', '__doc__', '__file__', '__loader__', '__name__', '__package__', '__spec__', '_accumulate', '_acos', '_bisect', '_ceil', '_cos', '_e', '_exp', '_floor', '_index', '_inst', '_isfinite', '_log', '_os', '_pi', '_random', '_repeat', '_sha512', '_sin', '_sqrt', '_test', '_test_generator', '_urandom', '_warn', 'betavariate', 'choice', 'choices', 'expovariate', 'gammavariate', 'gauss', 'getrandbits', 'getstate', 'lognormvariate', 'normalvariate', 'paretovariate', 'randbytes', 'randint', 'random', 'randrange', 'sample', 'seed', 'setstate', 'shuffle', 'triangular', 'uniform', 'vonmisesvariate', 'weibullvariate']\n",
            "0.5169226543617483\n",
            "7\n",
            "50\n",
            "[20, 10, 40, 50]\n"
          ]
        }
      ]
    },
    {
      "cell_type": "code",
      "source": [
        "import itertools\n",
        "\n",
        "print(dir(itertools))\n",
        "\n",
        "students=['한민서','황지민','이영청','이광수','김승민']\n",
        "snacks = ['사탕','초콜릿','젤리']\n",
        "\n",
        "# zip과zip_longest 공통점\n",
        "# 객체들을 묶어준다\n",
        "# zip과 zip_longest 다른점\n",
        "# 1. zip은 짧은 객체 만큼만 묶어준다.\n",
        "# 2. zip_longest는 긴 객체의 길이에 맞춰 묶어준다.\n",
        "  #  이때, 기본은 짧은 객체에는 None으로 채워준다.\n",
        "  #  fillvalue을 이용해서 짧은 객체에 채워줄 값을 지정해줄 수 있다\n",
        "\n",
        "for i in zip(students, snacks):\n",
        "  print(i)\n",
        "\n",
        "result = itertools.zip_longest(students,snacks)\n",
        "print(result)\n",
        "print(list(result))\n",
        "\n",
        "result = itertools.zip_longest(students,snacks, fillvalue='새우깡')\n",
        "print(result)\n",
        "print(list(result))\n",
        "\n",
        "print(list(itertools.permutations([1,2,3],2))) #순열\n",
        "print(list(itertools.combinations([1,2,3],2))) #조합\n",
        "\n"
      ],
      "metadata": {
        "colab": {
          "base_uri": "https://localhost:8080/"
        },
        "id": "qCFDxaLeAtpV",
        "outputId": "cdb2338b-654f-4d76-cef6-09a71bf47aff"
      },
      "execution_count": null,
      "outputs": [
        {
          "output_type": "stream",
          "name": "stdout",
          "text": [
            "['__doc__', '__loader__', '__name__', '__package__', '__spec__', '_grouper', '_tee', '_tee_dataobject', 'accumulate', 'chain', 'combinations', 'combinations_with_replacement', 'compress', 'count', 'cycle', 'dropwhile', 'filterfalse', 'groupby', 'islice', 'pairwise', 'permutations', 'product', 'repeat', 'starmap', 'takewhile', 'tee', 'zip_longest']\n",
            "('한민서', '사탕')\n",
            "('황지민', '초콜릿')\n",
            "('이영청', '젤리')\n",
            "<itertools.zip_longest object at 0x789c42b42bb0>\n",
            "[('한민서', '사탕'), ('황지민', '초콜릿'), ('이영청', '젤리'), ('이광수', None), ('김승민', None)]\n",
            "<itertools.zip_longest object at 0x789c34dd74c0>\n",
            "[('한민서', '사탕'), ('황지민', '초콜릿'), ('이영청', '젤리'), ('이광수', '새우깡'), ('김승민', '새우깡')]\n",
            "[(1, 2), (1, 3), (2, 1), (2, 3), (3, 1), (3, 2)]\n",
            "[(1, 2), (1, 3), (2, 3)]\n"
          ]
        }
      ]
    },
    {
      "cell_type": "code",
      "source": [
        "import functools\n",
        "\n",
        "print(dir(functools))\n",
        "\n",
        "data = [1,2,3,4,5]\n",
        "print(functools.reduce(lambda x,y:x+y, data))"
      ],
      "metadata": {
        "colab": {
          "base_uri": "https://localhost:8080/"
        },
        "id": "DOe63q6yHCy1",
        "outputId": "faa66888-9ce0-4954-d8e3-069cd5e54e59"
      },
      "execution_count": null,
      "outputs": [
        {
          "output_type": "stream",
          "name": "stdout",
          "text": [
            "['GenericAlias', 'RLock', 'WRAPPER_ASSIGNMENTS', 'WRAPPER_UPDATES', '_CacheInfo', '_HashedSeq', '_NOT_FOUND', '__all__', '__builtins__', '__cached__', '__doc__', '__file__', '__loader__', '__name__', '__package__', '__spec__', '_c3_merge', '_c3_mro', '_compose_mro', '_convert', '_find_impl', '_ge_from_gt', '_ge_from_le', '_ge_from_lt', '_gt_from_ge', '_gt_from_le', '_gt_from_lt', '_initial_missing', '_le_from_ge', '_le_from_gt', '_le_from_lt', '_lru_cache_wrapper', '_lt_from_ge', '_lt_from_gt', '_lt_from_le', '_make_key', '_unwrap_partial', 'cache', 'cached_property', 'cmp_to_key', 'get_cache_token', 'lru_cache', 'namedtuple', 'partial', 'partialmethod', 'recursive_repr', 'reduce', 'singledispatch', 'singledispatchmethod', 'total_ordering', 'update_wrapper', 'wraps']\n",
            "15\n"
          ]
        }
      ]
    },
    {
      "cell_type": "code",
      "source": [
        "from operator import itemgetter\n",
        "\n",
        "print(dir(itemgetter))\n",
        "\n",
        "students = [('Jane', 22, 'A'),('Dave', 32, 'C'),('Sally',17 , 'B') ]\n",
        "result = sorted(students) # 2번째 key속성을 지정하지 않으면 앞에 값으로 정렬이 된다\n",
        "print(result)\n",
        "\n",
        "result = sorted(students, key= itemgetter(0)) # 이름을 기준으로 오름차순 정렬\n",
        "print(result)\n",
        "result = sorted(students, key= itemgetter(1)) # 나이을 기준으로 오름차순 정렬\n",
        "print(result)\n",
        "result = sorted(students, key= itemgetter(2)) # 등급을 기준으로 오름차순 정렬\n",
        "print(result)\n",
        "\n",
        "\n",
        "# reverse=False : default value\n",
        "result = sorted(students, reverse=True ) # 앞에 값으로 내림차순 정렬이 된다\n",
        "print(result)\n",
        "\n",
        "result = sorted(students, key= itemgetter(0), reverse=True) # 이름을 기준으로 내림차순 정렬\n",
        "print(result)\n",
        "result = sorted(students, key= itemgetter(1), reverse=True) # 나이을 기준으로 내림차순 정렬\n",
        "print(result)\n",
        "result = sorted(students, key= itemgetter(2), reverse=True) # 등급을 기준으로 네림차순 정렬\n",
        "print(result)\n"
      ],
      "metadata": {
        "colab": {
          "base_uri": "https://localhost:8080/"
        },
        "id": "d4SicExOJYev",
        "outputId": "45cd0ca8-5e30-4cb1-d588-071f7cd8d9bf"
      },
      "execution_count": null,
      "outputs": [
        {
          "output_type": "stream",
          "name": "stdout",
          "text": [
            "['__call__', '__class__', '__delattr__', '__dir__', '__doc__', '__eq__', '__format__', '__ge__', '__getattribute__', '__gt__', '__hash__', '__init__', '__init_subclass__', '__le__', '__lt__', '__module__', '__ne__', '__new__', '__reduce__', '__reduce_ex__', '__repr__', '__setattr__', '__sizeof__', '__str__', '__subclasshook__']\n",
            "[('Dave', 32, 'C'), ('Jane', 22, 'A'), ('Sally', 17, 'B')]\n",
            "[('Dave', 32, 'C'), ('Jane', 22, 'A'), ('Sally', 17, 'B')]\n",
            "[('Sally', 17, 'B'), ('Jane', 22, 'A'), ('Dave', 32, 'C')]\n",
            "[('Jane', 22, 'A'), ('Sally', 17, 'B'), ('Dave', 32, 'C')]\n",
            "[('Sally', 17, 'B'), ('Jane', 22, 'A'), ('Dave', 32, 'C')]\n",
            "[('Sally', 17, 'B'), ('Jane', 22, 'A'), ('Dave', 32, 'C')]\n",
            "[('Dave', 32, 'C'), ('Jane', 22, 'A'), ('Sally', 17, 'B')]\n",
            "[('Dave', 32, 'C'), ('Sally', 17, 'B'), ('Jane', 22, 'A')]\n"
          ]
        }
      ]
    },
    {
      "cell_type": "markdown",
      "source": [
        "## json\n",
        "- dumps와 loads\n",
        "  - dumps(data) : dict(list, tuple...) -> str\n",
        "  - loads(data) :  str -> dict(list, tuple...)\n",
        "- dump와 load\n",
        "  - dump(data, file) : dict(list, tuple...) -> file\n",
        "  - load(file) : file -> dict(list, tuple...)"
      ],
      "metadata": {
        "id": "cX7ltg6yjncD"
      }
    },
    {
      "cell_type": "code",
      "source": [
        "import json\n",
        "\n",
        "print(dir(json))\n",
        "\n",
        "d = {'name': '홍길동', 'birth': '0525', 'age': 30} #dict\n",
        "json_data = json.dumps(d) #dic ->str\n",
        "print(type(json_data)) #str\n",
        "print(json_data)\n",
        "\n",
        "n = json.loads(json_data) # str ->dict\n",
        "print(type(n)) #dict\n",
        "print(n)\n",
        "\n",
        "\n",
        "m = [10,20,30,40,50] #list\n",
        "json_m = json.dumps(m) #list ->str\n",
        "print(type(json_m)) #str\n",
        "print(json_m)\n",
        "\n",
        "p=json.loads(json_m) #str-> list\n",
        "print(type(p)) #list\n",
        "print(p)\n"
      ],
      "metadata": {
        "colab": {
          "base_uri": "https://localhost:8080/"
        },
        "id": "USbJpPNGKFWH",
        "outputId": "65da7392-42ef-4d74-814f-99405d523ca6"
      },
      "execution_count": null,
      "outputs": [
        {
          "output_type": "stream",
          "name": "stdout",
          "text": [
            "['JSONDecodeError', 'JSONDecoder', 'JSONEncoder', '__all__', '__author__', '__builtins__', '__cached__', '__doc__', '__file__', '__loader__', '__name__', '__package__', '__path__', '__spec__', '__version__', '_default_decoder', '_default_encoder', 'codecs', 'decoder', 'detect_encoding', 'dump', 'dumps', 'encoder', 'load', 'loads', 'scanner']\n",
            "<class 'str'>\n",
            "{\"name\": \"\\ud64d\\uae38\\ub3d9\", \"birth\": \"0525\", \"age\": 30}\n",
            "<class 'dict'>\n",
            "{'name': '홍길동', 'birth': '0525', 'age': 30}\n",
            "<class 'str'>\n",
            "[10, 20, 30, 40, 50]\n",
            "<class 'list'>\n",
            "[10, 20, 30, 40, 50]\n"
          ]
        },
        {
          "output_type": "execute_result",
          "data": {
            "text/plain": [
              "[10, 20, 30, 40, 50]"
            ]
          },
          "metadata": {},
          "execution_count": 48
        }
      ]
    },
    {
      "cell_type": "code",
      "source": [
        "from google.colab import drive\n",
        "drive.mount('/content/drive')"
      ],
      "metadata": {
        "colab": {
          "base_uri": "https://localhost:8080/"
        },
        "id": "0hs2G3uYNT1R",
        "outputId": "2b62d211-6598-42e8-d3b4-c8bf191e44e2"
      },
      "execution_count": null,
      "outputs": [
        {
          "output_type": "stream",
          "name": "stdout",
          "text": [
            "Mounted at /content/drive\n"
          ]
        }
      ]
    },
    {
      "cell_type": "code",
      "source": [
        "%cd /content/drive/My Drive/ai_chat_python"
      ],
      "metadata": {
        "colab": {
          "base_uri": "https://localhost:8080/"
        },
        "id": "X2VQFleUhl52",
        "outputId": "a8ba38cf-7e90-42bb-a2b4-a41fffe2be50"
      },
      "execution_count": null,
      "outputs": [
        {
          "output_type": "stream",
          "name": "stdout",
          "text": [
            "/content/drive/My Drive/ai_chat_python\n"
          ]
        }
      ]
    },
    {
      "cell_type": "code",
      "source": [
        "!pwd"
      ],
      "metadata": {
        "colab": {
          "base_uri": "https://localhost:8080/"
        },
        "id": "bxpTQ6Evhspp",
        "outputId": "67e64776-7d6f-49cd-e6a2-8772ab7597a1"
      },
      "execution_count": null,
      "outputs": [
        {
          "output_type": "stream",
          "name": "stdout",
          "text": [
            "/content/drive/My Drive/ai_chat_python\n"
          ]
        }
      ]
    },
    {
      "cell_type": "code",
      "source": [
        "import json\n",
        "\n",
        "d = {'name': '홍길동', 'birth': '0525', 'age': 30} #dict\n",
        "m = [10,20,30,40,50]\n",
        "with open('./source/jsondata.json', 'w') as f:\n",
        "  json.dump(d, f)  #dict->file에 저장\n",
        " # json.dump(m, f)   #list->file에 저장\n",
        "\n",
        "with open('./source/jsondata.json', 'r') as f:\n",
        "  k = json.load(f) # file ->dict로 읽어옴\n",
        "  print(k)\n",
        "  print(type(k))\n"
      ],
      "metadata": {
        "colab": {
          "base_uri": "https://localhost:8080/"
        },
        "id": "VFvpmuGFht_x",
        "outputId": "3f16fc0f-b104-4900-956c-763e7051478a"
      },
      "execution_count": null,
      "outputs": [
        {
          "output_type": "stream",
          "name": "stdout",
          "text": [
            "[10, 20, 30, 40, 50]\n",
            "<class 'list'>\n"
          ]
        }
      ]
    },
    {
      "cell_type": "code",
      "source": [],
      "metadata": {
        "id": "7srbKkZYhwTC"
      },
      "execution_count": null,
      "outputs": []
    }
  ]
}