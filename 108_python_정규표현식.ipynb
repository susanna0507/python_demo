{
  "nbformat": 4,
  "nbformat_minor": 0,
  "metadata": {
    "colab": {
      "provenance": [],
      "authorship_tag": "ABX9TyNK2cepzZHruWUYZeq/z4Kt",
      "include_colab_link": true
    },
    "kernelspec": {
      "name": "python3",
      "display_name": "Python 3"
    },
    "language_info": {
      "name": "python"
    }
  },
  "cells": [
    {
      "cell_type": "markdown",
      "metadata": {
        "id": "view-in-github",
        "colab_type": "text"
      },
      "source": [
        "<a href=\"https://colab.research.google.com/github/susanna0507/python_demo/blob/master/108_python_%EC%A0%95%EA%B7%9C%ED%91%9C%ED%98%84%EC%8B%9D.ipynb\" target=\"_parent\"><img src=\"https://colab.research.google.com/assets/colab-badge.svg\" alt=\"Open In Colab\"/></a>"
      ]
    },
    {
      "cell_type": "markdown",
      "source": [
        "## 정규화 표현식 (정규식)\n",
        "- 복잡한 문자열을 처리할 때 사용하는 기법으로, 파이썬만의 고유 문법이 아니라 문자열을 처리하는 모든 곳에서 사용된다.   \n",
        "- 일반적인 문자(a~z)와 메타문자(meta characters)라고 부르는 특수한 문자를 조합해서 특정 문자열 패턴을 작성하기 위한 언어이다.\n",
        "- 메타문자 : 원래 그 문자가 가진 뜻이 아닌 특별한 용도로 사용되는 문자이다. 정규 표현식에서 사용되는 문자 . ^ $ * + ? {} [] \\ | ()"
      ],
      "metadata": {
        "id": "8P45uFSXkibS"
      }
    },
    {
      "cell_type": "markdown",
      "source": [
        "## 파이썬에서 정규 표현식을 지원하는 re모듈\n",
        "- re.compile을 이용하여 정규 표현식을 컴파일한다."
      ],
      "metadata": {
        "id": "BQuvj6xwk9fB"
      }
    },
    {
      "cell_type": "markdown",
      "source": [
        "## 정규식을 이용한 문자열 검색\n",
        "  -  컴파일된 패턴(정규식을 컴파일한 결과) 객체를 이용하여 문자열 검색을 수행하는 4가지 메소드\n",
        "\n",
        "|메소드|목적|\n",
        "|---|---|\n",
        "|match( )|문자열의 처음부터 정규식과 매치되는지 조사한다.|\n",
        "|search( )|문자열 전체를 검색하여 정규식과 매치되는지 조사한다.|\n",
        "|findall( )|정규식과 매치되는 모든 문자열(substring)을 리스트로 리턴한다.|\n",
        "|finditer( )|정규식과 매치되는 모든 문자열(substring)을 반복 가능한 객체로 리턴한다.|"
      ],
      "metadata": {
        "id": "pibHSfgulKzw"
      }
    },
    {
      "cell_type": "markdown",
      "source": [
        "## match( )메서드와 search( )메서드를 수행한  결과로 리턴한 match객체의 메서드들\n",
        " - group( ) : 매치된 문자열을 리턴한다.\n",
        " - start( ) : 매치된 문자열의 시작 위치를 리턴한다.\n",
        " - end( ) : 매치된 문자열의 끝 위치를 리턴한다.\n",
        " - span( ) :매치된 문자열의 (시작 ,끝)에 해당되는 튜플을 리턴한다."
      ],
      "metadata": {
        "id": "4qJBPdrXmyph"
      }
    },
    {
      "cell_type": "markdown",
      "source": [
        "## 정규 표현식 문자"
      ],
      "metadata": {
        "id": "YZtAhEdTlcn6"
      }
    },
    {
      "cell_type": "code",
      "execution_count": null,
      "metadata": {
        "colab": {
          "base_uri": "https://localhost:8080/"
        },
        "id": "hESbuHslkLcS",
        "outputId": "e6f27df4-b6c4-4b90-dfcf-09c638d84efd"
      },
      "outputs": [
        {
          "output_type": "stream",
          "name": "stdout",
          "text": [
            "['A', 'ASCII', 'DEBUG', 'DOTALL', 'I', 'IGNORECASE', 'L', 'LOCALE', 'M', 'MULTILINE', 'Match', 'Pattern', 'RegexFlag', 'S', 'Scanner', 'T', 'TEMPLATE', 'U', 'UNICODE', 'VERBOSE', 'X', '_MAXCACHE', '__all__', '__builtins__', '__cached__', '__doc__', '__file__', '__loader__', '__name__', '__package__', '__spec__', '__version__', '_cache', '_compile', '_compile_repl', '_expand', '_locale', '_pickle', '_special_chars_map', '_subx', 'compile', 'copyreg', 'enum', 'error', 'escape', 'findall', 'finditer', 'fullmatch', 'functools', 'match', 'purge', 'search', 'split', 'sre_compile', 'sre_parse', 'sub', 'subn', 'template']\n"
          ]
        }
      ],
      "source": [
        "import re\n",
        "\n",
        "print(dir(re))"
      ]
    },
    {
      "cell_type": "markdown",
      "source": [
        "###점(.) 기호 - 한 개의 임의의 문자를 나타낸다"
      ],
      "metadata": {
        "id": "jGIO5nKwl23K"
      }
    },
    {
      "cell_type": "code",
      "source": [
        "r = re.compile('a.c')"
      ],
      "metadata": {
        "id": "K_sNTPzJlmEl"
      },
      "execution_count": null,
      "outputs": []
    },
    {
      "cell_type": "code",
      "source": [
        "m = r.search('kabc') #우리가 찾는 'a.c'에 해당하는 'abc'가 1이상 4미만 사이에 있다\n",
        "print(m)\n",
        "print(dir(m))\n",
        "print(m.group())\n",
        "print(m.start())\n",
        "print(m.end())\n",
        "print(m.span())"
      ],
      "metadata": {
        "colab": {
          "base_uri": "https://localhost:8080/"
        },
        "id": "R9SiwU7smQxJ",
        "outputId": "866d194f-fcf0-4b2a-a9d9-f561c753ee81"
      },
      "execution_count": null,
      "outputs": [
        {
          "output_type": "stream",
          "name": "stdout",
          "text": [
            "<re.Match object; span=(1, 4), match='abc'>\n",
            "['__class__', '__class_getitem__', '__copy__', '__deepcopy__', '__delattr__', '__dir__', '__doc__', '__eq__', '__format__', '__ge__', '__getattribute__', '__getitem__', '__gt__', '__hash__', '__init__', '__init_subclass__', '__le__', '__lt__', '__module__', '__ne__', '__new__', '__reduce__', '__reduce_ex__', '__repr__', '__setattr__', '__sizeof__', '__str__', '__subclasshook__', 'end', 'endpos', 'expand', 'group', 'groupdict', 'groups', 'lastgroup', 'lastindex', 'pos', 're', 'regs', 'span', 'start', 'string']\n",
            "abc\n",
            "1\n",
            "4\n",
            "(1, 4)\n"
          ]
        }
      ]
    },
    {
      "cell_type": "code",
      "source": [
        "m = r.search('kabcabc', pos = 3) #일치하는 값을 3부터 찾는다\n",
        "print(m)\n",
        "print(dir(m))\n",
        "print(m.group())\n",
        "print(m.start())\n",
        "print(m.end())\n",
        "print(m.span())"
      ],
      "metadata": {
        "colab": {
          "base_uri": "https://localhost:8080/"
        },
        "id": "dh3g4onNmW6R",
        "outputId": "23f9f97f-2787-4d11-90f2-615a02345eb7"
      },
      "execution_count": null,
      "outputs": [
        {
          "output_type": "stream",
          "name": "stdout",
          "text": [
            "<re.Match object; span=(4, 7), match='abc'>\n",
            "['__class__', '__class_getitem__', '__copy__', '__deepcopy__', '__delattr__', '__dir__', '__doc__', '__eq__', '__format__', '__ge__', '__getattribute__', '__getitem__', '__gt__', '__hash__', '__init__', '__init_subclass__', '__le__', '__lt__', '__module__', '__ne__', '__new__', '__reduce__', '__reduce_ex__', '__repr__', '__setattr__', '__sizeof__', '__str__', '__subclasshook__', 'end', 'endpos', 'expand', 'group', 'groupdict', 'groups', 'lastgroup', 'lastindex', 'pos', 're', 'regs', 'span', 'start', 'string']\n",
            "abc\n",
            "4\n",
            "7\n",
            "(4, 7)\n"
          ]
        }
      ]
    },
    {
      "cell_type": "code",
      "source": [
        "m = r.search('kabcabc', pos = 5) #5부터 찾는다\n",
        "print(m)  # 정규식과 일치하는 데이터가 없으면 None을 리턴함\n",
        "print(dir(m))\n",
        "print(m.group())\n",
        "print(m.start())\n",
        "print(m.end())\n",
        "print(m.span())"
      ],
      "metadata": {
        "colab": {
          "base_uri": "https://localhost:8080/",
          "height": 314
        },
        "id": "y1HhnceMn9wY",
        "outputId": "8f5e26c1-4e23-4009-c901-018e13389000"
      },
      "execution_count": null,
      "outputs": [
        {
          "output_type": "stream",
          "name": "stdout",
          "text": [
            "None\n",
            "['__bool__', '__class__', '__delattr__', '__dir__', '__doc__', '__eq__', '__format__', '__ge__', '__getattribute__', '__gt__', '__hash__', '__init__', '__init_subclass__', '__le__', '__lt__', '__ne__', '__new__', '__reduce__', '__reduce_ex__', '__repr__', '__setattr__', '__sizeof__', '__str__', '__subclasshook__']\n"
          ]
        },
        {
          "output_type": "error",
          "ename": "AttributeError",
          "evalue": "ignored",
          "traceback": [
            "\u001b[0;31m---------------------------------------------------------------------------\u001b[0m",
            "\u001b[0;31mAttributeError\u001b[0m                            Traceback (most recent call last)",
            "\u001b[0;32m<ipython-input-12-37a50b821da6>\u001b[0m in \u001b[0;36m<cell line: 4>\u001b[0;34m()\u001b[0m\n\u001b[1;32m      2\u001b[0m \u001b[0mprint\u001b[0m\u001b[0;34m(\u001b[0m\u001b[0mm\u001b[0m\u001b[0;34m)\u001b[0m\u001b[0;34m\u001b[0m\u001b[0;34m\u001b[0m\u001b[0m\n\u001b[1;32m      3\u001b[0m \u001b[0mprint\u001b[0m\u001b[0;34m(\u001b[0m\u001b[0mdir\u001b[0m\u001b[0;34m(\u001b[0m\u001b[0mm\u001b[0m\u001b[0;34m)\u001b[0m\u001b[0;34m)\u001b[0m\u001b[0;34m\u001b[0m\u001b[0;34m\u001b[0m\u001b[0m\n\u001b[0;32m----> 4\u001b[0;31m \u001b[0mprint\u001b[0m\u001b[0;34m(\u001b[0m\u001b[0mm\u001b[0m\u001b[0;34m.\u001b[0m\u001b[0mgroup\u001b[0m\u001b[0;34m(\u001b[0m\u001b[0;34m)\u001b[0m\u001b[0;34m)\u001b[0m\u001b[0;34m\u001b[0m\u001b[0;34m\u001b[0m\u001b[0m\n\u001b[0m\u001b[1;32m      5\u001b[0m \u001b[0mprint\u001b[0m\u001b[0;34m(\u001b[0m\u001b[0mm\u001b[0m\u001b[0;34m.\u001b[0m\u001b[0mstart\u001b[0m\u001b[0;34m(\u001b[0m\u001b[0;34m)\u001b[0m\u001b[0;34m)\u001b[0m\u001b[0;34m\u001b[0m\u001b[0;34m\u001b[0m\u001b[0m\n\u001b[1;32m      6\u001b[0m \u001b[0mprint\u001b[0m\u001b[0;34m(\u001b[0m\u001b[0mm\u001b[0m\u001b[0;34m.\u001b[0m\u001b[0mend\u001b[0m\u001b[0;34m(\u001b[0m\u001b[0;34m)\u001b[0m\u001b[0;34m)\u001b[0m\u001b[0;34m\u001b[0m\u001b[0;34m\u001b[0m\u001b[0m\n",
            "\u001b[0;31mAttributeError\u001b[0m: 'NoneType' object has no attribute 'group'"
          ]
        }
      ]
    },
    {
      "cell_type": "markdown",
      "source": [
        "### ?기호\n",
        "- ? 앞의 문자가 존재할 수도 있고, 존재하지 않을 수도 있는 경우\n",
        "- ?:{0,1}의미한다"
      ],
      "metadata": {
        "id": "p89jnSflo0oR"
      }
    },
    {
      "cell_type": "code",
      "source": [
        "r = re.compile('ab?c')"
      ],
      "metadata": {
        "id": "rSZSUgZro-Xm"
      },
      "execution_count": null,
      "outputs": []
    },
    {
      "cell_type": "code",
      "source": [
        "m = r.search('test ac data')\n",
        "print(m)\n",
        "print(m.group())\n",
        "print(m.start())\n",
        "print(m.end())\n",
        "print(m.span())"
      ],
      "metadata": {
        "colab": {
          "base_uri": "https://localhost:8080/"
        },
        "id": "Kd7hlZZapDCL",
        "outputId": "3ce28e68-1685-4d1b-dcb9-8bc16e08b11f"
      },
      "execution_count": null,
      "outputs": [
        {
          "output_type": "stream",
          "name": "stdout",
          "text": [
            "<re.Match object; span=(5, 7), match='ac'>\n",
            "ac\n",
            "5\n",
            "7\n",
            "(5, 7)\n"
          ]
        }
      ]
    },
    {
      "cell_type": "code",
      "source": [
        "m = r.search('test abc data')\n",
        "print(m)\n",
        "print(m.group())\n",
        "print(m.start())\n",
        "print(m.end())\n",
        "print(m.span())"
      ],
      "metadata": {
        "colab": {
          "base_uri": "https://localhost:8080/"
        },
        "id": "9WbKkc8spMpZ",
        "outputId": "d1966934-6efa-4dbf-e5fe-8aa476310655"
      },
      "execution_count": null,
      "outputs": [
        {
          "output_type": "stream",
          "name": "stdout",
          "text": [
            "<re.Match object; span=(5, 8), match='abc'>\n",
            "abc\n",
            "5\n",
            "8\n",
            "(5, 8)\n"
          ]
        }
      ]
    },
    {
      "cell_type": "code",
      "source": [
        "m = r.search('test abbc data') # b가 두번 반복하기 때문에 오류 발생\n",
        "print(m)\n",
        "print(m.group())\n",
        "print(m.start())\n",
        "print(m.end())\n",
        "print(m.span())"
      ],
      "metadata": {
        "colab": {
          "base_uri": "https://localhost:8080/",
          "height": 276
        },
        "id": "pt9Ux_wxpvqw",
        "outputId": "3f5cc386-5fc9-44b8-89fe-c13be92c6245"
      },
      "execution_count": null,
      "outputs": [
        {
          "output_type": "stream",
          "name": "stdout",
          "text": [
            "None\n"
          ]
        },
        {
          "output_type": "error",
          "ename": "AttributeError",
          "evalue": "ignored",
          "traceback": [
            "\u001b[0;31m---------------------------------------------------------------------------\u001b[0m",
            "\u001b[0;31mAttributeError\u001b[0m                            Traceback (most recent call last)",
            "\u001b[0;32m<ipython-input-18-3e2574fc723f>\u001b[0m in \u001b[0;36m<cell line: 3>\u001b[0;34m()\u001b[0m\n\u001b[1;32m      1\u001b[0m \u001b[0mm\u001b[0m \u001b[0;34m=\u001b[0m \u001b[0mr\u001b[0m\u001b[0;34m.\u001b[0m\u001b[0msearch\u001b[0m\u001b[0;34m(\u001b[0m\u001b[0;34m'test abbc data'\u001b[0m\u001b[0;34m)\u001b[0m\u001b[0;34m\u001b[0m\u001b[0;34m\u001b[0m\u001b[0m\n\u001b[1;32m      2\u001b[0m \u001b[0mprint\u001b[0m\u001b[0;34m(\u001b[0m\u001b[0mm\u001b[0m\u001b[0;34m)\u001b[0m\u001b[0;34m\u001b[0m\u001b[0;34m\u001b[0m\u001b[0m\n\u001b[0;32m----> 3\u001b[0;31m \u001b[0mprint\u001b[0m\u001b[0;34m(\u001b[0m\u001b[0mm\u001b[0m\u001b[0;34m.\u001b[0m\u001b[0mgroup\u001b[0m\u001b[0;34m(\u001b[0m\u001b[0;34m)\u001b[0m\u001b[0;34m)\u001b[0m\u001b[0;34m\u001b[0m\u001b[0;34m\u001b[0m\u001b[0m\n\u001b[0m\u001b[1;32m      4\u001b[0m \u001b[0mprint\u001b[0m\u001b[0;34m(\u001b[0m\u001b[0mm\u001b[0m\u001b[0;34m.\u001b[0m\u001b[0mstart\u001b[0m\u001b[0;34m(\u001b[0m\u001b[0;34m)\u001b[0m\u001b[0;34m)\u001b[0m\u001b[0;34m\u001b[0m\u001b[0;34m\u001b[0m\u001b[0m\n\u001b[1;32m      5\u001b[0m \u001b[0mprint\u001b[0m\u001b[0;34m(\u001b[0m\u001b[0mm\u001b[0m\u001b[0;34m.\u001b[0m\u001b[0mend\u001b[0m\u001b[0;34m(\u001b[0m\u001b[0;34m)\u001b[0m\u001b[0;34m)\u001b[0m\u001b[0;34m\u001b[0m\u001b[0;34m\u001b[0m\u001b[0m\n",
            "\u001b[0;31mAttributeError\u001b[0m: 'NoneType' object has no attribute 'group'"
          ]
        }
      ]
    },
    {
      "cell_type": "markdown",
      "source": [
        "### * 기호\n",
        "- \\* 기호 앞의 문자가 0개 이상일 경우를 나타낸다\n",
        "- \\* : {0, }"
      ],
      "metadata": {
        "id": "XfnLj14VqBRC"
      }
    },
    {
      "cell_type": "code",
      "source": [
        "r = re.compile('ab*c')"
      ],
      "metadata": {
        "id": "PLqQjldZqQzr"
      },
      "execution_count": null,
      "outputs": []
    },
    {
      "cell_type": "code",
      "source": [
        "m = r.search('ac')\n",
        "print(m)\n",
        "print(m.group())\n",
        "print(m.start())\n",
        "print(m.end())\n",
        "print(m.span())"
      ],
      "metadata": {
        "colab": {
          "base_uri": "https://localhost:8080/"
        },
        "id": "zbSutujSqeqc",
        "outputId": "ba736d77-84f2-4f69-e9f3-462b658f7dc6"
      },
      "execution_count": null,
      "outputs": [
        {
          "output_type": "stream",
          "name": "stdout",
          "text": [
            "<re.Match object; span=(0, 2), match='ac'>\n",
            "ac\n",
            "0\n",
            "2\n",
            "(0, 2)\n"
          ]
        }
      ]
    },
    {
      "cell_type": "code",
      "source": [
        "m = r.search('abbbc')\n",
        "print(m)\n",
        "print(m.group())\n",
        "print(m.start())\n",
        "print(m.end())\n",
        "print(m.span())"
      ],
      "metadata": {
        "colab": {
          "base_uri": "https://localhost:8080/"
        },
        "id": "G9uHB4G-qkTn",
        "outputId": "fb748464-90b7-4cc5-8e55-63bdef2f7a8e"
      },
      "execution_count": null,
      "outputs": [
        {
          "output_type": "stream",
          "name": "stdout",
          "text": [
            "<re.Match object; span=(0, 5), match='abbbc'>\n",
            "abbbc\n",
            "0\n",
            "5\n",
            "(0, 5)\n"
          ]
        }
      ]
    },
    {
      "cell_type": "code",
      "source": [
        "m = r.search('abbbtc') #ab와 c 사이에 t가 있으므로 오류 발생\n",
        "print(m)\n",
        "print(m.group())\n",
        "print(m.start())\n",
        "print(m.end())\n",
        "print(m.span())"
      ],
      "metadata": {
        "colab": {
          "base_uri": "https://localhost:8080/",
          "height": 276
        },
        "id": "p7LYxTcNqp5f",
        "outputId": "b2a9c65f-75db-4862-f418-5e5a231407ab"
      },
      "execution_count": null,
      "outputs": [
        {
          "output_type": "stream",
          "name": "stdout",
          "text": [
            "None\n"
          ]
        },
        {
          "output_type": "error",
          "ename": "AttributeError",
          "evalue": "ignored",
          "traceback": [
            "\u001b[0;31m---------------------------------------------------------------------------\u001b[0m",
            "\u001b[0;31mAttributeError\u001b[0m                            Traceback (most recent call last)",
            "\u001b[0;32m<ipython-input-24-8219b3c37da8>\u001b[0m in \u001b[0;36m<cell line: 3>\u001b[0;34m()\u001b[0m\n\u001b[1;32m      1\u001b[0m \u001b[0mm\u001b[0m \u001b[0;34m=\u001b[0m \u001b[0mr\u001b[0m\u001b[0;34m.\u001b[0m\u001b[0msearch\u001b[0m\u001b[0;34m(\u001b[0m\u001b[0;34m'abbbtc'\u001b[0m\u001b[0;34m)\u001b[0m \u001b[0;31m#ab와 c 사이에 t가 있으므로 오류 발생\u001b[0m\u001b[0;34m\u001b[0m\u001b[0;34m\u001b[0m\u001b[0m\n\u001b[1;32m      2\u001b[0m \u001b[0mprint\u001b[0m\u001b[0;34m(\u001b[0m\u001b[0mm\u001b[0m\u001b[0;34m)\u001b[0m\u001b[0;34m\u001b[0m\u001b[0;34m\u001b[0m\u001b[0m\n\u001b[0;32m----> 3\u001b[0;31m \u001b[0mprint\u001b[0m\u001b[0;34m(\u001b[0m\u001b[0mm\u001b[0m\u001b[0;34m.\u001b[0m\u001b[0mgroup\u001b[0m\u001b[0;34m(\u001b[0m\u001b[0;34m)\u001b[0m\u001b[0;34m)\u001b[0m\u001b[0;34m\u001b[0m\u001b[0;34m\u001b[0m\u001b[0m\n\u001b[0m\u001b[1;32m      4\u001b[0m \u001b[0mprint\u001b[0m\u001b[0;34m(\u001b[0m\u001b[0mm\u001b[0m\u001b[0;34m.\u001b[0m\u001b[0mstart\u001b[0m\u001b[0;34m(\u001b[0m\u001b[0;34m)\u001b[0m\u001b[0;34m)\u001b[0m\u001b[0;34m\u001b[0m\u001b[0;34m\u001b[0m\u001b[0m\n\u001b[1;32m      5\u001b[0m \u001b[0mprint\u001b[0m\u001b[0;34m(\u001b[0m\u001b[0mm\u001b[0m\u001b[0;34m.\u001b[0m\u001b[0mend\u001b[0m\u001b[0;34m(\u001b[0m\u001b[0;34m)\u001b[0m\u001b[0;34m)\u001b[0m\u001b[0;34m\u001b[0m\u001b[0;34m\u001b[0m\u001b[0m\n",
            "\u001b[0;31mAttributeError\u001b[0m: 'NoneType' object has no attribute 'group'"
          ]
        }
      ]
    },
    {
      "cell_type": "markdown",
      "source": [
        "### + 기호\n",
        "- \\+ 기호는 1개 이상의 문자가 있어야 함\n",
        "- \\+ : {1, }"
      ],
      "metadata": {
        "id": "p9S386z4rA3Z"
      }
    },
    {
      "cell_type": "code",
      "source": [
        "r = re.compile('ab+c')"
      ],
      "metadata": {
        "id": "2UXhCyTPq-Tr"
      },
      "execution_count": null,
      "outputs": []
    },
    {
      "cell_type": "code",
      "source": [
        "m = r.search('abc')\n",
        "print(m)\n",
        "print(m.group())\n",
        "print(m.start())\n",
        "print(m.end())\n",
        "print(m.span())"
      ],
      "metadata": {
        "colab": {
          "base_uri": "https://localhost:8080/"
        },
        "id": "G_7smTecrfzv",
        "outputId": "da155985-fa2c-4547-938c-f16b644bada4"
      },
      "execution_count": null,
      "outputs": [
        {
          "output_type": "stream",
          "name": "stdout",
          "text": [
            "<re.Match object; span=(0, 3), match='abc'>\n",
            "abc\n",
            "0\n",
            "3\n",
            "(0, 3)\n"
          ]
        }
      ]
    },
    {
      "cell_type": "code",
      "source": [
        "m = r.search('abbbbbc')\n",
        "print(m)\n",
        "print(m.group())\n",
        "print(m.start())\n",
        "print(m.end())\n",
        "print(m.span())"
      ],
      "metadata": {
        "colab": {
          "base_uri": "https://localhost:8080/"
        },
        "id": "hO9GG_AxrlIA",
        "outputId": "56174ef2-8903-4c0b-fe6e-ecc8730f5517"
      },
      "execution_count": null,
      "outputs": [
        {
          "output_type": "stream",
          "name": "stdout",
          "text": [
            "<re.Match object; span=(0, 7), match='abbbbbc'>\n",
            "abbbbbc\n",
            "0\n",
            "7\n",
            "(0, 7)\n"
          ]
        }
      ]
    },
    {
      "cell_type": "code",
      "source": [
        "m = r.search('ac')\n",
        "print(m)"
      ],
      "metadata": {
        "colab": {
          "base_uri": "https://localhost:8080/"
        },
        "id": "vvfNIK2Hrm2Y",
        "outputId": "d36ebd3a-23ed-4b71-8c42-ba6e203200bf"
      },
      "execution_count": null,
      "outputs": [
        {
          "output_type": "stream",
          "name": "stdout",
          "text": [
            "None\n"
          ]
        }
      ]
    },
    {
      "cell_type": "markdown",
      "source": [
        "### ^기호\n",
        "- 시작되는 글자를 지정"
      ],
      "metadata": {
        "id": "rWcclCmZvytk"
      }
    },
    {
      "cell_type": "code",
      "source": [
        "r = re.compile('^a')"
      ],
      "metadata": {
        "id": "9i0onO6ov4dd"
      },
      "execution_count": null,
      "outputs": []
    },
    {
      "cell_type": "code",
      "source": [
        "m = r.search('abcd')\n",
        "print(m)"
      ],
      "metadata": {
        "colab": {
          "base_uri": "https://localhost:8080/"
        },
        "id": "0IcsOiRAv8Up",
        "outputId": "93fc398b-63bc-468b-a217-3ecad8ba5a0f"
      },
      "execution_count": null,
      "outputs": [
        {
          "output_type": "stream",
          "name": "stdout",
          "text": [
            "<re.Match object; span=(0, 1), match='a'>\n"
          ]
        }
      ]
    },
    {
      "cell_type": "code",
      "source": [
        "m = r.search('bcd')\n",
        "print(m)"
      ],
      "metadata": {
        "colab": {
          "base_uri": "https://localhost:8080/"
        },
        "id": "i8Bt0b-Rv_vS",
        "outputId": "e50c938b-9f3c-435c-9582-c58f28b0907b"
      },
      "execution_count": null,
      "outputs": [
        {
          "output_type": "stream",
          "name": "stdout",
          "text": [
            "None\n"
          ]
        }
      ]
    },
    {
      "cell_type": "markdown",
      "source": [
        "### {숫자}기호\n",
        "- 문자에 해당 기호를 붙이면, 해당 문자를 숫자만큼 반복한다"
      ],
      "metadata": {
        "id": "jfJco3CWwM0h"
      }
    },
    {
      "cell_type": "code",
      "source": [
        "r =re.compile('ab{2}c')"
      ],
      "metadata": {
        "id": "Hy2tmXR0wMLw"
      },
      "execution_count": null,
      "outputs": []
    },
    {
      "cell_type": "code",
      "source": [
        "m = r.search('abbc')\n",
        "print(m)"
      ],
      "metadata": {
        "colab": {
          "base_uri": "https://localhost:8080/"
        },
        "id": "EzjPuPwmwbu7",
        "outputId": "82f0b572-b99b-4504-9982-a8aac7dc0cf8"
      },
      "execution_count": null,
      "outputs": [
        {
          "output_type": "stream",
          "name": "stdout",
          "text": [
            "<re.Match object; span=(0, 4), match='abbc'>\n"
          ]
        }
      ]
    },
    {
      "cell_type": "code",
      "source": [
        "m = r.search('abc')\n",
        "print(m)"
      ],
      "metadata": {
        "colab": {
          "base_uri": "https://localhost:8080/"
        },
        "id": "Jv30ApsAwesx",
        "outputId": "9f7d3a97-dc12-42df-966c-af2c0db80d50"
      },
      "execution_count": null,
      "outputs": [
        {
          "output_type": "stream",
          "name": "stdout",
          "text": [
            "None\n"
          ]
        }
      ]
    },
    {
      "cell_type": "code",
      "source": [
        "m = r.search('abbbc')\n",
        "print(m)"
      ],
      "metadata": {
        "colab": {
          "base_uri": "https://localhost:8080/"
        },
        "id": "0Pze5E3Fwm5P",
        "outputId": "0f55b566-ba38-4cb6-dad0-c135419cce39"
      },
      "execution_count": null,
      "outputs": [
        {
          "output_type": "stream",
          "name": "stdout",
          "text": [
            "None\n"
          ]
        }
      ]
    },
    {
      "cell_type": "markdown",
      "source": [
        "### { 숫자1, 숫자2} 기호\n",
        "- 문자에 해당 기호를 붙이면, 해당 문자를 숫자1 이상 숫자 2 이하만큼 반복한다.\n",
        "- 반복 횟수를 고정시킬 때 사용한다"
      ],
      "metadata": {
        "id": "83xJ1s3Xw1k3"
      }
    },
    {
      "cell_type": "code",
      "source": [
        "r = re.compile('ca{2,4}t')"
      ],
      "metadata": {
        "id": "jabHCy3AwoT-"
      },
      "execution_count": null,
      "outputs": []
    },
    {
      "cell_type": "code",
      "source": [
        "m = r.search('caat')\n",
        "print(m)"
      ],
      "metadata": {
        "colab": {
          "base_uri": "https://localhost:8080/"
        },
        "id": "NzKKNKY7xIma",
        "outputId": "61067522-1b8b-4ce5-a216-2b2eb1d766fc"
      },
      "execution_count": null,
      "outputs": [
        {
          "output_type": "stream",
          "name": "stdout",
          "text": [
            "<re.Match object; span=(0, 4), match='caat'>\n"
          ]
        }
      ]
    },
    {
      "cell_type": "code",
      "source": [
        "m = r.search('caaaat')\n",
        "print(m)"
      ],
      "metadata": {
        "colab": {
          "base_uri": "https://localhost:8080/"
        },
        "id": "_pZAQbglxKg-",
        "outputId": "facb85bf-975f-47c6-922e-94c46f8fa9d4"
      },
      "execution_count": null,
      "outputs": [
        {
          "output_type": "stream",
          "name": "stdout",
          "text": [
            "<re.Match object; span=(0, 6), match='caaaat'>\n"
          ]
        }
      ]
    },
    {
      "cell_type": "code",
      "source": [
        "m = r.search('caaaaat')\n",
        "print(m)"
      ],
      "metadata": {
        "colab": {
          "base_uri": "https://localhost:8080/"
        },
        "id": "b8wNAFTIxMyW",
        "outputId": "48884cc0-2b5e-462a-8fc0-bbc4f794081f"
      },
      "execution_count": null,
      "outputs": [
        {
          "output_type": "stream",
          "name": "stdout",
          "text": [
            "None\n"
          ]
        }
      ]
    },
    {
      "cell_type": "code",
      "source": [
        "m = r.search('ct')\n",
        "print(m)"
      ],
      "metadata": {
        "colab": {
          "base_uri": "https://localhost:8080/"
        },
        "id": "8jUBsa2wxgln",
        "outputId": "9c2f0372-6d7e-446e-9e3a-4535a8131337"
      },
      "execution_count": null,
      "outputs": [
        {
          "output_type": "stream",
          "name": "stdout",
          "text": [
            "None\n"
          ]
        }
      ]
    },
    {
      "cell_type": "code",
      "source": [
        "m = r.search('caat caaat caaaaat')\n",
        "print(m)"
      ],
      "metadata": {
        "colab": {
          "base_uri": "https://localhost:8080/"
        },
        "id": "JlV5YdDcxivG",
        "outputId": "d87f3277-a3a0-4289-d522-12ad2a8822b4"
      },
      "execution_count": null,
      "outputs": [
        {
          "output_type": "stream",
          "name": "stdout",
          "text": [
            "<re.Match object; span=(0, 4), match='caat'>\n"
          ]
        }
      ]
    },
    {
      "cell_type": "code",
      "source": [
        "m = r.match('test caat caaat caaaaat')\n",
        "print(m)"
      ],
      "metadata": {
        "colab": {
          "base_uri": "https://localhost:8080/"
        },
        "id": "YRZGOzMCyQmQ",
        "outputId": "429f364d-9373-4bfe-86b4-2a2d229cc90a"
      },
      "execution_count": null,
      "outputs": [
        {
          "output_type": "stream",
          "name": "stdout",
          "text": [
            "None\n"
          ]
        }
      ]
    },
    {
      "cell_type": "code",
      "source": [
        "m = r.match('caat caaat caaaaat')\n",
        "print(m)"
      ],
      "metadata": {
        "colab": {
          "base_uri": "https://localhost:8080/"
        },
        "id": "b5vs9P5cxr9f",
        "outputId": "6592dc42-0203-4e5f-8342-17a13bc970e4"
      },
      "execution_count": null,
      "outputs": [
        {
          "output_type": "stream",
          "name": "stdout",
          "text": [
            "<re.Match object; span=(0, 4), match='caat'>\n"
          ]
        }
      ]
    },
    {
      "cell_type": "code",
      "source": [
        "m = r.findall('test caat caaat caaaaat')\n",
        "print(m)\n",
        "print(type(m))\n",
        "#print(list(m))\n",
        "for i in m:\n",
        "  print(i)\n",
        "\n"
      ],
      "metadata": {
        "colab": {
          "base_uri": "https://localhost:8080/"
        },
        "id": "cOX34gYsx-cW",
        "outputId": "db310849-a137-425a-f641-3d966774884e"
      },
      "execution_count": null,
      "outputs": [
        {
          "output_type": "stream",
          "name": "stdout",
          "text": [
            "['caat', 'caaat']\n",
            "<class 'list'>\n",
            "caat\n",
            "caaat\n"
          ]
        }
      ]
    },
    {
      "cell_type": "code",
      "source": [
        "m = r.finditer('test caat caaat caaaaat')\n",
        "print(m)\n",
        "print(type(m))\n",
        "#print(list(m))\n",
        "for i in m:\n",
        "  print(i)\n",
        "  print(i.group())\n",
        "  print(i.start())\n",
        "  print(i.end())\n",
        "  print(i.span())"
      ],
      "metadata": {
        "colab": {
          "base_uri": "https://localhost:8080/"
        },
        "id": "mCcf8WVe0KBX",
        "outputId": "fb3920d1-a39e-489d-80d8-e9cd0b83c769"
      },
      "execution_count": null,
      "outputs": [
        {
          "output_type": "stream",
          "name": "stdout",
          "text": [
            "<callable_iterator object at 0x7ef4f28c0100>\n",
            "<class 'callable_iterator'>\n",
            "<re.Match object; span=(5, 9), match='caat'>\n",
            "caat\n",
            "5\n",
            "9\n",
            "(5, 9)\n",
            "<re.Match object; span=(10, 15), match='caaat'>\n",
            "caaat\n",
            "10\n",
            "15\n",
            "(10, 15)\n"
          ]
        }
      ]
    },
    {
      "cell_type": "markdown",
      "source": [
        "### {숫자,  }  기호\n",
        "- 문자에 해당 기호를 붙이면 문자를 숫자 이상만큼 반복한다"
      ],
      "metadata": {
        "id": "TVRBYetlz4Yr"
      }
    },
    {
      "cell_type": "code",
      "source": [
        "r = re.compile('a{2,}bc')"
      ],
      "metadata": {
        "id": "2L4Vl-zm0Zyn"
      },
      "execution_count": null,
      "outputs": []
    },
    {
      "cell_type": "code",
      "source": [
        "m = r.search('aabc')\n",
        "print(m)"
      ],
      "metadata": {
        "colab": {
          "base_uri": "https://localhost:8080/"
        },
        "id": "zxufgMZzzqxe",
        "outputId": "61aebaee-c1e0-45ab-b6a0-cdec5f6e84e4"
      },
      "execution_count": null,
      "outputs": [
        {
          "output_type": "stream",
          "name": "stdout",
          "text": [
            "<re.Match object; span=(0, 4), match='aabc'>\n"
          ]
        }
      ]
    },
    {
      "cell_type": "code",
      "source": [
        "m = r.search('abc')\n",
        "print(m)"
      ],
      "metadata": {
        "colab": {
          "base_uri": "https://localhost:8080/"
        },
        "id": "WnD6GwHK0XK-",
        "outputId": "69fcac61-29aa-4d03-eb3d-493465fae728"
      },
      "execution_count": null,
      "outputs": [
        {
          "output_type": "stream",
          "name": "stdout",
          "text": [
            "None\n"
          ]
        }
      ]
    },
    {
      "cell_type": "code",
      "source": [
        "m = r.search('aaabc')\n",
        "print(m)"
      ],
      "metadata": {
        "colab": {
          "base_uri": "https://localhost:8080/"
        },
        "id": "Cge9iy6r0XoW",
        "outputId": "9ee1408b-aee7-4137-d019-c52271cd6f63"
      },
      "execution_count": null,
      "outputs": [
        {
          "output_type": "stream",
          "name": "stdout",
          "text": [
            "<re.Match object; span=(0, 5), match='aaabc'>\n"
          ]
        }
      ]
    },
    {
      "cell_type": "markdown",
      "source": [
        "### [ ] 기호\n",
        "- [] 안에 문자들을 넣으면 그 문자들 중 한 개의 문자와 매치하는 의미를 가진다\n",
        "- []안에서 범위를 지정하는 것도 가능하다."
      ],
      "metadata": {
        "id": "mUiXqHc00i8_"
      }
    },
    {
      "cell_type": "code",
      "source": [
        "r = re.compile('[abc]')"
      ],
      "metadata": {
        "id": "2APSATRd0hJg"
      },
      "execution_count": null,
      "outputs": []
    },
    {
      "cell_type": "code",
      "source": [
        "m = r.search('korea')\n",
        "print(m)"
      ],
      "metadata": {
        "colab": {
          "base_uri": "https://localhost:8080/"
        },
        "id": "aDUhxDav04GW",
        "outputId": "4b87f50b-4949-408a-8b0d-183f8a80029f"
      },
      "execution_count": null,
      "outputs": [
        {
          "output_type": "stream",
          "name": "stdout",
          "text": [
            "<re.Match object; span=(4, 5), match='a'>\n"
          ]
        }
      ]
    },
    {
      "cell_type": "code",
      "source": [
        "m = r.search('jpn')\n",
        "print(m)"
      ],
      "metadata": {
        "colab": {
          "base_uri": "https://localhost:8080/"
        },
        "id": "V_mneCUb0__G",
        "outputId": "a2f1153d-a4e3-497e-a6ac-d8c19e73c2bf"
      },
      "execution_count": null,
      "outputs": [
        {
          "output_type": "stream",
          "name": "stdout",
          "text": [
            "None\n"
          ]
        }
      ]
    },
    {
      "cell_type": "code",
      "source": [
        "r = re.compile('[a-z]') # 범위 지정"
      ],
      "metadata": {
        "id": "JJs8UKsI1PqG"
      },
      "execution_count": null,
      "outputs": []
    },
    {
      "cell_type": "code",
      "source": [
        "m = r.search('12ab3')\n",
        "print(m)"
      ],
      "metadata": {
        "colab": {
          "base_uri": "https://localhost:8080/"
        },
        "id": "BDsDbGlb1AuA",
        "outputId": "8e01a6fb-005c-4afc-9f53-a2d8dfdb1530"
      },
      "execution_count": null,
      "outputs": [
        {
          "output_type": "stream",
          "name": "stdout",
          "text": [
            "<re.Match object; span=(2, 3), match='a'>\n"
          ]
        }
      ]
    },
    {
      "cell_type": "code",
      "source": [
        "m = r.search('12AB3')\n",
        "print(m)"
      ],
      "metadata": {
        "colab": {
          "base_uri": "https://localhost:8080/"
        },
        "id": "ayfIM5iS1VDF",
        "outputId": "6effdd7b-5854-4176-fa5e-0756a3a7aa80"
      },
      "execution_count": null,
      "outputs": [
        {
          "output_type": "stream",
          "name": "stdout",
          "text": [
            "None\n"
          ]
        }
      ]
    },
    {
      "cell_type": "code",
      "source": [
        "r = re.compile('[a-z]')\n",
        "m = r.findall('li2fe is too short3')\n",
        "print(m)"
      ],
      "metadata": {
        "colab": {
          "base_uri": "https://localhost:8080/"
        },
        "id": "szKKT0Ck2Dqe",
        "outputId": "4975aeb5-3226-43f2-af31-24e0a7f1460a"
      },
      "execution_count": null,
      "outputs": [
        {
          "output_type": "stream",
          "name": "stdout",
          "text": [
            "['l', 'i', 'f', 'e', 'i', 's', 't', 'o', 'o', 's', 'h', 'o', 'r', 't']\n"
          ]
        }
      ]
    },
    {
      "cell_type": "code",
      "source": [
        "r = re.compile('[a-z]+') # 단어 형태로 뽑아옴\n",
        "m = r.findall('li2fe is too short3')\n",
        "print(m)"
      ],
      "metadata": {
        "colab": {
          "base_uri": "https://localhost:8080/"
        },
        "id": "VE0oOirF1sPO",
        "outputId": "a29252f1-15e5-425f-c342-ccf433393ad1"
      },
      "execution_count": null,
      "outputs": [
        {
          "output_type": "stream",
          "name": "stdout",
          "text": [
            "['li', 'fe', 'is', 'too', 'short']\n"
          ]
        }
      ]
    },
    {
      "cell_type": "markdown",
      "source": [
        "### [^문자] 기호\n",
        "- ^ 기호 뒤에 붙은 문자들을 제외한 모든 문자와 매치하는 역할을 한다"
      ],
      "metadata": {
        "id": "mLXcuMXZ2eV2"
      }
    },
    {
      "cell_type": "code",
      "source": [
        "r = re.compile('[^abc]')\n",
        "m = r.search('test')\n",
        "print(m)"
      ],
      "metadata": {
        "colab": {
          "base_uri": "https://localhost:8080/"
        },
        "id": "VagcOqd816Le",
        "outputId": "f70c8b24-12bd-4621-8f35-1047a00da616"
      },
      "execution_count": null,
      "outputs": [
        {
          "output_type": "stream",
          "name": "stdout",
          "text": [
            "<re.Match object; span=(0, 1), match='t'>\n"
          ]
        }
      ]
    },
    {
      "cell_type": "code",
      "source": [
        "m = r.findall('taf')\n",
        "print(m)"
      ],
      "metadata": {
        "colab": {
          "base_uri": "https://localhost:8080/"
        },
        "id": "raEuekbr2vfh",
        "outputId": "c8540520-9dd2-4924-c21e-fca3ac15466a"
      },
      "execution_count": null,
      "outputs": [
        {
          "output_type": "stream",
          "name": "stdout",
          "text": [
            "['t', 'f']\n"
          ]
        }
      ]
    },
    {
      "cell_type": "markdown",
      "source": [
        "## 정규 표현식 옵션"
      ],
      "metadata": {
        "id": "drpaL1sO3KEX"
      }
    },
    {
      "cell_type": "markdown",
      "source": [
        "### DOTALL : 줄바꿈 문자를 포함하여 모든 문자와 매치할 수 있도록 한다."
      ],
      "metadata": {
        "id": "A0XikUn03PLn"
      }
    },
    {
      "cell_type": "code",
      "source": [
        "r = re.compile('a.b')\n",
        "m = r.search('a\\nb')\n",
        "print(m)"
      ],
      "metadata": {
        "colab": {
          "base_uri": "https://localhost:8080/"
        },
        "id": "kBhzhA1H20rx",
        "outputId": "ef2b50f1-d0a1-48c5-9f4b-49314fb54927"
      },
      "execution_count": null,
      "outputs": [
        {
          "output_type": "stream",
          "name": "stdout",
          "text": [
            "None\n"
          ]
        }
      ]
    },
    {
      "cell_type": "code",
      "source": [
        "# r = re.compile('a.b', re.DOTALL)\n",
        "r = re.compile('a.b', re.S)\n",
        "m = r.search('a\\nb')\n",
        "print(m)"
      ],
      "metadata": {
        "colab": {
          "base_uri": "https://localhost:8080/"
        },
        "id": "xod8dEV63as1",
        "outputId": "494601c0-41cc-4b98-c479-00dded180926"
      },
      "execution_count": null,
      "outputs": [
        {
          "output_type": "stream",
          "name": "stdout",
          "text": [
            "<re.Match object; span=(0, 3), match='a\\nb'>\n"
          ]
        }
      ]
    },
    {
      "cell_type": "markdown",
      "source": [
        "### IGNORECASE : 대소문자에 관계없이 매치할 수 있도록 한다"
      ],
      "metadata": {
        "id": "le6S3E3w4Sy2"
      }
    },
    {
      "cell_type": "code",
      "source": [
        "r = re.compile('[a-z]')\n",
        "m = r.search('Life is too')\n",
        "print(m)"
      ],
      "metadata": {
        "colab": {
          "base_uri": "https://localhost:8080/"
        },
        "id": "j81d3D-34wx3",
        "outputId": "cef08d4b-885e-4cd1-fd65-739962189cde"
      },
      "execution_count": null,
      "outputs": [
        {
          "output_type": "stream",
          "name": "stdout",
          "text": [
            "<re.Match object; span=(1, 2), match='i'>\n"
          ]
        }
      ]
    },
    {
      "cell_type": "code",
      "source": [
        "#r = re.compile('[a-z]', re.IGNORECASE)\n",
        "r = re.compile('[a-z]', re.I) # 대문자 i 사용\n",
        "m = r.search('Life is too')\n",
        "print(m)"
      ],
      "metadata": {
        "colab": {
          "base_uri": "https://localhost:8080/"
        },
        "id": "H02yak9m3xTw",
        "outputId": "b36c46c9-34d9-4850-ba60-3d5f4cf48cee"
      },
      "execution_count": null,
      "outputs": [
        {
          "output_type": "stream",
          "name": "stdout",
          "text": [
            "<re.Match object; span=(0, 1), match='L'>\n"
          ]
        }
      ]
    },
    {
      "cell_type": "markdown",
      "source": [
        "### MULTILINE: 여러 라인에서 매치되는 데이터를 가져올 때 사용한다"
      ],
      "metadata": {
        "id": "YOLneAqB5JrZ"
      }
    },
    {
      "cell_type": "markdown",
      "source": [
        "- \\d : [0-9]와 동일한 표현식\n",
        "- \\D : [^0-9]와 동일한 표현식\n",
        "- \\s : 공백 \\t\\n\\\\r\\f와 동일한 표현식\n",
        "- \\S : [^\\t\\n\\\\r\\f]와 동일한 표현식\n",
        "- \\w : [a-zA-Z0-9]와 동일한 표현식\n",
        "- \\W : [^a-zA-Z0-9]와 동일한 표현식"
      ],
      "metadata": {
        "id": "vF6RM7BP9xmF"
      }
    },
    {
      "cell_type": "code",
      "source": [
        "r = re.compile('^python\\s\\w+')\n",
        "\n",
        "m = r.findall('''python one\n",
        "life is too short\n",
        "python two\n",
        "you need python\n",
        "python _\n",
        "python 9\n",
        "python three''')\n",
        "print(m)"
      ],
      "metadata": {
        "colab": {
          "base_uri": "https://localhost:8080/"
        },
        "id": "5uKzcP1P4vjp",
        "outputId": "c321f9aa-02b1-431e-a78b-cb6d04c54bcf"
      },
      "execution_count": null,
      "outputs": [
        {
          "output_type": "stream",
          "name": "stdout",
          "text": [
            "['python one']\n"
          ]
        }
      ]
    },
    {
      "cell_type": "code",
      "source": [
        "# r = re.compile('^python\\s\\w+', re.MULTILINEte)\n",
        "r = re.compile('^python\\s\\w+', re.M)\n",
        "\n",
        "m = r.findall('''python one\n",
        "life is too short\n",
        "python two\n",
        "you need python\n",
        "python _\n",
        "python 9\n",
        "python three''')\n",
        "print(m)"
      ],
      "metadata": {
        "colab": {
          "base_uri": "https://localhost:8080/"
        },
        "id": "MEcnbUYw5tQZ",
        "outputId": "3b3598c4-ebce-4a73-b6b1-38b7a01e70b1"
      },
      "execution_count": null,
      "outputs": [
        {
          "output_type": "stream",
          "name": "stdout",
          "text": [
            "['python one', 'python two', 'python _', 'python 9', 'python three']\n"
          ]
        }
      ]
    },
    {
      "cell_type": "markdown",
      "source": [
        "### re.splite()\n",
        "- 입력된 정규 표현식을 기주능로 문자열들을 분리하여 리스트로 리컨\n",
        "- 자연어 처리에 있어서 많이 사용되는 정규 표현식 함수 중 하나이다.\n"
      ],
      "metadata": {
        "id": "h-jNF54z_UdM"
      }
    },
    {
      "cell_type": "code",
      "source": [
        "text = '사과 딸기 수박 메론 바나나'\n",
        "re.split(' ',text) # 띄어쓰기로 나눔"
      ],
      "metadata": {
        "colab": {
          "base_uri": "https://localhost:8080/"
        },
        "id": "L_eftuez-5in",
        "outputId": "b991bcc6-9d52-42b6-b924-b685619a2910"
      },
      "execution_count": null,
      "outputs": [
        {
          "output_type": "execute_result",
          "data": {
            "text/plain": [
              "['사과', '딸기', '수박', '메론', '바나나']"
            ]
          },
          "metadata": {},
          "execution_count": 89
        }
      ]
    },
    {
      "cell_type": "code",
      "source": [
        "text = '''사과\n",
        "딸기\n",
        "수박\n",
        "메론\n",
        "바나나'''\n",
        "re.split('\\n', text) # 칸 바꿈으로 나눔"
      ],
      "metadata": {
        "colab": {
          "base_uri": "https://localhost:8080/"
        },
        "id": "L62SkxUX_uYc",
        "outputId": "28d2a091-c53e-467c-e470-fe4120be436a"
      },
      "execution_count": null,
      "outputs": [
        {
          "output_type": "execute_result",
          "data": {
            "text/plain": [
              "['사과', '딸기', '수박', '메론', '바나나']"
            ]
          },
          "metadata": {},
          "execution_count": 90
        }
      ]
    },
    {
      "cell_type": "code",
      "source": [
        "text = '사과+딸기++수박+++메론++++바나나'\n",
        "re.split('\\+{1,}',text) # + 한개 이상인 것들로 나눔"
      ],
      "metadata": {
        "colab": {
          "base_uri": "https://localhost:8080/"
        },
        "id": "Bs-zuVFP_5M0",
        "outputId": "c9cf9bd1-0e6b-4ae8-c005-399f5b451212"
      },
      "execution_count": null,
      "outputs": [
        {
          "output_type": "execute_result",
          "data": {
            "text/plain": [
              "['사과', '딸기', '수박', '메론', '바나나']"
            ]
          },
          "metadata": {},
          "execution_count": 94
        }
      ]
    },
    {
      "cell_type": "code",
      "source": [
        "text = '''\n",
        "이름: 홍길동\n",
        "전화번호: 010-123-456\n",
        "나이: 30\n",
        "성별: 남\n",
        "'''"
      ],
      "metadata": {
        "id": "OLn5_nvQAPM3"
      },
      "execution_count": null,
      "outputs": []
    },
    {
      "cell_type": "code",
      "source": [
        "r =re.compile('[0-9]+')\n",
        "r.findall(text)"
      ],
      "metadata": {
        "colab": {
          "base_uri": "https://localhost:8080/"
        },
        "id": "cEtUDiRgA84f",
        "outputId": "7c2ceaa4-e3b4-4f76-f5af-6dd0af0acdde"
      },
      "execution_count": null,
      "outputs": [
        {
          "output_type": "execute_result",
          "data": {
            "text/plain": [
              "['010', '123', '456', '30']"
            ]
          },
          "metadata": {},
          "execution_count": 99
        }
      ]
    },
    {
      "cell_type": "code",
      "source": [
        "re.findall('[0-9]+', text)"
      ],
      "metadata": {
        "colab": {
          "base_uri": "https://localhost:8080/"
        },
        "id": "wnWqUg-oBEE0",
        "outputId": "14ef9df8-18ea-4d4c-e2f3-78cebc4248c7"
      },
      "execution_count": null,
      "outputs": [
        {
          "output_type": "execute_result",
          "data": {
            "text/plain": [
              "['010', '123', '456', '30']"
            ]
          },
          "metadata": {},
          "execution_count": 100
        }
      ]
    },
    {
      "cell_type": "code",
      "source": [
        "print(re.split('[0-9]+', text))\n",
        "print(re.split('([0-9]+)', text))"
      ],
      "metadata": {
        "colab": {
          "base_uri": "https://localhost:8080/"
        },
        "id": "I8OdbnW3BuED",
        "outputId": "661f6e41-77e8-4c6c-8b80-ac83c04e65e3"
      },
      "execution_count": null,
      "outputs": [
        {
          "output_type": "stream",
          "name": "stdout",
          "text": [
            "['\\n이름: 홍길동\\n전화번호: ', '-', '-', '\\n나이: ', '\\n성별: 남\\n']\n",
            "['\\n이름: 홍길동\\n전화번호: ', '010', '-', '123', '-', '456', '\\n나이: ', '30', '\\n성별: 남\\n']\n"
          ]
        }
      ]
    },
    {
      "cell_type": "markdown",
      "source": [
        "### 전방탐색\n",
        "- ?=긍정적 전방탐색\n",
        "- ?! 부정적 전방탐색"
      ],
      "metadata": {
        "id": "9dQVyKu4C1VN"
      }
    },
    {
      "cell_type": "code",
      "source": [
        "p = re.compile('.*[.](?=bar$|cf$)')\n",
        "# p = re.compile('.*[.](?!bar$|cf$)')\n",
        "file = ['foo.bar','autoexec.bat','sendamail.cf', 'sample.bar.jpg', 'test.bar.bar']\n",
        "\n",
        "for item in file:\n",
        "  m = p.search(item)\n",
        "  print(m)\n",
        "\n",
        "  if m:\n",
        "    print(m.group(), m.start(),m.end())"
      ],
      "metadata": {
        "colab": {
          "base_uri": "https://localhost:8080/"
        },
        "id": "_UnrrkvJB4cL",
        "outputId": "00a08be7-4db8-42c3-b59c-f20be29476dd"
      },
      "execution_count": null,
      "outputs": [
        {
          "output_type": "stream",
          "name": "stdout",
          "text": [
            "<re.Match object; span=(0, 4), match='foo.'>\n",
            "foo. 0 4\n",
            "None\n",
            "<re.Match object; span=(0, 10), match='sendamail.'>\n",
            "sendamail. 0 10\n",
            "None\n",
            "<re.Match object; span=(0, 9), match='test.bar.'>\n",
            "test.bar. 0 9\n"
          ]
        }
      ]
    },
    {
      "cell_type": "markdown",
      "source": [
        "### subn()\n",
        "- 정규표현식 문자열이 있으면 대체 문자열로 변경 후 튜플로 리턴한다."
      ],
      "metadata": {
        "id": "p7WZzs86E-XT"
      }
    },
    {
      "cell_type": "code",
      "source": [
        "p = re.compile('(blue|white|red)')\n",
        "m = p.subn('color', 'blue socks and red socks') # subn('대체문자', '대상문자')\n",
        "print(m)"
      ],
      "metadata": {
        "colab": {
          "base_uri": "https://localhost:8080/"
        },
        "id": "67-muMrHDEwY",
        "outputId": "d3f3d614-ade2-4d93-a077-3495b2a75607"
      },
      "execution_count": null,
      "outputs": [
        {
          "output_type": "stream",
          "name": "stdout",
          "text": [
            "('color socks and color socks', 2)\n"
          ]
        }
      ]
    },
    {
      "cell_type": "code",
      "source": [],
      "metadata": {
        "id": "TH9MAsDmFk2q"
      },
      "execution_count": null,
      "outputs": []
    }
  ]
}