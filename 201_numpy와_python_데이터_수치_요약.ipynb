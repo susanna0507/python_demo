{
  "nbformat": 4,
  "nbformat_minor": 0,
  "metadata": {
    "colab": {
      "provenance": [],
      "include_colab_link": true
    },
    "kernelspec": {
      "name": "python3",
      "display_name": "Python 3"
    },
    "language_info": {
      "name": "python"
    }
  },
  "cells": [
    {
      "cell_type": "markdown",
      "metadata": {
        "id": "view-in-github",
        "colab_type": "text"
      },
      "source": [
        "<a href=\"https://colab.research.google.com/github/susanna0507/python_demo/blob/master/201_numpy%EC%99%80_python_%EB%8D%B0%EC%9D%B4%ED%84%B0_%EC%88%98%EC%B9%98_%EC%9A%94%EC%95%BD.ipynb\" target=\"_parent\"><img src=\"https://colab.research.google.com/assets/colab-badge.svg\" alt=\"Open In Colab\"/></a>"
      ]
    },
    {
      "cell_type": "markdown",
      "source": [
        "##4명의 키와 몸무게 계산(합계,평균,편차,분산,표준편차,상관계수)\n",
        "1. python을 이용한 4명의 키와 몸무게  \n",
        "2. numpy을 이용한 4명의 키와 몸무게  "
      ],
      "metadata": {
        "id": "HelynmLQq3vw"
      }
    },
    {
      "cell_type": "markdown",
      "source": [
        "### python을 이용한 4명의 키와 몸무게"
      ],
      "metadata": {
        "id": "FgXEG_9Iwx1X"
      }
    },
    {
      "cell_type": "code",
      "execution_count": null,
      "metadata": {
        "id": "asg_oWQtqwRA"
      },
      "outputs": [],
      "source": [
        "height = [175,165,180,160]\n",
        "weight = [75,70,95,72]"
      ]
    },
    {
      "cell_type": "markdown",
      "source": [
        "합계_height, weight"
      ],
      "metadata": {
        "id": "y5rijg3sw40y"
      }
    },
    {
      "cell_type": "code",
      "source": [
        "h_sum = sum(height)\n",
        "w_sum = sum(weight)"
      ],
      "metadata": {
        "id": "4YLMDpH-wzyQ"
      },
      "execution_count": null,
      "outputs": []
    },
    {
      "cell_type": "code",
      "source": [
        "print('키의 합계:', h_sum)\n",
        "print('몸무게 합계:', w_sum)"
      ],
      "metadata": {
        "colab": {
          "base_uri": "https://localhost:8080/"
        },
        "id": "vMFvB4jmw_W0",
        "outputId": "fd1643b3-ce05-4993-ccb0-74491693d242"
      },
      "execution_count": null,
      "outputs": [
        {
          "output_type": "stream",
          "name": "stdout",
          "text": [
            "키의 합계: 680\n",
            "몸무게 합계: 312\n"
          ]
        }
      ]
    },
    {
      "cell_type": "markdown",
      "source": [
        "평균_height, weight"
      ],
      "metadata": {
        "id": "AN7mp6_ExZgG"
      }
    },
    {
      "cell_type": "code",
      "source": [
        "length = len(height)"
      ],
      "metadata": {
        "id": "iuP7e-mbxGkc"
      },
      "execution_count": null,
      "outputs": []
    },
    {
      "cell_type": "code",
      "source": [
        "h_mean = h_sum/length\n",
        "w_mean = w_sum/length\n"
      ],
      "metadata": {
        "id": "yGxZavTsxd8G"
      },
      "execution_count": null,
      "outputs": []
    },
    {
      "cell_type": "code",
      "source": [
        "print('키 평균:', h_mean)\n",
        "print('몸무게 평균:', w_mean)"
      ],
      "metadata": {
        "colab": {
          "base_uri": "https://localhost:8080/"
        },
        "id": "eufvIr_CxmBd",
        "outputId": "41d88f43-0aa6-48cf-c6c7-7cbd46b28291"
      },
      "execution_count": null,
      "outputs": [
        {
          "output_type": "stream",
          "name": "stdout",
          "text": [
            "키 평균: 170.0\n",
            "몸무게 평균: 78.0\n"
          ]
        }
      ]
    },
    {
      "cell_type": "markdown",
      "source": [
        "\n",
        "**편차_height**, weight\n"
      ],
      "metadata": {
        "id": "1XApofR_yFe4"
      }
    },
    {
      "cell_type": "code",
      "source": [
        "h_deviation = [ i-h_mean  for i in height]\n",
        "w_deviation = [ i-w_mean for i in weight]"
      ],
      "metadata": {
        "id": "WmcQdsg4xrat"
      },
      "execution_count": null,
      "outputs": []
    },
    {
      "cell_type": "code",
      "source": [
        "print('키 편차:', h_deviation, sum(h_deviation))\n",
        "print('몸무게 편차:', w_deviation, sum(w_deviation))"
      ],
      "metadata": {
        "colab": {
          "base_uri": "https://localhost:8080/"
        },
        "id": "yPfG_PnayacO",
        "outputId": "065a23e3-07d8-4d2d-979a-92b3f3953720"
      },
      "execution_count": null,
      "outputs": [
        {
          "output_type": "stream",
          "name": "stdout",
          "text": [
            "키 편차: [5.0, -5.0, 10.0, -10.0] 0.0\n",
            "몸무게 편차: [-3.0, -8.0, 17.0, -6.0] 0.0\n"
          ]
        }
      ]
    },
    {
      "cell_type": "markdown",
      "source": [
        "분산 - height, weight"
      ],
      "metadata": {
        "id": "ri3mSeCpy1aF"
      }
    },
    {
      "cell_type": "code",
      "source": [
        "h_data = [ (i-h_mean)**2  for i in height]\n",
        "w_data = [ (i-w_mean)**2 for i in weight]\n",
        "h_variance = sum(h_data)/length\n",
        "w_variance = sum(w_data)/length"
      ],
      "metadata": {
        "id": "549eWfgAyq9O"
      },
      "execution_count": null,
      "outputs": []
    },
    {
      "cell_type": "code",
      "source": [
        "print('키 분산:', h_variance)\n",
        "print('몸무게 분산:', w_variance)"
      ],
      "metadata": {
        "colab": {
          "base_uri": "https://localhost:8080/"
        },
        "id": "_V8fzfLTzRLV",
        "outputId": "916c3293-cf4b-46b0-9cc7-cff49ba9a69f"
      },
      "execution_count": null,
      "outputs": [
        {
          "output_type": "stream",
          "name": "stdout",
          "text": [
            "키 분산: 62.5\n",
            "몸무게 분산: 99.5\n"
          ]
        }
      ]
    },
    {
      "cell_type": "markdown",
      "source": [
        "표준편차 - height, weight"
      ],
      "metadata": {
        "id": "g0B4zyrIzz6O"
      }
    },
    {
      "cell_type": "code",
      "source": [
        "import math\n",
        "\n",
        "h_standard_deviation = math.sqrt(h_variance)\n",
        "w_standard_deviation = math.sqrt(w_variance)"
      ],
      "metadata": {
        "id": "tziuvA0azXDd"
      },
      "execution_count": null,
      "outputs": []
    },
    {
      "cell_type": "code",
      "source": [
        "print('키 표준편차:', h_standard_deviation)\n",
        "print('몸무게 표준편차:', w_standard_deviation)"
      ],
      "metadata": {
        "colab": {
          "base_uri": "https://localhost:8080/"
        },
        "id": "H2SHLRfj0Cqs",
        "outputId": "a6c02c68-2aff-45b3-faae-d2eff1fd07b1"
      },
      "execution_count": null,
      "outputs": [
        {
          "output_type": "stream",
          "name": "stdout",
          "text": [
            "키 표준편차: 7.905694150420948\n",
            "몸무게 표준편차: 9.974968671630002\n"
          ]
        }
      ]
    },
    {
      "cell_type": "markdown",
      "source": [
        "공분산-height, weight"
      ],
      "metadata": {
        "id": "sBdAt67l0bHI"
      }
    },
    {
      "cell_type": "code",
      "source": [
        "h_w_covariance = [ i*j    for  i, j in zip(h_deviation, w_deviation)]\n",
        "print(h_w_covariance)\n",
        "\n",
        "h_w_covariance = sum(h_w_covariance)/length\n",
        "print(h_w_covariance)"
      ],
      "metadata": {
        "colab": {
          "base_uri": "https://localhost:8080/"
        },
        "id": "SnRJA5kP0R4k",
        "outputId": "d9065d17-e10c-4b66-83ae-d49223df9794"
      },
      "execution_count": null,
      "outputs": [
        {
          "output_type": "stream",
          "name": "stdout",
          "text": [
            "[-15.0, 40.0, 170.0, 60.0]\n",
            "63.75\n"
          ]
        }
      ]
    },
    {
      "cell_type": "markdown",
      "source": [
        "상관계수-height,weight"
      ],
      "metadata": {
        "id": "TczGgLFj1ONQ"
      }
    },
    {
      "cell_type": "code",
      "source": [
        "# 공분산 메트릭스로 출력\n",
        "h_w_coef = h_w_covariance / (h_standard_deviation * w_standard_deviation)\n",
        "print(h_w_coef)"
      ],
      "metadata": {
        "colab": {
          "base_uri": "https://localhost:8080/"
        },
        "id": "bxxXsI4402fe",
        "outputId": "e40a6f51-339b-4094-fff8-ad57204f6aac"
      },
      "execution_count": null,
      "outputs": [
        {
          "output_type": "stream",
          "name": "stdout",
          "text": [
            "0.8084043468090077\n"
          ]
        }
      ]
    },
    {
      "cell_type": "markdown",
      "source": [
        "# numpy을 이용한 4명의 키와 몸무게\n",
        "\n",
        "통계량의 계산이나 기본적인 데이터 분석에 사용되는 함수는 scipy패키지에서도 제공되나 sum,mean,var,cov,corrcoef등은  Scipy 2.0부터 remove되고 numpy에서 사용하도록 권장하고 있다."
      ],
      "metadata": {
        "id": "WFIhsuYT2vF9"
      }
    },
    {
      "cell_type": "code",
      "source": [
        "import numpy as np"
      ],
      "metadata": {
        "id": "Wqa94s1h1d9s"
      },
      "execution_count": null,
      "outputs": []
    },
    {
      "cell_type": "code",
      "source": [
        "height = np.array([175,165,180,160])\n",
        "weight = np.array([75,70,95,72])"
      ],
      "metadata": {
        "id": "LyG-89xS3B1d"
      },
      "execution_count": null,
      "outputs": []
    },
    {
      "cell_type": "markdown",
      "source": [
        "합계 - height, weight"
      ],
      "metadata": {
        "id": "nuARuhOO3Kk2"
      }
    },
    {
      "cell_type": "code",
      "source": [
        "h_sum = np.sum(height)\n",
        "w_sum = np.sum(weight)"
      ],
      "metadata": {
        "id": "uAq9kpFy3FZk"
      },
      "execution_count": null,
      "outputs": []
    },
    {
      "cell_type": "code",
      "source": [
        "print('키 합계:', h_sum)\n",
        "print('몸무게 합계:', w_sum)"
      ],
      "metadata": {
        "colab": {
          "base_uri": "https://localhost:8080/"
        },
        "id": "0989v36G3UcM",
        "outputId": "7fa4d4e8-1e3e-46ab-cf63-90a7eb038a77"
      },
      "execution_count": null,
      "outputs": [
        {
          "output_type": "stream",
          "name": "stdout",
          "text": [
            "키 합계: 680\n",
            "몸무게 합계: 312\n"
          ]
        }
      ]
    },
    {
      "cell_type": "markdown",
      "source": [
        "평균 - height, weight"
      ],
      "metadata": {
        "id": "SBh4E_MV3e1W"
      }
    },
    {
      "cell_type": "code",
      "source": [
        "h_mean = np.mean(height)\n",
        "w_mean = np.mean(weight)"
      ],
      "metadata": {
        "id": "xH4xT7oG3aZN"
      },
      "execution_count": null,
      "outputs": []
    },
    {
      "cell_type": "code",
      "source": [
        "print('키 평균:', h_mean)\n",
        "print('몸무게 평균:', w_mean)"
      ],
      "metadata": {
        "colab": {
          "base_uri": "https://localhost:8080/"
        },
        "id": "eGZqyPLN3rCc",
        "outputId": "957048b8-297c-4473-c708-ca00c165fcbc"
      },
      "execution_count": null,
      "outputs": [
        {
          "output_type": "stream",
          "name": "stdout",
          "text": [
            "키 평균: 170.0\n",
            "몸무게 평균: 78.0\n"
          ]
        }
      ]
    },
    {
      "cell_type": "markdown",
      "source": [
        "편차 - height, weight"
      ],
      "metadata": {
        "id": "82NdxoKd39F3"
      }
    },
    {
      "cell_type": "code",
      "source": [
        "h_deviation = height - h_mean\n",
        "w_deviation = weight - w_mean"
      ],
      "metadata": {
        "id": "DxCr_eCI3w98"
      },
      "execution_count": null,
      "outputs": []
    },
    {
      "cell_type": "code",
      "source": [
        "print('키 편차:', h_deviation, np.sum(h_deviation))\n",
        "print('몸무게 편차:', w_deviation, np.sum(w_deviation))"
      ],
      "metadata": {
        "colab": {
          "base_uri": "https://localhost:8080/"
        },
        "id": "clwQkTXO4ISN",
        "outputId": "5114c372-b0ea-4405-dfef-80a6e3a52634"
      },
      "execution_count": null,
      "outputs": [
        {
          "output_type": "stream",
          "name": "stdout",
          "text": [
            "키 편차: [  5.  -5.  10. -10.] 0.0\n",
            "몸무게 편차: [-3. -8. 17. -6.] 0.0\n"
          ]
        }
      ]
    },
    {
      "cell_type": "markdown",
      "source": [
        "분산 - height, weight"
      ],
      "metadata": {
        "id": "faAzNE9Z4hBf"
      }
    },
    {
      "cell_type": "code",
      "source": [
        "h_variance = np.var(height)\n",
        "w_variance = np.var(weight)"
      ],
      "metadata": {
        "id": "w_aImr_V4Ob0"
      },
      "execution_count": null,
      "outputs": []
    },
    {
      "cell_type": "code",
      "source": [
        "print('키 분산:', h_variance)\n",
        "print('몸무게 분산:',w_variance)"
      ],
      "metadata": {
        "colab": {
          "base_uri": "https://localhost:8080/"
        },
        "id": "TCCer0Qu4mtM",
        "outputId": "6ee02982-dcde-475f-a856-69fe78217114"
      },
      "execution_count": null,
      "outputs": [
        {
          "output_type": "stream",
          "name": "stdout",
          "text": [
            "키 분산: 62.5\n",
            "몸무게 분산: 99.5\n"
          ]
        }
      ]
    },
    {
      "cell_type": "markdown",
      "source": [
        "표준편차 - height, weight"
      ],
      "metadata": {
        "id": "Ht-FmsNE45Hc"
      }
    },
    {
      "cell_type": "code",
      "source": [
        "h_standard_deviation = np.std(height)\n",
        "w_standard_deviation = np.std(weight)"
      ],
      "metadata": {
        "id": "N3HKVlLc4ras"
      },
      "execution_count": null,
      "outputs": []
    },
    {
      "cell_type": "code",
      "source": [
        "print('키 표준편차:', h_standard_deviation)\n",
        "print('몸무게 표준편차', w_standard_deviation)"
      ],
      "metadata": {
        "colab": {
          "base_uri": "https://localhost:8080/"
        },
        "id": "0VvRhqom5GIz",
        "outputId": "e69f628d-eb46-4e3b-f5d7-fae1ece4807f"
      },
      "execution_count": null,
      "outputs": [
        {
          "output_type": "stream",
          "name": "stdout",
          "text": [
            "키 표준편차: 7.905694150420948\n",
            "몸무게 표준편차 9.974968671630002\n"
          ]
        }
      ]
    },
    {
      "cell_type": "markdown",
      "source": [
        "공분산 - height, weight"
      ],
      "metadata": {
        "id": "wTVdM_D-8TfL"
      }
    },
    {
      "cell_type": "code",
      "source": [
        "# 공분산 매트릭스로 출력\n",
        "h_w_covariance = np.cov(height, weight, ddof=0) # default 자유도 ddof = 0 은 n개\n",
        "h_w_covariance"
      ],
      "metadata": {
        "colab": {
          "base_uri": "https://localhost:8080/"
        },
        "id": "ngMFGr6-5NYU",
        "outputId": "6e68ba7d-1e2a-4609-d92e-78cee1f31be6"
      },
      "execution_count": null,
      "outputs": [
        {
          "output_type": "execute_result",
          "data": {
            "text/plain": [
              "array([[62.5 , 63.75],\n",
              "       [63.75, 99.5 ]])"
            ]
          },
          "metadata": {},
          "execution_count": 30
        }
      ]
    },
    {
      "cell_type": "markdown",
      "source": [
        "상관계수 - height, weight"
      ],
      "metadata": {
        "id": "8IOPensb9VyN"
      }
    },
    {
      "cell_type": "code",
      "source": [
        "np.corrcoef(height, weight)"
      ],
      "metadata": {
        "colab": {
          "base_uri": "https://localhost:8080/"
        },
        "id": "7UqQKjX58j3N",
        "outputId": "6a41e925-c763-436f-873f-9dc8b6f6439b"
      },
      "execution_count": null,
      "outputs": [
        {
          "output_type": "execute_result",
          "data": {
            "text/plain": [
              "array([[1.        , 0.80840435],\n",
              "       [0.80840435, 1.        ]])"
            ]
          },
          "metadata": {},
          "execution_count": 31
        }
      ]
    },
    {
      "cell_type": "code",
      "source": [],
      "metadata": {
        "id": "BGIoHORi9a9b"
      },
      "execution_count": null,
      "outputs": []
    }
  ]
}